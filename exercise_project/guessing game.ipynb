{
 "cells": [
  {
   "cell_type": "code",
   "execution_count": 2,
   "id": "9160f7e9",
   "metadata": {},
   "outputs": [
    {
     "name": "stdout",
     "output_type": "stream",
     "text": [
      "well come to the guessing game!\n",
      "i am thinking number between 1 to 10!\n",
      "too low! try agin!\n",
      "conguratulation your guessing correct!\n"
     ]
    }
   ],
   "source": [
    "import random\n",
    "screat_num=random.randint(1,10)\n",
    "\n",
    "guess=0\n",
    "\n",
    "print(\"well come to the guessing game!\")\n",
    "print(\"i am thinking number between 1 to 10!\")\n",
    "\n",
    "while guess!=screat_num:\n",
    "    guess=int(input(\"enter the number:\"))\n",
    "\n",
    "    if guess>screat_num:\n",
    "        print(\"too high! try agin!\")\n",
    "    elif guess<screat_num:\n",
    "        print(\"too low! try agin!\")\n",
    "    else:\n",
    "        print(\"conguratulation your guessing correct!\")\n"
   ]
  },
  {
   "cell_type": "code",
   "execution_count": null,
   "id": "db30e1e4",
   "metadata": {},
   "outputs": [],
   "source": []
  }
 ],
 "metadata": {
  "kernelspec": {
   "display_name": "base",
   "language": "python",
   "name": "python3"
  },
  "language_info": {
   "codemirror_mode": {
    "name": "ipython",
    "version": 3
   },
   "file_extension": ".py",
   "mimetype": "text/x-python",
   "name": "python",
   "nbconvert_exporter": "python",
   "pygments_lexer": "ipython3",
   "version": "3.12.7"
  }
 },
 "nbformat": 4,
 "nbformat_minor": 5
}

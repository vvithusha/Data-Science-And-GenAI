{
 "cells": [
  {
   "cell_type": "code",
   "execution_count": 7,
   "id": "4c1b9340",
   "metadata": {},
   "outputs": [
    {
     "name": "stdout",
     "output_type": "stream",
     "text": [
      "hello from a function\n",
      "None\n"
     ]
    }
   ],
   "source": [
    "## creating a function\n",
    "\n",
    "def my_function():\n",
    "    print(\"hello from a function\")\n",
    "\n",
    "print(my_function())"
   ]
  },
  {
   "cell_type": "code",
   "execution_count": 2,
   "metadata": {},
   "outputs": [
    {
     "name": "stdout",
     "output_type": "stream",
     "text": [
      "hello from a function\n"
     ]
    }
   ],
   "source": [
    "my_function()"
   ]
  },
  {
   "cell_type": "code",
   "execution_count": 8,
   "id": "58bf9432",
   "metadata": {},
   "outputs": [
    {
     "name": "stdout",
     "output_type": "stream",
     "text": [
      "hello from a function\n"
     ]
    }
   ],
   "source": [
    "def my_function():\n",
    "    print(\"hello from a function\")\n",
    "\n",
    "my_function()"
   ]
  },
  {
   "cell_type": "code",
   "execution_count": 11,
   "id": "e34b4668",
   "metadata": {},
   "outputs": [
    {
     "name": "stdout",
     "output_type": "stream",
     "text": [
      "Email received\n",
      "Tobias received\n",
      "linus received\n"
     ]
    }
   ],
   "source": [
    "def my_function(fname):\n",
    "    print(fname,\"received\")\n",
    "\n",
    "my_function(\"Email\")\n",
    "my_function(\"Tobias\")\n",
    "my_function(\"linus\")"
   ]
  },
  {
   "cell_type": "code",
   "execution_count": 16,
   "id": "13ebcfdb",
   "metadata": {},
   "outputs": [
    {
     "name": "stdout",
     "output_type": "stream",
     "text": [
      "vithu thusha\n"
     ]
    }
   ],
   "source": [
    "def my_function(fname,lname):\n",
    "    print(fname,lname)\n",
    "\n",
    "my_function(\"vithu\",\"thusha\")"
   ]
  },
  {
   "cell_type": "code",
   "execution_count": 22,
   "id": "2f0bf4be",
   "metadata": {},
   "outputs": [
    {
     "name": "stdout",
     "output_type": "stream",
     "text": [
      "the youngrst child is  ('Emil', 'Tobias', 'Linus')\n"
     ]
    }
   ],
   "source": [
    "def my_function(*kids):\n",
    "    print(\"the youngrst child is \",kids)\n",
    "\n",
    "my_function(\"Emil\",\"Tobias\",\"Linus\")"
   ]
  },
  {
   "cell_type": "code",
   "execution_count": 28,
   "id": "ba0985c0",
   "metadata": {},
   "outputs": [
    {
     "name": "stdout",
     "output_type": "stream",
     "text": [
      "the youngest child is  Linus\n"
     ]
    }
   ],
   "source": [
    "def my_function(child1,child2,child3):\n",
    "    print(\"the youngest child is \",child3)  \n",
    "\n",
    "\n",
    "my_function(child1 = \"Emil\", child2 = \"Tobias\", child3 = \"Linus\")"
   ]
  },
  {
   "cell_type": "code",
   "execution_count": 29,
   "id": "866d0dcb",
   "metadata": {},
   "outputs": [
    {
     "name": "stdout",
     "output_type": "stream",
     "text": [
      "hello vithu\n"
     ]
    }
   ],
   "source": [
    "def my_function(name):\n",
    "    print(\"hello\",name)\n",
    "\n",
    "\n",
    "my_function(name=input(\"enter your name: \"))"
   ]
  },
  {
   "cell_type": "code",
   "execution_count": 32,
   "id": "53525782",
   "metadata": {},
   "outputs": [
    {
     "name": "stdout",
     "output_type": "stream",
     "text": [
      "His last name is Refsnes\n"
     ]
    }
   ],
   "source": [
    "def my_function(**kid):\n",
    "    print(\"His last name is\",kid[\"lname\"])\n",
    "\n",
    "my_function(fname = \"Tobias\", lname = \"Refsnes\")"
   ]
  },
  {
   "cell_type": "code",
   "execution_count": 33,
   "id": "afb9fafd",
   "metadata": {},
   "outputs": [
    {
     "name": "stdout",
     "output_type": "stream",
     "text": [
      "i am from  sweden\n",
      "i am from  india\n",
      "i am from  Norway\n",
      "i am from  brazil\n",
      "i am from  srilanka\n"
     ]
    }
   ],
   "source": [
    "def my_function(country =\"Norway\"):\n",
    "    print(\"i am from \",country)\n",
    "\n",
    "my_function(\"sweden\")\n",
    "my_function(\"india\")\n",
    "my_function()\n",
    "my_function(\"brazil\")\n",
    "my_function(\"srilanka\")"
   ]
  },
  {
   "cell_type": "code",
   "execution_count": 34,
   "id": "772d0b5f",
   "metadata": {},
   "outputs": [
    {
     "name": "stdout",
     "output_type": "stream",
     "text": [
      "apple\n",
      "banana\n",
      "cherry\n"
     ]
    }
   ],
   "source": [
    "def my_function(food):\n",
    "    for x in food:\n",
    "        print(x)\n",
    "\n",
    "fruits = [\"apple\",\"banana\",\"cherry\"]\n",
    "my_function(fruits)\n"
   ]
  },
  {
   "cell_type": "code",
   "execution_count": 35,
   "id": "f2ff3e3d",
   "metadata": {},
   "outputs": [
    {
     "name": "stdout",
     "output_type": "stream",
     "text": [
      "18\n",
      "30\n",
      "54\n"
     ]
    }
   ],
   "source": [
    "def my_function(x):\n",
    "    return 6 * x\n",
    "\n",
    "print(my_function(3))\n",
    "print(my_function(5))\n",
    "print(my_function(9))"
   ]
  },
  {
   "cell_type": "code",
   "execution_count": 38,
   "id": "c07cc211",
   "metadata": {},
   "outputs": [],
   "source": [
    "def my_function():\n",
    "    pass\n",
    "    "
   ]
  },
  {
   "cell_type": "code",
   "execution_count": 44,
   "id": "b60a098e",
   "metadata": {},
   "outputs": [
    {
     "name": "stdout",
     "output_type": "stream",
     "text": [
      "10\n"
     ]
    }
   ],
   "source": [
    "def my_function(x ,/):\n",
    "    print(x)\n",
    "\n",
    "my_function(10)"
   ]
  },
  {
   "cell_type": "code",
   "execution_count": 50,
   "id": "90a5c83a",
   "metadata": {},
   "outputs": [
    {
     "name": "stdout",
     "output_type": "stream",
     "text": [
      "15\n"
     ]
    }
   ],
   "source": [
    "def my_function(x):\n",
    "    print(x)\n",
    "\n",
    "my_function(x=15)"
   ]
  },
  {
   "cell_type": "code",
   "execution_count": 54,
   "id": "5ce23b54",
   "metadata": {},
   "outputs": [
    {
     "name": "stdout",
     "output_type": "stream",
     "text": [
      "20\n"
     ]
    }
   ],
   "source": [
    "\n",
    "def my_function(*,x ):\n",
    "    print(x)\n",
    "\n",
    "my_function(x=20)"
   ]
  },
  {
   "cell_type": "code",
   "execution_count": 58,
   "id": "ad1bb464",
   "metadata": {},
   "outputs": [
    {
     "name": "stdout",
     "output_type": "stream",
     "text": [
      "3 4 1 8\n"
     ]
    }
   ],
   "source": [
    "def my_function(a,b, / ,*,c,d):\n",
    "    print(a,b,c,d)\n",
    "\n",
    "my_function(3,4,c=1,d=8)"
   ]
  },
  {
   "cell_type": "code",
   "execution_count": 59,
   "id": "b45fcfe3",
   "metadata": {},
   "outputs": [
    {
     "name": "stdout",
     "output_type": "stream",
     "text": [
      "recursion example results:\n",
      "1\n",
      "3\n",
      "6\n",
      "10\n",
      "15\n",
      "21\n"
     ]
    },
    {
     "data": {
      "text/plain": [
       "21"
      ]
     },
     "execution_count": 59,
     "metadata": {},
     "output_type": "execute_result"
    }
   ],
   "source": [
    "def tri_recursion(k):\n",
    "    if (k>0):\n",
    "        result = k + tri_recursion(k-1)\n",
    "        print(result)\n",
    "    else:\n",
    "        result =0\n",
    "    return result\n",
    "\n",
    "\n",
    "print(\"recursion example results:\")\n",
    "tri_recursion(6)"
   ]
  },
  {
   "cell_type": "markdown",
   "id": "cfadb795",
   "metadata": {},
   "source": [
    "### PYTHON DECORATORS\n"
   ]
  },
  {
   "cell_type": "code",
   "execution_count": null,
   "id": "720eee28",
   "metadata": {},
   "outputs": [
    {
     "name": "stdout",
     "output_type": "stream",
     "text": [
      "HELLO SALLY\n"
     ]
    }
   ],
   "source": [
    "## print_upper case\n",
    "def changecase(func):\n",
    "    def myinner():\n",
    "        return func().upper()\n",
    "    return myinner\n",
    "\n",
    "@changecase\n",
    "def myfunction():\n",
    "    return \"hello sally\"\n",
    "\n",
    "print(myfunction())"
   ]
  },
  {
   "cell_type": "code",
   "execution_count": null,
   "id": "126841b3",
   "metadata": {},
   "outputs": [
    {
     "name": "stdout",
     "output_type": "stream",
     "text": [
      "hello vithu\n"
     ]
    }
   ],
   "source": [
    "## print_lower case\n",
    "def low(fun):\n",
    "    def mylow():\n",
    "        return fun().lower()\n",
    "    return mylow\n",
    "\n",
    "@low\n",
    "def myfunction():\n",
    "    return \"HELLO VITHU\"\n",
    "\n",
    "print(myfunction())\n",
    "    "
   ]
  },
  {
   "cell_type": "code",
   "execution_count": 6,
   "id": "438abf9a",
   "metadata": {},
   "outputs": [
    {
     "name": "stdout",
     "output_type": "stream",
     "text": [
      "HELLO VITHU\n",
      "HELLO MALA\n",
      "HEY VITHU YOUR GOOD\n"
     ]
    }
   ],
   "source": [
    "def Changecase(fun):\n",
    "    def myiner():\n",
    "        return fun().upper()\n",
    "    return myiner\n",
    "\n",
    "@changecase\n",
    "def myfun():\n",
    "    return \"hello vithu\"\n",
    "print(myfun())\n",
    "\n",
    "@changecase\n",
    "def another_fun():\n",
    "    return \"hello mala\"\n",
    "print(another_fun())\n",
    "\n",
    "@changecase\n",
    "def last_fun ():\n",
    "    return \"hey vithu your good\"\n",
    "print(last_fun())\n"
   ]
  },
  {
   "cell_type": "code",
   "execution_count": 13,
   "id": "b3b1b6ee",
   "metadata": {},
   "outputs": [
    {
     "name": "stdout",
     "output_type": "stream",
     "text": [
      "HELLOVITHU\n"
     ]
    }
   ],
   "source": [
    "## function with argument can also be decorated\n",
    "\n",
    "def myfun(fun):\n",
    "    def myinner(x):\n",
    "        return fun(x).upper()\n",
    "    return myinner\n",
    "\n",
    "@myfun\n",
    "def myfunction(name):\n",
    "    return \"hello\" + name\n",
    "print(myfunction(\"vithu\"))\n"
   ]
  },
  {
   "cell_type": "code",
   "execution_count": null,
   "id": "c8a23229",
   "metadata": {},
   "outputs": [],
   "source": []
  }
 ],
 "metadata": {
  "kernelspec": {
   "display_name": "base",
   "language": "python",
   "name": "python3"
  },
  "language_info": {
   "codemirror_mode": {
    "name": "ipython",
    "version": 3
   },
   "file_extension": ".py",
   "mimetype": "text/x-python",
   "name": "python",
   "nbconvert_exporter": "python",
   "pygments_lexer": "ipython3",
   "version": "3.12.7"
  }
 },
 "nbformat": 4,
 "nbformat_minor": 5
}

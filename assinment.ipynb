{
 "cells": [
  {
   "cell_type": "markdown",
   "id": "9ca27d2c",
   "metadata": {},
   "source": [
    "# Module 2: Control Flow Assignments\n",
    "## Lesson 2.1: Conditional Statements\n",
    "### Assignment 1: Simple if Statement\n",
    "\n",
    "Write a program that asks the user to input a number and prints whether the number is positive."
   ]
  },
  {
   "cell_type": "code",
   "execution_count": 11,
   "id": "ad375091",
   "metadata": {},
   "outputs": [
    {
     "name": "stdout",
     "output_type": "stream",
     "text": [
      "45.0 is positive\n"
     ]
    }
   ],
   "source": [
    "num=float(input(\"enter the number:\"))\n",
    "if num >=1:\n",
    "    print(f\"{num} is positive\")\n"
   ]
  },
  {
   "cell_type": "markdown",
   "id": "47e328ff",
   "metadata": {},
   "source": [
    "### Assignment 2: if-else Statement\n",
    "\n",
    "Write a program that asks the user to input a number and prints whether the number is positive or negative."
   ]
  },
  {
   "cell_type": "code",
   "execution_count": 13,
   "id": "4db68aa1",
   "metadata": {},
   "outputs": [
    {
     "name": "stdout",
     "output_type": "stream",
     "text": [
      "-67.0 is negative number\n"
     ]
    }
   ],
   "source": [
    "num=float(input(\"enter the number:\"))\n",
    "if num > 0:\n",
    "    print(f\"{num} is positive number\")\n",
    "else:\n",
    "    print(f\"{num} is negative number\")"
   ]
  },
  {
   "cell_type": "markdown",
   "id": "a97743e3",
   "metadata": {},
   "source": [
    "### Assignment 3: if-elif-else Statement\n",
    "\n",
    "Write a program that asks the user to input a number and prints whether the number is positive, negative, or zero."
   ]
  },
  {
   "cell_type": "code",
   "execution_count": 17,
   "id": "efbd6c28",
   "metadata": {},
   "outputs": [
    {
     "name": "stdout",
     "output_type": "stream",
     "text": [
      "0 is zero\n"
     ]
    }
   ],
   "source": [
    "num=int(input(\"enter the number:\"))\n",
    "if num > 0:\n",
    "    print(f\"{num} is positive number\")\n",
    "elif num<0:\n",
    "    print(f\"{num} is negative number\")\n",
    "else:\n",
    "    print(f\"{num} is zero\")"
   ]
  },
  {
   "cell_type": "markdown",
   "id": "15dc5802",
   "metadata": {},
   "source": [
    "### Assignment 4: Nested if Statement\n",
    "\n",
    "Write a program that asks the user to input a number and prints whether the number is positive and even, positive and odd, or negative."
   ]
  },
  {
   "cell_type": "code",
   "execution_count": 20,
   "id": "e7652e8c",
   "metadata": {},
   "outputs": [
    {
     "name": "stdout",
     "output_type": "stream",
     "text": [
      "9 is positive and odd number\n"
     ]
    }
   ],
   "source": [
    "num=int(input(\"enter the number:\"))\n",
    "if num>0:\n",
    "    if num%2==0:\n",
    "        print(f\"{num} is positive and even number\")\n",
    "    else:\n",
    "        print(f\"{num} is positive and odd number\")\n",
    "else:\n",
    "    print(f\"{num} is negative\")"
   ]
  },
  {
   "cell_type": "markdown",
   "id": "65ef4bca",
   "metadata": {},
   "source": [
    "## Lesson 2.2: Loops\n",
    "### Assignment 5: for Loop\n",
    "\n",
    "Write a program that prints all the numbers from 1 to 10 using a for loop."
   ]
  },
  {
   "cell_type": "code",
   "execution_count": 21,
   "id": "86322160",
   "metadata": {},
   "outputs": [
    {
     "name": "stdout",
     "output_type": "stream",
     "text": [
      "1\n",
      "2\n",
      "3\n",
      "4\n",
      "5\n",
      "6\n",
      "7\n",
      "8\n",
      "9\n",
      "10\n"
     ]
    }
   ],
   "source": [
    "for i in range(1,11):\n",
    "    print(i)"
   ]
  },
  {
   "cell_type": "markdown",
   "id": "efe88996",
   "metadata": {},
   "source": [
    "### Assignment 6: while Loop\n",
    "\n",
    "Write a program that prints all the numbers from 1 to 10 using a while loop."
   ]
  },
  {
   "cell_type": "code",
   "execution_count": 36,
   "id": "9a047a8a",
   "metadata": {},
   "outputs": [
    {
     "name": "stdout",
     "output_type": "stream",
     "text": [
      "1\n",
      "2\n",
      "3\n",
      "4\n",
      "5\n",
      "6\n",
      "7\n",
      "8\n",
      "9\n",
      "10\n"
     ]
    }
   ],
   "source": [
    "\n",
    "for i in range(1,11):\n",
    "    print(i)\n",
    "    i=i+1\n",
    "\n",
    "\n"
   ]
  },
  {
   "cell_type": "code",
   "execution_count": 35,
   "id": "ae13c584",
   "metadata": {},
   "outputs": [
    {
     "name": "stdout",
     "output_type": "stream",
     "text": [
      "1\n",
      "2\n",
      "3\n",
      "4\n",
      "5\n",
      "6\n",
      "7\n",
      "8\n",
      "9\n",
      "10\n"
     ]
    }
   ],
   "source": [
    "i=1\n",
    "while i <=10:\n",
    "    print(i)\n",
    "    i=i+1"
   ]
  },
  {
   "cell_type": "code",
   "execution_count": 37,
   "id": "4d9cb2b1",
   "metadata": {},
   "outputs": [
    {
     "name": "stdout",
     "output_type": "stream",
     "text": [
      "1\n",
      "2\n",
      "3\n",
      "4\n",
      "5\n",
      "6\n",
      "7\n",
      "8\n",
      "9\n",
      "10\n"
     ]
    }
   ],
   "source": [
    "while True:\n",
    "    for i in range(1,11):\n",
    "        print(i)\n",
    "        i=i+1\n",
    "    break"
   ]
  },
  {
   "cell_type": "markdown",
   "id": "b0bfcca3",
   "metadata": {},
   "source": [
    "### Assignment 7: Nested Loops\n",
    "\n",
    "Write a program that prints a 5x5 grid of asterisks (*) using nested loops."
   ]
  },
  {
   "cell_type": "code",
   "execution_count": 45,
   "id": "b6cfdcf5",
   "metadata": {},
   "outputs": [
    {
     "name": "stdout",
     "output_type": "stream",
     "text": [
      "* * * * * \n",
      "* * * * * \n",
      "* * * * * \n",
      "* * * * * \n",
      "* * * * * \n"
     ]
    }
   ],
   "source": [
    "for i in range(5):\n",
    "    for j in range(5):\n",
    "        print(\"*\",end=\" \")\n",
    "    print()\n"
   ]
  },
  {
   "cell_type": "markdown",
   "id": "f1315aa3",
   "metadata": {},
   "source": [
    "### Assignment 8: break Statement\n",
    "\n",
    "Write a program that asks the user to input numbers until they input 0. The program should print the sum of all the input numbers."
   ]
  },
  {
   "cell_type": "code",
   "execution_count": 65,
   "id": "6b8c15ce",
   "metadata": {},
   "outputs": [
    {
     "name": "stdout",
     "output_type": "stream",
     "text": [
      "total numbers are: 20\n"
     ]
    }
   ],
   "source": [
    "total=0\n",
    "while True:\n",
    "   num=int(input(\"enter the number:\"))\n",
    "   if num==0:\n",
    "     break\n",
    "   total +=num\n",
    "print(f\"total numbers are:\",total)\n",
    " \n",
    " "
   ]
  },
  {
   "cell_type": "code",
   "execution_count": 62,
   "id": "07145b93",
   "metadata": {},
   "outputs": [
    {
     "name": "stdout",
     "output_type": "stream",
     "text": [
      "total numbers are: 60\n"
     ]
    }
   ],
   "source": [
    "total=0\n",
    "while True:\n",
    "    num=int(input(\"enter the number:\"))\n",
    "    if num==0:\n",
    "        break\n",
    "    total +=num\n",
    "print(f\"total numbers are:\",total)\n"
   ]
  },
  {
   "cell_type": "markdown",
   "id": "8d28b184",
   "metadata": {},
   "source": [
    "### Assignment 9: continue Statement\n",
    "\n",
    "Write a program that prints all the numbers from 1 to 10 except 5 using a for loop and continue statement."
   ]
  },
  {
   "cell_type": "code",
   "execution_count": 66,
   "id": "f491c31f",
   "metadata": {},
   "outputs": [
    {
     "name": "stdout",
     "output_type": "stream",
     "text": [
      "1\n",
      "2\n",
      "3\n",
      "4\n",
      "6\n",
      "7\n",
      "8\n",
      "9\n",
      "10\n"
     ]
    }
   ],
   "source": [
    "for i in range(1,11):\n",
    "    if i==5:\n",
    "        continue\n",
    "    print(i)"
   ]
  },
  {
   "cell_type": "markdown",
   "id": "3589e004",
   "metadata": {},
   "source": [
    "### Assignment 10: pass Statement\n",
    "\n",
    "Write a program that defines an empty function using the pass statement."
   ]
  },
  {
   "cell_type": "code",
   "execution_count": 68,
   "id": "d462366f",
   "metadata": {},
   "outputs": [],
   "source": [
    "def empty_function():\n",
    "    pass\n",
    "empty_function()"
   ]
  },
  {
   "cell_type": "markdown",
   "id": "4dc66355",
   "metadata": {},
   "source": [
    "### Assignment 11: Combining Loops and Conditionals\n",
    "\n",
    "Write a program that asks the user to input a number and prints all the even numbers from 1 to that number using a for loop."
   ]
  },
  {
   "cell_type": "code",
   "execution_count": 1,
   "id": "b04c4ae3",
   "metadata": {},
   "outputs": [
    {
     "name": "stdout",
     "output_type": "stream",
     "text": [
      "2\n",
      "4\n",
      "6\n",
      "8\n",
      "10\n"
     ]
    }
   ],
   "source": [
    "num=int(input(\"enter the number:\"))\n",
    "for i in range(1,num+1):\n",
    "    if i%2==0:\n",
    "      print(i)\n"
   ]
  },
  {
   "cell_type": "markdown",
   "id": "d284f9b9",
   "metadata": {},
   "source": [
    "### Assignment 12: Factorial Calculation\n",
    "\n",
    "Write a program that calculates the factorial of a number input by the user using a while loop."
   ]
  },
  {
   "cell_type": "code",
   "execution_count": 35,
   "id": "d6f58264",
   "metadata": {},
   "outputs": [
    {
     "name": "stdout",
     "output_type": "stream",
     "text": [
      "the factorial of 5 is 120\n"
     ]
    }
   ],
   "source": [
    "num=int(input(\"enter the number:\"))\n",
    "factorial=1\n",
    "i=1\n",
    "while i<num+1:\n",
    "    factorial *=i\n",
    "    i +=1\n",
    "print(f\"the factorial of {num} is {factorial}\")\n"
   ]
  },
  {
   "cell_type": "code",
   "execution_count": 37,
   "id": "cf3418a3",
   "metadata": {},
   "outputs": [
    {
     "name": "stdout",
     "output_type": "stream",
     "text": [
      "the factorial of 5 is 120\n"
     ]
    }
   ],
   "source": [
    "num=int(input(\"enter the number:\"))\n",
    "factorial=1\n",
    "i=1\n",
    "while i in range(1,num+1):\n",
    "    factorial *= i\n",
    "    i=i+1\n",
    "print(f\"the factorial of {num} is {factorial}\")"
   ]
  },
  {
   "cell_type": "code",
   "execution_count": 36,
   "id": "0db80cb0",
   "metadata": {},
   "outputs": [
    {
     "name": "stdout",
     "output_type": "stream",
     "text": [
      "the factorial of 5 is 120\n"
     ]
    }
   ],
   "source": [
    "\n",
    "def myfun(num):\n",
    "    factorial=1\n",
    "    for i in range(1,num+1):\n",
    "        factorial *= i\n",
    "    return factorial\n",
    "result=myfun(5)\n",
    "print(f\"the factorial of {num} is {result}\")"
   ]
  },
  {
   "cell_type": "markdown",
   "id": "0541bd79",
   "metadata": {},
   "source": [
    "### Assignment 13: Sum of Digits\n",
    "\n",
    "Write a program that calculates the sum of the digits of a number input by the user using a while loop."
   ]
  },
  {
   "cell_type": "code",
   "execution_count": 46,
   "id": "e6879b45",
   "metadata": {},
   "outputs": [
    {
     "name": "stdout",
     "output_type": "stream",
     "text": [
      "the total of numbers : 55\n"
     ]
    }
   ],
   "source": [
    "num=int(input(\"enter the number:\"))\n",
    "sum=0\n",
    "i=1\n",
    "while i in range(1,num+1):\n",
    "    sum +=i\n",
    "    i +=1\n",
    "print(f\"the total of numbers : {sum}\")"
   ]
  },
  {
   "cell_type": "markdown",
   "id": "1ac498bc",
   "metadata": {},
   "source": [
    "\n",
    "### Assignment 14: Prime Number Check\n",
    "\n",
    "Write a program that checks if a number input by the user is a prime number using a for loop."
   ]
  },
  {
   "cell_type": "code",
   "execution_count": 66,
   "id": "670cbc39",
   "metadata": {},
   "outputs": [
    {
     "name": "stdout",
     "output_type": "stream",
     "text": [
      "2\n",
      "3\n",
      "5\n",
      "7\n",
      "11\n",
      "13\n",
      "17\n",
      "19\n"
     ]
    }
   ],
   "source": [
    "\n",
    "for num in range (2,21):\n",
    "    for i in range(2,num):\n",
    "        if num%i==0:\n",
    "            break \n",
    "    else:  \n",
    "        print(num) "
   ]
  },
  {
   "cell_type": "markdown",
   "id": "3a7e9206",
   "metadata": {},
   "source": [
    "### Assignment 15: Fibonacci Sequence\n",
    "\n",
    "Write a program that prints the first n Fibonacci numbers, where n is input by the user."
   ]
  },
  {
   "cell_type": "code",
   "execution_count": null,
   "id": "06069fdf",
   "metadata": {},
   "outputs": [
    {
     "name": "stdout",
     "output_type": "stream",
     "text": [
      "0\n",
      "1\n",
      "1\n",
      "2\n"
     ]
    }
   ],
   "source": [
    "num=int(input(\"enter the number:\"))\n",
    "count=0\n",
    "a,b=0,1\n",
    "while count<num:\n",
    "    print(a)\n",
    "    a,b=b ,a+b\n",
    "    count +=1\n",
    "\n"
   ]
  },
  {
   "cell_type": "markdown",
   "id": "3eeb0af7",
   "metadata": {},
   "source": [
    "#### python random selections"
   ]
  },
  {
   "cell_type": "code",
   "execution_count": 47,
   "id": "e8b5ce69",
   "metadata": {},
   "outputs": [
    {
     "name": "stdout",
     "output_type": "stream",
     "text": [
      "['kalam', 'vithu', 'lalli']\n"
     ]
    }
   ],
   "source": [
    "import random\n",
    "lis=[\"vithu\",\"kalam\",\"shaka\",\"lalli\"]\n",
    "int_num=random.choices(lis,k=3)\n",
    "print(int_num) "
   ]
  },
  {
   "cell_type": "code",
   "execution_count": 49,
   "id": "334afe26",
   "metadata": {},
   "outputs": [
    {
     "name": "stdout",
     "output_type": "stream",
     "text": [
      "kalam\n"
     ]
    }
   ],
   "source": [
    "\n",
    "import random\n",
    "lis=[\"vithu\",\"kalam\",\"shaka\",\"lalli\"]\n",
    "int_num=random.choice(lis)\n",
    "print(int_num) \n",
    "\n",
    "\n"
   ]
  },
  {
   "cell_type": "code",
   "execution_count": 62,
   "id": "d5b8b0e8",
   "metadata": {},
   "outputs": [
    {
     "name": "stdout",
     "output_type": "stream",
     "text": [
      "[66, 'vithu']\n"
     ]
    }
   ],
   "source": [
    "import random\n",
    "lis=[\"vithu\",\"kalam\",\"shaka\",\"lalli\",3,5,66,3,4]\n",
    "int_num=random.sample(lis,k=2)\n",
    "print(int_num) "
   ]
  },
  {
   "cell_type": "code",
   "execution_count": null,
   "id": "69859d99",
   "metadata": {},
   "outputs": [
    {
     "name": "stdout",
     "output_type": "stream",
     "text": [
      "None\n"
     ]
    }
   ],
   "source": [
    "import random\n",
    "lis=[\"vithu\",\"kalam\",\"shaka\",\"lalli\",3,5,66,3,4]\n",
    "int_num=random.shuffle(lis)\n",
    "print(int_num) \n"
   ]
  },
  {
   "cell_type": "code",
   "execution_count": 69,
   "id": "3f8a9730",
   "metadata": {},
   "outputs": [
    {
     "name": "stdout",
     "output_type": "stream",
     "text": [
      "3.8857473857135547\n"
     ]
    }
   ],
   "source": [
    "# Random float between 1.5 and 10.5\n",
    "print(random.uniform(1.5, 10.5))\n"
   ]
  },
  {
   "cell_type": "code",
   "execution_count": 72,
   "id": "73e0b0d7",
   "metadata": {},
   "outputs": [
    {
     "name": "stdout",
     "output_type": "stream",
     "text": [
      "Vithusha\n"
     ]
    }
   ],
   "source": [
    "names = [\"Vithusha\", \"Vidhushen\", \"Kavi\", \"Nimal\"]\n",
    "print(random.choice(names))\n"
   ]
  },
  {
   "cell_type": "code",
   "execution_count": 75,
   "id": "7348f6a6",
   "metadata": {},
   "outputs": [
    {
     "name": "stdout",
     "output_type": "stream",
     "text": [
      "['Vithusha', 'Vidhushen', 'Nimal']\n"
     ]
    }
   ],
   "source": [
    "names = [\"Vithusha\", \"Vidhushen\", \"Kavi\", \"Nimal\"]\n",
    "print(random.sample(names,k=3))\n"
   ]
  },
  {
   "cell_type": "code",
   "execution_count": 79,
   "id": "ae077a46",
   "metadata": {},
   "outputs": [
    {
     "name": "stdout",
     "output_type": "stream",
     "text": [
      "[2, 3, 5, 4, 1, 56]\n"
     ]
    }
   ],
   "source": [
    "nums=[1,2,3,4,5,56]\n",
    "random.shuffle(nums)\n",
    "print(nums)"
   ]
  },
  {
   "cell_type": "code",
   "execution_count": 82,
   "id": "afaad81e",
   "metadata": {},
   "outputs": [
    {
     "name": "stdout",
     "output_type": "stream",
     "text": [
      "True\n"
     ]
    }
   ],
   "source": [
    "print(random.choice([True,False]))"
   ]
  },
  {
   "cell_type": "code",
   "execution_count": 88,
   "id": "83812128",
   "metadata": {},
   "outputs": [
    {
     "name": "stdout",
     "output_type": "stream",
     "text": [
      "75\n"
     ]
    }
   ],
   "source": [
    "print(random.randrange(0,100,5))"
   ]
  },
  {
   "cell_type": "code",
   "execution_count": 91,
   "id": "7089c56a",
   "metadata": {},
   "outputs": [
    {
     "name": "stdout",
     "output_type": "stream",
     "text": [
      "b'\\xe2\\x15$\\x1b\\xeb'\n"
     ]
    }
   ],
   "source": [
    "print(random.randbytes(5))"
   ]
  },
  {
   "cell_type": "markdown",
   "id": "b5bb9202",
   "metadata": {},
   "source": [
    "####  list example"
   ]
  },
  {
   "cell_type": "code",
   "execution_count": 92,
   "id": "fb454c2a",
   "metadata": {},
   "outputs": [],
   "source": [
    "lis=[1,2,3,4,5,6,7,8,9,10]\n"
   ]
  },
  {
   "cell_type": "code",
   "execution_count": 95,
   "id": "42889c69",
   "metadata": {},
   "outputs": [
    {
     "data": {
      "text/plain": [
       "10"
      ]
     },
     "execution_count": 95,
     "metadata": {},
     "output_type": "execute_result"
    }
   ],
   "source": [
    "len(lis)"
   ]
  },
  {
   "cell_type": "code",
   "execution_count": 96,
   "id": "bb14ce22",
   "metadata": {},
   "outputs": [
    {
     "data": {
      "text/plain": [
       "2"
      ]
     },
     "execution_count": 96,
     "metadata": {},
     "output_type": "execute_result"
    }
   ],
   "source": [
    "lis[1]"
   ]
  },
  {
   "cell_type": "code",
   "execution_count": 97,
   "id": "6414a947",
   "metadata": {},
   "outputs": [
    {
     "data": {
      "text/plain": [
       "1"
      ]
     },
     "execution_count": 97,
     "metadata": {},
     "output_type": "execute_result"
    }
   ],
   "source": [
    "lis[0]"
   ]
  },
  {
   "cell_type": "code",
   "execution_count": 105,
   "id": "4bc4dddf",
   "metadata": {},
   "outputs": [
    {
     "data": {
      "text/plain": [
       "[1, 2, 3, 4, 5, 6, 7, 8, 9, 10]"
      ]
     },
     "execution_count": 105,
     "metadata": {},
     "output_type": "execute_result"
    }
   ],
   "source": [
    "lis"
   ]
  },
  {
   "cell_type": "code",
   "execution_count": 106,
   "id": "0b2bdb89",
   "metadata": {},
   "outputs": [
    {
     "name": "stdout",
     "output_type": "stream",
     "text": [
      "(0, 1)\n",
      "(1, 2)\n",
      "(2, 3)\n",
      "(3, 4)\n",
      "(4, 5)\n",
      "(5, 6)\n",
      "(6, 7)\n",
      "(7, 8)\n",
      "(8, 9)\n",
      "(9, 10)\n"
     ]
    }
   ],
   "source": [
    "for index in enumerate(lis):\n",
    "    print(lis and index)"
   ]
  },
  {
   "cell_type": "code",
   "execution_count": 107,
   "id": "5150420a",
   "metadata": {},
   "outputs": [],
   "source": [
    "lis.append(22)"
   ]
  },
  {
   "cell_type": "code",
   "execution_count": 108,
   "id": "71500d24",
   "metadata": {},
   "outputs": [
    {
     "data": {
      "text/plain": [
       "[1, 2, 3, 4, 5, 6, 7, 8, 9, 10, 22]"
      ]
     },
     "execution_count": 108,
     "metadata": {},
     "output_type": "execute_result"
    }
   ],
   "source": [
    "lis"
   ]
  },
  {
   "cell_type": "code",
   "execution_count": 110,
   "id": "d81532e8",
   "metadata": {},
   "outputs": [
    {
     "data": {
      "text/plain": [
       "1"
      ]
     },
     "execution_count": 110,
     "metadata": {},
     "output_type": "execute_result"
    }
   ],
   "source": [
    "\n",
    "lis.count(1)"
   ]
  },
  {
   "cell_type": "code",
   "execution_count": 111,
   "id": "352ea0c6",
   "metadata": {},
   "outputs": [],
   "source": [
    "lis.insert(1,4)"
   ]
  },
  {
   "cell_type": "code",
   "execution_count": 112,
   "id": "5cc17314",
   "metadata": {},
   "outputs": [
    {
     "data": {
      "text/plain": [
       "[1, 4, 2, 3, 4, 5, 6, 7, 8, 9, 10, 22]"
      ]
     },
     "execution_count": 112,
     "metadata": {},
     "output_type": "execute_result"
    }
   ],
   "source": [
    "lis"
   ]
  },
  {
   "cell_type": "code",
   "execution_count": 114,
   "id": "4dfb81d2",
   "metadata": {},
   "outputs": [
    {
     "data": {
      "text/plain": [
       "0"
      ]
     },
     "execution_count": 114,
     "metadata": {},
     "output_type": "execute_result"
    }
   ],
   "source": [
    "lis.index(1)"
   ]
  },
  {
   "cell_type": "code",
   "execution_count": 115,
   "id": "dfeea630",
   "metadata": {},
   "outputs": [
    {
     "data": {
      "text/plain": [
       "2"
      ]
     },
     "execution_count": 115,
     "metadata": {},
     "output_type": "execute_result"
    }
   ],
   "source": [
    "lis.count(4)"
   ]
  },
  {
   "cell_type": "code",
   "execution_count": 116,
   "id": "00002f0e",
   "metadata": {},
   "outputs": [
    {
     "data": {
      "text/plain": [
       "1"
      ]
     },
     "execution_count": 116,
     "metadata": {},
     "output_type": "execute_result"
    }
   ],
   "source": [
    "lis.count(2)"
   ]
  },
  {
   "cell_type": "code",
   "execution_count": 117,
   "id": "6ba5b72c",
   "metadata": {},
   "outputs": [],
   "source": [
    "lis.extend([20,19,29])"
   ]
  },
  {
   "cell_type": "code",
   "execution_count": 118,
   "id": "d348ad54",
   "metadata": {},
   "outputs": [
    {
     "data": {
      "text/plain": [
       "[1, 4, 2, 3, 4, 5, 6, 7, 8, 9, 10, 22, 20, 19, 29]"
      ]
     },
     "execution_count": 118,
     "metadata": {},
     "output_type": "execute_result"
    }
   ],
   "source": [
    "lis"
   ]
  },
  {
   "cell_type": "code",
   "execution_count": 119,
   "id": "04c0c844",
   "metadata": {},
   "outputs": [],
   "source": [
    "lis.insert(3,10)"
   ]
  },
  {
   "cell_type": "code",
   "execution_count": 120,
   "id": "ebbcfe14",
   "metadata": {},
   "outputs": [
    {
     "data": {
      "text/plain": [
       "[1, 4, 2, 10, 3, 4, 5, 6, 7, 8, 9, 10, 22, 20, 19, 29]"
      ]
     },
     "execution_count": 120,
     "metadata": {},
     "output_type": "execute_result"
    }
   ],
   "source": [
    "lis"
   ]
  },
  {
   "cell_type": "code",
   "execution_count": 121,
   "id": "506359f5",
   "metadata": {},
   "outputs": [],
   "source": [
    "lis.remove(4)"
   ]
  },
  {
   "cell_type": "code",
   "execution_count": 122,
   "id": "b589013c",
   "metadata": {},
   "outputs": [
    {
     "data": {
      "text/plain": [
       "[1, 2, 10, 3, 4, 5, 6, 7, 8, 9, 10, 22, 20, 19, 29]"
      ]
     },
     "execution_count": 122,
     "metadata": {},
     "output_type": "execute_result"
    }
   ],
   "source": [
    "lis"
   ]
  },
  {
   "cell_type": "code",
   "execution_count": 123,
   "id": "adf9e008",
   "metadata": {},
   "outputs": [
    {
     "data": {
      "text/plain": [
       "1"
      ]
     },
     "execution_count": 123,
     "metadata": {},
     "output_type": "execute_result"
    }
   ],
   "source": [
    "lis.count(4)"
   ]
  },
  {
   "cell_type": "code",
   "execution_count": 126,
   "id": "d248de93",
   "metadata": {},
   "outputs": [
    {
     "data": {
      "text/plain": [
       "19"
      ]
     },
     "execution_count": 126,
     "metadata": {},
     "output_type": "execute_result"
    }
   ],
   "source": [
    "lis.pop()"
   ]
  },
  {
   "cell_type": "code",
   "execution_count": 127,
   "id": "9c5374b5",
   "metadata": {},
   "outputs": [
    {
     "data": {
      "text/plain": [
       "[1, 2, 10, 3, 4, 5, 6, 7, 8, 9, 10, 22, 20]"
      ]
     },
     "execution_count": 127,
     "metadata": {},
     "output_type": "execute_result"
    }
   ],
   "source": [
    "lis"
   ]
  },
  {
   "cell_type": "code",
   "execution_count": 128,
   "id": "fea64992",
   "metadata": {},
   "outputs": [
    {
     "data": {
      "text/plain": [
       "12"
      ]
     },
     "execution_count": 128,
     "metadata": {},
     "output_type": "execute_result"
    }
   ],
   "source": [
    "lis.index(20)"
   ]
  },
  {
   "cell_type": "code",
   "execution_count": 129,
   "id": "bfe2124e",
   "metadata": {},
   "outputs": [
    {
     "data": {
      "text/plain": [
       "1"
      ]
     },
     "execution_count": 129,
     "metadata": {},
     "output_type": "execute_result"
    }
   ],
   "source": [
    "lis.count(20)"
   ]
  },
  {
   "cell_type": "code",
   "execution_count": 130,
   "id": "375201eb",
   "metadata": {},
   "outputs": [],
   "source": [
    "lis.sort()"
   ]
  },
  {
   "cell_type": "code",
   "execution_count": 131,
   "id": "0bca3e55",
   "metadata": {},
   "outputs": [
    {
     "data": {
      "text/plain": [
       "[1, 2, 3, 4, 5, 6, 7, 8, 9, 10, 10, 20, 22]"
      ]
     },
     "execution_count": 131,
     "metadata": {},
     "output_type": "execute_result"
    }
   ],
   "source": [
    "lis"
   ]
  },
  {
   "cell_type": "code",
   "execution_count": 132,
   "id": "67015d25",
   "metadata": {},
   "outputs": [],
   "source": [
    "lis.reverse()"
   ]
  },
  {
   "cell_type": "code",
   "execution_count": 134,
   "id": "8eef51d4",
   "metadata": {},
   "outputs": [
    {
     "data": {
      "text/plain": [
       "13"
      ]
     },
     "execution_count": 134,
     "metadata": {},
     "output_type": "execute_result"
    }
   ],
   "source": [
    "len(lis)"
   ]
  },
  {
   "cell_type": "code",
   "execution_count": 139,
   "id": "45efdf03",
   "metadata": {},
   "outputs": [
    {
     "name": "stdout",
     "output_type": "stream",
     "text": [
      "no\n"
     ]
    }
   ],
   "source": [
    "if 40 in lis:\n",
    "    print(\"yes\")\n",
    "else:\n",
    "    print(\"no\")\n"
   ]
  },
  {
   "cell_type": "code",
   "execution_count": 143,
   "id": "401ad38b",
   "metadata": {},
   "outputs": [
    {
     "name": "stdout",
     "output_type": "stream",
     "text": [
      "1\n",
      "3\n",
      "7\n",
      "15\n",
      "31\n",
      "63\n",
      "127\n",
      "255\n",
      "511\n",
      "1023\n"
     ]
    }
   ],
   "source": [
    "start=0\n",
    "next=1\n",
    "add=0\n",
    "for i in range(1,11):\n",
    "    add=start+next\n",
    "    print(add)\n",
    "    start=add\n",
    "    next=start+1\n",
    "\n",
    " "
   ]
  },
  {
   "cell_type": "code",
   "execution_count": null,
   "id": "fc726769",
   "metadata": {},
   "outputs": [],
   "source": []
  }
 ],
 "metadata": {
  "kernelspec": {
   "display_name": "base",
   "language": "python",
   "name": "python3"
  },
  "language_info": {
   "codemirror_mode": {
    "name": "ipython",
    "version": 3
   },
   "file_extension": ".py",
   "mimetype": "text/x-python",
   "name": "python",
   "nbconvert_exporter": "python",
   "pygments_lexer": "ipython3",
   "version": "3.12.7"
  }
 },
 "nbformat": 4,
 "nbformat_minor": 5
}

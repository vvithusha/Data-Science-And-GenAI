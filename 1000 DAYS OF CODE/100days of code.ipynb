{
 "cells": [
  {
   "cell_type": "markdown",
   "id": "f9b123ed",
   "metadata": {},
   "source": [
    "### 100 days of codeing\n",
    "(1)  variables in python"
   ]
  },
  {
   "cell_type": "code",
   "execution_count": 2,
   "id": "e0b45b34",
   "metadata": {},
   "outputs": [
    {
     "name": "stdout",
     "output_type": "stream",
     "text": [
      "my name is  vithu\n"
     ]
    }
   ],
   "source": [
    "##Create and print a variable\n",
    "name=\"vithu\"\n",
    "print(\"my name is \",name)"
   ]
  },
  {
   "cell_type": "code",
   "execution_count": 3,
   "id": "a673fef9",
   "metadata": {},
   "outputs": [
    {
     "name": "stdout",
     "output_type": "stream",
     "text": [
      "i am  21\n"
     ]
    }
   ],
   "source": [
    "##Assign your age to a variable and print it\n",
    "age=21\n",
    "print(\"i am \",age)\n",
    "\n",
    "\n"
   ]
  },
  {
   "cell_type": "code",
   "execution_count": 4,
   "id": "01228921",
   "metadata": {},
   "outputs": [
    {
     "name": "stdout",
     "output_type": "stream",
     "text": [
      "a= 6\n",
      "b= 5\n"
     ]
    }
   ],
   "source": [
    "##Swap two variables\n",
    "a=5\n",
    "b=6\n",
    "##after swaping variables\n",
    "c=a\n",
    "a=b\n",
    "b=c\n",
    "print(\"a=\",a)\n",
    "print(\"b=\",b)\n"
   ]
  },
  {
   "cell_type": "code",
   "execution_count": 7,
   "id": "d25aa957",
   "metadata": {},
   "outputs": [
    {
     "name": "stdout",
     "output_type": "stream",
     "text": [
      "vithusha  vimalathash\n"
     ]
    }
   ],
   "source": [
    "##Concatenate two strings\n",
    "first_name=\"vithusha\"\n",
    "last_name=\"vimalathash\"\n",
    "print(first_name,\"\",last_name)"
   ]
  },
  {
   "cell_type": "code",
   "execution_count": null,
   "id": "ab991c73",
   "metadata": {},
   "outputs": [
    {
     "name": "stdout",
     "output_type": "stream",
     "text": [
      "rectangle is : 25.0\n"
     ]
    }
   ],
   "source": [
    "##Calculate the area of a rectangle\n",
    "length=10\n",
    "width=5\n",
    "rectangle=1/2*width*length\n",
    "print(\"rectangle area is :\",rectangle)"
   ]
  },
  {
   "cell_type": "code",
   "execution_count": 9,
   "id": "904b48e0",
   "metadata": {},
   "outputs": [
    {
     "name": "stdout",
     "output_type": "stream",
     "text": [
      "user name is : vithu\n"
     ]
    }
   ],
   "source": [
    "##Use input() to take user input\n",
    "name=input(\"enter the number:\")\n",
    "print(\"user name is :\",name)"
   ]
  },
  {
   "cell_type": "code",
   "execution_count": 10,
   "id": "d7097bad",
   "metadata": {},
   "outputs": [
    {
     "name": "stdout",
     "output_type": "stream",
     "text": [
      "20.0\n",
      "2\n"
     ]
    }
   ],
   "source": [
    "##Type casting\n",
    "a=20\n",
    "b=2.4\n",
    "print(float(a))\n",
    "print(int(b))\n"
   ]
  },
  {
   "cell_type": "code",
   "execution_count": 16,
   "id": "d1da94a0",
   "metadata": {},
   "outputs": [
    {
     "name": "stdout",
     "output_type": "stream",
     "text": [
      "2 3 4\n",
      "4 4 4\n",
      "11\n"
     ]
    }
   ],
   "source": [
    "##Multiple assignments\n",
    "a,b,c=2,3,4\n",
    "print(a,b,c)\n",
    "a=b=c=4\n",
    "print(a,b,c)\n",
    "a,b,c=2,4,5\n",
    "print(a+b+c)"
   ]
  },
  {
   "cell_type": "code",
   "execution_count": 17,
   "id": "9cad85bd",
   "metadata": {},
   "outputs": [
    {
     "name": "stdout",
     "output_type": "stream",
     "text": [
      "my name is vithu ,i am 21 years old\n"
     ]
    }
   ],
   "source": [
    "##Use formatted strings (f-strings)\n",
    "name=\"vithu\"\n",
    "age=21\n",
    "print(f\"my name is {name} ,i am {age} years old\")\n",
    "\n",
    "\n"
   ]
  },
  {
   "cell_type": "code",
   "execution_count": 24,
   "id": "bb32dcae",
   "metadata": {},
   "outputs": [
    {
     "name": "stdout",
     "output_type": "stream",
     "text": [
      "addition is :80\n",
      "subtraction is :-20\n",
      "muliplication is :1500\n",
      "division is :0.6\n"
     ]
    }
   ],
   "source": [
    "##Simple calculator using variables\n",
    "num1=30\n",
    "num2=50\n",
    "\n",
    "print(f\"addition is :{num1 +num2}\")\n",
    "print(f\"subtraction is :{num1-num2}\")\n",
    "print(f\"muliplication is :{num1*num2}\")\n",
    "print(f\"division is :{num1/num2}\")\n",
    "\n",
    "\n"
   ]
  },
  {
   "cell_type": "markdown",
   "id": "e774be7b",
   "metadata": {},
   "source": [
    " Python Syntax\n",
    " \n",
    "Python syntax is the set of rules that define how Python code should be written and structured so that the computer can understand and execute it."
   ]
  },
  {
   "cell_type": "markdown",
   "id": "f7ab0f2b",
   "metadata": {},
   "source": [
    "1.Print Statement"
   ]
  },
  {
   "cell_type": "code",
   "execution_count": null,
   "id": "c6747fd2",
   "metadata": {},
   "outputs": [
    {
     "name": "stdout",
     "output_type": "stream",
     "text": [
      "hello,world!\n"
     ]
    }
   ],
   "source": [
    "print(\"hello,world!\")"
   ]
  },
  {
   "cell_type": "markdown",
   "id": "39019b22",
   "metadata": {},
   "source": [
    "2. Indentation"
   ]
  },
  {
   "cell_type": "code",
   "execution_count": null,
   "id": "2bce6819",
   "metadata": {},
   "outputs": [
    {
     "name": "stdout",
     "output_type": "stream",
     "text": [
      "you are major\n"
     ]
    }
   ],
   "source": [
    "age = 21\n",
    "\n",
    "if age>=18:\n",
    "    print(\"you are major\")\n",
    "else:\n",
    "    print(\"you are not major\")\n"
   ]
  },
  {
   "cell_type": "markdown",
   "id": "ec75af41",
   "metadata": {},
   "source": [
    "3.Variables"
   ]
  },
  {
   "cell_type": "code",
   "execution_count": null,
   "id": "972e7c13",
   "metadata": {},
   "outputs": [
    {
     "name": "stdout",
     "output_type": "stream",
     "text": [
      "vithusha\n"
     ]
    }
   ],
   "source": [
    "name = \"vithusha\" ##name is a veriable\n",
    "print(name)"
   ]
  },
  {
   "cell_type": "markdown",
   "id": "4ffa4152",
   "metadata": {},
   "source": [
    "4.Comments"
   ]
  },
  {
   "cell_type": "code",
   "execution_count": null,
   "id": "15bfd0f0",
   "metadata": {},
   "outputs": [
    {
     "data": {
      "text/plain": [
       "'A multiline command is a command or\\n   block of code that spans\\n   more than one line    \\n                      '"
      ]
     },
     "metadata": {},
     "output_type": "display_data"
    }
   ],
   "source": [
    "## this is a single line command\n",
    "\n",
    "\"\"\"A multiline command is a command or\n",
    "   block of code that spans\n",
    "   more than one line    \n",
    "                      \"\"\""
   ]
  },
  {
   "cell_type": "markdown",
   "id": "0329ba32",
   "metadata": {},
   "source": [
    "5.Case Sensitive"
   ]
  },
  {
   "cell_type": "code",
   "execution_count": null,
   "id": "05f704f1",
   "metadata": {},
   "outputs": [
    {
     "name": "stdout",
     "output_type": "stream",
     "text": [
      "vithu\n",
      "mathu\n"
     ]
    }
   ],
   "source": [
    "name = \"vithu\"\n",
    "Name = \"mathu\"\n",
    "\n",
    "print(name)\n",
    "print(Name)"
   ]
  },
  {
   "cell_type": "markdown",
   "id": "b4a924b6",
   "metadata": {},
   "source": [
    "6.Function Definition"
   ]
  },
  {
   "cell_type": "code",
   "execution_count": null,
   "id": "0ba83f06",
   "metadata": {},
   "outputs": [
    {
     "name": "stdout",
     "output_type": "stream",
     "text": [
      "vithu\n"
     ]
    }
   ],
   "source": [
    "def myfun():return \"vithu\"\n",
    "name=myfun()\n",
    "print(name)\n",
    "\n"
   ]
  },
  {
   "cell_type": "markdown",
   "id": "66fd1dc7",
   "metadata": {},
   "source": [
    "Python Variables types"
   ]
  },
  {
   "cell_type": "code",
   "execution_count": null,
   "id": "0304eb1d",
   "metadata": {},
   "outputs": [
    {
     "name": "stdout",
     "output_type": "stream",
     "text": [
      "<class 'int'> 32\n",
      "<class 'str'> vithu\n",
      "<class 'float'> 38.9\n",
      "<class 'complex'> (4+0j)\n",
      "<class 'list'> ['dog', 'cat', 'rabbit', 'lion']\n",
      "<class 'tuple'> ('mango', 'apple', 'banana')\n",
      "<class 'set'> {'name:vithu', 'age:21', 'height:6.1'}\n",
      "<class 'set'> {'banana', 'mango', 'apple'}\n",
      "<class 'frozenset'> frozenset({'apple', 'orange', 'banana'})\n",
      "<class 'bool'> True\n"
     ]
    }
   ],
   "source": [
    "num1=32 #int\n",
    "name=\"vithu\" #str\n",
    "num2=38.9 #float\n",
    "num3=4+0j #complex\n",
    "num4=[\"dog\",\"cat\",\"rabbit\",\"lion\"] #list\n",
    "num5=(\"mango\",\"apple\",\"banana\") #tuple\n",
    "num6={\"name:vithu\",\"age:21\",\"height:6.1\"} #dict\n",
    "num7={'banana','apple','mango'} #set\n",
    "num8=frozenset({'apple','banana','orange'}) #frozenset\n",
    "num9=True #bool\n",
    "\n",
    "print(type(num1),num1)\n",
    "print(type(name),name)\n",
    "print(type(num2),num2)\n",
    "print(type(num3),num3)\n",
    "print(type(num4),num4)\n",
    "print(type(num5),num5)\n",
    "print(type(num6),num6)\n",
    "print(type(num7),num7)\n",
    "print(type(num8),num8)\n",
    "print(type(num9),num9)\n"
   ]
  },
  {
   "cell_type": "markdown",
   "id": "367c4c79",
   "metadata": {},
   "source": [
    "Variable Names"
   ]
  },
  {
   "cell_type": "code",
   "execution_count": null,
   "id": "7efd20f9",
   "metadata": {},
   "outputs": [
    {
     "name": "stdout",
     "output_type": "stream",
     "text": [
      "vithu\n",
      "vithu\n",
      "vithu\n",
      "vithu\n",
      "vithu\n",
      "vithu\n",
      "vithu\n"
     ]
    }
   ],
   "source": [
    "## these are different veriable names\n",
    "\n",
    "my_var = \"vithu\"\n",
    "myvar = \"vithu\"\n",
    "_my_var = \"vithu\"\n",
    "myVar = \"vithu\"\n",
    "Myvar = \"vithu\"\n",
    "MYVAR = \"vithu\"\n",
    "myvar3 = \"vithu\"\n",
    "\n",
    "print(my_var)\n",
    "print(myvar)\n",
    "print(_my_var)\n",
    "print(myVar)\n",
    "print(Myvar)\n",
    "print(MYVAR)\n",
    "print(myvar3)\n"
   ]
  },
  {
   "cell_type": "markdown",
   "id": "2b06045f",
   "metadata": {},
   "source": [
    "Many Values to Multiple Variables"
   ]
  },
  {
   "cell_type": "code",
   "execution_count": null,
   "id": "db16885f",
   "metadata": {},
   "outputs": [
    {
     "name": "stdout",
     "output_type": "stream",
     "text": [
      "orange\n",
      "mango\n",
      "apple\n",
      "orang mango apple\n",
      "orangmangoapple\n",
      "orang\n",
      "mango\n",
      "apple\n",
      "orang\n",
      "mango\n",
      "apple\n"
     ]
    }
   ],
   "source": [
    "x,y,z=\"orange\",\"mango\",\"apple\"\n",
    "print(x)\n",
    "print(y)\n",
    "print(z)\n",
    "\n",
    "## other print types\n",
    "x,y,z=\"orang\",\"mango\",\"apple\"\n",
    "print(x,y,z)\n",
    "\n",
    "x,y,z=\"orang\",\"mango\",\"apple\"\n",
    "print(x+y+z)\n",
    "\n",
    " ##is actually one line with multiple expressions, separated by commas\n",
    "x,y,z=\"orang\",\"mango\",\"apple\"\n",
    "print(x),print(y),print(z)\n",
    "\n",
    "##fix this code\n",
    "x,y,z=\"orang\",\"mango\",\"apple\"\n",
    "print(x)\n",
    "print(y)\n",
    "print(z)\n"
   ]
  },
  {
   "cell_type": "markdown",
   "id": "5c12a79e",
   "metadata": {},
   "source": [
    "One Value to Multiple Variables"
   ]
  },
  {
   "cell_type": "code",
   "execution_count": null,
   "id": "161f9faa",
   "metadata": {},
   "outputs": [
    {
     "name": "stdout",
     "output_type": "stream",
     "text": [
      "Orange\n",
      "Orange\n",
      "Orange\n"
     ]
    }
   ],
   "source": [
    "x = y = z = \"Orange\"\n",
    "print(x)\n",
    "print(y)\n",
    "print(z)"
   ]
  },
  {
   "cell_type": "markdown",
   "id": "de866989",
   "metadata": {},
   "source": [
    "Unpack a Collection"
   ]
  },
  {
   "cell_type": "code",
   "execution_count": null,
   "id": "b679190f",
   "metadata": {},
   "outputs": [
    {
     "name": "stdout",
     "output_type": "stream",
     "text": [
      "apple\n",
      "banana\n",
      "cherry\n"
     ]
    }
   ],
   "source": [
    "fruits = [\"apple\", \"banana\", \"cherry\"]\n",
    "x, y, z = fruits\n",
    "print(x)\n",
    "print(y)\n",
    "print(z)"
   ]
  },
  {
   "cell_type": "markdown",
   "id": "f5a52e1d",
   "metadata": {},
   "source": [
    "### data types and type conversion\n"
   ]
  },
  {
   "cell_type": "markdown",
   "id": "1358a1dd",
   "metadata": {},
   "source": [
    "What are the basic data types in Python? Give examples."
   ]
  },
  {
   "cell_type": "code",
   "execution_count": 36,
   "id": "53d79b49",
   "metadata": {},
   "outputs": [
    {
     "name": "stdout",
     "output_type": "stream",
     "text": [
      "34\n",
      "45.6\n",
      "vithu\n",
      "(5+0j)\n",
      "{'C', 'B', 'A', 'D'}\n",
      "('A', 'B', 'C', 'D')\n",
      "{'Name': 'vithu', 'age': 21}\n",
      "True\n"
     ]
    }
   ],
   "source": [
    "print(int(34))\n",
    "print(float(45.6))\n",
    "print(str(\"vithu\"))\n",
    "print(complex(5))\n",
    "print(set(\"ABCD\"))\n",
    "print(tuple(\"ABCD\"))\n",
    "print(dict(Name=\"vithu\"  ,age=21))\n",
    "print(bool(5))"
   ]
  },
  {
   "cell_type": "markdown",
   "id": "e4f27408",
   "metadata": {},
   "source": [
    "What is the output of the following code?"
   ]
  },
  {
   "cell_type": "code",
   "execution_count": 28,
   "id": "728c504f",
   "metadata": {},
   "outputs": [
    {
     "name": "stdout",
     "output_type": "stream",
     "text": [
      "<class 'int'>\n"
     ]
    }
   ],
   "source": [
    "x=10\n",
    "print(type(x))  ## <class 'int'>"
   ]
  },
  {
   "cell_type": "markdown",
   "id": "a06a505a",
   "metadata": {},
   "source": [
    "Which data type is used to store text in Python?"
   ]
  },
  {
   "cell_type": "code",
   "execution_count": 30,
   "id": "b868d4ef",
   "metadata": {},
   "outputs": [
    {
     "name": "stdout",
     "output_type": "stream",
     "text": [
      "<class 'str'>\n"
     ]
    }
   ],
   "source": [
    "## we have to use data type is string\n",
    "txt=\"my name is vithu\"\n",
    "print(type(txt))"
   ]
  },
  {
   "cell_type": "markdown",
   "id": "43550328",
   "metadata": {},
   "source": [
    "What is the difference between int and float?"
   ]
  },
  {
   "cell_type": "code",
   "execution_count": 1,
   "id": "4f9fbb25",
   "metadata": {},
   "outputs": [
    {
     "name": "stdout",
     "output_type": "stream",
     "text": [
      "<class 'int'> 34\n",
      "<class 'float'> 34.5\n"
     ]
    }
   ],
   "source": [
    "## int :whole numbers(1,2,3.....)\n",
    "int_num=34\n",
    "print(type(int_num),int_num)\n",
    "## float :decimal numbers(1.1,1.2,1.3,...)\n",
    "float_num=34.5\n",
    "print(type(float_num),float_num)"
   ]
  },
  {
   "cell_type": "markdown",
   "id": "116e3c10",
   "metadata": {},
   "source": [
    "Write a Python program to convert a string to an integer."
   ]
  },
  {
   "cell_type": "code",
   "execution_count": 42,
   "id": "646170a9",
   "metadata": {},
   "outputs": [
    {
     "name": "stdout",
     "output_type": "stream",
     "text": [
      "234\n"
     ]
    }
   ],
   "source": [
    "string=\"234\"\n",
    "print(int(string))"
   ]
  },
  {
   "cell_type": "markdown",
   "id": "6e50c704",
   "metadata": {},
   "source": [
    "What is the output of this code?"
   ]
  },
  {
   "cell_type": "code",
   "execution_count": 43,
   "id": "41209cb8",
   "metadata": {},
   "outputs": [
    {
     "name": "stdout",
     "output_type": "stream",
     "text": [
      "3\n"
     ]
    }
   ],
   "source": [
    "x=3.24\n",
    "y=int(x)\n",
    "print(y)  ##3\n"
   ]
  },
  {
   "cell_type": "markdown",
   "id": "84abb2e7",
   "metadata": {},
   "source": [
    "How can you convert an integer to a string in Python?"
   ]
  },
  {
   "cell_type": "code",
   "execution_count": 48,
   "id": "f5463ec9",
   "metadata": {},
   "outputs": [
    {
     "name": "stdout",
     "output_type": "stream",
     "text": [
      "56\n"
     ]
    }
   ],
   "source": [
    "int_num=56\n",
    "print(str(int_num))"
   ]
  },
  {
   "cell_type": "markdown",
   "id": "fe526fba",
   "metadata": {},
   "source": [
    "What data type is returned by input() function?"
   ]
  },
  {
   "cell_type": "code",
   "execution_count": null,
   "id": "d0752dc4",
   "metadata": {},
   "outputs": [
    {
     "name": "stdout",
     "output_type": "stream",
     "text": [
      "<class 'str'> vithu\n"
     ]
    }
   ],
   "source": [
    "name=input(\"enter the name?\")  ## str\n",
    "print(type(name),name)"
   ]
  },
  {
   "cell_type": "markdown",
   "id": "5edb8592",
   "metadata": {},
   "source": [
    "What is the output of this code?"
   ]
  },
  {
   "cell_type": "code",
   "execution_count": 52,
   "id": "895404d9",
   "metadata": {},
   "outputs": [
    {
     "name": "stdout",
     "output_type": "stream",
     "text": [
      "<class 'int'>\n"
     ]
    }
   ],
   "source": [
    "x=\"100\"\n",
    "y=int(x)\n",
    "print(type(y))  ##<class 'int'>"
   ]
  },
  {
   "cell_type": "markdown",
   "id": "4d49b0cb",
   "metadata": {},
   "source": [
    "What is type casting in Python? Explain with an example."
   ]
  },
  {
   "cell_type": "code",
   "execution_count": 56,
   "id": "9233d5a0",
   "metadata": {},
   "outputs": [
    {
     "name": "stdout",
     "output_type": "stream",
     "text": [
      "45\n",
      "34\n",
      "45\n"
     ]
    }
   ],
   "source": [
    "## str,int,float\n",
    "str_var=\"45\"\n",
    "int_var=34\n",
    "float_var=45.3\n",
    "print(int(str_var))\n",
    "print(str(int_var))\n",
    "print(int(float_var))"
   ]
  },
  {
   "cell_type": "markdown",
   "id": "b2ea4726",
   "metadata": {},
   "source": [
    "How do you convert a float to a string?"
   ]
  },
  {
   "cell_type": "code",
   "execution_count": 57,
   "id": "6e09c675",
   "metadata": {},
   "outputs": [
    {
     "name": "stdout",
     "output_type": "stream",
     "text": [
      "45.6\n"
     ]
    }
   ],
   "source": [
    "float_var=45.6\n",
    "print(str(float_var))"
   ]
  },
  {
   "cell_type": "markdown",
   "id": "602c57b8",
   "metadata": {},
   "source": [
    "Write a program to take a user’s input (as string) and convert it into float."
   ]
  },
  {
   "cell_type": "code",
   "execution_count": 60,
   "id": "77d2ba50",
   "metadata": {},
   "outputs": [
    {
     "name": "stdout",
     "output_type": "stream",
     "text": [
      "<class 'int'> 21\n",
      "<class 'float'> 21.0\n"
     ]
    }
   ],
   "source": [
    "age=int(input(\"enter your age:\"))\n",
    "print(type(age),age)\n",
    "\n",
    "age=float(input(\"enter your age:\"))\n",
    "print(type(age),age)"
   ]
  },
  {
   "cell_type": "markdown",
   "id": "e3dd3a90",
   "metadata": {},
   "source": [
    "How can you check the data type of a variable in Python?\n"
   ]
  },
  {
   "cell_type": "code",
   "execution_count": 2,
   "id": "6e372ceb",
   "metadata": {},
   "outputs": [
    {
     "name": "stdout",
     "output_type": "stream",
     "text": [
      "<class 'str'> vithu\n",
      "<class 'int'> 21\n",
      "<class 'float'> 6.9\n",
      "<class 'int'> 48\n"
     ]
    }
   ],
   "source": [
    "name=\"vithu\"\n",
    "age=21\n",
    "height=6.9\n",
    "weight=48\n",
    "\n",
    "print(type(name),name)\n",
    "print(type(age),age)\n",
    "print(type(height),height)\n",
    "print(type(weight),weight)"
   ]
  },
  {
   "cell_type": "markdown",
   "id": "c5c6d591",
   "metadata": {},
   "source": [
    "What will be the result of this code?"
   ]
  },
  {
   "cell_type": "code",
   "execution_count": 65,
   "id": "14810e3a",
   "metadata": {},
   "outputs": [
    {
     "name": "stdout",
     "output_type": "stream",
     "text": [
      "555\n"
     ]
    }
   ],
   "source": [
    "a=\"5\"\n",
    "b=3\n",
    "print(a*b) ##555"
   ]
  },
  {
   "cell_type": "markdown",
   "id": "f05b7bd5",
   "metadata": {},
   "source": [
    "Convert a boolean value True to an integer. What will be the result?"
   ]
  },
  {
   "cell_type": "code",
   "execution_count": 70,
   "id": "1510b8d3",
   "metadata": {},
   "outputs": [
    {
     "name": "stdout",
     "output_type": "stream",
     "text": [
      "1\n"
     ]
    }
   ],
   "source": [
    "bool_value=True\n",
    "print(int(bool_value))  ## 1"
   ]
  },
  {
   "cell_type": "markdown",
   "id": "a41dce48",
   "metadata": {},
   "source": [
    "What is the result of the following code?"
   ]
  },
  {
   "cell_type": "code",
   "execution_count": 74,
   "id": "fb66d4eb",
   "metadata": {},
   "outputs": [
    {
     "name": "stdout",
     "output_type": "stream",
     "text": [
      "10\n",
      "34\n"
     ]
    }
   ],
   "source": [
    "print(int(10.5))  ##10\n",
    "print(int(\"34\"))  ##34"
   ]
  },
  {
   "cell_type": "markdown",
   "id": "006c7819",
   "metadata": {},
   "source": [
    "Write a program that converts a list to a tuple."
   ]
  },
  {
   "cell_type": "code",
   "execution_count": 75,
   "id": "38b2b5c7",
   "metadata": {},
   "outputs": [
    {
     "name": "stdout",
     "output_type": "stream",
     "text": [
      "(1, 2, 3, 4, 5, 6, 7)\n"
     ]
    }
   ],
   "source": [
    "lis=[1,2,3,4,5,6,7]\n",
    "print(tuple(lis))"
   ]
  },
  {
   "cell_type": "markdown",
   "id": "2bc40372",
   "metadata": {},
   "source": [
    "Explain the difference between isinstance() and type() with examples."
   ]
  },
  {
   "cell_type": "code",
   "execution_count": null,
   "id": "f3c06e67",
   "metadata": {},
   "outputs": [
    {
     "name": "stdout",
     "output_type": "stream",
     "text": [
      "True\n",
      "<class 'str'>\n"
     ]
    }
   ],
   "source": [
    "## isinstance print data type True or false\n",
    "int_num=34\n",
    "print(isinstance(int_num,int))\n",
    "\n",
    "## type is print data type\n",
    "name=\"raha\"\n",
    "print(type(name))"
   ]
  },
  {
   "cell_type": "markdown",
   "id": "db86b4f2",
   "metadata": {},
   "source": [
    "What is the output of this code? Explain why."
   ]
  },
  {
   "cell_type": "code",
   "execution_count": 78,
   "id": "5ccee0d0",
   "metadata": {},
   "outputs": [
    {
     "name": "stdout",
     "output_type": "stream",
     "text": [
      "<class 'float'>\n",
      "<class 'int'>\n"
     ]
    }
   ],
   "source": [
    "print(type(3/2))   ##float\n",
    "print(type(3//2))  ##int"
   ]
  },
  {
   "cell_type": "markdown",
   "id": "9c76feb6",
   "metadata": {},
   "source": [
    "How do you convert a string like \"['a', 'b', 'c']\" into a real Python list?"
   ]
  },
  {
   "cell_type": "code",
   "execution_count": 94,
   "id": "7a2ce69a",
   "metadata": {},
   "outputs": [
    {
     "name": "stdout",
     "output_type": "stream",
     "text": [
      "['a','b','c']\n"
     ]
    }
   ],
   "source": [
    "str_list=\"['a','b','c']\"\n",
    "print(str(str_list))"
   ]
  },
  {
   "cell_type": "markdown",
   "id": "8f1a8272",
   "metadata": {},
   "source": [
    "Write a function that accepts a mixed list of strings and numbers and returns only the integers."
   ]
  },
  {
   "cell_type": "code",
   "execution_count": 23,
   "id": "07d91f90",
   "metadata": {},
   "outputs": [
    {
     "data": {
      "text/plain": [
       "[1, True, 34, 90]"
      ]
     },
     "execution_count": 23,
     "metadata": {},
     "output_type": "execute_result"
    }
   ],
   "source": [
    "\n",
    "mix=[1,2.3,\"vithu\",True,34,\"kamala\",90]\n",
    "def mix_list(mix):\n",
    "    return[item for item in mix if isinstance(item,int)]\n",
    "mix_list(mix)"
   ]
  },
  {
   "cell_type": "markdown",
   "id": "076eef4c",
   "metadata": {},
   "source": [
    "What is the result of this code?"
   ]
  },
  {
   "cell_type": "code",
   "execution_count": 25,
   "id": "f864b6f9",
   "metadata": {},
   "outputs": [
    {
     "name": "stdout",
     "output_type": "stream",
     "text": [
      "<class 'NoneType'>\n"
     ]
    }
   ],
   "source": [
    "x = None\n",
    "print(type(x))##<class 'nonetype'>\n"
   ]
  },
  {
   "cell_type": "markdown",
   "id": "98058018",
   "metadata": {},
   "source": [
    "How to safely convert a string to an integer without throwing an error if conversion fails?"
   ]
  },
  {
   "cell_type": "code",
   "execution_count": 15,
   "id": "d0e17c6c",
   "metadata": {},
   "outputs": [
    {
     "data": {
      "text/plain": [
       "'45'"
      ]
     },
     "execution_count": 15,
     "metadata": {},
     "output_type": "execute_result"
    }
   ],
   "source": [
    "\n",
    "def conversion(name):\n",
    "    return str(name) if name.isdigit() else None\n",
    "conversion(\"45\")"
   ]
  },
  {
   "cell_type": "markdown",
   "id": "f5c3b185",
   "metadata": {},
   "source": [
    "What happens when you convert a string with letters like \"abc\" into an integer?"
   ]
  },
  {
   "cell_type": "code",
   "execution_count": 3,
   "id": "e777fb06",
   "metadata": {},
   "outputs": [
    {
     "data": {
      "text/plain": [
       "[23, 43, True]"
      ]
     },
     "execution_count": 3,
     "metadata": {},
     "output_type": "execute_result"
    }
   ],
   "source": [
    "mix=[23,5.4,\"naem\",43,True,3.4]\n",
    "def check(mix):\n",
    "    return[item for item in mix if isinstance(item,int)]\n",
    "check(mix)"
   ]
  },
  {
   "cell_type": "code",
   "execution_count": 5,
   "id": "8b18655d",
   "metadata": {},
   "outputs": [
    {
     "data": {
      "text/plain": [
       "[23, 43, True]"
      ]
     },
     "execution_count": 5,
     "metadata": {},
     "output_type": "execute_result"
    }
   ],
   "source": [
    "check(mix)"
   ]
  },
  {
   "cell_type": "markdown",
   "id": "706bdafc",
   "metadata": {},
   "source": [
    "**Write a program to convert:\n",
    "\n",
    "string → list\n",
    "\n",
    "list → string**"
   ]
  },
  {
   "cell_type": "code",
   "execution_count": null,
   "id": "33f5088e",
   "metadata": {},
   "outputs": [
    {
     "data": {
      "text/plain": [
       "['v', 'i', 't', 'h', 'u']"
      ]
     },
     "execution_count": 16,
     "metadata": {},
     "output_type": "execute_result"
    }
   ],
   "source": [
    "##string to list\n",
    "def conversion(name):\n",
    "    return list(name) \n",
    "conversion(\"vithu\")"
   ]
  },
  {
   "cell_type": "code",
   "execution_count": 31,
   "id": "ec86bc93",
   "metadata": {},
   "outputs": [
    {
     "data": {
      "text/plain": [
       "\"['kala', 'pala', 'mala']\""
      ]
     },
     "execution_count": 31,
     "metadata": {},
     "output_type": "execute_result"
    }
   ],
   "source": [
    "##list to string\n",
    "def conversion(lis):\n",
    "    return str(lis)\n",
    "conversion(lis=[\"kala\",\"pala\",\"mala\"])"
   ]
  },
  {
   "cell_type": "markdown",
   "id": "a5a061dc",
   "metadata": {},
   "source": [
    "Convert the following dictionary values to a list:"
   ]
  },
  {
   "cell_type": "code",
   "execution_count": 30,
   "id": "58e3ecc9",
   "metadata": {},
   "outputs": [
    {
     "data": {
      "text/plain": [
       "['a', 'b', 'c']"
      ]
     },
     "execution_count": 30,
     "metadata": {},
     "output_type": "execute_result"
    }
   ],
   "source": [
    "def conversion(my_dict):\n",
    "   return list(my_dict)\n",
    "conversion(my_dict = {'a': 1, 'b': 2, 'c': 3})"
   ]
  },
  {
   "cell_type": "code",
   "execution_count": 4,
   "id": "e14c5e70",
   "metadata": {},
   "outputs": [
    {
     "name": "stdout",
     "output_type": "stream",
     "text": [
      "[6, 19, 20, 11, 1, 8, 5, 4, 15, 16, 11, 16, 3, 18, 18]\n",
      "[20, 19, 18, 18, 16, 16, 15, 11, 11, 8, 6, 5, 4, 3, 1]\n",
      "[1, 3, 4, 5, 6, 8, 11, 11, 15, 16, 16, 18, 18, 19, 20]\n",
      "{1, 3, 4, 5, 6, 8, 11, 15, 16, 18, 19, 20}\n"
     ]
    }
   ],
   "source": [
    "import random\n",
    "\n",
    "r_list=[random.randint(1,20) for _ in range(15)]\n",
    "print(r_list)\n",
    "\n",
    "a_list=sorted(r_list,reverse=True)\n",
    "print(a_list)\n",
    "\n",
    "d_list=sorted(r_list,reverse=False)\n",
    "print(d_list)\n",
    "\n",
    "remove=set(r_list)\n",
    "print(remove)"
   ]
  },
  {
   "cell_type": "code",
   "execution_count": 7,
   "id": "2083e8c0",
   "metadata": {},
   "outputs": [
    {
     "name": "stdout",
     "output_type": "stream",
     "text": [
      "matix:\n",
      "[1, 2, 3]\n",
      "[4, 5, 6]\n",
      "[7, 8, 9]\n",
      "2row and 3colum:6\n"
     ]
    }
   ],
   "source": [
    "matix=[\n",
    "    [1,2,3],\n",
    "    [4,5,6],\n",
    "    [7,8,9]\n",
    "]\n",
    "print(\"matix:\")\n",
    "for row in matix:\n",
    "    print(row)\n",
    "print(f\"2row and 3colum:{matix[1][2]}\")"
   ]
  },
  {
   "cell_type": "code",
   "execution_count": 14,
   "id": "2e5d9104",
   "metadata": {},
   "outputs": [
    {
     "name": "stdout",
     "output_type": "stream",
     "text": [
      "descending order:\n",
      "{'name': 'mathu', 'score': '98'}\n",
      "{'name': 'vithu', 'score': '89'}\n",
      "{'name': 'tithu', 'score': '78'}\n",
      "{'name': 'kithu', 'score': '58'}\n",
      "{'name': 'pathu', 'score': '58'}\n"
     ]
    }
   ],
   "source": [
    "dictonary=[\n",
    "    {'name':'vithu' , 'score':'89'},\n",
    "    {'name':'mathu' , 'score': '98'},\n",
    "    {'name':'tithu' , 'score': '78'},\n",
    "    {'name':'kithu' , 'score': '58'},\n",
    "    {'name':'pathu' , 'score': '58'}\n",
    "]\n",
    "print(\"descending order:\")\n",
    "\n",
    "order=sorted(dictonary,key=lambda x:x['score'],reverse=True)\n",
    "for row in order:\n",
    "    print(row)"
   ]
  },
  {
   "cell_type": "code",
   "execution_count": 20,
   "id": "eb8fa959",
   "metadata": {},
   "outputs": [
    {
     "name": "stdout",
     "output_type": "stream",
     "text": [
      "original matix:\n",
      "[1, 2, 3]\n",
      "[4, 5, 6]\n",
      "[7, 8, 9]\n",
      "transport_matix:\n",
      "[1, 4, 7]\n",
      "[2, 5, 8]\n",
      "[3, 6, 9]\n"
     ]
    }
   ],
   "source": [
    "def myfun(matix):\n",
    "    transpose=[[0 for _ in range(3)] for _ in range (3)]\n",
    "\n",
    "    for i in range(3):\n",
    "        for j in range(3):\n",
    "            transpose[j][i]=matix[i][j]\n",
    "\n",
    "    return transpose\n",
    "\n",
    "original=[\n",
    "    [1,2,3],\n",
    "    [4,5,6],\n",
    "    [7,8,9]\n",
    "]\n",
    "\n",
    "transport_matix=myfun(original)\n",
    "\n",
    "print(\"original matix:\")\n",
    "for row in original:\n",
    " print(row)\n",
    "\n",
    "print(\"transport_matix:\")\n",
    "for roww in transport_matix:\n",
    "   print(roww)"
   ]
  },
  {
   "cell_type": "code",
   "execution_count": 25,
   "id": "cb1f29fb",
   "metadata": {},
   "outputs": [
    {
     "name": "stdout",
     "output_type": "stream",
     "text": [
      "[[1, 2, 3], [4, 5, 6], [5, 4, 7, 8], [9, 8, 7]]\n",
      "[1, 2, 3, 4, 5, 6, 5, 4, 7, 8, 9, 8, 7]\n"
     ]
    }
   ],
   "source": [
    "def myfun(flatten):\n",
    "    e_list=[]\n",
    "    for sublist in flatten:\n",
    "        for item in sublist:\n",
    "            e_list.append(item)\n",
    "    return e_list\n",
    "\n",
    "original=[[1,2,3],[4,5,6],[5,4,7,8],[9,8,7]]\n",
    "\n",
    "flatten=myfun(original)\n",
    "\n",
    "print(original)\n",
    "print(flatten)\n"
   ]
  },
  {
   "cell_type": "code",
   "execution_count": 26,
   "id": "f31279b4",
   "metadata": {},
   "outputs": [
    {
     "name": "stdout",
     "output_type": "stream",
     "text": [
      "[1, 2, 4, 6, 7, 8, 9, 10]\n"
     ]
    }
   ],
   "source": [
    "list_int=[1,2,3,4,5,6,7,8,9,10]\n",
    "\n",
    "for index in sorted([2,4],reverse=True):\n",
    "     list_int.pop(index)\n",
    "\n",
    "print(list_int)"
   ]
  },
  {
   "cell_type": "code",
   "execution_count": 28,
   "id": "610e9a2e",
   "metadata": {},
   "outputs": [
    {
     "name": "stdout",
     "output_type": "stream",
     "text": [
      "[('vithu', 90), ('mathu', 80), ('saraa', 70), ('kithu', 60)]\n"
     ]
    }
   ],
   "source": [
    "list1=[\"vithu\",\"mathu\",\"saraa\",\"kithu\"]\n",
    "list2=[90,80,70,60]\n",
    "\n",
    "ziped=zip(list1,list2)\n",
    "print(list(ziped))"
   ]
  },
  {
   "cell_type": "code",
   "execution_count": 29,
   "id": "51ed3a2e",
   "metadata": {},
   "outputs": [
    {
     "name": "stdout",
     "output_type": "stream",
     "text": [
      "[60, 70, 80, 90]\n"
     ]
    }
   ],
   "source": [
    "list2=[90,80,70,60]\n",
    "print(list2[::-1])"
   ]
  },
  {
   "cell_type": "code",
   "execution_count": 33,
   "id": "29015f0c",
   "metadata": {},
   "outputs": [
    {
     "name": "stdout",
     "output_type": "stream",
     "text": [
      "[4, 5, 6, 7, 1, 2, 3]\n"
     ]
    }
   ],
   "source": [
    "def rotation(list1,n):\n",
    "    n=n%len(list1)\n",
    "    rotated=list1[n:]+list1[:n]\n",
    "    \n",
    "    return rotated\n",
    "n=3\n",
    "list2=[1,2,3,4,5,6,7]\n",
    "\n",
    "rotation_list=rotation(list2,n)\n",
    "print(rotation_list)"
   ]
  },
  {
   "cell_type": "code",
   "execution_count": 37,
   "id": "79e0082f",
   "metadata": {},
   "outputs": [
    {
     "name": "stdout",
     "output_type": "stream",
     "text": [
      "[4, 5]\n"
     ]
    }
   ],
   "source": [
    "def myfun(list1,list2):\n",
    "    int_list=[]\n",
    "    for item in list1:\n",
    "        if item in list2:\n",
    "            int_list.append(item)\n",
    "\n",
    "    return int_list\n",
    "\n",
    "list1=[1,2,3,4,5]\n",
    "list2=[4,5,6,7,8]\n",
    "\n",
    "list_interction=myfun(list1,list2)\n",
    "\n",
    "print(list_interction)\n"
   ]
  },
  {
   "cell_type": "code",
   "execution_count": 2,
   "id": "d77b6f1b",
   "metadata": {},
   "outputs": [
    {
     "name": "stdout",
     "output_type": "stream",
     "text": [
      "(45+0j)\n",
      "23\n",
      "45.0\n"
     ]
    }
   ],
   "source": [
    "int_n=23.12\n",
    "num=45\n",
    "print(complex(num))\n",
    "print(int(int_n))\n",
    "print(float(num))"
   ]
  },
  {
   "cell_type": "code",
   "execution_count": 11,
   "id": "f07824b5",
   "metadata": {},
   "outputs": [
    {
     "name": "stdout",
     "output_type": "stream",
     "text": [
      "Hello world!\n",
      "hello world!\n",
      "hello world!\n",
      "['hello', 'world!']\n"
     ]
    }
   ],
   "source": [
    "str_list=\"hello world!\"\n",
    "print(str_list.capitalize())\n",
    "print(str_list.casefold())\n",
    "print(str_list.strip())\n",
    "print(str_list.split())"
   ]
  },
  {
   "cell_type": "code",
   "execution_count": 24,
   "id": "c1eba61a",
   "metadata": {},
   "outputs": [
    {
     "name": "stdout",
     "output_type": "stream",
     "text": [
      "i love's to study \"math\" and \"coding\"!\n",
      "I Love'S To Study \"Math\" And \"Coding\"!\n",
      "I love's to study \"math\" and \"coding\"!\n"
     ]
    }
   ],
   "source": [
    "txt=\"i love\\'s to study \\\"math\\\" and \\\"coding\\\"!\"\n",
    "print(txt)\n",
    "print(txt.title())\n",
    "print(txt.capitalize())"
   ]
  },
  {
   "cell_type": "code",
   "execution_count": 1,
   "id": "73cd8af6",
   "metadata": {},
   "outputs": [
    {
     "name": "stdout",
     "output_type": "stream",
     "text": [
      "True\n",
      "False\n",
      "True\n",
      "True\n"
     ]
    }
   ],
   "source": [
    "text = \"Hello World\"\n",
    "\n",
    "print(text.endswith(\"World\"))   # True\n",
    "print(text.endswith(\"world\"))   # False (case-sensitive)\n",
    "print(text.endswith(\"o\", 0, 5)) # True (checking only \"Hello\")\n",
    "print(text.endswith((\"World\", \"Earth\")))  # True (tuple check)\n",
    "\n"
   ]
  },
  {
   "cell_type": "markdown",
   "id": "02bd664c",
   "metadata": {},
   "source": [
    "#### 12.python loop control"
   ]
  },
  {
   "cell_type": "code",
   "execution_count": 2,
   "id": "5bb99c7e",
   "metadata": {},
   "outputs": [
    {
     "name": "stdout",
     "output_type": "stream",
     "text": [
      "0\n",
      "1\n",
      "2\n"
     ]
    }
   ],
   "source": [
    "### break \n",
    "for i in range(5):\n",
    "    if i == 3: \n",
    "       break\n",
    "    else:\n",
    "       print(i)"
   ]
  },
  {
   "cell_type": "code",
   "execution_count": 7,
   "id": "ba83ddff",
   "metadata": {},
   "outputs": [
    {
     "name": "stdout",
     "output_type": "stream",
     "text": [
      "0\n",
      "1\n",
      "2\n",
      "3\n",
      "4\n",
      "5\n"
     ]
    }
   ],
   "source": [
    "### continue\n",
    "for i in range(6):\n",
    "    if i == \"4\":\n",
    "        continue\n",
    "    else:\n",
    "        print(i)"
   ]
  },
  {
   "cell_type": "code",
   "execution_count": 12,
   "id": "b1eeb903",
   "metadata": {},
   "outputs": [
    {
     "name": "stdout",
     "output_type": "stream",
     "text": [
      "0\n",
      "1\n",
      "2\n",
      "4\n",
      "5\n",
      "6\n"
     ]
    }
   ],
   "source": [
    "### pass\n",
    "for i in range(7):\n",
    "    if i == 3:\n",
    "        pass\n",
    "    else:\n",
    "        print(i)"
   ]
  },
  {
   "cell_type": "markdown",
   "id": "536adfa3",
   "metadata": {},
   "source": [
    "### 13.lists"
   ]
  },
  {
   "cell_type": "code",
   "execution_count": 33,
   "id": "2091590b",
   "metadata": {},
   "outputs": [
    {
     "name": "stdout",
     "output_type": "stream",
     "text": [
      "['apple', 'banana', 'orange', 'apple']\n",
      "2\n",
      "['apple', 'orange', 'banana', 'apple']\n",
      "['apple', 'banana', 'orange', 'apple', 34, 23]\n",
      "['apple', 'banana', 44, 'orange', 'apple', 34, 23]\n",
      "['apple', 44, 'orange', 'apple', 34, 23]\n",
      "['apple', 44, 'orange', 'apple', 34]\n",
      "4\n",
      "2\n",
      "5\n"
     ]
    }
   ],
   "source": [
    "lis = [\"apple\",\"banana\",\"orange\"]\n",
    "lis.append(\"apple\") \n",
    "print(lis)\n",
    "print(lis.count(\"apple\"))\n",
    "print(lis[::-1])\n",
    "lis.extend([34,23]) ## add multiple items\n",
    "print(lis)\n",
    "lis.insert(2,44)\n",
    "print(lis)\n",
    "lis.remove(\"banana\")\n",
    "print(lis)\n",
    "lis.pop()\n",
    "print(lis)\n",
    "print(lis.index(34))\n",
    "print(lis.count(\"apple\"))\n",
    "print(len(lis))"
   ]
  },
  {
   "cell_type": "markdown",
   "id": "ac9bb5c1",
   "metadata": {},
   "source": [
    "####  python exercise"
   ]
  },
  {
   "cell_type": "markdown",
   "id": "6d2afa80",
   "metadata": {},
   "source": [
    "#### 1. Variables\n",
    "\n",
    "Create three variables: name, age, city. Print them in one line."
   ]
  },
  {
   "cell_type": "code",
   "execution_count": 1,
   "id": "026c4995",
   "metadata": {},
   "outputs": [
    {
     "name": "stdout",
     "output_type": "stream",
     "text": [
      "vithu 21 srilanka\n"
     ]
    }
   ],
   "source": [
    "name = \"vithu\"\n",
    "age = \"21\"\n",
    "city = \"srilanka\"\n",
    "\n",
    "print(name,age,city)"
   ]
  },
  {
   "cell_type": "markdown",
   "id": "b3c89a80",
   "metadata": {},
   "source": [
    "#### 2.Swap the values of two variables without using a third variable."
   ]
  },
  {
   "cell_type": "code",
   "execution_count": 2,
   "id": "a6acb182",
   "metadata": {},
   "outputs": [
    {
     "name": "stdout",
     "output_type": "stream",
     "text": [
      "orange juse\n"
     ]
    }
   ],
   "source": [
    "var1 = \"orange\"\n",
    "var2 = \"juse\"\n",
    "print(var1 + \" \" + var2)"
   ]
  },
  {
   "cell_type": "markdown",
   "id": "14d0bebd",
   "metadata": {},
   "source": [
    "#### 3.Assign the same value to three different variables in a single line"
   ]
  },
  {
   "cell_type": "code",
   "execution_count": 3,
   "id": "fa99c894",
   "metadata": {},
   "outputs": [
    {
     "name": "stdout",
     "output_type": "stream",
     "text": [
      "apple orange mango\n"
     ]
    }
   ],
   "source": [
    "a,b,c =\"apple\",\"orange\",\"mango\"\n",
    "\n",
    "print(a,b,c)"
   ]
  },
  {
   "cell_type": "markdown",
   "id": "41a4dc04",
   "metadata": {},
   "source": [
    "#### 2. Data Types\n",
    "\n",
    "Check the type of 10, 3.14, 'hello', and [1, 2, 3]."
   ]
  },
  {
   "cell_type": "code",
   "execution_count": 4,
   "id": "215be37d",
   "metadata": {},
   "outputs": [
    {
     "name": "stdout",
     "output_type": "stream",
     "text": [
      "<class 'int'>\n",
      "<class 'float'>\n",
      "<class 'str'>\n",
      "<class 'list'>\n"
     ]
    }
   ],
   "source": [
    "print(type(10))\n",
    "print(type(3.14))\n",
    "print(type(\"hello\"))\n",
    "print(type([1,2,3]))"
   ]
  },
  {
   "cell_type": "markdown",
   "id": "7f7cd956",
   "metadata": {},
   "source": [
    "#### 2.Create a list that contains at least one element of each data type."
   ]
  },
  {
   "cell_type": "code",
   "execution_count": 5,
   "id": "fdc4ddab",
   "metadata": {},
   "outputs": [
    {
     "name": "stdout",
     "output_type": "stream",
     "text": [
      "[23, 2.4, 'hello', [1, 2, 3], (3, 4, 5)]\n"
     ]
    }
   ],
   "source": [
    "lis = [23,2.4,\"hello\",[1,2,3],(3,4,5)]\n",
    "print(lis)"
   ]
  },
  {
   "cell_type": "markdown",
   "id": "8b21d5cd",
   "metadata": {},
   "source": [
    "#### 3.Predict and check the type of True + 5."
   ]
  },
  {
   "cell_type": "code",
   "execution_count": 7,
   "id": "4a451f36",
   "metadata": {},
   "outputs": [
    {
     "name": "stdout",
     "output_type": "stream",
     "text": [
      "6\n",
      "<class 'int'>\n"
     ]
    }
   ],
   "source": [
    "a = 5\n",
    "b = True  ## 1\n",
    "print(a+b)\n",
    "print(type(a+b))"
   ]
  },
  {
   "cell_type": "markdown",
   "id": "787ad318",
   "metadata": {},
   "source": [
    "3. Type Conversion\n",
    "\n",
    "Convert a float 12.56 to integer."
   ]
  },
  {
   "cell_type": "code",
   "execution_count": 8,
   "id": "e8ace9c0",
   "metadata": {},
   "outputs": [
    {
     "name": "stdout",
     "output_type": "stream",
     "text": [
      "12\n"
     ]
    }
   ],
   "source": [
    "print(int(12.56))"
   ]
  },
  {
   "cell_type": "markdown",
   "id": "3405731e",
   "metadata": {},
   "source": [
    "#### Convert the string \"123\" to an integer and add 10."
   ]
  },
  {
   "cell_type": "code",
   "execution_count": 11,
   "id": "7f9f9786",
   "metadata": {},
   "outputs": [
    {
     "name": "stdout",
     "output_type": "stream",
     "text": [
      "133\n"
     ]
    }
   ],
   "source": [
    "str = int(\"123\")\n",
    "print( str+ 10)"
   ]
  },
  {
   "cell_type": "markdown",
   "id": "ea388bbb",
   "metadata": {},
   "source": [
    "#### Convert an integer to string and concatenate with \" apples\""
   ]
  },
  {
   "cell_type": "code",
   "execution_count": 16,
   "id": "ac347b38",
   "metadata": {},
   "outputs": [
    {
     "name": "stdout",
     "output_type": "stream",
     "text": [
      "apple 123\n"
     ]
    }
   ],
   "source": [
    "int_var = (\"123\")\n",
    "print(\"apple\",int_var)\n",
    "\n"
   ]
  },
  {
   "cell_type": "markdown",
   "id": "9039c116",
   "metadata": {},
   "source": [
    "#### 4. Operators\n",
    "\n",
    "Use arithmetic operators to calculate ((20 + 5) * 3) / 5."
   ]
  },
  {
   "cell_type": "code",
   "execution_count": 17,
   "id": "a216d66a",
   "metadata": {},
   "outputs": [
    {
     "name": "stdout",
     "output_type": "stream",
     "text": [
      "15.0\n"
     ]
    }
   ],
   "source": [
    "print(((20 + 5) * 3) / 5)"
   ]
  },
  {
   "cell_type": "markdown",
   "id": "d001b745",
   "metadata": {},
   "source": [
    "#### 2.Use logical operators to check if x = 10 is greater than 5 and less than 20."
   ]
  },
  {
   "cell_type": "code",
   "execution_count": 18,
   "id": "efd0bdd2",
   "metadata": {},
   "outputs": [
    {
     "name": "stdout",
     "output_type": "stream",
     "text": [
      "True\n"
     ]
    }
   ],
   "source": [
    "x = 10\n",
    "if x>5 and x<20:\n",
    "    print(True)"
   ]
  },
  {
   "cell_type": "markdown",
   "id": "df49f03f",
   "metadata": {},
   "source": [
    "#### 3.Use // and % to find quotient and remainder of 29 ÷ 4."
   ]
  },
  {
   "cell_type": "code",
   "execution_count": 20,
   "id": "aa3b66c0",
   "metadata": {},
   "outputs": [
    {
     "name": "stdout",
     "output_type": "stream",
     "text": [
      "1\n",
      "7\n"
     ]
    }
   ],
   "source": [
    "print(29%4)\n",
    "print(29//4)\n"
   ]
  },
  {
   "cell_type": "markdown",
   "id": "177ea0e7",
   "metadata": {},
   "source": [
    "#### 5. Input/Output\n",
    "\n",
    "Take user input for name and age and print: \"Hello <name>, you are <age> years old\"."
   ]
  },
  {
   "cell_type": "code",
   "execution_count": 21,
   "id": "d088fbbd",
   "metadata": {},
   "outputs": [
    {
     "name": "stdout",
     "output_type": "stream",
     "text": [
      "hello vithu, you are 21 years old\n"
     ]
    }
   ],
   "source": [
    "name = input(\"enter your name:\")\n",
    "age = int(input(\"enter your age:\"))\n",
    "print(f\"hello {name}, you are {age} years old\")"
   ]
  },
  {
   "cell_type": "markdown",
   "id": "bf94026e",
   "metadata": {},
   "source": [
    "#### Take two numbers from user and print their sum."
   ]
  },
  {
   "cell_type": "code",
   "execution_count": 22,
   "id": "fb79fc9d",
   "metadata": {},
   "outputs": [
    {
     "name": "stdout",
     "output_type": "stream",
     "text": [
      "68\n"
     ]
    }
   ],
   "source": [
    "n1 = int(input(\"enter the number:\"))\n",
    "n2 = int(input(\"enter the number:\"))\n",
    "print(n1 +n1)"
   ]
  },
  {
   "cell_type": "markdown",
   "id": "2937995a",
   "metadata": {},
   "source": [
    "#### Ask user for a string and print its length."
   ]
  },
  {
   "cell_type": "code",
   "execution_count": 23,
   "id": "5e740f5e",
   "metadata": {},
   "outputs": [
    {
     "name": "stdout",
     "output_type": "stream",
     "text": [
      "45\n"
     ]
    }
   ],
   "source": [
    "string = input(\"enter any string:\")\n",
    "print(len(string))\n",
    "\n"
   ]
  },
  {
   "cell_type": "markdown",
   "id": "82a7f30c",
   "metadata": {},
   "source": [
    "#### 6. Strings\n",
    "\n",
    "Create a string \"Python is fun\". Print the first character and last character."
   ]
  },
  {
   "cell_type": "code",
   "execution_count": 24,
   "id": "02999044",
   "metadata": {},
   "outputs": [
    {
     "name": "stdout",
     "output_type": "stream",
     "text": [
      "p\n",
      "n\n"
     ]
    }
   ],
   "source": [
    "str = \"python is fun\"\n",
    "print(str[0])\n",
    "print(str[-1])"
   ]
  },
  {
   "cell_type": "markdown",
   "id": "23698512",
   "metadata": {},
   "source": [
    "#### Slice \"HelloWorld\" to get \"Hello\"."
   ]
  },
  {
   "cell_type": "code",
   "execution_count": 26,
   "id": "7c2d0eac",
   "metadata": {},
   "outputs": [
    {
     "name": "stdout",
     "output_type": "stream",
     "text": [
      "hello\n"
     ]
    }
   ],
   "source": [
    "s = \"hello world\"\n",
    "print(s[:5])"
   ]
  },
  {
   "cell_type": "markdown",
   "id": "6aaf4ef6",
   "metadata": {},
   "source": [
    "#### Reverse a string using slicing."
   ]
  },
  {
   "cell_type": "code",
   "execution_count": 27,
   "id": "68c695e9",
   "metadata": {},
   "outputs": [
    {
     "name": "stdout",
     "output_type": "stream",
     "text": [
      "dlrow olleh\n"
     ]
    }
   ],
   "source": [
    "print(s[::-1])"
   ]
  },
  {
   "cell_type": "markdown",
   "id": "93d85989",
   "metadata": {},
   "source": [
    "#### 7. String Methods\n",
    "\n",
    "Convert \"python programming\" to title case."
   ]
  },
  {
   "cell_type": "code",
   "execution_count": 28,
   "id": "08b09279",
   "metadata": {},
   "outputs": [
    {
     "name": "stdout",
     "output_type": "stream",
     "text": [
      "Python Programming\n"
     ]
    }
   ],
   "source": [
    "t =\"python programming\"\n",
    "print(t.title())"
   ]
  },
  {
   "cell_type": "markdown",
   "id": "4acc0793",
   "metadata": {},
   "source": [
    "#### Count how many times \"a\" appears in \"banana\"."
   ]
  },
  {
   "cell_type": "code",
   "execution_count": 29,
   "id": "b67503b5",
   "metadata": {},
   "outputs": [
    {
     "name": "stdout",
     "output_type": "stream",
     "text": [
      "3\n"
     ]
    }
   ],
   "source": [
    "x = \"banana\"\n",
    "print(x.count(\"a\"))"
   ]
  },
  {
   "cell_type": "markdown",
   "id": "678aa42a",
   "metadata": {},
   "source": [
    "#### Check if \"123\" is numeric."
   ]
  },
  {
   "cell_type": "code",
   "execution_count": 30,
   "id": "c602987c",
   "metadata": {},
   "outputs": [
    {
     "name": "stdout",
     "output_type": "stream",
     "text": [
      "True\n"
     ]
    }
   ],
   "source": [
    "s =\"123\"\n",
    "\n",
    "print(s.isnumeric())"
   ]
  },
  {
   "cell_type": "markdown",
   "id": "faccc4d1",
   "metadata": {},
   "source": [
    "8. f-strings and format()\n",
    "\n",
    "Use f-string to print \"My name is John and I am 25 years old\"."
   ]
  },
  {
   "cell_type": "code",
   "execution_count": 31,
   "id": "f198ab6e",
   "metadata": {},
   "outputs": [
    {
     "name": "stdout",
     "output_type": "stream",
     "text": [
      "my name is john and i am 25 years old\n"
     ]
    }
   ],
   "source": [
    "name =\"john\"\n",
    "age = 25\n",
    "print(f\"my name is {name} and i am {age} years old\")"
   ]
  },
  {
   "cell_type": "markdown",
   "id": "b90be350",
   "metadata": {},
   "source": [
    "Use format() to print \"The price is 50 dollars\"."
   ]
  },
  {
   "cell_type": "code",
   "execution_count": 32,
   "id": "5c67f79c",
   "metadata": {},
   "outputs": [
    {
     "name": "stdout",
     "output_type": "stream",
     "text": [
      "the price is 50.00\n"
     ]
    }
   ],
   "source": [
    "price= 50\n",
    "print(f\"the price is {price:.2f}\")"
   ]
  },
  {
   "cell_type": "markdown",
   "id": "23c32366",
   "metadata": {},
   "source": [
    "#### Format a float 3.14159 to 2 decimal places."
   ]
  },
  {
   "cell_type": "code",
   "execution_count": 34,
   "id": "8f53658e",
   "metadata": {},
   "outputs": [
    {
     "name": "stdout",
     "output_type": "stream",
     "text": [
      "3.14\n"
     ]
    }
   ],
   "source": [
    "f = 3.14159\n",
    "print(f\"{f:.2f}\")"
   ]
  },
  {
   "cell_type": "markdown",
   "id": "37a519fa",
   "metadata": {},
   "source": [
    "#### 9. Comments & Indentation\n",
    "\n",
    "Write a program with at least 2 single-line comments."
   ]
  },
  {
   "cell_type": "code",
   "execution_count": 35,
   "id": "443e94f9",
   "metadata": {},
   "outputs": [],
   "source": [
    "## hello\n",
    "## world"
   ]
  },
  {
   "cell_type": "markdown",
   "id": "7b333f6b",
   "metadata": {},
   "source": [
    "#### Use indentation properly in an if block."
   ]
  },
  {
   "cell_type": "code",
   "execution_count": 36,
   "id": "a40d7264",
   "metadata": {},
   "outputs": [
    {
     "name": "stdout",
     "output_type": "stream",
     "text": [
      "True\n"
     ]
    }
   ],
   "source": [
    "x =4\n",
    "if x < 9 :\n",
    "    print(True)\n",
    "elif x>9:\n",
    "    print(False)"
   ]
  },
  {
   "cell_type": "markdown",
   "id": "627744c3",
   "metadata": {},
   "source": [
    "#### 10. Conditional Statements\n",
    "\n",
    "Check if a number is even or odd."
   ]
  },
  {
   "cell_type": "code",
   "execution_count": 37,
   "id": "3b6ff8be",
   "metadata": {},
   "outputs": [
    {
     "name": "stdout",
     "output_type": "stream",
     "text": [
      "odd\n"
     ]
    }
   ],
   "source": [
    "n =9\n",
    "if n % 2 ==0:\n",
    "    print(\"even\")\n",
    "else:\n",
    "    print(\"odd\")\n"
   ]
  },
  {
   "cell_type": "markdown",
   "id": "cd8125b2",
   "metadata": {},
   "source": [
    "### 1. Loops\n",
    "\n",
    "Print numbers 1 to 10 using a for loop."
   ]
  },
  {
   "cell_type": "code",
   "execution_count": 38,
   "id": "71bfa924",
   "metadata": {},
   "outputs": [
    {
     "name": "stdout",
     "output_type": "stream",
     "text": [
      "1\n",
      "2\n",
      "3\n",
      "4\n",
      "5\n",
      "6\n",
      "7\n",
      "8\n",
      "9\n",
      "10\n"
     ]
    }
   ],
   "source": [
    "for i in range(1,11):\n",
    "    print(i)"
   ]
  },
  {
   "cell_type": "markdown",
   "id": "30faeee2",
   "metadata": {},
   "source": [
    "#### Print even numbers from 1 to 20 using while loop."
   ]
  },
  {
   "cell_type": "code",
   "execution_count": 45,
   "id": "d326b2c3",
   "metadata": {},
   "outputs": [
    {
     "name": "stdout",
     "output_type": "stream",
     "text": [
      "0\n",
      "2\n",
      "4\n",
      "6\n",
      "8\n",
      "10\n",
      "12\n",
      "14\n",
      "16\n",
      "18\n"
     ]
    }
   ],
   "source": [
    "i = 0\n",
    "while i < 20 :\n",
    "    if i % 2 == 0:\n",
    "        print(i)\n",
    "    i=i+1"
   ]
  },
  {
   "cell_type": "markdown",
   "id": "a6fadf07",
   "metadata": {},
   "source": [
    "Calculate factorial of a number with a loop."
   ]
  },
  {
   "cell_type": "code",
   "execution_count": 57,
   "id": "a1b70322",
   "metadata": {},
   "outputs": [
    {
     "name": "stdout",
     "output_type": "stream",
     "text": [
      "120\n"
     ]
    }
   ],
   "source": [
    "i=1\n",
    "num=5\n",
    "fact=1\n",
    "while i <= num:\n",
    "    fact = fact*i\n",
    "    i=i+1\n",
    "print(fact)  "
   ]
  },
  {
   "cell_type": "markdown",
   "id": "3413996c",
   "metadata": {},
   "source": [
    "12. Loop Control\n",
    "\n",
    "Print numbers 1 to 10, but skip 5 using continue.\n",
    "\n",
    "Print numbers 1 to 10, stop at 7 using break.\n",
    "\n",
    "Use pass in an empty loop block.\n",
    "\n",
    "13. Lists\n",
    "\n",
    "Create a list of 5 fruits. Print the second fruit.\n",
    "\n",
    "Change the third element in a list.\n",
    "\n",
    "Slice a list to get the first three elements.\n",
    "\n",
    "14. List Methods\n",
    "\n",
    "Append a new item to a list.\n",
    "\n",
    "Sort a list of numbers.\n",
    "\n",
    "Remove an element from a list.\n",
    "\n",
    "15. Tuples\n",
    "\n",
    "Create a tuple of 4 elements. Print its length.\n",
    "\n",
    "Access the last element of the tuple.\n",
    "\n",
    "Try to change a tuple element (what happens?).\n",
    "\n",
    "16. Tuple Methods\n",
    "\n",
    "Use .count() on a tuple.\n",
    "\n",
    "Use .index() on a tuple.\n",
    "\n",
    "Convert a tuple into a list, modify it, then back to tuple.\n",
    "\n",
    "17. Sets\n",
    "\n",
    "Create a set with duplicate elements. Print the set.\n",
    "\n",
    "Add a new element to a set.\n",
    "\n",
    "Remove an element from a set.\n",
    "\n",
    "18. Set Operations\n",
    "\n",
    "Find union and intersection of {1, 2, 3} and {3, 4, 5}.\n",
    "\n",
    "Find difference {1, 2, 3} – {2}.\n",
    "\n",
    "Check if {1, 2} is subset of {1, 2, 3}.\n",
    "\n",
    "19. Dictionaries\n",
    "\n",
    "Create a dictionary with keys: name, age, city.\n",
    "\n",
    "Access value using key.\n",
    "\n",
    "Update a value in dictionary.\n",
    "\n",
    "20. Dictionary Methods\n",
    "\n",
    "Use .keys() and .values().\n",
    "\n",
    "Use .get() safely on a missing key.\n",
    "\n",
    "Use .update() to add a new key-value pair.\n",
    "\n",
    "21. Nested Data Structures\n",
    "\n",
    "Create a dictionary with values as lists.\n",
    "\n",
    "Access a nested element from {\"student\": {\"name\": \"John\", \"age\": 20}}.\n",
    "\n",
    "Create a list of dictionaries (3 students with name & age).\n",
    "\n",
    "22. List Comprehension\n",
    "\n",
    "Create a list of squares from 1 to 10.\n",
    "\n",
    "Create a list of even numbers from 1 to 20.\n",
    "\n",
    "Convert all words in a list to uppercase.\n",
    "\n",
    "23. Dictionary Comprehension\n",
    "\n",
    "Create a dictionary of numbers from 1–5 with their squares.\n",
    "\n",
    "Convert two lists [\"a\",\"b\",\"c\"] and [1,2,3] into a dictionary.\n",
    "\n",
    "Create a dictionary from a string that counts each character."
   ]
  },
  {
   "cell_type": "code",
   "execution_count": null,
   "id": "9d464655",
   "metadata": {},
   "outputs": [],
   "source": []
  }
 ],
 "metadata": {
  "kernelspec": {
   "display_name": "base",
   "language": "python",
   "name": "python3"
  },
  "language_info": {
   "codemirror_mode": {
    "name": "ipython",
    "version": 3
   },
   "file_extension": ".py",
   "mimetype": "text/x-python",
   "name": "python",
   "nbconvert_exporter": "python",
   "pygments_lexer": "ipython3",
   "version": "3.12.7"
  }
 },
 "nbformat": 4,
 "nbformat_minor": 5
}

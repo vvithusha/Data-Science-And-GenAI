{
 "cells": [
  {
   "cell_type": "code",
   "execution_count": null,
   "id": "b621b38c",
   "metadata": {
    "vscode": {
     "languageId": "plaintext"
    }
   },
   "outputs": [],
   "source": []
  },
  {
   "cell_type": "markdown",
   "id": "c36fc09a",
   "metadata": {},
   "source": []
  }
 ],
 "metadata": {
  "language_info": {
   "name": "python"
  }
 },
 "nbformat": 4,
 "nbformat_minor": 5
}

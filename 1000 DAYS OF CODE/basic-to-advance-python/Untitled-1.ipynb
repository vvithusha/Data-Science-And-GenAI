{
 "cells": [
  {
   "cell_type": "code",
   "execution_count": 7,
   "id": "f6da214e",
   "metadata": {},
   "outputs": [
    {
     "name": "stdout",
     "output_type": "stream",
     "text": [
      "thusha\n"
     ]
    }
   ],
   "source": [
    "x=\"vithusha\"\n",
    "index=x.find('t')\n",
    "print(x[index:])"
   ]
  },
  {
   "cell_type": "code",
   "execution_count": 12,
   "id": "70d6b35b",
   "metadata": {},
   "outputs": [
    {
     "name": "stdout",
     "output_type": "stream",
     "text": [
      "True\n",
      "no\n"
     ]
    }
   ],
   "source": [
    "txt=\"today is fandasitc day!\"\n",
    "print('today' in txt)\n",
    "if 'is ' not in txt:\n",
    "    print(\"yes\")\n",
    "else:\n",
    "    print(\"no\")"
   ]
  },
  {
   "cell_type": "code",
   "execution_count": 14,
   "id": "f316436b",
   "metadata": {},
   "outputs": [
    {
     "name": "stdout",
     "output_type": "stream",
     "text": [
      "HELLO WORLD\n",
      "hello world\n",
      "hello world\n",
      "['hello', 'world']\n",
      "hello Horld\n"
     ]
    }
   ],
   "source": [
    "m=\"hello world\"\n",
    "print(m.upper())\n",
    "print(m.lower())\n",
    "print(m.strip())\n",
    "print(m.split())\n",
    "print(m.replace('w','H'))"
   ]
  },
  {
   "cell_type": "code",
   "execution_count": 17,
   "id": "8ca71dc2",
   "metadata": {},
   "outputs": [
    {
     "name": "stdout",
     "output_type": "stream",
     "text": [
      "this chocolate is 90.00 \n",
      "this chocolate is 450.00\n"
     ]
    }
   ],
   "source": [
    "price=90\n",
    "print(f\"this chocolate is {price:.2f} \")\n",
    "print(f\"this chocolate is {price*5:.2f}\")"
   ]
  },
  {
   "cell_type": "code",
   "execution_count": 23,
   "id": "358c1ca6",
   "metadata": {},
   "outputs": [
    {
     "name": "stdout",
     "output_type": "stream",
     "text": [
      "my name is \"vithusha\" vimalathas\n"
     ]
    }
   ],
   "source": [
    "txt='my name is \\\"vithusha\\\" vimalathas'\n",
    "print(txt)"
   ]
  },
  {
   "cell_type": "code",
   "execution_count": 31,
   "id": "6c4e83cc",
   "metadata": {},
   "outputs": [
    {
     "name": "stdout",
     "output_type": "stream",
     "text": [
      "my name is \"vithusha\" vimalathas\n",
      "my name is \\ vithusha vimalathas\n",
      "my name is \n",
      " vithusha vimalathas\n",
      " vithusha vimalathas\n"
     ]
    }
   ],
   "source": [
    "txt='my name is \\\"vithusha\\\" vimalathas'\n",
    "print(txt)\n",
    "txt='my name is \\\\ vithusha vimalathas'\n",
    "print(txt)\n",
    "txt='my name is \\n vithusha vimalathas'\n",
    "print(txt)\n",
    "txt='my name is \\r vithusha vimalathas' \n",
    "print(txt)                   "
   ]
  },
  {
   "cell_type": "code",
   "execution_count": 58,
   "id": "aa6acabc",
   "metadata": {},
   "outputs": [
    {
     "name": "stdout",
     "output_type": "stream",
     "text": [
      "My name is vithusha vimalathas.\n",
      "My Name Is Vithusha Vimalathas.\n",
      "my name is vithusha vimalathas.\n",
      "1\n",
      "____my name is vithusha vimalathas._____\n",
      "b'my name is vithusha vimalathas.'\n"
     ]
    }
   ],
   "source": [
    "txt='my name is vithusha vimalathas.'\n",
    "print(txt.capitalize())\n",
    "print(txt.title())\n",
    "print(txt.casefold())\n",
    "print(txt.count(\"name\"))\n",
    "print(txt.center(40 ,\"_\"))\n",
    "print(txt.encode())"
   ]
  },
  {
   "cell_type": "code",
   "execution_count": null,
   "id": "401c7ef8",
   "metadata": {},
   "outputs": [
    {
     "name": "stdout",
     "output_type": "stream",
     "text": [
      "[100, 94, 90]\n"
     ]
    }
   ],
   "source": [
    "import heapq\n",
    "lis=[34,56,78,90,23,40,94,100]\n",
    "rand=heapq.nlargest(3,lis)\n",
    "print(rand)\n"
   ]
  },
  {
   "cell_type": "code",
   "execution_count": 65,
   "id": "be250ff0",
   "metadata": {},
   "outputs": [
    {
     "name": "stdout",
     "output_type": "stream",
     "text": [
      "[100, 94, 90]\n"
     ]
    }
   ],
   "source": [
    "lis=[34,56,78,90,23,40,94,100]\n",
    "sort=sorted(lis,reverse=True)\n",
    "print(sort[:3])"
   ]
  },
  {
   "cell_type": "code",
   "execution_count": 66,
   "id": "c5f0bcaf",
   "metadata": {},
   "outputs": [
    {
     "name": "stdout",
     "output_type": "stream",
     "text": [
      "False\n"
     ]
    }
   ],
   "source": [
    "name=\"vij\"\n",
    "print(isinstance(name,int))"
   ]
  },
  {
   "cell_type": "code",
   "execution_count": 78,
   "id": "bfa7b784",
   "metadata": {},
   "outputs": [
    {
     "data": {
      "text/plain": [
       "55"
      ]
     },
     "execution_count": 78,
     "metadata": {},
     "output_type": "execute_result"
    }
   ],
   "source": [
    "sum([i for i in range(1,11)])\n"
   ]
  },
  {
   "cell_type": "code",
   "execution_count": 90,
   "id": "d1d1b5ec",
   "metadata": {},
   "outputs": [
    {
     "name": "stdout",
     "output_type": "stream",
     "text": [
      "0.5930600564332814\n"
     ]
    }
   ],
   "source": [
    "import random\n",
    "rant=random.random()\n",
    "print(rant)"
   ]
  },
  {
   "cell_type": "code",
   "execution_count": 119,
   "id": "ffe717d4",
   "metadata": {},
   "outputs": [
    {
     "name": "stdout",
     "output_type": "stream",
     "text": [
      "2\n",
      "89\n",
      "[45, 45, 0, 89, 23]\n",
      "[34, 23, 90, 0, 45, 67, 89]\n"
     ]
    }
   ],
   "source": [
    "lis=[34,23,45,67,89, 0,90]\n",
    "print(random.randint(1,5))\n",
    "print(random.choice(lis))\n",
    "print(random.choices(lis,k=5))\n",
    "random.shuffle(lis)\n",
    "print(lis)"
   ]
  },
  {
   "cell_type": "code",
   "execution_count": 121,
   "id": "1588b697",
   "metadata": {},
   "outputs": [
    {
     "name": "stdout",
     "output_type": "stream",
     "text": [
      "[2, 1, 3, 9.8, 5, 4]\n"
     ]
    }
   ],
   "source": [
    "import random\n",
    "\n",
    "lis = [1, 2, 3, 4, 5 ,9.8]\n",
    "\n",
    "random.shuffle(lis)   # shuffles in place\n",
    "print(lis)            # Example output: [3, 1, 5, 2, 4]\n"
   ]
  },
  {
   "cell_type": "code",
   "execution_count": 131,
   "id": "38d7861e",
   "metadata": {},
   "outputs": [
    {
     "data": {
      "text/plain": [
       "[3, 1, 5]"
      ]
     },
     "execution_count": 131,
     "metadata": {},
     "output_type": "execute_result"
    }
   ],
   "source": [
    "random.sample(lis,k=3)"
   ]
  },
  {
   "cell_type": "code",
   "execution_count": 156,
   "id": "f2ff6aa1",
   "metadata": {},
   "outputs": [
    {
     "name": "stdout",
     "output_type": "stream",
     "text": [
      "[32, 45, 67, 12, 14, 21, 45, 60, 45]\n",
      "1\n",
      "None\n",
      "[32, 45, 67, 12, 14, 21, 45, 60, 45, 23, 45]\n",
      "None\n",
      "[10, 32, 45, 67, 12, 14, 21, 45, 60, 45, 23, 45]\n",
      "[10, 45, 67, 12, 14, 21, 45, 60, 45, 23, 45]\n",
      "0\n",
      "None\n",
      "[10, 12, 14, 21, 23, 45, 45, 45, 45, 60, 67]\n"
     ]
    }
   ],
   "source": [
    "lis=[32,45,67,12,14,21,45,60]\n",
    "lis.append(45)\n",
    "print(lis)\n",
    "print(lis.count(32))\n",
    "print(lis.extend([23,45]))\n",
    "print(lis)\n",
    "print(lis.insert(0,10))\n",
    "print(lis)\n",
    "lis.remove(32)\n",
    "print(lis)\n",
    "print(lis.index(10))\n",
    "print(lis.sort())\n",
    "print(lis)"
   ]
  },
  {
   "cell_type": "code",
   "execution_count": 161,
   "id": "34f5681f",
   "metadata": {},
   "outputs": [
    {
     "name": "stdout",
     "output_type": "stream",
     "text": [
      "[12, 14, 21, 32, 45, 45, 60, 67]\n",
      "[67, 60, 45, 45, 32, 21, 14, 12]\n"
     ]
    }
   ],
   "source": [
    "##assending order \n",
    "lis=[32,45,67,12,14,21,45,60]\n",
    "lis.sort()\n",
    "print(lis)\n",
    "##desending order\n",
    "lis=[32,45,67,12,14,21,45,60]\n",
    "li=sorted(lis,reverse=True)\n",
    "print(li)"
   ]
  },
  {
   "cell_type": "code",
   "execution_count": null,
   "id": "7e5fa57c",
   "metadata": {},
   "outputs": [],
   "source": []
  },
  {
   "cell_type": "code",
   "execution_count": null,
   "id": "602f670b",
   "metadata": {},
   "outputs": [],
   "source": []
  },
  {
   "cell_type": "code",
   "execution_count": null,
   "id": "7ceb3054",
   "metadata": {},
   "outputs": [],
   "source": []
  },
  {
   "cell_type": "code",
   "execution_count": null,
   "id": "bcf3e330",
   "metadata": {},
   "outputs": [],
   "source": []
  }
 ],
 "metadata": {
  "kernelspec": {
   "display_name": "base",
   "language": "python",
   "name": "python3"
  },
  "language_info": {
   "codemirror_mode": {
    "name": "ipython",
    "version": 3
   },
   "file_extension": ".py",
   "mimetype": "text/x-python",
   "name": "python",
   "nbconvert_exporter": "python",
   "pygments_lexer": "ipython3",
   "version": "3.12.7"
  }
 },
 "nbformat": 4,
 "nbformat_minor": 5
}

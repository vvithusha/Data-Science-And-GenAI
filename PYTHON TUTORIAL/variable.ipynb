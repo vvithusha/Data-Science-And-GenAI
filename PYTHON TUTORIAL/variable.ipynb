{
 "cells": [
  {
   "cell_type": "code",
   "execution_count": 14,
   "id": "d8bcb001",
   "metadata": {},
   "outputs": [
    {
     "name": "stdout",
     "output_type": "stream",
     "text": [
      "name vithu\n",
      "age 22\n",
      "city vavuniya\n",
      "num 23894567\n"
     ]
    }
   ],
   "source": [
    "def person (**data):\n",
    "\n",
    "    for i,j in data.items():\n",
    "        print(i,j)\n",
    "\n",
    "person(name='vithu',age=22,city='vavuniya',num=23894567)"
   ]
  },
  {
   "cell_type": "code",
   "execution_count": 15,
   "id": "bf29fb5f",
   "metadata": {},
   "outputs": [
    {
     "name": "stdout",
     "output_type": "stream",
     "text": [
      "vithu\n",
      "22\n",
      "vavuniya\n",
      "23894567\n"
     ]
    }
   ],
   "source": [
    "def personal (name,age,city,num):\n",
    "\n",
    "    print(name)\n",
    "    print(age)\n",
    "    print(city)\n",
    "    print(num)\n",
    "personal('vithu',22,'vavuniya',23894567)"
   ]
  },
  {
   "cell_type": "code",
   "execution_count": 19,
   "id": "be1f06c5",
   "metadata": {},
   "outputs": [
    {
     "name": "stdout",
     "output_type": "stream",
     "text": [
      "name vithu\n",
      "age 22\n",
      "city vavuniya\n",
      "num 23894567\n"
     ]
    }
   ],
   "source": [
    "d={'name':'vithu','age':22,'city':'vavuniya','num':23894567}\n",
    "for i,j in d.items():\n",
    "    print(i,j)"
   ]
  },
  {
   "cell_type": "code",
   "execution_count": null,
   "id": "e4362d03",
   "metadata": {},
   "outputs": [],
   "source": []
  }
 ],
 "metadata": {
  "kernelspec": {
   "display_name": "base",
   "language": "python",
   "name": "python3"
  },
  "language_info": {
   "codemirror_mode": {
    "name": "ipython",
    "version": 3
   },
   "file_extension": ".py",
   "mimetype": "text/x-python",
   "name": "python",
   "nbconvert_exporter": "python",
   "pygments_lexer": "ipython3",
   "version": "3.12.7"
  }
 },
 "nbformat": 4,
 "nbformat_minor": 5
}

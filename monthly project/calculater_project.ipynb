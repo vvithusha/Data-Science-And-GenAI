{
 "cells": [
  {
   "cell_type": "markdown",
   "id": "a0cfb3d4",
   "metadata": {},
   "source": [
    "#### calculator"
   ]
  },
  {
   "cell_type": "code",
   "execution_count": null,
   "id": "3542db8c",
   "metadata": {},
   "outputs": [
    {
     "name": "stdout",
     "output_type": "stream",
     "text": [
      "wellcome to the calculator\n",
      "select operation\n",
      "addition of 40.0 + 29.0 = 69.0\n",
      "select operation\n",
      "subtraction of 45.0 - 23.0 = 22.0\n",
      "select operation\n",
      "select operation\n",
      "multiplication of 50.0 * 5.0 = 250.0\n",
      "select operation\n",
      "division of 50.0 / 5.0 = 10.0\n",
      "select operation\n",
      "square root of 64.0 = 8.0\n",
      "select operation\n",
      "sin360.0= -2.4492935982947064e-16\n",
      "select operation\n",
      "cos180.0= -1.0\n",
      "select operation\n",
      "tan90.0= 1.633123935319537e+16\n",
      "select operation\n",
      "log50.0 =1.6989700043360187\n",
      "select operation\n",
      "thank you for using the calculator\n"
     ]
    }
   ],
   "source": [
    "import math\n",
    "print(\"wellcome to the calculator\")\n",
    "while True:\n",
    "    def add(x,y):   ## addition function\n",
    "        return x+y\n",
    "    def sub(x,y):  ## subtraction function\n",
    "        return x-y\n",
    "    def mul(x,y):  ## multiplication function\n",
    "        return x*y\n",
    "    def div(x,y):  ## division function\n",
    "        return x/y\n",
    "    def sqr(x):\n",
    "        return math.sqrt(x)   ## square root function\n",
    "    print(\"select operation\")\n",
    "    choice = input (\"enter choice(add,sub,mul,div,sqr,trig,log) and if you want to exit please enter (exit)\")\n",
    "    if choice == \"add\":    ## addition operation\n",
    "        x = float(input(\"enter the number :\"))\n",
    "        y = float(input(\"enter the number :\"))\n",
    "        print(f\"addition of {x} + {y} = {add(x,y)}\")\n",
    "    elif choice == \"sub\":  ## subtraction operation\n",
    "        x = float(input(\"enter the number :\"))\n",
    "        y = float(input(\"enter the number :\"))\n",
    "        print(f\"subtraction of {x} - {y} = {sub(x,y)}\")\n",
    "    elif choice == \"mul\":  ## multiplication operation\n",
    "        x = float(input(\"enter the number :\"))\n",
    "        y = float(input(\"enter the number :\"))\n",
    "        print(f\"multiplication of {x} * {y} = {mul(x,y)}\")\n",
    "    elif choice == \"div\":  ## division operation\n",
    "        x = float(input(\"enter the number :\"))\n",
    "        y = float(input(\"enter the number :\"))\n",
    "        print(f\"division of {x} / {y} = {div(x,y)}\")\n",
    "    elif choice == \"sqr\":  ## square root operation\n",
    "        x = float(input(\"enter the number:\"))\n",
    "        print(f\"square root of {x} = {sqr(x)}\")\n",
    "    elif choice == \"trig\": ## trigonometric operation\n",
    "        angle = float(input(\"enter the angle in degree:\"))\n",
    "        opp = input(\"enter the oppresion(sin,cos,tan)\")\n",
    "        rad = math.radians(angle)  ## converting degree to radian\n",
    "        if opp == \"sin\":   \n",
    "            print(f\"sin{angle}= {math.sin(rad)}\")\n",
    "        elif opp == \"cos\":\n",
    "            print(f\"cos{angle}= {math.cos(rad)}\")\n",
    "        elif opp == \"tan\":\n",
    "            print(f\"tan{angle}= {math.tan(rad)}\")\n",
    "        else:\n",
    "            print(\"invalid input\")\n",
    "    elif choice == \"log\":   ## logarithmic operation\n",
    "        x= float(input(\"enter the number:\"))\n",
    "        print(f\"log{x} ={math.log10(x)}\")\n",
    "    elif choice == \"exit\":\n",
    "        print(\"thank you for using the calculator\")\n",
    "        break\n",
    "## end of the code\n",
    "\n"
   ]
  },
  {
   "cell_type": "code",
   "execution_count": null,
   "id": "e3662393",
   "metadata": {},
   "outputs": [],
   "source": []
  }
 ],
 "metadata": {
  "kernelspec": {
   "display_name": "base",
   "language": "python",
   "name": "python3"
  },
  "language_info": {
   "codemirror_mode": {
    "name": "ipython",
    "version": 3
   },
   "file_extension": ".py",
   "mimetype": "text/x-python",
   "name": "python",
   "nbconvert_exporter": "python",
   "pygments_lexer": "ipython3",
   "version": "3.12.7"
  }
 },
 "nbformat": 4,
 "nbformat_minor": 5
}

{
 "cells": [
  {
   "cell_type": "markdown",
   "id": "381829b4",
   "metadata": {},
   "source": [
    "#### gessing game"
   ]
  },
  {
   "cell_type": "code",
   "execution_count": null,
   "id": "c55bde1a",
   "metadata": {},
   "outputs": [
    {
     "name": "stdout",
     "output_type": "stream",
     "text": [
      "wellcome to the number gussing game🤟\n",
      "too low⬇️\n",
      "too high⬆️\n",
      "invalid input❌\n",
      "try again🔁\n",
      "too low⬇️\n",
      "too low⬇️\n",
      "too high⬆️\n",
      "too low⬇️\n",
      "too low⬇️\n",
      "too low⬇️\n",
      "too high⬆️\n",
      "too low⬇️\n",
      "too low⬇️\n",
      "you win🎉\n"
     ]
    }
   ],
   "source": [
    "import random\n",
    "print(\"wellcome to the number gussing game🤟\")\n",
    "while True:\n",
    "\n",
    "    random_number = random.randint(1,10) ## generates a random number between 1 and 10\n",
    "    try:\n",
    "\n",
    "        user_guess = int(input(\"guess a number between 1 to 10: \")) ## takes user input and converts it to an integer\n",
    "\n",
    "    except ValueError:\n",
    "        print(\"invalid input❌\") ## handles non-integer inputs\n",
    "        print(\"try again🔁\")\n",
    "        continue\n",
    "    if user_guess < 1 or user_guess >10:\n",
    "        print(\"number out of the range❌\") ## checks if the input is within the valid range\n",
    "        print(\"try again🔁\")\n",
    "    if user_guess == random_number:\n",
    "        print(\"you win🎉\") ## checks if the guess is correct\n",
    "        break\n",
    "    elif user_guess > random_number:\n",
    "        print(\"too high⬆️\") ## checks if the guess is too high\n",
    "    elif user_guess < random_number:\n",
    "        print(\"too low⬇️\")  ## checks if the guess is too low\n",
    "    else:\n",
    "        print(\"invalid input❌\") ## handles any other unexpected cases\n",
    "        print(\"try again🔁\")\n",
    "\n"
   ]
  }
 ],
 "metadata": {
  "kernelspec": {
   "display_name": "base",
   "language": "python",
   "name": "python3"
  },
  "language_info": {
   "codemirror_mode": {
    "name": "ipython",
    "version": 3
   },
   "file_extension": ".py",
   "mimetype": "text/x-python",
   "name": "python",
   "nbconvert_exporter": "python",
   "pygments_lexer": "ipython3",
   "version": "3.12.7"
  }
 },
 "nbformat": 4,
 "nbformat_minor": 5
}

{
 "cells": [
  {
   "cell_type": "markdown",
   "id": "803b61d5",
   "metadata": {},
   "source": [
    "Veriables in python\n"
   ]
  },
  {
   "cell_type": "code",
   "execution_count": 3,
   "id": "5e62ab48",
   "metadata": {},
   "outputs": [
    {
     "name": "stdout",
     "output_type": "stream",
     "text": [
      "<class 'int'> age: 32\n",
      "<class 'float'> height: 6.3\n",
      "<class 'str'> name: vithu\n",
      "<class 'bool'> is_student: True\n"
     ]
    }
   ],
   "source": [
    "##declaring and assinging variable\n",
    "\n",
    "age=32\n",
    "height=6.3\n",
    "name=\"vithu\"\n",
    "is_student=True\n",
    "\n",
    "print(type(age),\"age:\",age)\n",
    "print(type(height),\"height:\",height)\n",
    "print(type(name),\"name:\",name)\n",
    "print(type(is_student),\"is_student:\",is_student)"
   ]
  },
  {
   "cell_type": "code",
   "execution_count": 4,
   "id": "9333f885",
   "metadata": {},
   "outputs": [],
   "source": [
    "##nameing convention\n",
    "##variable names shoud be descriptive\n",
    "##they must start with a letter or '_' and contain letter,number and underscore\n",
    "##variable names are case sencitive\n",
    "\n",
    "first_name=\"vithu\"\n",
    "last_name=\"mathu\"\n"
   ]
  },
  {
   "cell_type": "code",
   "execution_count": 14,
   "id": "6bf92f1a",
   "metadata": {},
   "outputs": [],
   "source": [
    "##invalid variable names\n",
    "\n",
    "##2age=21\n",
    "##first-name=\"vithu\"\n",
    "##@name=\"vithu\"\n",
    "##$name=\"vithu\"\n"
   ]
  },
  {
   "cell_type": "code",
   "execution_count": 15,
   "id": "e046fda1",
   "metadata": {},
   "outputs": [
    {
     "data": {
      "text/plain": [
       "False"
      ]
     },
     "execution_count": 15,
     "metadata": {},
     "output_type": "execute_result"
    }
   ],
   "source": [
    "##case sensitivity\n",
    "\n",
    "name=\"vithu\"\n",
    "Name=\"sara\"\n",
    "\n",
    "Name==name"
   ]
  },
  {
   "cell_type": "code",
   "execution_count": 17,
   "id": "17ecb916",
   "metadata": {},
   "outputs": [
    {
     "name": "stdout",
     "output_type": "stream",
     "text": [
      "<class 'int'>\n",
      "<class 'float'>\n",
      "<class 'str'>\n",
      "<class 'bool'>\n"
     ]
    }
   ],
   "source": [
    "##variable types\n",
    "\n",
    "age=32\n",
    "height=6.3\n",
    "name=\"vithu\"\n",
    "is_student=True\n",
    "\n",
    "print(type(age))\n",
    "print(type(height))\n",
    "print(type(name))\n",
    "print(type(is_student))"
   ]
  },
  {
   "cell_type": "code",
   "execution_count": 19,
   "id": "c43728eb",
   "metadata": {},
   "outputs": [
    {
     "name": "stdout",
     "output_type": "stream",
     "text": [
      "<class 'int'>\n",
      "21\n",
      "<class 'str'>\n"
     ]
    }
   ],
   "source": [
    " ##type checking and conversion\n",
    "\n",
    "age=21\n",
    "print(type(age))\n",
    "\n",
    "\n",
    "##type conversion\n",
    "\n",
    "age_str=str(age)\n",
    "\n",
    "print(age_str)\n",
    "print(type(age_str))"
   ]
  },
  {
   "cell_type": "code",
   "execution_count": 31,
   "id": "cf813e17",
   "metadata": {},
   "outputs": [
    {
     "name": "stdout",
     "output_type": "stream",
     "text": [
      "<class 'float'> 21.0\n",
      "<class 'int'> 21\n",
      "<class 'complex'> (21+0j)\n"
     ]
    }
   ],
   "source": [
    "age=21\n",
    "print(type(float(age)),float(age))\n",
    "print(type(int(age)),int(age))\n",
    "print(type(complex(age)),complex(age))"
   ]
  },
  {
   "cell_type": "code",
   "execution_count": 33,
   "id": "93d2eda0",
   "metadata": {},
   "outputs": [
    {
     "name": "stdout",
     "output_type": "stream",
     "text": [
      "200 <class 'int'>\n",
      "200.8 <class 'float'>\n"
     ]
    }
   ],
   "source": [
    "##dynemic type\n",
    "num=200\n",
    "print(num,(type(num)))\n",
    "\n",
    "num=200.8\n",
    "print(num,(type(num)))\n",
    "\n"
   ]
  },
  {
   "cell_type": "code",
   "execution_count": 5,
   "id": "cf45e7d1",
   "metadata": {},
   "outputs": [
    {
     "name": "stdout",
     "output_type": "stream",
     "text": [
      "21 <class 'int'>\n"
     ]
    }
   ],
   "source": [
    "##input\n",
    "\n",
    "age=int(input(\"enter the number:\"))\n",
    "print(age,(type(age)))"
   ]
  },
  {
   "cell_type": "code",
   "execution_count": 16,
   "id": "cc90ed98",
   "metadata": {},
   "outputs": [
    {
     "name": "stdout",
     "output_type": "stream",
     "text": [
      "result= 90\n",
      "result= 11\n",
      "result= 90\n",
      "result= 90.0\n",
      "thanks for using calculater!\n"
     ]
    }
   ],
   "source": [
    "##simple calculater\n",
    "while True:\n",
    "   num1=int(input(\"enter the first number:\"))\n",
    "   num2=int(input(\"énter the secound number:\"))\n",
    "   opreation=input(\"enter the opreation(+,-,*,/)\")\n",
    "\n",
    "\n",
    "   if opreation==\"+\":\n",
    "        print(\"result=\",num1+num2)\n",
    "   elif opreation==\"-\":\n",
    "        print(\"result=\",num1-num2)\n",
    "   elif opreation==\"*\":\n",
    "        print(\"result=\",num1*num2)\n",
    "   elif opreation==\"/\":\n",
    "       if num2 !=0:\n",
    "          print(\"result=\",num1/num2)\n",
    "       else:\n",
    "           print(\"error\")\n",
    "   else:\n",
    "        print(\"enter the correct opreation:\")\n",
    "\n",
    "   retry = input(\"do you want to continue you enter 'yes' or 'no'\").lower()\n",
    "   if retry != \"yes\":\n",
    "       print(\"thanks for using calculater!\")\n",
    "       break"
   ]
  },
  {
   "cell_type": "code",
   "execution_count": null,
   "id": "8c3d8fc9",
   "metadata": {},
   "outputs": [],
   "source": []
  }
 ],
 "metadata": {
  "kernelspec": {
   "display_name": "base",
   "language": "python",
   "name": "python3"
  },
  "language_info": {
   "codemirror_mode": {
    "name": "ipython",
    "version": 3
   },
   "file_extension": ".py",
   "mimetype": "text/x-python",
   "name": "python",
   "nbconvert_exporter": "python",
   "pygments_lexer": "ipython3",
   "version": "3.12.7"
  }
 },
 "nbformat": 4,
 "nbformat_minor": 5
}

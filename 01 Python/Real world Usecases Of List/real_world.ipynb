{
 "cells": [
  {
   "cell_type": "code",
   "execution_count": 9,
   "id": "e7756829",
   "metadata": {},
   "outputs": [
    {
     "name": "stdout",
     "output_type": "stream",
     "text": [
      "You have to study science\n",
      "['science', 'maths', 'English', 'go for a Run']\n"
     ]
    }
   ],
   "source": [
    "to_do_list=[\"science\" ,\"maths\",\"English\"]\n",
    "\n",
    "##Adding a task\n",
    "to_do_list.append(\"history\")\n",
    "\n",
    "to_do_list.append(\"go for a Run\")\n",
    "\n",
    "##removing a COPLETE task\n",
    "to_do_list.remove(\"history\")\n",
    "\n",
    "## checking if a task is in the list\n",
    "if \"science\" in to_do_list:\n",
    "    print(\"You have to study science\")\n",
    "\n",
    "\n",
    "print(to_do_list)"
   ]
  },
  {
   "cell_type": "code",
   "execution_count": 10,
   "metadata": {},
   "outputs": [
    {
     "name": "stdout",
     "output_type": "stream",
     "text": [
      "<class 'Exception'>\n"
     ]
    }
   ],
   "source": [
    "match Exception:\n",
    "    case x:\n",
    "        print(x)"
   ]
  },
  {
   "cell_type": "code",
   "execution_count": 3,
   "id": "de8f4d8e",
   "metadata": {},
   "outputs": [
    {
     "name": "stdout",
     "output_type": "stream",
     "text": [
      "your finished this topic\n",
      "To-Do-List-Remaning\n",
      "-python\n",
      "-maths\n",
      "-sinhala\n",
      "-science\n",
      "-programming\n"
     ]
    }
   ],
   "source": [
    "##TO-DO-LIST\n",
    "to_do_list = [\"python\",\"maths\",\"english\",\"sinhala\"]\n",
    "\n",
    "##Adding task\n",
    "to_do_list.append(\"science\")\n",
    "to_do_list.append(\"programming\")\n",
    "\n",
    "##removing task\n",
    "to_do_list.remove(\"english\")\n",
    "\n",
    "##check if a task in the list\n",
    "if \"english\" in to_do_list:\n",
    "    print(\"hey don't forget to do this subject\")\n",
    "else:\n",
    "    print(\"your finished this topic\")\n",
    "    \n",
    "\n",
    "print(\"To-Do-List-Remaning\")\n",
    "for task in to_do_list:\n",
    "    print(f\"-{task}\")\n",
    "\n",
    "\n",
    "\n"
   ]
  },
  {
   "cell_type": "markdown",
   "id": "6a6ce7ef",
   "metadata": {},
   "source": [
    "### organizing student grades"
   ]
  },
  {
   "cell_type": "code",
   "execution_count": 4,
   "id": "ac0faeb4",
   "metadata": {},
   "outputs": [
    {
     "name": "stdout",
     "output_type": "stream",
     "text": [
      "Average grade: 60.70\n",
      "height_grade : 99\n",
      "lowest_grade : 23\n"
     ]
    }
   ],
   "source": [
    "### exaple.02 organizing student grades\n",
    "\n",
    "grades = [49,90,56,89,67,45,34,23,99]\n",
    "\n",
    "##Adding a new grade\n",
    "\n",
    "grades.append(55)\n",
    "\n",
    "##calculate the Average\n",
    "aversge_calculate = sum(grades) / len(grades)\n",
    "print(f\"Average grade: {aversge_calculate:.2f}\")\n",
    "\n",
    "## Finding the highest and lowest greades\n",
    "\n",
    "highest_grade = max(grades)\n",
    "lowest_grade = min(grades)\n",
    "\n",
    "print(f\"height_grade : {highest_grade}\")\n",
    "print(f\"lowest_grade : {lowest_grade}\")\n",
    "\n",
    "\n"
   ]
  },
  {
   "cell_type": "markdown",
   "id": "f459641e",
   "metadata": {},
   "source": [
    "### Managing An Inventory\n"
   ]
  },
  {
   "cell_type": "markdown",
   "id": "4e8ef08e",
   "metadata": {},
   "source": [
    "#### . use a list manage inventory items in a store"
   ]
  },
  {
   "cell_type": "code",
   "execution_count": 5,
   "id": "c004cc3a",
   "metadata": {},
   "outputs": [
    {
     "name": "stdout",
     "output_type": "stream",
     "text": [
      "apple are in stock\n",
      "inventory list:\n",
      "-apple\n",
      "-orange\n",
      "-grapes\n",
      "-strawberries\n"
     ]
    }
   ],
   "source": [
    "## MANAGING AN INVENTORY\n",
    "inventory = [\"apple\",\"banana\",\"orange\",\"grapes\"]\n",
    "\n",
    "##Adding a new items\n",
    "inventory.append(\"strawberries\")\n",
    "\n",
    "##Removing an item that is out of stoch=k\n",
    "\n",
    "inventory.remove(\"banana\")\n",
    "\n",
    "## Checking if an items is in stock\n",
    "item =\"apple\"\n",
    "if item in inventory:\n",
    "    print(f\"{item} are in stock\")\n",
    "else:\n",
    "    print(f\"{item} are out of stock\")\n",
    "\n",
    "## printing the inventory\n",
    "print(\"inventory list:\")\n",
    "for items in inventory:\n",
    "    print(f\"-{items}\")\n"
   ]
  },
  {
   "cell_type": "markdown",
   "id": "1e13cc39",
   "metadata": {},
   "source": [
    "### collecting user feedback"
   ]
  },
  {
   "cell_type": "markdown",
   "id": "f6e9fc4e",
   "metadata": {},
   "source": [
    "#### use a list to collect and analyze user feedback\n",
    "\n",
    "\n",
    "\n",
    "\n",
    "\n"
   ]
  },
  {
   "cell_type": "code",
   "execution_count": 8,
   "id": "6080037c",
   "metadata": {},
   "outputs": [
    {
     "name": "stdout",
     "output_type": "stream",
     "text": [
      "positive feedback count : 1\n",
      "user feedback:\n",
      "-Great service!\n",
      "-grate\n",
      "-very satisfied\n",
      "-could be better\n",
      "-Experince\n",
      "-Not happy with the service\n"
     ]
    }
   ],
   "source": [
    "###collecting specific feedback\n",
    "feedback = [\"Great service!\",\"grate\",\"very satisfied\",\"could be better\",\"Experince\"]\n",
    "\n",
    "## Adding new feedback\n",
    "feedback.append(\"Not happy with the service\")\n",
    "\n",
    "##counting specific feedback\n",
    "positive_feedback_conunt = sum(1 for comment in feedback if \"great\" in comment.lower() or \"excellent\" in comment.lower())\n",
    "print(f\"positive feedback count : {positive_feedback_conunt}\")\n",
    "\n",
    "## print all feedback\n",
    "print(\"user feedback:\")\n",
    "for comment in feedback:\n",
    "    print(f\"-{comment}\")"
   ]
  },
  {
   "cell_type": "code",
   "execution_count": null,
   "id": "5a0d2137",
   "metadata": {},
   "outputs": [],
   "source": []
  }
 ],
 "metadata": {
  "kernelspec": {
   "display_name": "base",
   "language": "python",
   "name": "python3"
  },
  "language_info": {
   "codemirror_mode": {
    "name": "ipython",
    "version": 3
   },
   "file_extension": ".py",
   "mimetype": "text/x-python",
   "name": "python",
   "nbconvert_exporter": "python",
   "pygments_lexer": "ipython3",
   "version": "3.12.7"
  }
 },
 "nbformat": 4,
 "nbformat_minor": 5
}

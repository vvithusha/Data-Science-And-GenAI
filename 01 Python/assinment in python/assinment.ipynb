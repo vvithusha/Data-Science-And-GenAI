{
 "cells": [
  {
   "cell_type": "markdown",
   "id": "d25313c1",
   "metadata": {},
   "source": [
    "## 1. Syntax and Semantics\n",
    "\n",
    "**Question 1:** Write a Python program to print \"Hello, World!\"."
   ]
  },
  {
   "cell_type": "code",
   "execution_count": 14,
   "id": "61938d97",
   "metadata": {},
   "outputs": [
    {
     "name": "stdout",
     "output_type": "stream",
     "text": [
      "hello world!\n"
     ]
    }
   ],
   "source": [
    "print(\"hello world!\")"
   ]
  },
  {
   "cell_type": "code",
   "execution_count": null,
   "id": "75232b9a",
   "metadata": {},
   "outputs": [],
   "source": []
  },
  {
   "cell_type": "code",
   "execution_count": 1,
   "id": "42daf21e",
   "metadata": {},
   "outputs": [
    {
     "name": "stdout",
     "output_type": "stream",
     "text": [
      "[2, 7, 8, 9, 5, 1, 2, 3, 4, 5]\n"
     ]
    }
   ],
   "source": [
    "lis1=[1,2,3,4,5]\n",
    "lis=[2,7,8,9,5]\n",
    "print(lis+lis1)"
   ]
  },
  {
   "cell_type": "code",
   "execution_count": 2,
   "id": "6d500ed3",
   "metadata": {},
   "outputs": [
    {
     "name": "stdout",
     "output_type": "stream",
     "text": [
      "[6, 7, 8, 9, 5, 2, 3, 4, 5, 6, 7]\n"
     ]
    }
   ],
   "source": [
    "lis1=[2,3,4,5,6,7]\n",
    "lis=[6,7,8,9,5]\n",
    "for i in lis1:\n",
    "    lis.append(i)\n",
    "print(lis)"
   ]
  },
  {
   "cell_type": "code",
   "execution_count": 13,
   "id": "9f3a8c0f",
   "metadata": {},
   "outputs": [
    {
     "name": "stdout",
     "output_type": "stream",
     "text": [
      "4\n"
     ]
    }
   ],
   "source": [
    "lis=[2,3,4,5,6]\n",
    "lis3=[3,6,7,8,9]\n",
    "lis2=lis3.index(9)\n",
    "print(lis2)"
   ]
  },
  {
   "cell_type": "markdown",
   "id": "c2a978d0",
   "metadata": {},
   "source": [
    "**Question 2:** Write a Python program that takes a user input and prints it."
   ]
  },
  {
   "cell_type": "code",
   "execution_count": 16,
   "id": "92eca2c9",
   "metadata": {},
   "outputs": [
    {
     "name": "stdout",
     "output_type": "stream",
     "text": [
      "user name is vithu\n"
     ]
    }
   ],
   "source": [
    "user_input=input(\"enter your name:\")\n",
    "print(f\"user name is {user_input}\")"
   ]
  },
  {
   "cell_type": "markdown",
   "id": "13b39ac8",
   "metadata": {},
   "source": [
    "**Question 3:** Write a Python program to check if a number is positive, negative, or zero."
   ]
  },
  {
   "cell_type": "code",
   "execution_count": null,
   "id": "7d6f3899",
   "metadata": {},
   "outputs": [
    {
     "name": "stdout",
     "output_type": "stream",
     "text": [
      "negative\n"
     ]
    }
   ],
   "source": [
    "num=int(input(\"enter the number:\"))\n",
    "if num>0:\n",
    "    print(\"positive\")\n",
    "elif num<0:\n",
    "    print(\"negative\")\n",
    "else:\n",
    "    print(\"zero\")\n",
    "    "
   ]
  },
  {
   "cell_type": "markdown",
   "id": "72c1a9f6",
   "metadata": {},
   "source": [
    "**Question 4:** Write a Python program to find the largest of three numbers."
   ]
  },
  {
   "cell_type": "code",
   "execution_count": null,
   "id": "17975f15",
   "metadata": {},
   "outputs": [
    {
     "name": "stdout",
     "output_type": "stream",
     "text": [
      "[98, 90, 89]\n"
     ]
    }
   ],
   "source": [
    "import heapq\n",
    "lis=[23,56,45,89,90,79,98,85]\n",
    "heapq_nun=heapq.nlargest(3,lis)\n",
    "print(heapq_nun)"
   ]
  },
  {
   "cell_type": "code",
   "execution_count": null,
   "id": "7c1224ec",
   "metadata": {},
   "outputs": [
    {
     "name": "stdout",
     "output_type": "stream",
     "text": [
      "[98, 90, 89]\n"
     ]
    }
   ],
   "source": [
    "lis=[23,56,45,89,90,79,98,85]\n",
    "reverse_num=sorted(lis,reverse=True)\n",
    "large=reverse_num[:-5]\n",
    "print(large)"
   ]
  },
  {
   "cell_type": "markdown",
   "id": "cc84e689",
   "metadata": {},
   "source": [
    "**Question 5:** Write a Python program to calculate the factorial of a number."
   ]
  },
  {
   "cell_type": "code",
   "execution_count": null,
   "id": "9a782090",
   "metadata": {},
   "outputs": [
    {
     "name": "stdout",
     "output_type": "stream",
     "text": [
      "1\n",
      "2\n",
      "5\n",
      "10\n"
     ]
    }
   ],
   "source": [
    "num=10\n",
    "for i in range(1,num+1):\n",
    "    if num%i==0:\n",
    "        print(i)\n",
    "    i=i+1"
   ]
  },
  {
   "cell_type": "markdown",
   "id": "f3bde3e3",
   "metadata": {},
   "source": [
    "## 2. Variables and Data Types\n",
    "\n",
    "**Question 6:** Create variables of different data types: integer, float, string, and boolean. Print their values and types."
   ]
  },
  {
   "cell_type": "code",
   "execution_count": null,
   "id": "cb6b73df",
   "metadata": {},
   "outputs": [
    {
     "name": "stdout",
     "output_type": "stream",
     "text": [
      "<class 'str'> vithu\n",
      "<class 'float'> 1.6\n",
      "<class 'int'> 21\n",
      "<class 'bool'> True\n"
     ]
    }
   ],
   "source": [
    "name=\"vithu\"\n",
    "height=1.6\n",
    "age=21\n",
    "is_student=True\n",
    "print(type(name),name)\n",
    "print(type(height),height)\n",
    "print(type(age),age)\n",
    "print(type(is_student),is_student)\n"
   ]
  },
  {
   "cell_type": "markdown",
   "id": "fcbd37ae",
   "metadata": {},
   "source": [
    "**Question 7:** Write a Python program to swap the values of two variables."
   ]
  },
  {
   "cell_type": "code",
   "execution_count": null,
   "id": "8aa9c4d0",
   "metadata": {},
   "outputs": [
    {
     "name": "stdout",
     "output_type": "stream",
     "text": [
      "a : 21\n",
      "b : 32\n"
     ]
    }
   ],
   "source": [
    "a=32\n",
    "b=21\n",
    "##swap variable\n",
    "c=a\n",
    "a=b\n",
    "b=c\n",
    "print(\"a :\" ,a)\n",
    "print(\"b :\" ,b )"
   ]
  },
  {
   "cell_type": "markdown",
   "id": "95cc4650",
   "metadata": {},
   "source": [
    "**Question 8:** Write a Python program to convert Celsius to Fahrenheit."
   ]
  },
  {
   "cell_type": "code",
   "execution_count": null,
   "id": "f9154825",
   "metadata": {},
   "outputs": [
    {
     "name": "stdout",
     "output_type": "stream",
     "text": [
      "celsius to fahrenhenit :842.0\n"
     ]
    }
   ],
   "source": [
    "### celsius to fahrenheit\n",
    "celsius=int(input(\"enter the celsius:\"))\n",
    "fahrenhenit=(celsius*9/5)+32\n",
    "print(f\"celsius to fahrenhenit :{fahrenhenit}\")"
   ]
  },
  {
   "cell_type": "code",
   "execution_count": null,
   "id": "9df8e594",
   "metadata": {},
   "outputs": [
    {
     "name": "stdout",
     "output_type": "stream",
     "text": [
      "fahrenhinit to celsius : 232.22222222222223\n"
     ]
    }
   ],
   "source": [
    "### fahrenhite to celsius\n",
    "fahrenhenit=int(input(\"enter the fahrenhenit :\"))\n",
    "celsius=(fahrenhenit-32)*5/9\n",
    "print(f\"fahrenhinit to celsius : {celsius}\")"
   ]
  },
  {
   "cell_type": "markdown",
   "id": "f040ff7d",
   "metadata": {},
   "source": [
    "**Question 9:** Write a Python program to concatenate two strings."
   ]
  },
  {
   "cell_type": "code",
   "execution_count": null,
   "id": "82d0db3f",
   "metadata": {},
   "outputs": [
    {
     "name": "stdout",
     "output_type": "stream",
     "text": [
      "vithu is a good girl\n",
      "vithu is a good girl\n"
     ]
    }
   ],
   "source": [
    "name=\"vithu\"\n",
    "nick_name=\" is a good girl\"\n",
    "print(f\"{name}{nick_name}\")\n",
    "print(name +  nick_name)"
   ]
  },
  {
   "cell_type": "markdown",
   "id": "3ac74447",
   "metadata": {},
   "source": [
    "**Question 10:** Write a Python program to check if a variable is of a specific data type."
   ]
  },
  {
   "cell_type": "code",
   "execution_count": null,
   "id": "7414626b",
   "metadata": {},
   "outputs": [
    {
     "name": "stdout",
     "output_type": "stream",
     "text": [
      "[False, True, True, False]\n"
     ]
    }
   ],
   "source": [
    "lis = []  # define list once, before loop\n",
    "\n",
    "for i in range(4):\n",
    "    data = input(\"Enter your data and check data type: \")\n",
    "\n",
    "    # Example: try to convert to int if possible\n",
    "    try:\n",
    "        data = int(data)\n",
    "    except ValueError:\n",
    "        pass  # keep as string if conversion fails\n",
    "\n",
    "    check = isinstance(data, str)\n",
    "    lis.append(check)\n",
    "\n",
    "print(lis)\n"
   ]
  },
  {
   "cell_type": "markdown",
   "id": "c50289c6",
   "metadata": {},
   "source": [
    "## 3. Basic Operators (Arithmetic, Comparison, Logical)\n",
    "\n",
    "**Question 11:** Write a Python program to perform arithmetic operations: addition, subtraction, multiplication, and division."
   ]
  },
  {
   "cell_type": "code",
   "execution_count": null,
   "id": "92cb4076",
   "metadata": {},
   "outputs": [
    {
     "name": "stdout",
     "output_type": "stream",
     "text": [
      "addision :  57\n",
      "subraction : 11\n",
      "multiplication : 782\n",
      "division : 1.4782608695652173\n"
     ]
    }
   ],
   "source": [
    "num1=int(input(\"enter the number:\"))\n",
    "num2=int(input(\"enter the number:\"))\n",
    "print(\"addision : \",num1+num2)\n",
    "print(\"subraction :\",num1-num2)\n",
    "print(\"multiplication :\",num1*num2)\n",
    "print(\"division :\",num1/num2)\n"
   ]
  },
  {
   "cell_type": "markdown",
   "id": "448a3b27",
   "metadata": {},
   "source": [
    "**Question 12:** Write a Python program to demonstrate comparison operators: equal to, not equal to, greater than, less than."
   ]
  },
  {
   "cell_type": "code",
   "execution_count": null,
   "id": "f46f6f73",
   "metadata": {},
   "outputs": [
    {
     "name": "stdout",
     "output_type": "stream",
     "text": [
      "False\n",
      "True\n",
      "True\n",
      "False\n"
     ]
    }
   ],
   "source": [
    "A=23\n",
    "B=67\n",
    "print(A > B)\n",
    "print(A < B)\n",
    "print(A <= B)\n",
    "print(A >= B)"
   ]
  },
  {
   "cell_type": "markdown",
   "id": "d780bef1",
   "metadata": {},
   "source": [
    "**Question 13:** Write a Python program to demonstrate logical operators: and, or, not."
   ]
  },
  {
   "cell_type": "code",
   "execution_count": null,
   "id": "0102ffdd",
   "metadata": {},
   "outputs": [
    {
     "name": "stdout",
     "output_type": "stream",
     "text": [
      "False\n",
      "True\n",
      "False\n",
      "True\n",
      "False\n",
      "True\n"
     ]
    }
   ],
   "source": [
    "A=True\n",
    "B=False\n",
    "print(A and B)\n",
    "print(A or B)\n",
    "print(not A)\n",
    "print(not B)\n",
    "print(B and A)\n",
    "print(B or A)\n"
   ]
  },
  {
   "cell_type": "markdown",
   "id": "bd4b36cf",
   "metadata": {},
   "source": [
    "**Question 14:** Write a Python program to calculate the square of a number."
   ]
  },
  {
   "cell_type": "code",
   "execution_count": null,
   "id": "746d9016",
   "metadata": {},
   "outputs": [
    {
     "name": "stdout",
     "output_type": "stream",
     "text": [
      "1\n",
      "4\n",
      "9\n",
      "16\n",
      "25\n",
      "36\n",
      "49\n",
      "64\n",
      "81\n",
      "100\n"
     ]
    }
   ],
   "source": [
    "num=int(input(\"enter the number:\"))\n",
    "for i in range(1,num+1):\n",
    "    square=i*i\n",
    "    print(square)"
   ]
  },
  {
   "cell_type": "markdown",
   "id": "e732d404",
   "metadata": {},
   "source": [
    "**Question 15:** Write a Python program to check if a number is even or odd."
   ]
  },
  {
   "cell_type": "code",
   "execution_count": null,
   "id": "9fde4efb",
   "metadata": {},
   "outputs": [
    {
     "name": "stdout",
     "output_type": "stream",
     "text": [
      "4 is odd\n"
     ]
    }
   ],
   "source": [
    "num=int(input(\"enter the number:\"))\n",
    "if num%2==0:\n",
    "    print(f\"{num} is odd\")\n",
    "elif num%2 !=0:\n",
    "    print(f\"{num} is even\")\n",
    "else:\n",
    "    print(\"syntex error\")\n"
   ]
  },
  {
   "cell_type": "markdown",
   "id": "79f746b7",
   "metadata": {},
   "source": [
    "**Question 16:** Write a Python program to find the sum of the first n natural numbers."
   ]
  },
  {
   "cell_type": "code",
   "execution_count": null,
   "id": "fba49fba",
   "metadata": {},
   "outputs": [
    {
     "data": {
      "text/plain": [
       "55"
      ]
     },
     "execution_count": 4,
     "metadata": {},
     "output_type": "execute_result"
    }
   ],
   "source": [
    "sum([ i for i in range (1,11)])\n"
   ]
  },
  {
   "cell_type": "markdown",
   "id": "6ea4b5ce",
   "metadata": {},
   "source": [
    "**Question 17:** Write a Python program to check if a year is a leap year."
   ]
  },
  {
   "cell_type": "code",
   "execution_count": null,
   "id": "c12427f6",
   "metadata": {},
   "outputs": [
    {
     "name": "stdout",
     "output_type": "stream",
     "text": [
      "400 is a leap year\n"
     ]
    }
   ],
   "source": [
    "year=int(input(\"enter the year:\"))\n",
    "if (year%4==0  and year!= 100)  or year%400==0:\n",
    "    print(f\"{year} is a leap year\")\n",
    "else:\n",
    "    print(f\"{year} is not a leap year\")\n"
   ]
  },
  {
   "cell_type": "markdown",
   "id": "cdb6570c",
   "metadata": {},
   "source": [
    "\n",
    "\n",
    "**Question 18:** Write a Python program to reverse a string."
   ]
  },
  {
   "cell_type": "code",
   "execution_count": null,
   "id": "00ebf704",
   "metadata": {},
   "outputs": [
    {
     "name": "stdout",
     "output_type": "stream",
     "text": [
      "!dlrow olleh\n"
     ]
    }
   ],
   "source": [
    "string=\"hello world!\"\n",
    "for i in range (len(string)):\n",
    "  strin1=(string[::-1])\n",
    "print(strin1)"
   ]
  },
  {
   "cell_type": "markdown",
   "id": "e3de651b",
   "metadata": {},
   "source": [
    "**Question 19:** Write a Python program to check if a string is a palindrome."
   ]
  },
  {
   "cell_type": "code",
   "execution_count": null,
   "id": "cf4b5512",
   "metadata": {},
   "outputs": [
    {
     "name": "stdout",
     "output_type": "stream",
     "text": [
      "level is a palindrome\n"
     ]
    }
   ],
   "source": [
    "palindrome=input(\"enter the words\")\n",
    "if palindrome[0] == palindrome[-1]:\n",
    "    print(f\"{palindrome} is a palindrome\")\n",
    "else:\n",
    "    print(f\"{palindrome} is not a palindrome\")"
   ]
  },
  {
   "cell_type": "markdown",
   "id": "4a7359d4",
   "metadata": {},
   "source": [
    "**Question 20:** Write a Python program to sort a list of numbers in ascending order."
   ]
  },
  {
   "cell_type": "code",
   "execution_count": null,
   "id": "269f88a9",
   "metadata": {},
   "outputs": [
    {
     "name": "stdout",
     "output_type": "stream",
     "text": [
      "this is a desending order : [90, 89, 67, 56, 34, 23, 12]\n",
      "this is a ascending order : [12, 23, 34, 56, 67, 89, 90]\n"
     ]
    }
   ],
   "source": [
    "### this is desending order\n",
    "lis=[23,12,34,67,89,56,90]\n",
    "print(f\"this is a desending order : {sorted(lis,reverse=True)}\")\n",
    "### this is ascending order\n",
    "lis=[23,12,34,67,89,56,90]\n",
    "print(f\"this is a ascending order : {sorted(lis)}\")"
   ]
  },
  {
   "cell_type": "markdown",
   "id": "e5e1c8fd",
   "metadata": {},
   "source": [
    "# Module 2: Control Flow Assignments\n",
    "## Lesson 2.1: Conditional Statements\n",
    "### Assignment 1: Simple if Statement\n",
    "\n",
    "Write a program that asks the user to input a number and prints whether the number is positive."
   ]
  },
  {
   "cell_type": "code",
   "execution_count": null,
   "id": "1b6eacf3",
   "metadata": {},
   "outputs": [
    {
     "name": "stdout",
     "output_type": "stream",
     "text": [
      "45 is positive\n"
     ]
    }
   ],
   "source": [
    "num=int(input(\"enter the number:\"))\n",
    "if num>0:\n",
    "    print(f\"{num} is positive\")"
   ]
  },
  {
   "cell_type": "markdown",
   "id": "5430f687",
   "metadata": {},
   "source": [
    "### Assignment 2: if-else Statement\n",
    "\n",
    "Write a program that asks the user to input a number and prints whether the number is positive or negative."
   ]
  },
  {
   "cell_type": "code",
   "execution_count": null,
   "id": "4d6e20b5",
   "metadata": {},
   "outputs": [
    {
     "name": "stdout",
     "output_type": "stream",
     "text": [
      "-90 is negative\n"
     ]
    }
   ],
   "source": [
    "num=int(input(\"enter the number:\"))\n",
    "if num>0:\n",
    "    print(f\"{num} is positive\" )\n",
    "else:\n",
    "    print(f\"{num} is negative\")"
   ]
  },
  {
   "cell_type": "markdown",
   "id": "d2d56a47",
   "metadata": {},
   "source": [
    "### Assignment 3: if-elif-else Statement\n",
    "\n",
    "Write a program that asks the user to input a number and prints whether the number is positive, negative, or zero."
   ]
  },
  {
   "cell_type": "code",
   "execution_count": null,
   "id": "22c6ddf0",
   "metadata": {},
   "outputs": [
    {
     "name": "stdout",
     "output_type": "stream",
     "text": [
      "90 is positive\n"
     ]
    }
   ],
   "source": [
    "num=int(input(\"enter the number:\"))\n",
    "if num>0:\n",
    "    print(f\"{num} is positive\")\n",
    "elif num<0:\n",
    "    print(f\"{num} is negative\")\n",
    "else:\n",
    "    print(f\"{num} is zero\")"
   ]
  },
  {
   "cell_type": "markdown",
   "id": "6c7e7916",
   "metadata": {},
   "source": [
    "### Assignment 4: Nested if Statement\n",
    "\n",
    "Write a program that asks the user to input a number and prints whether the number is positive and even, positive and odd, or negative."
   ]
  },
  {
   "cell_type": "code",
   "execution_count": null,
   "id": "22434829",
   "metadata": {},
   "outputs": [
    {
     "name": "stdout",
     "output_type": "stream",
     "text": [
      "68 is positive and even number\n"
     ]
    }
   ],
   "source": [
    "num=int(input(\"enter the number:\"))\n",
    "if num>0:\n",
    "    if num%2==0:\n",
    "        print(f\"{num} is positive and even number\")\n",
    "    else:\n",
    "        print(f\"{num} is positive and odd number\")   \n",
    "else:\n",
    "    print(f\"{num} is negative number\") "
   ]
  },
  {
   "cell_type": "markdown",
   "id": "64748e8f",
   "metadata": {},
   "source": [
    "## Lesson 2.2: Loops\n",
    "### Assignment 5: for Loop\n",
    "\n",
    "Write a program that prints all the numbers from 1 to 10 using a for loop."
   ]
  },
  {
   "cell_type": "code",
   "execution_count": null,
   "id": "3190264f",
   "metadata": {},
   "outputs": [
    {
     "name": "stdout",
     "output_type": "stream",
     "text": [
      "1\n",
      "2\n",
      "3\n",
      "4\n",
      "5\n",
      "6\n",
      "7\n",
      "8\n",
      "9\n",
      "10\n"
     ]
    }
   ],
   "source": [
    "for i in range(1,11):\n",
    "    print(i)"
   ]
  },
  {
   "cell_type": "markdown",
   "id": "586d5118",
   "metadata": {},
   "source": [
    "### Assignment 6: while Loop\n",
    "\n",
    "Write a program that prints all the numbers from 1 to 10 using a while loop."
   ]
  },
  {
   "cell_type": "code",
   "execution_count": null,
   "id": "8f447742",
   "metadata": {},
   "outputs": [
    {
     "name": "stdout",
     "output_type": "stream",
     "text": [
      "1\n",
      "2\n",
      "3\n",
      "4\n",
      "5\n",
      "6\n",
      "7\n",
      "8\n",
      "9\n",
      "10\n"
     ]
    }
   ],
   "source": [
    "i=1\n",
    "while i<11:\n",
    "    print(i)\n",
    "    i=i+1"
   ]
  },
  {
   "cell_type": "markdown",
   "id": "27be27d5",
   "metadata": {},
   "source": [
    "### Assignment 7: Nested Loops\n",
    "\n",
    "Write a program that prints a 5x5 grid of asterisks (*) using nested loops.\n"
   ]
  },
  {
   "cell_type": "code",
   "execution_count": null,
   "id": "7f015212",
   "metadata": {},
   "outputs": [
    {
     "name": "stdout",
     "output_type": "stream",
     "text": [
      "* * * * * \n",
      "* * * * * \n",
      "* * * * * \n",
      "* * * * * \n",
      "* * * * * \n"
     ]
    }
   ],
   "source": [
    "for i in range (5):\n",
    "    for j in range (5):\n",
    "        print(\"*\",end=\" \")\n",
    "    print()"
   ]
  },
  {
   "cell_type": "markdown",
   "id": "58e971df",
   "metadata": {},
   "source": [
    "### Assignment 8: break Statement\n",
    "\n",
    "Write a program that asks the user to input numbers until they input 0. The program should print the sum of all the input numbers."
   ]
  },
  {
   "cell_type": "code",
   "execution_count": null,
   "id": "5212be62",
   "metadata": {},
   "outputs": [
    {
     "name": "stdout",
     "output_type": "stream",
     "text": [
      "total of the number is : 20\n"
     ]
    }
   ],
   "source": [
    "total=0\n",
    "while True:\n",
    "    num=int(input(\"enter the number:\"))\n",
    "    if num==0:\n",
    "        break\n",
    "    else:\n",
    "        total=total+num\n",
    "print(f\"total of the number is : {total}\")    \n",
    " "
   ]
  },
  {
   "cell_type": "markdown",
   "id": "72f2d342",
   "metadata": {},
   "source": [
    "### Assignment 9: continue Statement\n",
    "\n",
    "Write a program that prints all the numbers from 1 to 10 except 5 using a for loop and continue statement."
   ]
  },
  {
   "cell_type": "code",
   "execution_count": null,
   "id": "cd1aa107",
   "metadata": {},
   "outputs": [
    {
     "name": "stdout",
     "output_type": "stream",
     "text": [
      "1\n",
      "2\n",
      "3\n",
      "4\n"
     ]
    }
   ],
   "source": [
    "for i in range (1,11):\n",
    "    if i ==5:\n",
    "        continue\n",
    "    print(i)"
   ]
  },
  {
   "cell_type": "markdown",
   "id": "273585d9",
   "metadata": {},
   "source": [
    "### Assignment 10: pass Statement\n",
    "\n",
    "Write a program that defines an empty function using the pass statement."
   ]
  },
  {
   "cell_type": "code",
   "execution_count": null,
   "id": "f09731d7",
   "metadata": {},
   "outputs": [],
   "source": [
    "def empty_fun():\n",
    "    pass\n",
    "empty_fun()"
   ]
  },
  {
   "cell_type": "markdown",
   "id": "050e3850",
   "metadata": {},
   "source": [
    "### Assignment 11: Combining Loops and Conditionals\n",
    "\n",
    "Write a program that asks the user to input a number and prints all the even numbers from 1 to that number using a for loop."
   ]
  },
  {
   "cell_type": "code",
   "execution_count": null,
   "id": "557ebde4",
   "metadata": {},
   "outputs": [
    {
     "name": "stdout",
     "output_type": "stream",
     "text": [
      "2\n",
      "4\n",
      "6\n",
      "8\n"
     ]
    }
   ],
   "source": [
    "num=int(input(\"enter the number:\"))\n",
    "for i in range (1,num):\n",
    "    if i%2==0:\n",
    "        print(i)\n"
   ]
  },
  {
   "cell_type": "markdown",
   "id": "39def732",
   "metadata": {},
   "source": [
    "### Assignment 12: Factorial Calculation\n",
    "\n",
    "Write a program that calculates the factorial of a number input by the user using a while loop."
   ]
  },
  {
   "cell_type": "code",
   "execution_count": 26,
   "id": "adac570f",
   "metadata": {},
   "outputs": [
    {
     "name": "stdout",
     "output_type": "stream",
     "text": [
      "number is :5 factorial is :120\n"
     ]
    }
   ],
   "source": [
    "num=5\n",
    "factorial=1\n",
    "i=1\n",
    "\n",
    "while i<=num:\n",
    "    factorial=factorial*i\n",
    "    i=i+1\n",
    "print(f\"number is :{num} factorial is :{factorial}\")    "
   ]
  },
  {
   "cell_type": "markdown",
   "id": "8a4b1cda",
   "metadata": {},
   "source": [
    "### Assignment 13: Sum of Digits\n",
    "\n",
    "Write a program that calculates the sum of the digits of a number input by the user using a while loop."
   ]
  },
  {
   "cell_type": "code",
   "execution_count": 9,
   "id": "3abc9744",
   "metadata": {},
   "outputs": [
    {
     "name": "stdout",
     "output_type": "stream",
     "text": [
      "number is : 3456\n",
      "sum of the digits is : 18\n"
     ]
    }
   ],
   "source": [
    "num=int(input(\"enter the number:\"))\n",
    "print(f\"number is : {num}\")\n",
    "sum=0\n",
    "while num>0:\n",
    "    digit=num%10  ##last number\n",
    "    sum=digit+sum\n",
    "    num=num//10 ##remove last number\n",
    "print(f\"sum of the digits is : {sum}\")"
   ]
  },
  {
   "cell_type": "markdown",
   "id": "b8834bb5",
   "metadata": {},
   "source": [
    "\n",
    "### Assignment 14: Prime Number Check\n",
    "\n",
    "Write a program that checks if a number input by the user is a prime number using a for loop."
   ]
  },
  {
   "cell_type": "code",
   "execution_count": 25,
   "id": "fd1baa54",
   "metadata": {},
   "outputs": [
    {
     "name": "stdout",
     "output_type": "stream",
     "text": [
      "prime numbers are :2\n",
      "prime numbers are :3\n",
      "prime numbers are :5\n",
      "prime numbers are :7\n"
     ]
    }
   ],
   "source": [
    "num=int(input(\"enter the number:\"))\n",
    "for i in range (2,num):\n",
    "    for j in range (2,i):\n",
    "        if i%j==0:\n",
    "            break\n",
    "    else:\n",
    "         print(f\"prime numbers are :{i}\")"
   ]
  },
  {
   "cell_type": "markdown",
   "id": "19944fe2",
   "metadata": {},
   "source": [
    "### Assignment 15: Fibonacci Sequence\n",
    "\n",
    "Write a program that prints the first n Fibonacci numbers, where n is input by the user."
   ]
  },
  {
   "cell_type": "code",
   "execution_count": 36,
   "id": "4bbbd2c4",
   "metadata": {},
   "outputs": [
    {
     "name": "stdout",
     "output_type": "stream",
     "text": [
      "1\n",
      "2\n",
      "3\n",
      "5\n",
      "8\n",
      "13\n",
      "21\n",
      "34\n"
     ]
    }
   ],
   "source": [
    "num=int(input(\"enter the number:\"))\n",
    "first=0\n",
    "secound=1\n",
    "for i in range(1,num):\n",
    "    first=secound+first\n",
    "    secound=first+secound\n",
    "    print(first)\n",
    "    print(secound)\n"
   ]
  },
  {
   "cell_type": "markdown",
   "id": "41473256",
   "metadata": {},
   "source": [
    "# Module 3: Data Structures Assignments\n",
    "## Lesson 3.1: Lists\n",
    "### Assignment 1: Creating and Accessing Lists\n",
    "\n",
    "Create a list of the first 20 positive integers. Print the list."
   ]
  },
  {
   "cell_type": "code",
   "execution_count": 4,
   "id": "7ccd9d8b",
   "metadata": {},
   "outputs": [
    {
     "data": {
      "text/plain": [
       "[1, 2, 3, 4, 5, 6, 7, 8, 9, 10, 11, 12, 13, 14, 15, 16, 17, 18, 19, 20]"
      ]
     },
     "execution_count": 4,
     "metadata": {},
     "output_type": "execute_result"
    }
   ],
   "source": [
    "[x for x in range(1,21)]"
   ]
  },
  {
   "cell_type": "markdown",
   "id": "eaaa82f6",
   "metadata": {},
   "source": [
    "### Assignment 2: Accessing List Elements\n",
    "\n",
    "Print the first, middle, and last elements of the list created in Assignment 1."
   ]
  },
  {
   "cell_type": "code",
   "execution_count": 14,
   "id": "f2fadb82",
   "metadata": {},
   "outputs": [
    {
     "name": "stdout",
     "output_type": "stream",
     "text": [
      "[1, 2, 3, 4, 5, 6, 7, 8, 9, 10, 11, 12, 13, 14, 15, 16, 17, 18, 19, 20]\n",
      "first number : 1\n",
      "middle number : 10\n",
      "last number : 20\n"
     ]
    }
   ],
   "source": [
    "num=list(range(1,21))\n",
    "print(num)\n",
    "print(\"first number :\" ,num[0])\n",
    "print(\"middle number :\" ,len(num)//2)\n",
    "print(\"last number :\" ,num[-1])\n"
   ]
  },
  {
   "cell_type": "markdown",
   "id": "c9dfdf4c",
   "metadata": {},
   "source": [
    "### Assignment 3: List Slicing\n",
    "\n",
    "Print the first five elements, the last five elements, and the elements from index 5 to 15 of the list created in Assignment 1."
   ]
  },
  {
   "cell_type": "code",
   "execution_count": 38,
   "id": "f09f3f3d",
   "metadata": {},
   "outputs": [
    {
     "name": "stdout",
     "output_type": "stream",
     "text": [
      "first five : [1, 2, 3, 4, 5]\n",
      "last five : [16, 17, 18, 19, 20]\n",
      "index 5 to 15 : [5, 6, 7, 8, 9, 10, 11, 12, 13, 14, 15]\n"
     ]
    }
   ],
   "source": [
    "print(\"first five :\" ,num[:5])\n",
    "print(\"last five :\" ,num[-5:])\n",
    "print(\"index 5 to 15 :\" ,num[4:15])"
   ]
  },
  {
   "cell_type": "markdown",
   "id": "fd782536",
   "metadata": {},
   "source": [
    "### Assignment 4: List Comprehensions\n",
    "\n",
    "Create a new list containing the squares of the first 10 positive integers using a list comprehension. Print the new list."
   ]
  },
  {
   "cell_type": "code",
   "execution_count": 40,
   "id": "0ed12a74",
   "metadata": {},
   "outputs": [
    {
     "data": {
      "text/plain": [
       "[1, 4, 9, 16, 25, 36, 49, 64, 81, 100]"
      ]
     },
     "execution_count": 40,
     "metadata": {},
     "output_type": "execute_result"
    }
   ],
   "source": [
    "[x**2 for x in range (1,11) ]"
   ]
  },
  {
   "cell_type": "markdown",
   "id": "fe8c5ac8",
   "metadata": {},
   "source": [
    "### Assignment 5: Filtering Lists\n",
    "\n",
    "Create a new list containing only the even numbers from the list created in Assignment 1 using a list comprehension. Print the new list."
   ]
  },
  {
   "cell_type": "code",
   "execution_count": 41,
   "id": "3d54cbb8",
   "metadata": {},
   "outputs": [
    {
     "data": {
      "text/plain": [
       "[2, 4, 6, 8, 10]"
      ]
     },
     "execution_count": 41,
     "metadata": {},
     "output_type": "execute_result"
    }
   ],
   "source": [
    "[i for i in range(1,11) if i%2==0]"
   ]
  },
  {
   "cell_type": "code",
   "execution_count": 47,
   "id": "6c0a275a",
   "metadata": {},
   "outputs": [
    {
     "name": "stdout",
     "output_type": "stream",
     "text": [
      "[2, 4, 6, 8, 10]\n"
     ]
    }
   ],
   "source": [
    "lis=list(range(1,11))\n",
    "print(lis[1:10:2])"
   ]
  },
  {
   "cell_type": "markdown",
   "id": "68d41080",
   "metadata": {},
   "source": [
    "### Assignment 6: List Methods\n",
    "\n",
    "Create a list of random numbers and sort it in ascending and descending order. Remove the duplicates from the list and print the modified list."
   ]
  },
  {
   "cell_type": "code",
   "execution_count": 7,
   "id": "21b00236",
   "metadata": {},
   "outputs": [
    {
     "name": "stdout",
     "output_type": "stream",
     "text": [
      "random list : [15, 10, 16, 7, 9, 12, 11, 3, 4, 10, 7, 16, 1, 11, 7]\n",
      "ascending order : [16, 16, 15, 12, 11, 11, 10, 10, 9, 7, 7, 7, 4, 3, 1]\n",
      "descending_order : [1, 3, 4, 7, 7, 7, 9, 10, 10, 11, 11, 12, 15, 16, 16]\n",
      "remove_duplicate : {1, 3, 4, 7, 9, 10, 11, 12, 15, 16}\n"
     ]
    }
   ],
   "source": [
    "import random\n",
    "random_list=[random.randint(1,20) for _ in range(15) ]\n",
    "print(\"random list :\",random_list)\n",
    "\n",
    "ascending_order=sorted(random_list,reverse=True)\n",
    "print(\"ascending order :\",ascending_order)\n",
    "\n",
    "descending_order=sorted(random_list,reverse=False)\n",
    "print(\"descending_order :\",descending_order)\n",
    "\n",
    "remove_duplicate=set(random_list)\n",
    "print(\"remove_duplicate :\",remove_duplicate)"
   ]
  },
  {
   "cell_type": "code",
   "execution_count": null,
   "id": "5b0b3b96",
   "metadata": {},
   "outputs": [],
   "source": []
  },
  {
   "cell_type": "code",
   "execution_count": null,
   "id": "80f3115b",
   "metadata": {},
   "outputs": [
    {
     "name": "stdout",
     "output_type": "stream",
     "text": [
      "original matix:\n",
      "[1, 2, 3]\n",
      "[4, 5, 6]\n",
      "[7, 8, 9]\n",
      "transport matix:\n",
      "[1, 4, 7]\n",
      "[2, 5, 8]\n",
      "[3, 6, 9]\n"
     ]
    }
   ],
   "source": [
    "def myfun(matix):\n",
    "\n",
    "    transposed=[[0 for _ in range(3)] for _ in range(3)]\n",
    "\n",
    "    for i in range(3):\n",
    "        for j in range(3):\n",
    "            transposed[j][i]=matix[i][j]\n",
    "\n",
    "    return transposed\n",
    "\n",
    "original=[\n",
    "    [1,2,3],\n",
    "    [4,5,6],\n",
    "    [7,8,9]\n",
    "    ]\n",
    "transpo=myfun(original)\n",
    "\n",
    "print(\"original matix:\")\n",
    "for coloum in original:\n",
    "    print(coloum)\n",
    "\n",
    "print(\"transport matix:\")\n",
    "for row in transpo:\n",
    "    print(row)"
   ]
  },
  {
   "cell_type": "code",
   "execution_count": 19,
   "id": "1acbf4c9",
   "metadata": {},
   "outputs": [
    {
     "name": "stdout",
     "output_type": "stream",
     "text": [
      "original:\n",
      "[[3, 4, 5], [5, 6, 7], [1, 2], [5, 5, 5]]\n",
      "flattend:\n",
      "[3, 4, 5, 5, 6, 7, 1, 2, 5, 5, 5]\n",
      "remove duplicate:\n",
      "[1, 2, 3, 4, 5, 6, 7]\n"
     ]
    }
   ],
   "source": [
    "def flattened(flatt):\n",
    "    flattened_list=[]\n",
    "\n",
    "    for sublist in flatt:\n",
    "        for item in sublist:\n",
    "            flattened_list.append(item)\n",
    "\n",
    "    return flattened_list\n",
    "\n",
    "\n",
    "original=[[3,4,5],[5,6,7],[1,2],[5,5,5]]\n",
    "\n",
    "flatt=flattened(original)\n",
    "\n",
    "print(\"original:\")\n",
    "print(original)\n",
    "\n",
    "print(\"flattend:\")\n",
    "print(flatt)\n",
    "\n",
    "print(\"remove duplicate:\")\n",
    "print(list(set((flatt))))"
   ]
  },
  {
   "cell_type": "code",
   "execution_count": 21,
   "id": "6ce98ecd",
   "metadata": {},
   "outputs": [
    {
     "name": "stdout",
     "output_type": "stream",
     "text": [
      "original matix:\n",
      "[1, 2, 3]\n",
      "[4, 5, 6]\n",
      "[7, 8, 9]\n",
      "secound row thirt coloun:6\n"
     ]
    }
   ],
   "source": [
    "matix=[\n",
    "    [1,2,3],\n",
    "    [4,5,6],\n",
    "    [7,8,9]\n",
    "]\n",
    "\n",
    "print(\"original matix:\")\n",
    "for row in matix:\n",
    "    print(row)\n",
    "print(f\"secound row thirt coloun:{matix[1][2]}\")"
   ]
  },
  {
   "cell_type": "markdown",
   "id": "06625480",
   "metadata": {},
   "source": [
    "\n",
    "\n",
    "## Assignment 7: Nested Lists\n",
    "\n",
    "Create a nested list representing a 3x3 matrix and print the matrix. Access and print the element at the second row and third column.\n"
   ]
  },
  {
   "cell_type": "code",
   "execution_count": null,
   "id": "00d4e841",
   "metadata": {},
   "outputs": [
    {
     "name": "stdout",
     "output_type": "stream",
     "text": [
      "matix:\n",
      "[1, 2, 3]\n",
      "[4, 5, 6]\n",
      "[7, 8, 9]\n",
      "secound row third coloum : 6\n"
     ]
    }
   ],
   "source": [
    "matix=[\n",
    "    [1,2,3],\n",
    "    [4,5,6],\n",
    "    [7,8,9]\n",
    "]\n",
    "print(\"matix:\")\n",
    "for row in matix:\n",
    "    print(row)\n",
    "print(f\"secound row third coloum : {matix[1][2]}\") ## row/colum    "
   ]
  },
  {
   "cell_type": "code",
   "execution_count": 54,
   "id": "0894cd45",
   "metadata": {},
   "outputs": [
    {
     "name": "stdout",
     "output_type": "stream",
     "text": [
      "original matix:\n",
      "[1, 2, 3]\n",
      "[4, 5, 6]\n",
      "[7, 8, 9]\n",
      "transposed matix:\n",
      "[1, 4, 7]\n",
      "[2, 5, 8]\n",
      "[3, 6, 9]\n"
     ]
    }
   ],
   "source": [
    "def myfun(matix):\n",
    "    transposed=[[0 for _ in range(3)] for _ in range(3)]\n",
    "    \n",
    "    for i in range(3):\n",
    "        for j in range(3):\n",
    "            transposed[j][i]=matix[i][j]\n",
    "\n",
    "    return transposed\n",
    "\n",
    "original=[\n",
    "    [1,2,3],\n",
    "    [4,5,6],\n",
    "    [7,8,9]\n",
    "]\n",
    "\n",
    "transpose_matrix=myfun(original)\n",
    "\n",
    "print(\"original matix:\")\n",
    "for row in original:\n",
    "    print(row)\n",
    "\n",
    "print(\"transposed matix:\")\n",
    "for row in transpose_matrix:\n",
    "    print(row)"
   ]
  },
  {
   "cell_type": "markdown",
   "id": "3b2c4e6c",
   "metadata": {},
   "source": [
    "\n",
    "### Assignment 8: List of Dictionaries\n",
    "\n",
    "Create a list of dictionaries where each dictionary represents a student with keys 'name' and 'score'. Sort the list of dictionaries by the 'score' in descending order and print the sorted list."
   ]
  },
  {
   "cell_type": "code",
   "execution_count": 33,
   "id": "438bdd6f",
   "metadata": {},
   "outputs": [
    {
     "name": "stdout",
     "output_type": "stream",
     "text": [
      "sorted dictionary :\n",
      "{'name': 'vithu', 'score': '90'}\n",
      "{'name': 'fithu', 'score': '89'}\n",
      "{'name': 'saraa', 'score': '45'}\n",
      "{'name': 'hithu', 'score': '20'}\n"
     ]
    }
   ],
   "source": [
    "dictionaries=[\n",
    "    {'name':'vithu' , 'score':'90'},\n",
    "    {'name':'saraa' , 'score':'45'},\n",
    "    {'name':'hithu' , 'score':'20'},\n",
    "    {'name':'fithu' , 'score':'89'}\n",
    "]\n",
    "sort_list=sorted(dictionaries, key=lambda x: x  ['score'],reverse=True)\n",
    "print(\"sorted dictionary :\")\n",
    "for sort in sort_list:\n",
    "    print(sort)"
   ]
  },
  {
   "cell_type": "code",
   "execution_count": null,
   "id": "181cc42f",
   "metadata": {},
   "outputs": [],
   "source": []
  },
  {
   "cell_type": "code",
   "execution_count": 81,
   "id": "24a14ca1",
   "metadata": {},
   "outputs": [
    {
     "name": "stdout",
     "output_type": "stream",
     "text": [
      "original\n",
      "[[1, 2], [4, 5, 6], [6, 7], [8, 9]]\n",
      "flattened:\n",
      "[1, 2, 4, 5, 6, 6, 7, 8, 9]\n"
     ]
    }
   ],
   "source": [
    "def flattened(list):\n",
    "    flattened_list=[]\n",
    "\n",
    "    for sublist in list:\n",
    "        for item in sublist:\n",
    "            flattened_list.append(item)\n",
    "\n",
    "    return flattened_list\n",
    "\n",
    "original=[[1,2],[4,5,6],[6,7],[8,9]]\n",
    "\n",
    "flattens = flattened (original)\n",
    "\n",
    "print(\"original\")\n",
    "print(original)\n",
    "\n",
    "print(\"flattened:\")\n",
    "print(flattens)"
   ]
  },
  {
   "cell_type": "markdown",
   "id": "aac454c6",
   "metadata": {},
   "source": [
    "\n",
    "### Assignment 9: Matrix Transposition\n",
    "\n",
    "Write a function that takes a 3x3 matrix (nested list) as input and returns its transpose. Print the original and transposed matrices."
   ]
  },
  {
   "cell_type": "code",
   "execution_count": 53,
   "id": "01e0b55b",
   "metadata": {},
   "outputs": [
    {
     "name": "stdout",
     "output_type": "stream",
     "text": [
      "original matix:\n",
      "[1, 2, 3]\n",
      "[4, 5, 6]\n",
      "[7, 8, 9]\n",
      "\n",
      " transposed matix :\n",
      "[1, 4, 7]\n",
      "[2, 5, 8]\n",
      "[3, 6, 9]\n"
     ]
    }
   ],
   "source": [
    "def myfun(matix):\n",
    "  transposition=[[0 for _ in range(3)]for _ in range(3)]\n",
    "  \n",
    "  for i in range(3):\n",
    "    for j in range(3):\n",
    "      transposition[j][i]=matix[i][j]\n",
    "  \n",
    "  return transposition\n",
    "\n",
    "original=[\n",
    "      [1,2,3],\n",
    "      [4,5,6],\n",
    "      [7,8,9]\n",
    "]\n",
    "transposed=myfun(original)\n",
    "\n",
    "print(\"original matix:\")\n",
    "for row in original:\n",
    "  print(row)\n",
    "\n",
    "print(\"\\n transposed matix :\")\n",
    "for row in transposed:\n",
    "  print(row)"
   ]
  },
  {
   "cell_type": "markdown",
   "id": "c3b338f1",
   "metadata": {},
   "source": [
    "### Assignment 10: Flattening a Nested List\n",
    "\n",
    "Write a function that takes a nested list and flattens it into a single list. Print the original and flattened lists.\n"
   ]
  },
  {
   "cell_type": "code",
   "execution_count": 75,
   "id": "96f1ce6f",
   "metadata": {},
   "outputs": [
    {
     "name": "stdout",
     "output_type": "stream",
     "text": [
      "original list:\n",
      "[[1, 2, 3], [4, 5], [2, 4, 9], [6], [9, 6, 5]]\n",
      "flattened list:\n",
      "[1, 2, 3, 4, 5, 2, 4, 9, 6, 9, 6, 5]\n"
     ]
    }
   ],
   "source": [
    "def flattens_lis(nestedlist):\n",
    "    flattens=[]\n",
    "    for sublist in nestedlist:\n",
    "        for item in sublist:\n",
    "            flattens.append(item)\n",
    "    return flattens\n",
    "\n",
    "original=[[1,2,3],[4,5],[2,4,9],[6],[9,6,5]]\n",
    "\n",
    "flattened=flattens_lis(original)\n",
    "\n",
    "print(\"original list:\")\n",
    "print(original)\n",
    "\n",
    "print(\"flattened list:\")\n",
    "print(flattened)"
   ]
  },
  {
   "cell_type": "markdown",
   "id": "3fabfdea",
   "metadata": {},
   "source": [
    "### Assignment 11: List Manipulation\n",
    "\n",
    "Create a list of the first 10 positive integers. Remove the elements at indices 2, 4, and 6, and insert the element '99' at index 5. Print the modified list."
   ]
  },
  {
   "cell_type": "code",
   "execution_count": 41,
   "id": "5f65a33a",
   "metadata": {},
   "outputs": [
    {
     "name": "stdout",
     "output_type": "stream",
     "text": [
      "[1, 2, 6, 7, 8, 9, 10]\n"
     ]
    }
   ],
   "source": [
    "int_list=[1,2,3,4,5,6,7,8,9,10]\n",
    "\n",
    "for index in sorted([2,3,4],reverse=True):\n",
    "    int_list.pop(index)\n",
    "\n",
    "print(int_list)"
   ]
  },
  {
   "cell_type": "markdown",
   "id": "9b0cdb3d",
   "metadata": {},
   "source": [
    "### Assignment 12: List Zipping\n",
    "\n",
    "Create two lists of the same length. Use the `zip` function to combine these lists into a list of tuples and print the result."
   ]
  },
  {
   "cell_type": "code",
   "execution_count": 59,
   "id": "d135ece3",
   "metadata": {},
   "outputs": [
    {
     "name": "stdout",
     "output_type": "stream",
     "text": [
      "list of tuple: [('vithu', 90), ('mathu', 80), ('saraa', 70), ('kithu', 60)]\n",
      "tuple of tuplle: (('vithu', 90), ('mathu', 80), ('saraa', 70), ('kithu', 60))\n",
      "dictonary of list: {'vithu': 90, 'mathu': 80, 'saraa': 70, 'kithu': 60}\n"
     ]
    }
   ],
   "source": [
    "list1=[\"vithu\",\"mathu\",\"saraa\",\"kithu\"]\n",
    "list2=[90,80,70,60]\n",
    "\n",
    "ziped=list(zip(list1,list2))\n",
    "print(\"list of tuple:\",ziped)\n",
    "print(\"tuple of tuplle:\",tuple(ziped))\n",
    "print(\"dictonary of list:\",dict(ziped))           "
   ]
  },
  {
   "cell_type": "markdown",
   "id": "b22d707c",
   "metadata": {},
   "source": [
    "### Assignment 13: List Reversal\n",
    "\n",
    "Write a function that takes a list and returns a new list with the elements in reverse order. Print the original and reversed lists."
   ]
  },
  {
   "cell_type": "code",
   "execution_count": 61,
   "id": "879020e1",
   "metadata": {},
   "outputs": [
    {
     "name": "stdout",
     "output_type": "stream",
     "text": [
      "sorted list : [10, 9, 8, 7, 6, 5, 4, 3, 2, 1]\n",
      "original list : [1, 2, 3, 4, 5, 6, 7, 8, 9, 10]\n"
     ]
    }
   ],
   "source": [
    "original_list=[1,2,3,4,5,6,7,8,9,10]\n",
    "\n",
    "print(\"sorted list :\",original_list[::-1])\n",
    "print(\"original list :\",original_list)"
   ]
  },
  {
   "cell_type": "markdown",
   "id": "47ab0ed9",
   "metadata": {},
   "source": [
    "\n",
    "### Assignment 14: List Rotation\n",
    "\n",
    "Write a function that rotates a list by n positions. Print the original and rotated lists."
   ]
  },
  {
   "cell_type": "code",
   "execution_count": 65,
   "id": "0a2c3b37",
   "metadata": {},
   "outputs": [
    {
     "name": "stdout",
     "output_type": "stream",
     "text": [
      "original list: [2, 4, 6, 8, 10, 12, 14, 16, 18, 20]\n",
      "list after rotates by 3 position :[8, 10, 12, 14, 16, 18, 20, 2, 4, 6]\n"
     ]
    }
   ],
   "source": [
    "def rotated_list(list1,n):\n",
    "    n=n%len(list1)\n",
    "    rotated=list1[n:]+list1[:n]\n",
    "\n",
    "    return rotated\n",
    "list2=[2,4,6,8,10,12,14,16,18,20]\n",
    "\n",
    "n=3\n",
    "rotate_list=rotated_list(list2,n)\n",
    "\n",
    "print(\"original list:\",list2)\n",
    "print(f\"list after rotates by {n} position :{rotate_list}\")"
   ]
  },
  {
   "cell_type": "code",
   "execution_count": 75,
   "id": "ef543d1b",
   "metadata": {},
   "outputs": [
    {
     "name": "stdout",
     "output_type": "stream",
     "text": [
      "[5, 6, 2, 3, 4]\n"
     ]
    }
   ],
   "source": [
    "def rottate(lis,n):\n",
    "    n=n%len(lis)\n",
    "    rottat=lis[n:]+lis[:n]\n",
    "\n",
    "    return rottat\n",
    "n=3\n",
    "list3=[2,3,4,5,6]\n",
    "lis=rottate(list3,n)\n",
    "print(lis)"
   ]
  },
  {
   "cell_type": "markdown",
   "id": "4fe1f240",
   "metadata": {},
   "source": [
    "### Assignment 15: List Intersection\n",
    "\n",
    "Write a function that takes two lists and returns a new list containing only the elements that are present in both lists. Print the intersected list."
   ]
  },
  {
   "cell_type": "code",
   "execution_count": 84,
   "id": "03f382d3",
   "metadata": {},
   "outputs": [
    {
     "name": "stdout",
     "output_type": "stream",
     "text": [
      "intersection list :[5, 7]\n"
     ]
    }
   ],
   "source": [
    "def myfun(list1,list2):\n",
    "    intersection=[]\n",
    "    for item in list1:\n",
    "        if item in list2:\n",
    "            intersection.append(item)\n",
    "    return intersection\n",
    "\n",
    "list1=[2,3,5,7]\n",
    "list2=[5,7,8,9]\n",
    "\n",
    "list_intersection=myfun(list1,list2)\n",
    "\n",
    "print(f\"intersection list :{list_intersection}\")\n"
   ]
  },
  {
   "cell_type": "markdown",
   "id": "d8ba6bd0",
   "metadata": {},
   "source": [
    "# Module 3: Data Structures Assignments\n",
    "## Lesson 3.2: Tuples\n",
    "### Assignment 1: Creating and Accessing Tuples\n",
    "\n",
    "Create a tuple with the first 10 positive integers. Print the tuple.\n"
   ]
  },
  {
   "cell_type": "markdown",
   "id": "9c0ae95d",
   "metadata": {},
   "source": [
    "### Assignment 2: Accessing Tuple Elements\n",
    "\n",
    "Print the first, middle, and last elements of the tuple created in Assignment 1."
   ]
  },
  {
   "cell_type": "markdown",
   "id": "b21d63ee",
   "metadata": {},
   "source": [
    "### Assignment 3: Tuple Slicing\n",
    "\n",
    "Print the first three elements, the last three elements, and the elements from index 2 to 5 of the tuple created in Assignment 1."
   ]
  },
  {
   "cell_type": "markdown",
   "id": "3d83365f",
   "metadata": {},
   "source": [
    "### Assignment 4: Nested Tuples\n",
    "\n",
    "Create a nested tuple representing a 3x3 matrix and print the matrix. Access and print the element at the second row and third column."
   ]
  },
  {
   "cell_type": "markdown",
   "id": "8c13c291",
   "metadata": {},
   "source": [
    "### Assignment 5: Tuple Concatenation\n",
    "\n",
    "Concatenate two tuples: (1, 2, 3) and (4, 5, 6). Print the resulting tuple."
   ]
  },
  {
   "cell_type": "markdown",
   "id": "ffe3b74f",
   "metadata": {},
   "source": [
    "\n",
    "### Assignment 6: Tuple Methods\n",
    "\n",
    "Create a tuple with duplicate elements and count the occurrences of an element. Find the index of the first occurrence of an element in the tuple."
   ]
  },
  {
   "cell_type": "markdown",
   "id": "2fe4c894",
   "metadata": {},
   "source": [
    "### Assignment 7: Unpacking Tuples\n",
    "\n",
    "Create a tuple with 5 elements and unpack it into 5 variables. Print the variables."
   ]
  },
  {
   "cell_type": "markdown",
   "id": "3d043d82",
   "metadata": {},
   "source": [
    "### Assignment 8: Tuple Conversion\n",
    "\n",
    "Convert a list of the first 5 positive integers to a tuple. Print the tuple.\n"
   ]
  },
  {
   "cell_type": "markdown",
   "id": "8c4ded39",
   "metadata": {},
   "source": [
    "### Assignment 9: Tuple of Tuples\n",
    "\n",
    "Create a tuple containing 3 tuples, each with 3 elements. Print the tuple of tuples."
   ]
  },
  {
   "cell_type": "markdown",
   "id": "984f4a0e",
   "metadata": {},
   "source": [
    "### Assignment 10: Tuple and List\n",
    "\n",
    "Create a tuple with the first 5 positive integers. Convert it to a list, append the number 6, and convert it back to a tuple. Print the resulting tuple."
   ]
  },
  {
   "cell_type": "markdown",
   "id": "009de236",
   "metadata": {},
   "source": [
    "### Assignment 11: Tuple and String\n",
    "\n",
    "Create a tuple with the characters of a string. Join the tuple elements into a single string. Print the string."
   ]
  },
  {
   "cell_type": "markdown",
   "id": "80fb9251",
   "metadata": {},
   "source": [
    "### Assignment 12: Tuple and Dictionary\n",
    "\n",
    "Create a dictionary with tuple keys and integer values. Print the dictionary."
   ]
  },
  {
   "cell_type": "markdown",
   "id": "f54e6f5e",
   "metadata": {},
   "source": [
    "### Assignment 13: Nested Tuple Iteration\n",
    "\n",
    "Create a nested tuple and iterate over the elements, printing each element."
   ]
  },
  {
   "cell_type": "markdown",
   "id": "ca8ebb18",
   "metadata": {},
   "source": [
    "### Assignment 14: Tuple and Set\n",
    "\n",
    "Create a tuple with duplicate elements. Convert it to a set to remove duplicates and print the resulting set."
   ]
  },
  {
   "cell_type": "markdown",
   "id": "c71501e3",
   "metadata": {},
   "source": [
    "### Assignment 15: Tuple Functions\n",
    "\n",
    "Write functions that take a tuple and return the minimum, maximum, and sum of the elements. Print the results for a sample tuple."
   ]
  },
  {
   "cell_type": "code",
   "execution_count": null,
   "id": "a118ec0a",
   "metadata": {},
   "outputs": [],
   "source": []
  },
  {
   "cell_type": "markdown",
   "id": "01955421",
   "metadata": {},
   "source": [
    "# Module 3: Data Structures Assignments\n",
    "## Lesson 3.3: Sets\n",
    "### Assignment 1: Creating and Accessing Sets\n",
    "\n",
    "Create a set with the first 10 positive integers. Print the set."
   ]
  },
  {
   "cell_type": "markdown",
   "id": "81980b87",
   "metadata": {},
   "source": [
    "### Assignment 2: Adding and Removing Elements\n",
    "\n",
    "Add the number 11 to the set created in Assignment 1. Then remove the number 1 from the set. Print the modified set."
   ]
  },
  {
   "cell_type": "markdown",
   "id": "a6562c3c",
   "metadata": {},
   "source": [
    "### Assignment 3: Set Operations\n",
    "\n",
    "Create two sets: one with the first 5 positive integers and another with the first 5 even integers. Perform and print the results of union, intersection, difference, and symmetric difference operations on these sets.\n"
   ]
  },
  {
   "cell_type": "markdown",
   "id": "7f59747b",
   "metadata": {},
   "source": [
    "\n",
    "### Assignment 4: Set Comprehensions\n",
    "\n",
    "Create a new set containing the squares of the first 10 positive integers using a set comprehension. Print the new set."
   ]
  },
  {
   "cell_type": "markdown",
   "id": "39808e3e",
   "metadata": {},
   "source": [
    "\n",
    "### Assignment 5: Filtering Sets\n",
    "\n",
    "Create a new set containing only the even numbers from the set created in Assignment 1 using a set comprehension. Print the new set."
   ]
  },
  {
   "cell_type": "markdown",
   "id": "56d3038e",
   "metadata": {},
   "source": [
    "### Assignment 6: Set Methods\n",
    "\n",
    "Create a set with duplicate elements and remove the duplicates using set methods. Print the modified set.\n"
   ]
  },
  {
   "cell_type": "markdown",
   "id": "b7d02431",
   "metadata": {},
   "source": [
    "### Assignment 7: Subsets and Supersets\n",
    "\n",
    "Create two sets: one with the first 5 positive integers and another with the first 3 positive integers. Check if the second set is a subset of the first set and if the first set is a superset of the second set. Print the results."
   ]
  },
  {
   "cell_type": "markdown",
   "id": "131be388",
   "metadata": {},
   "source": [
    "### Assignment 8: Frozenset\n",
    "\n",
    "Create a frozenset with the first 5 positive integers. Print the frozenset."
   ]
  },
  {
   "cell_type": "markdown",
   "id": "7b60226e",
   "metadata": {},
   "source": [
    "### Assignment 9: Set and List Conversion\n",
    "\n",
    "Create a set with the first 5 positive integers. Convert it to a list, append the number 6, and convert it back to a set. Print the resulting set.\n"
   ]
  },
  {
   "cell_type": "markdown",
   "id": "f1242bae",
   "metadata": {},
   "source": [
    "### Assignment 10: Set and Dictionary\n",
    "\n",
    "Create a dictionary with set keys and integer values. Print the dictionary."
   ]
  },
  {
   "cell_type": "markdown",
   "id": "ab97361e",
   "metadata": {},
   "source": [
    "### Assignment 11: Iterating Over Sets\n",
    "\n",
    "Create a set and iterate over the elements, printing each element."
   ]
  },
  {
   "cell_type": "markdown",
   "id": "f2746218",
   "metadata": {},
   "source": [
    "### Assignment 12: Removing Elements from Sets\n",
    "\n",
    "Create a set and remove elements from it until it is empty. Print the set after each removal."
   ]
  },
  {
   "cell_type": "markdown",
   "id": "167d928c",
   "metadata": {},
   "source": [
    "\n",
    "### Assignment 13: Set Symmetric Difference Update\n",
    "\n",
    "Create two sets and update the first set with the symmetric difference of the two sets. Print the modified first set.\n"
   ]
  },
  {
   "cell_type": "markdown",
   "id": "e278c28b",
   "metadata": {},
   "source": [
    "### Assignment 14: Set Membership Testing\n",
    "\n",
    "Create a set and test if certain elements are present in the set. Print the results."
   ]
  },
  {
   "cell_type": "markdown",
   "id": "8c989b07",
   "metadata": {},
   "source": [
    "\n",
    "\n",
    "### Assignment 15: Set of Tuples\n",
    "\n",
    "Create a set containing tuples, where each tuple contains two elements. Print the set."
   ]
  }
 ],
 "metadata": {
  "kernelspec": {
   "display_name": "base",
   "language": "python",
   "name": "python3"
  },
  "language_info": {
   "codemirror_mode": {
    "name": "ipython",
    "version": 3
   },
   "file_extension": ".py",
   "mimetype": "text/x-python",
   "name": "python",
   "nbconvert_exporter": "python",
   "pygments_lexer": "ipython3",
   "version": "3.12.7"
  }
 },
 "nbformat": 4,
 "nbformat_minor": 5
}

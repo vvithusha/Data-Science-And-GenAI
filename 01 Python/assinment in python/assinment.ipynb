{
 "cells": [
  {
   "cell_type": "markdown",
   "id": "d25313c1",
   "metadata": {},
   "source": [
    "## 1. Syntax and Semantics\n",
    "\n",
    "**Question 1:** Write a Python program to print \"Hello, World!\"."
   ]
  },
  {
   "cell_type": "code",
   "execution_count": 1,
   "id": "61938d97",
   "metadata": {},
   "outputs": [
    {
     "name": "stdout",
     "output_type": "stream",
     "text": [
      "hello world!\n"
     ]
    }
   ],
   "source": [
    "print(\"hello world!\")"
   ]
  },
  {
   "cell_type": "markdown",
   "id": "c2a978d0",
   "metadata": {},
   "source": [
    "**Question 2:** Write a Python program that takes a user input and prints it."
   ]
  },
  {
   "cell_type": "code",
   "execution_count": 1,
   "id": "92eca2c9",
   "metadata": {},
   "outputs": [
    {
     "name": "stdout",
     "output_type": "stream",
     "text": [
      "user name is vithu\n"
     ]
    }
   ],
   "source": [
    "user_input=input(\"enter your name:\")\n",
    "print(f\"user name is {user_input}\")"
   ]
  },
  {
   "cell_type": "markdown",
   "id": "13b39ac8",
   "metadata": {},
   "source": [
    "**Question 3:** Write a Python program to check if a number is positive, negative, or zero."
   ]
  },
  {
   "cell_type": "code",
   "execution_count": null,
   "id": "7d6f3899",
   "metadata": {},
   "outputs": [
    {
     "name": "stdout",
     "output_type": "stream",
     "text": [
      "negative\n"
     ]
    }
   ],
   "source": [
    "num=int(input(\"enter the number:\"))\n",
    "if num>0:\n",
    "    print(\"positive\")\n",
    "elif num<0:\n",
    "    print(\"negative\")\n",
    "else:\n",
    "    print(\"zero\")\n",
    "    "
   ]
  },
  {
   "cell_type": "markdown",
   "id": "72c1a9f6",
   "metadata": {},
   "source": [
    "**Question 4:** Write a Python program to find the largest of three numbers."
   ]
  },
  {
   "cell_type": "code",
   "execution_count": 6,
   "id": "17975f15",
   "metadata": {},
   "outputs": [
    {
     "name": "stdout",
     "output_type": "stream",
     "text": [
      "[98, 90, 89]\n"
     ]
    }
   ],
   "source": [
    "import heapq\n",
    "lis=[23,56,45,89,90,79,98,85]\n",
    "heapq_nun=heapq.nlargest(3,lis)\n",
    "print(heapq_nun)"
   ]
  },
  {
   "cell_type": "code",
   "execution_count": 22,
   "id": "7c1224ec",
   "metadata": {},
   "outputs": [
    {
     "name": "stdout",
     "output_type": "stream",
     "text": [
      "[98, 90, 89]\n"
     ]
    }
   ],
   "source": [
    "lis=[23,56,45,89,90,79,98,85]\n",
    "reverse_num=sorted(lis,reverse=True)\n",
    "large=reverse_num[:-5]\n",
    "print(large)"
   ]
  },
  {
   "cell_type": "markdown",
   "id": "cc84e689",
   "metadata": {},
   "source": [
    "**Question 5:** Write a Python program to calculate the factorial of a number."
   ]
  },
  {
   "cell_type": "code",
   "execution_count": 5,
   "id": "9a782090",
   "metadata": {},
   "outputs": [
    {
     "name": "stdout",
     "output_type": "stream",
     "text": [
      "1\n",
      "2\n",
      "5\n",
      "10\n"
     ]
    }
   ],
   "source": [
    "num=10\n",
    "for i in range(1,num+1):\n",
    "    if num%i==0:\n",
    "        print(i)\n",
    "    i=i+1"
   ]
  },
  {
   "cell_type": "markdown",
   "id": "f3bde3e3",
   "metadata": {},
   "source": [
    "## 2. Variables and Data Types\n",
    "\n",
    "**Question 6:** Create variables of different data types: integer, float, string, and boolean. Print their values and types."
   ]
  },
  {
   "cell_type": "code",
   "execution_count": 6,
   "id": "cb6b73df",
   "metadata": {},
   "outputs": [
    {
     "name": "stdout",
     "output_type": "stream",
     "text": [
      "<class 'str'> vithu\n",
      "<class 'float'> 1.6\n",
      "<class 'int'> 21\n",
      "<class 'bool'> True\n"
     ]
    }
   ],
   "source": [
    "name=\"vithu\"\n",
    "height=1.6\n",
    "age=21\n",
    "is_student=True\n",
    "print(type(name),name)\n",
    "print(type(height),height)\n",
    "print(type(age),age)\n",
    "print(type(is_student),is_student)\n"
   ]
  },
  {
   "cell_type": "markdown",
   "id": "fcbd37ae",
   "metadata": {},
   "source": [
    "**Question 7:** Write a Python program to swap the values of two variables."
   ]
  },
  {
   "cell_type": "code",
   "execution_count": 7,
   "id": "8aa9c4d0",
   "metadata": {},
   "outputs": [
    {
     "name": "stdout",
     "output_type": "stream",
     "text": [
      "a : 21\n",
      "b : 32\n"
     ]
    }
   ],
   "source": [
    "a=32\n",
    "b=21\n",
    "##swap variable\n",
    "c=a\n",
    "a=b\n",
    "b=c\n",
    "print(\"a :\" ,a)\n",
    "print(\"b :\" ,b )"
   ]
  },
  {
   "cell_type": "markdown",
   "id": "95cc4650",
   "metadata": {},
   "source": [
    "**Question 8:** Write a Python program to convert Celsius to Fahrenheit."
   ]
  },
  {
   "cell_type": "code",
   "execution_count": 1,
   "id": "f9154825",
   "metadata": {},
   "outputs": [
    {
     "name": "stdout",
     "output_type": "stream",
     "text": [
      "celsius to fahrenhenit :842.0\n"
     ]
    }
   ],
   "source": [
    "### celsius to fahrenheit\n",
    "celsius=int(input(\"enter the celsius:\"))\n",
    "fahrenhenit=(celsius*9/5)+32\n",
    "print(f\"celsius to fahrenhenit :{fahrenhenit}\")"
   ]
  },
  {
   "cell_type": "code",
   "execution_count": 2,
   "id": "9df8e594",
   "metadata": {},
   "outputs": [
    {
     "name": "stdout",
     "output_type": "stream",
     "text": [
      "fahrenhinit to celsius : 232.22222222222223\n"
     ]
    }
   ],
   "source": [
    "### fahrenhite to celsius\n",
    "fahrenhenit=int(input(\"enter the fahrenhenit :\"))\n",
    "celsius=(fahrenhenit-32)*5/9\n",
    "print(f\"fahrenhinit to celsius : {celsius}\")"
   ]
  },
  {
   "cell_type": "markdown",
   "id": "f040ff7d",
   "metadata": {},
   "source": [
    "**Question 9:** Write a Python program to concatenate two strings."
   ]
  },
  {
   "cell_type": "code",
   "execution_count": 7,
   "id": "82d0db3f",
   "metadata": {},
   "outputs": [
    {
     "name": "stdout",
     "output_type": "stream",
     "text": [
      "vithu is a good girl\n",
      "vithu is a good girl\n"
     ]
    }
   ],
   "source": [
    "name=\"vithu\"\n",
    "nick_name=\" is a good girl\"\n",
    "print(f\"{name}{nick_name}\")\n",
    "print(name +  nick_name)"
   ]
  },
  {
   "cell_type": "markdown",
   "id": "3ac74447",
   "metadata": {},
   "source": [
    "**Question 10:** Write a Python program to check if a variable is of a specific data type."
   ]
  },
  {
   "cell_type": "code",
   "execution_count": 17,
   "id": "7414626b",
   "metadata": {},
   "outputs": [
    {
     "name": "stdout",
     "output_type": "stream",
     "text": [
      "[False, True, True, False]\n"
     ]
    }
   ],
   "source": [
    "lis = []  # define list once, before loop\n",
    "\n",
    "for i in range(4):\n",
    "    data = input(\"Enter your data and check data type: \")\n",
    "\n",
    "    # Example: try to convert to int if possible\n",
    "    try:\n",
    "        data = int(data)\n",
    "    except ValueError:\n",
    "        pass  # keep as string if conversion fails\n",
    "\n",
    "    check = isinstance(data, str)\n",
    "    lis.append(check)\n",
    "\n",
    "print(lis)\n"
   ]
  },
  {
   "cell_type": "markdown",
   "id": "c50289c6",
   "metadata": {},
   "source": [
    "## 3. Basic Operators (Arithmetic, Comparison, Logical)\n",
    "\n",
    "**Question 11:** Write a Python program to perform arithmetic operations: addition, subtraction, multiplication, and division."
   ]
  },
  {
   "cell_type": "code",
   "execution_count": 1,
   "id": "92cb4076",
   "metadata": {},
   "outputs": [
    {
     "name": "stdout",
     "output_type": "stream",
     "text": [
      "addision :  57\n",
      "subraction : 11\n",
      "multiplication : 782\n",
      "division : 1.4782608695652173\n"
     ]
    }
   ],
   "source": [
    "num1=int(input(\"enter the number:\"))\n",
    "num2=int(input(\"enter the number:\"))\n",
    "print(\"addision : \",num1+num2)\n",
    "print(\"subraction :\",num1-num2)\n",
    "print(\"multiplication :\",num1*num2)\n",
    "print(\"division :\",num1/num2)\n"
   ]
  },
  {
   "cell_type": "markdown",
   "id": "448a3b27",
   "metadata": {},
   "source": [
    "**Question 12:** Write a Python program to demonstrate comparison operators: equal to, not equal to, greater than, less than."
   ]
  },
  {
   "cell_type": "code",
   "execution_count": 3,
   "id": "f46f6f73",
   "metadata": {},
   "outputs": [
    {
     "name": "stdout",
     "output_type": "stream",
     "text": [
      "False\n",
      "True\n",
      "True\n",
      "False\n"
     ]
    }
   ],
   "source": [
    "A=23\n",
    "B=67\n",
    "print(A > B)\n",
    "print(A < B)\n",
    "print(A <= B)\n",
    "print(A >= B)"
   ]
  },
  {
   "cell_type": "markdown",
   "id": "d780bef1",
   "metadata": {},
   "source": [
    "**Question 13:** Write a Python program to demonstrate logical operators: and, or, not."
   ]
  },
  {
   "cell_type": "code",
   "execution_count": 4,
   "id": "0102ffdd",
   "metadata": {},
   "outputs": [
    {
     "name": "stdout",
     "output_type": "stream",
     "text": [
      "False\n",
      "True\n",
      "False\n",
      "True\n",
      "False\n",
      "True\n"
     ]
    }
   ],
   "source": [
    "A=True\n",
    "B=False\n",
    "print(A and B)\n",
    "print(A or B)\n",
    "print(not A)\n",
    "print(not B)\n",
    "print(B and A)\n",
    "print(B or A)\n"
   ]
  },
  {
   "cell_type": "markdown",
   "id": "bd4b36cf",
   "metadata": {},
   "source": [
    "**Question 14:** Write a Python program to calculate the square of a number."
   ]
  },
  {
   "cell_type": "code",
   "execution_count": 5,
   "id": "746d9016",
   "metadata": {},
   "outputs": [
    {
     "name": "stdout",
     "output_type": "stream",
     "text": [
      "1\n",
      "4\n",
      "9\n",
      "16\n",
      "25\n",
      "36\n",
      "49\n",
      "64\n",
      "81\n",
      "100\n"
     ]
    }
   ],
   "source": [
    "num=int(input(\"enter the number:\"))\n",
    "for i in range(1,num+1):\n",
    "    square=i*i\n",
    "    print(square)"
   ]
  },
  {
   "cell_type": "markdown",
   "id": "e732d404",
   "metadata": {},
   "source": [
    "**Question 15:** Write a Python program to check if a number is even or odd."
   ]
  },
  {
   "cell_type": "code",
   "execution_count": 6,
   "id": "9fde4efb",
   "metadata": {},
   "outputs": [
    {
     "name": "stdout",
     "output_type": "stream",
     "text": [
      "4 is odd\n"
     ]
    }
   ],
   "source": [
    "num=int(input(\"enter the number:\"))\n",
    "if num%2==0:\n",
    "    print(f\"{num} is odd\")\n",
    "elif num%2 !=0:\n",
    "    print(f\"{num} is even\")\n",
    "else:\n",
    "    print(\"syntex error\")\n"
   ]
  },
  {
   "cell_type": "markdown",
   "id": "79f746b7",
   "metadata": {},
   "source": [
    "**Question 16:** Write a Python program to find the sum of the first n natural numbers."
   ]
  },
  {
   "cell_type": "code",
   "execution_count": 4,
   "id": "fba49fba",
   "metadata": {},
   "outputs": [
    {
     "data": {
      "text/plain": [
       "55"
      ]
     },
     "execution_count": 4,
     "metadata": {},
     "output_type": "execute_result"
    }
   ],
   "source": [
    "sum([ i for i in range (1,11)])\n"
   ]
  },
  {
   "cell_type": "markdown",
   "id": "6ea4b5ce",
   "metadata": {},
   "source": [
    "**Question 17:** Write a Python program to check if a year is a leap year."
   ]
  },
  {
   "cell_type": "code",
   "execution_count": 2,
   "id": "c12427f6",
   "metadata": {},
   "outputs": [
    {
     "name": "stdout",
     "output_type": "stream",
     "text": [
      "400 is a leap year\n"
     ]
    }
   ],
   "source": [
    "year=int(input(\"enter the year:\"))\n",
    "if (year%4==0  and year!= 100)  or year%400==0:\n",
    "    print(f\"{year} is a leap year\")\n",
    "else:\n",
    "    print(f\"{year} is not a leap year\")\n"
   ]
  },
  {
   "cell_type": "markdown",
   "id": "cdb6570c",
   "metadata": {},
   "source": [
    "\n",
    "\n",
    "**Question 18:** Write a Python program to reverse a string."
   ]
  },
  {
   "cell_type": "code",
   "execution_count": 14,
   "id": "00ebf704",
   "metadata": {},
   "outputs": [
    {
     "name": "stdout",
     "output_type": "stream",
     "text": [
      "!dlrow olleh\n"
     ]
    }
   ],
   "source": [
    "string=\"hello world!\"\n",
    "for i in range (len(string)):\n",
    "  strin1=(string[::-1])\n",
    "print(strin1)"
   ]
  },
  {
   "cell_type": "markdown",
   "id": "e3de651b",
   "metadata": {},
   "source": [
    "**Question 19:** Write a Python program to check if a string is a palindrome."
   ]
  },
  {
   "cell_type": "code",
   "execution_count": 17,
   "id": "cf4b5512",
   "metadata": {},
   "outputs": [
    {
     "name": "stdout",
     "output_type": "stream",
     "text": [
      "level is a palindrome\n"
     ]
    }
   ],
   "source": [
    "palindrome=input(\"enter the words\")\n",
    "if palindrome[0] == palindrome[-1]:\n",
    "    print(f\"{palindrome} is a palindrome\")\n",
    "else:\n",
    "    print(f\"{palindrome} is not a palindrome\")"
   ]
  },
  {
   "cell_type": "markdown",
   "id": "4a7359d4",
   "metadata": {},
   "source": [
    "**Question 20:** Write a Python program to sort a list of numbers in ascending order."
   ]
  },
  {
   "cell_type": "code",
   "execution_count": 20,
   "id": "269f88a9",
   "metadata": {},
   "outputs": [
    {
     "name": "stdout",
     "output_type": "stream",
     "text": [
      "this is a desending order : [90, 89, 67, 56, 34, 23, 12]\n",
      "this is a ascending order : [12, 23, 34, 56, 67, 89, 90]\n"
     ]
    }
   ],
   "source": [
    "### this is desending order\n",
    "lis=[23,12,34,67,89,56,90]\n",
    "print(f\"this is a desending order : {sorted(lis,reverse=True)}\")\n",
    "### this is ascending order\n",
    "lis=[23,12,34,67,89,56,90]\n",
    "print(f\"this is a ascending order : {sorted(lis)}\")"
   ]
  },
  {
   "cell_type": "markdown",
   "id": "e5e1c8fd",
   "metadata": {},
   "source": [
    "# Module 2: Control Flow Assignments\n",
    "## Lesson 2.1: Conditional Statements\n",
    "### Assignment 1: Simple if Statement\n",
    "\n",
    "Write a program that asks the user to input a number and prints whether the number is positive."
   ]
  },
  {
   "cell_type": "code",
   "execution_count": 21,
   "id": "1b6eacf3",
   "metadata": {},
   "outputs": [
    {
     "name": "stdout",
     "output_type": "stream",
     "text": [
      "45 is positive\n"
     ]
    }
   ],
   "source": [
    "num=int(input(\"enter the number:\"))\n",
    "if num>0:\n",
    "    print(f\"{num} is positive\")"
   ]
  },
  {
   "cell_type": "markdown",
   "id": "5430f687",
   "metadata": {},
   "source": [
    "### Assignment 2: if-else Statement\n",
    "\n",
    "Write a program that asks the user to input a number and prints whether the number is positive or negative."
   ]
  },
  {
   "cell_type": "code",
   "execution_count": 23,
   "id": "4d6e20b5",
   "metadata": {},
   "outputs": [
    {
     "name": "stdout",
     "output_type": "stream",
     "text": [
      "-90 is negative\n"
     ]
    }
   ],
   "source": [
    "num=int(input(\"enter the number:\"))\n",
    "if num>0:\n",
    "    print(f\"{num} is positive\" )\n",
    "else:\n",
    "    print(f\"{num} is negative\")"
   ]
  },
  {
   "cell_type": "markdown",
   "id": "d2d56a47",
   "metadata": {},
   "source": [
    "### Assignment 3: if-elif-else Statement\n",
    "\n",
    "Write a program that asks the user to input a number and prints whether the number is positive, negative, or zero."
   ]
  },
  {
   "cell_type": "code",
   "execution_count": 27,
   "id": "22c6ddf0",
   "metadata": {},
   "outputs": [
    {
     "name": "stdout",
     "output_type": "stream",
     "text": [
      "90 is positive\n"
     ]
    }
   ],
   "source": [
    "num=int(input(\"enter the number:\"))\n",
    "if num>0:\n",
    "    print(f\"{num} is positive\")\n",
    "elif num<0:\n",
    "    print(f\"{num} is negative\")\n",
    "else:\n",
    "    print(f\"{num} is zero\")"
   ]
  },
  {
   "cell_type": "markdown",
   "id": "6c7e7916",
   "metadata": {},
   "source": [
    "### Assignment 4: Nested if Statement\n",
    "\n",
    "Write a program that asks the user to input a number and prints whether the number is positive and even, positive and odd, or negative."
   ]
  },
  {
   "cell_type": "code",
   "execution_count": 28,
   "id": "22434829",
   "metadata": {},
   "outputs": [
    {
     "name": "stdout",
     "output_type": "stream",
     "text": [
      "68 is positive and even number\n"
     ]
    }
   ],
   "source": [
    "num=int(input(\"enter the number:\"))\n",
    "if num>0:\n",
    "    if num%2==0:\n",
    "        print(f\"{num} is positive and even number\")\n",
    "    else:\n",
    "        print(f\"{num} is positive and odd number\")   \n",
    "else:\n",
    "    print(f\"{num} is negative number\") "
   ]
  },
  {
   "cell_type": "markdown",
   "id": "64748e8f",
   "metadata": {},
   "source": [
    "## Lesson 2.2: Loops\n",
    "### Assignment 5: for Loop\n",
    "\n",
    "Write a program that prints all the numbers from 1 to 10 using a for loop."
   ]
  },
  {
   "cell_type": "code",
   "execution_count": 29,
   "id": "3190264f",
   "metadata": {},
   "outputs": [
    {
     "name": "stdout",
     "output_type": "stream",
     "text": [
      "1\n",
      "2\n",
      "3\n",
      "4\n",
      "5\n",
      "6\n",
      "7\n",
      "8\n",
      "9\n",
      "10\n"
     ]
    }
   ],
   "source": [
    "for i in range(1,11):\n",
    "    print(i)"
   ]
  },
  {
   "cell_type": "markdown",
   "id": "586d5118",
   "metadata": {},
   "source": [
    "### Assignment 6: while Loop\n",
    "\n",
    "Write a program that prints all the numbers from 1 to 10 using a while loop."
   ]
  },
  {
   "cell_type": "code",
   "execution_count": 31,
   "id": "8f447742",
   "metadata": {},
   "outputs": [
    {
     "name": "stdout",
     "output_type": "stream",
     "text": [
      "1\n",
      "2\n",
      "3\n",
      "4\n",
      "5\n",
      "6\n",
      "7\n",
      "8\n",
      "9\n",
      "10\n"
     ]
    }
   ],
   "source": [
    "i=1\n",
    "while i<11:\n",
    "    print(i)\n",
    "    i=i+1"
   ]
  },
  {
   "cell_type": "markdown",
   "id": "27be27d5",
   "metadata": {},
   "source": [
    "### Assignment 7: Nested Loops\n",
    "\n",
    "Write a program that prints a 5x5 grid of asterisks (*) using nested loops.\n"
   ]
  },
  {
   "cell_type": "code",
   "execution_count": 32,
   "id": "7f015212",
   "metadata": {},
   "outputs": [
    {
     "name": "stdout",
     "output_type": "stream",
     "text": [
      "* * * * * \n",
      "* * * * * \n",
      "* * * * * \n",
      "* * * * * \n",
      "* * * * * \n"
     ]
    }
   ],
   "source": [
    "for i in range (5):\n",
    "    for j in range (5):\n",
    "        print(\"*\",end=\" \")\n",
    "    print()"
   ]
  },
  {
   "cell_type": "markdown",
   "id": "58e971df",
   "metadata": {},
   "source": [
    "### Assignment 8: break Statement\n",
    "\n",
    "Write a program that asks the user to input numbers until they input 0. The program should print the sum of all the input numbers."
   ]
  },
  {
   "cell_type": "code",
   "execution_count": 50,
   "id": "5212be62",
   "metadata": {},
   "outputs": [
    {
     "name": "stdout",
     "output_type": "stream",
     "text": [
      "total of the number is : 20\n"
     ]
    }
   ],
   "source": [
    "total=0\n",
    "while True:\n",
    "    num=int(input(\"enter the number:\"))\n",
    "    if num==0:\n",
    "        break\n",
    "    else:\n",
    "        total=total+num\n",
    "print(f\"total of the number is : {total}\")    \n",
    " "
   ]
  },
  {
   "cell_type": "markdown",
   "id": "72f2d342",
   "metadata": {},
   "source": [
    "### Assignment 9: continue Statement\n",
    "\n",
    "Write a program that prints all the numbers from 1 to 10 except 5 using a for loop and continue statement."
   ]
  },
  {
   "cell_type": "code",
   "execution_count": null,
   "id": "cd1aa107",
   "metadata": {},
   "outputs": [
    {
     "name": "stdout",
     "output_type": "stream",
     "text": [
      "1\n",
      "2\n",
      "3\n",
      "4\n"
     ]
    }
   ],
   "source": [
    "for i in range (1,11):\n",
    "    if i ==5:\n",
    "        continue\n",
    "    print(i)"
   ]
  },
  {
   "cell_type": "markdown",
   "id": "273585d9",
   "metadata": {},
   "source": [
    "### Assignment 10: pass Statement\n",
    "\n",
    "Write a program that defines an empty function using the pass statement."
   ]
  },
  {
   "cell_type": "code",
   "execution_count": 61,
   "id": "f09731d7",
   "metadata": {},
   "outputs": [],
   "source": [
    "def empty_fun():\n",
    "    pass\n",
    "empty_fun()"
   ]
  },
  {
   "cell_type": "markdown",
   "id": "050e3850",
   "metadata": {},
   "source": [
    "### Assignment 11: Combining Loops and Conditionals\n",
    "\n",
    "Write a program that asks the user to input a number and prints all the even numbers from 1 to that number using a for loop."
   ]
  },
  {
   "cell_type": "code",
   "execution_count": 67,
   "id": "557ebde4",
   "metadata": {},
   "outputs": [
    {
     "name": "stdout",
     "output_type": "stream",
     "text": [
      "2\n",
      "4\n",
      "6\n",
      "8\n"
     ]
    }
   ],
   "source": [
    "num=int(input(\"enter the number:\"))\n",
    "for i in range (1,num):\n",
    "    if i%2==0:\n",
    "        print(i)\n"
   ]
  },
  {
   "cell_type": "markdown",
   "id": "39def732",
   "metadata": {},
   "source": [
    "### Assignment 12: Factorial Calculation\n",
    "\n",
    "Write a program that calculates the factorial of a number input by the user using a while loop."
   ]
  },
  {
   "cell_type": "code",
   "execution_count": 84,
   "id": "adac570f",
   "metadata": {},
   "outputs": [
    {
     "name": "stdout",
     "output_type": "stream",
     "text": [
      "number is :5 factorial is 120\n"
     ]
    }
   ],
   "source": [
    "num = int(input(\"Enter the number: \"))\n",
    "factorial = 1\n",
    "j = 1\n",
    "\n",
    "while j <= num:\n",
    "    factorial = factorial * j\n",
    "    j = j + 1\n",
    "\n",
    "print(f\"number is :{num} factorial is {factorial}\")\n",
    "\n",
    "    "
   ]
  },
  {
   "cell_type": "markdown",
   "id": "8a4b1cda",
   "metadata": {},
   "source": [
    "### Assignment 13: Sum of Digits\n",
    "\n",
    "Write a program that calculates the sum of the digits of a number input by the user using a while loop."
   ]
  },
  {
   "cell_type": "markdown",
   "id": "b8834bb5",
   "metadata": {},
   "source": [
    "\n",
    "### Assignment 14: Prime Number Check\n",
    "\n",
    "Write a program that checks if a number input by the user is a prime number using a for loop."
   ]
  },
  {
   "cell_type": "markdown",
   "id": "19944fe2",
   "metadata": {},
   "source": [
    "### Assignment 15: Fibonacci Sequence\n",
    "\n",
    "Write a program that prints the first n Fibonacci numbers, where n is input by the user."
   ]
  },
  {
   "cell_type": "code",
   "execution_count": null,
   "id": "4bbbd2c4",
   "metadata": {},
   "outputs": [],
   "source": []
  },
  {
   "cell_type": "markdown",
   "id": "41473256",
   "metadata": {},
   "source": [
    "# Module 3: Data Structures Assignments\n",
    "## Lesson 3.1: Lists\n",
    "### Assignment 1: Creating and Accessing Lists\n",
    "\n",
    "Create a list of the first 20 positive integers. Print the list."
   ]
  },
  {
   "cell_type": "markdown",
   "id": "eaaa82f6",
   "metadata": {},
   "source": [
    "### Assignment 2: Accessing List Elements\n",
    "\n",
    "Print the first, middle, and last elements of the list created in Assignment 1."
   ]
  },
  {
   "cell_type": "markdown",
   "id": "c9dfdf4c",
   "metadata": {},
   "source": [
    "### Assignment 3: List Slicing\n",
    "\n",
    "Print the first five elements, the last five elements, and the elements from index 5 to 15 of the list created in Assignment 1."
   ]
  },
  {
   "cell_type": "markdown",
   "id": "fd782536",
   "metadata": {},
   "source": [
    "### Assignment 4: List Comprehensions\n",
    "\n",
    "Create a new list containing the squares of the first 10 positive integers using a list comprehension. Print the new list."
   ]
  },
  {
   "cell_type": "markdown",
   "id": "fe8c5ac8",
   "metadata": {},
   "source": [
    "### Assignment 5: Filtering Lists\n",
    "\n",
    "Create a new list containing only the even numbers from the list created in Assignment 1 using a list comprehension. Print the new list."
   ]
  },
  {
   "cell_type": "markdown",
   "id": "68d41080",
   "metadata": {},
   "source": [
    "### Assignment 6: List Methods\n",
    "\n",
    "Create a list of random numbers and sort it in ascending and descending order. Remove the duplicates from the list and print the modified list."
   ]
  },
  {
   "cell_type": "markdown",
   "id": "06625480",
   "metadata": {},
   "source": [
    "\n",
    "\n",
    "## Assignment 7: Nested Lists\n",
    "\n",
    "Create a nested list representing a 3x3 matrix and print the matrix. Access and print the element at the second row and third column.\n"
   ]
  },
  {
   "cell_type": "markdown",
   "id": "3b2c4e6c",
   "metadata": {},
   "source": [
    "\n",
    "### Assignment 8: List of Dictionaries\n",
    "\n",
    "Create a list of dictionaries where each dictionary represents a student with keys 'name' and 'score'. Sort the list of dictionaries by the 'score' in descending order and print the sorted list."
   ]
  },
  {
   "cell_type": "markdown",
   "id": "aac454c6",
   "metadata": {},
   "source": [
    "\n",
    "### Assignment 9: Matrix Transposition\n",
    "\n",
    "Write a function that takes a 3x3 matrix (nested list) as input and returns its transpose. Print the original and transposed matrices."
   ]
  },
  {
   "cell_type": "markdown",
   "id": "c3b338f1",
   "metadata": {},
   "source": [
    "### Assignment 10: Flattening a Nested List\n",
    "\n",
    "Write a function that takes a nested list and flattens it into a single list. Print the original and flattened lists.\n"
   ]
  },
  {
   "cell_type": "code",
   "execution_count": null,
   "id": "96f1ce6f",
   "metadata": {},
   "outputs": [],
   "source": []
  },
  {
   "cell_type": "markdown",
   "id": "3fabfdea",
   "metadata": {},
   "source": [
    "### Assignment 11: List Manipulation\n",
    "\n",
    "Create a list of the first 10 positive integers. Remove the elements at indices 2, 4, and 6, and insert the element '99' at index 5. Print the modified list."
   ]
  },
  {
   "cell_type": "markdown",
   "id": "9b0cdb3d",
   "metadata": {},
   "source": [
    "### Assignment 12: List Zipping\n",
    "\n",
    "Create two lists of the same length. Use the `zip` function to combine these lists into a list of tuples and print the result."
   ]
  },
  {
   "cell_type": "markdown",
   "id": "b22d707c",
   "metadata": {},
   "source": [
    "### Assignment 13: List Reversal\n",
    "\n",
    "Write a function that takes a list and returns a new list with the elements in reverse order. Print the original and reversed lists."
   ]
  },
  {
   "cell_type": "markdown",
   "id": "47ab0ed9",
   "metadata": {},
   "source": [
    "\n",
    "### Assignment 14: List Rotation\n",
    "\n",
    "Write a function that rotates a list by n positions. Print the original and rotated lists."
   ]
  },
  {
   "cell_type": "markdown",
   "id": "4fe1f240",
   "metadata": {},
   "source": [
    "### Assignment 15: List Intersection\n",
    "\n",
    "Write a function that takes two lists and returns a new list containing only the elements that are present in both lists. Print the intersected list."
   ]
  },
  {
   "cell_type": "code",
   "execution_count": null,
   "id": "03f382d3",
   "metadata": {},
   "outputs": [],
   "source": []
  },
  {
   "cell_type": "markdown",
   "id": "d8ba6bd0",
   "metadata": {},
   "source": [
    "# Module 3: Data Structures Assignments\n",
    "## Lesson 3.2: Tuples\n",
    "### Assignment 1: Creating and Accessing Tuples\n",
    "\n",
    "Create a tuple with the first 10 positive integers. Print the tuple.\n"
   ]
  },
  {
   "cell_type": "markdown",
   "id": "9c0ae95d",
   "metadata": {},
   "source": [
    "### Assignment 2: Accessing Tuple Elements\n",
    "\n",
    "Print the first, middle, and last elements of the tuple created in Assignment 1."
   ]
  },
  {
   "cell_type": "markdown",
   "id": "b21d63ee",
   "metadata": {},
   "source": [
    "### Assignment 3: Tuple Slicing\n",
    "\n",
    "Print the first three elements, the last three elements, and the elements from index 2 to 5 of the tuple created in Assignment 1."
   ]
  },
  {
   "cell_type": "markdown",
   "id": "3d83365f",
   "metadata": {},
   "source": [
    "### Assignment 4: Nested Tuples\n",
    "\n",
    "Create a nested tuple representing a 3x3 matrix and print the matrix. Access and print the element at the second row and third column."
   ]
  },
  {
   "cell_type": "markdown",
   "id": "8c13c291",
   "metadata": {},
   "source": [
    "### Assignment 5: Tuple Concatenation\n",
    "\n",
    "Concatenate two tuples: (1, 2, 3) and (4, 5, 6). Print the resulting tuple."
   ]
  },
  {
   "cell_type": "markdown",
   "id": "ffe3b74f",
   "metadata": {},
   "source": [
    "\n",
    "### Assignment 6: Tuple Methods\n",
    "\n",
    "Create a tuple with duplicate elements and count the occurrences of an element. Find the index of the first occurrence of an element in the tuple."
   ]
  },
  {
   "cell_type": "markdown",
   "id": "2fe4c894",
   "metadata": {},
   "source": [
    "### Assignment 7: Unpacking Tuples\n",
    "\n",
    "Create a tuple with 5 elements and unpack it into 5 variables. Print the variables."
   ]
  },
  {
   "cell_type": "markdown",
   "id": "3d043d82",
   "metadata": {},
   "source": [
    "### Assignment 8: Tuple Conversion\n",
    "\n",
    "Convert a list of the first 5 positive integers to a tuple. Print the tuple.\n"
   ]
  },
  {
   "cell_type": "markdown",
   "id": "8c4ded39",
   "metadata": {},
   "source": [
    "### Assignment 9: Tuple of Tuples\n",
    "\n",
    "Create a tuple containing 3 tuples, each with 3 elements. Print the tuple of tuples."
   ]
  },
  {
   "cell_type": "markdown",
   "id": "984f4a0e",
   "metadata": {},
   "source": [
    "### Assignment 10: Tuple and List\n",
    "\n",
    "Create a tuple with the first 5 positive integers. Convert it to a list, append the number 6, and convert it back to a tuple. Print the resulting tuple."
   ]
  },
  {
   "cell_type": "markdown",
   "id": "009de236",
   "metadata": {},
   "source": [
    "### Assignment 11: Tuple and String\n",
    "\n",
    "Create a tuple with the characters of a string. Join the tuple elements into a single string. Print the string."
   ]
  },
  {
   "cell_type": "markdown",
   "id": "80fb9251",
   "metadata": {},
   "source": [
    "### Assignment 12: Tuple and Dictionary\n",
    "\n",
    "Create a dictionary with tuple keys and integer values. Print the dictionary."
   ]
  },
  {
   "cell_type": "markdown",
   "id": "f54e6f5e",
   "metadata": {},
   "source": [
    "### Assignment 13: Nested Tuple Iteration\n",
    "\n",
    "Create a nested tuple and iterate over the elements, printing each element."
   ]
  },
  {
   "cell_type": "markdown",
   "id": "ca8ebb18",
   "metadata": {},
   "source": [
    "### Assignment 14: Tuple and Set\n",
    "\n",
    "Create a tuple with duplicate elements. Convert it to a set to remove duplicates and print the resulting set."
   ]
  },
  {
   "cell_type": "markdown",
   "id": "c71501e3",
   "metadata": {},
   "source": [
    "### Assignment 15: Tuple Functions\n",
    "\n",
    "Write functions that take a tuple and return the minimum, maximum, and sum of the elements. Print the results for a sample tuple."
   ]
  },
  {
   "cell_type": "code",
   "execution_count": null,
   "id": "a118ec0a",
   "metadata": {},
   "outputs": [],
   "source": []
  },
  {
   "cell_type": "markdown",
   "id": "01955421",
   "metadata": {},
   "source": [
    "# Module 3: Data Structures Assignments\n",
    "## Lesson 3.3: Sets\n",
    "### Assignment 1: Creating and Accessing Sets\n",
    "\n",
    "Create a set with the first 10 positive integers. Print the set."
   ]
  },
  {
   "cell_type": "markdown",
   "id": "81980b87",
   "metadata": {},
   "source": [
    "### Assignment 2: Adding and Removing Elements\n",
    "\n",
    "Add the number 11 to the set created in Assignment 1. Then remove the number 1 from the set. Print the modified set."
   ]
  },
  {
   "cell_type": "markdown",
   "id": "a6562c3c",
   "metadata": {},
   "source": [
    "### Assignment 3: Set Operations\n",
    "\n",
    "Create two sets: one with the first 5 positive integers and another with the first 5 even integers. Perform and print the results of union, intersection, difference, and symmetric difference operations on these sets.\n"
   ]
  },
  {
   "cell_type": "markdown",
   "id": "7f59747b",
   "metadata": {},
   "source": [
    "\n",
    "### Assignment 4: Set Comprehensions\n",
    "\n",
    "Create a new set containing the squares of the first 10 positive integers using a set comprehension. Print the new set."
   ]
  },
  {
   "cell_type": "markdown",
   "id": "39808e3e",
   "metadata": {},
   "source": [
    "\n",
    "### Assignment 5: Filtering Sets\n",
    "\n",
    "Create a new set containing only the even numbers from the set created in Assignment 1 using a set comprehension. Print the new set."
   ]
  },
  {
   "cell_type": "markdown",
   "id": "56d3038e",
   "metadata": {},
   "source": [
    "### Assignment 6: Set Methods\n",
    "\n",
    "Create a set with duplicate elements and remove the duplicates using set methods. Print the modified set.\n"
   ]
  },
  {
   "cell_type": "markdown",
   "id": "b7d02431",
   "metadata": {},
   "source": [
    "### Assignment 7: Subsets and Supersets\n",
    "\n",
    "Create two sets: one with the first 5 positive integers and another with the first 3 positive integers. Check if the second set is a subset of the first set and if the first set is a superset of the second set. Print the results."
   ]
  },
  {
   "cell_type": "markdown",
   "id": "131be388",
   "metadata": {},
   "source": [
    "### Assignment 8: Frozenset\n",
    "\n",
    "Create a frozenset with the first 5 positive integers. Print the frozenset."
   ]
  },
  {
   "cell_type": "markdown",
   "id": "7b60226e",
   "metadata": {},
   "source": [
    "### Assignment 9: Set and List Conversion\n",
    "\n",
    "Create a set with the first 5 positive integers. Convert it to a list, append the number 6, and convert it back to a set. Print the resulting set.\n"
   ]
  },
  {
   "cell_type": "markdown",
   "id": "f1242bae",
   "metadata": {},
   "source": [
    "### Assignment 10: Set and Dictionary\n",
    "\n",
    "Create a dictionary with set keys and integer values. Print the dictionary."
   ]
  },
  {
   "cell_type": "markdown",
   "id": "ab97361e",
   "metadata": {},
   "source": [
    "### Assignment 11: Iterating Over Sets\n",
    "\n",
    "Create a set and iterate over the elements, printing each element."
   ]
  },
  {
   "cell_type": "markdown",
   "id": "f2746218",
   "metadata": {},
   "source": [
    "### Assignment 12: Removing Elements from Sets\n",
    "\n",
    "Create a set and remove elements from it until it is empty. Print the set after each removal."
   ]
  },
  {
   "cell_type": "markdown",
   "id": "167d928c",
   "metadata": {},
   "source": [
    "\n",
    "### Assignment 13: Set Symmetric Difference Update\n",
    "\n",
    "Create two sets and update the first set with the symmetric difference of the two sets. Print the modified first set.\n"
   ]
  },
  {
   "cell_type": "markdown",
   "id": "e278c28b",
   "metadata": {},
   "source": [
    "### Assignment 14: Set Membership Testing\n",
    "\n",
    "Create a set and test if certain elements are present in the set. Print the results."
   ]
  },
  {
   "cell_type": "markdown",
   "id": "8c989b07",
   "metadata": {},
   "source": [
    "\n",
    "\n",
    "### Assignment 15: Set of Tuples\n",
    "\n",
    "Create a set containing tuples, where each tuple contains two elements. Print the set."
   ]
  }
 ],
 "metadata": {
  "kernelspec": {
   "display_name": "base",
   "language": "python",
   "name": "python3"
  },
  "language_info": {
   "codemirror_mode": {
    "name": "ipython",
    "version": 3
   },
   "file_extension": ".py",
   "mimetype": "text/x-python",
   "name": "python",
   "nbconvert_exporter": "python",
   "pygments_lexer": "ipython3",
   "version": "3.12.7"
  }
 },
 "nbformat": 4,
 "nbformat_minor": 5
}

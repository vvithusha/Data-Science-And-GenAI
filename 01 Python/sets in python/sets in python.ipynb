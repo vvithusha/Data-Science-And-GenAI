{
 "cells": [
  {
   "cell_type": "markdown",
   "id": "4eb258a0",
   "metadata": {},
   "source": [
    "## sets"
   ]
  },
  {
   "cell_type": "code",
   "execution_count": null,
   "id": "e175592a",
   "metadata": {},
   "outputs": [
    {
     "name": "stdout",
     "output_type": "stream",
     "text": [
      "{1, 2, 3, 4, 5}\n",
      "<class 'set'>\n"
     ]
    }
   ],
   "source": [
    "## do not allow duplicate elements\n",
    "my_set={1,2,3,4,5}\n",
    "print(my_set)\n",
    "print(type(my_set)) "
   ]
  },
  {
   "cell_type": "code",
   "execution_count": 2,
   "id": "5eb68a64",
   "metadata": {},
   "outputs": [
    {
     "name": "stdout",
     "output_type": "stream",
     "text": [
      "<class 'set'>\n"
     ]
    }
   ],
   "source": [
    "my_empty_set=set()\n",
    "print(type(my_empty_set))"
   ]
  },
  {
   "cell_type": "code",
   "execution_count": 4,
   "id": "f0afe5e0",
   "metadata": {},
   "outputs": [
    {
     "name": "stdout",
     "output_type": "stream",
     "text": [
      "{1, 2, 3, 4, 5, 6, 7}\n",
      "<class 'set'>\n"
     ]
    }
   ],
   "source": [
    "my_empty_set=({1,2,3,4,5,6,7})\n",
    "print(my_empty_set)\n",
    "print(type(my_empty_set))"
   ]
  },
  {
   "cell_type": "code",
   "execution_count": 7,
   "id": "9ae17b1b",
   "metadata": {},
   "outputs": [
    {
     "name": "stdout",
     "output_type": "stream",
     "text": [
      "<class 'dict'>\n",
      "{'name': 'vithu', 'age': 21}\n"
     ]
    }
   ],
   "source": [
    "## dict\n",
    "\n",
    "my_dict=({\"name\":\"vithu\",\"age\":21})\n",
    "print(type(my_dict))\n",
    "print(my_dict)\n"
   ]
  },
  {
   "cell_type": "code",
   "execution_count": 9,
   "id": "5be9401e",
   "metadata": {},
   "outputs": [
    {
     "name": "stdout",
     "output_type": "stream",
     "text": [
      "{1, 2, 3, 4, 5, 6, 7, 8}\n"
     ]
    }
   ],
   "source": [
    "## do not allow dupilicate items\n",
    "my_set={1,2,3,4,4,3,2,6,6,7,8,5}\n",
    "print(set(my_set))"
   ]
  },
  {
   "cell_type": "code",
   "execution_count": null,
   "id": "050cc802",
   "metadata": {},
   "outputs": [
    {
     "name": "stdout",
     "output_type": "stream",
     "text": [
      "{1, 2, 3, 4, 5, 6, 7, 8, 10}\n",
      "{1, 2, 3, 4, 5, 6, 7, 8, 10}\n"
     ]
    }
   ],
   "source": [
    "## basic sets opreation\n",
    "## adding and removing elements\n",
    "\n",
    "## adding elements\n",
    "my_set.add(10)\n",
    "print(my_set)\n",
    "my_set.add(10)\n",
    "print(my_set)"
   ]
  },
  {
   "cell_type": "code",
   "execution_count": 13,
   "id": "02af2eff",
   "metadata": {},
   "outputs": [
    {
     "name": "stdout",
     "output_type": "stream",
     "text": [
      "{1, 2, 4, 5, 6, 7, 8, 10}\n"
     ]
    }
   ],
   "source": [
    "## removing items\n",
    "my_set.remove(3)\n",
    "print(my_set)"
   ]
  },
  {
   "cell_type": "code",
   "execution_count": 17,
   "id": "4e739d07",
   "metadata": {},
   "outputs": [
    {
     "name": "stdout",
     "output_type": "stream",
     "text": [
      "{1, 2, 4, 6, 7, 8, 10}\n"
     ]
    }
   ],
   "source": [
    "## discard & remove \n",
    "## remove an element from a set if it a member\n",
    "my_set.discard(5)\n",
    "print(my_set)"
   ]
  },
  {
   "cell_type": "code",
   "execution_count": 21,
   "id": "ddc8af61",
   "metadata": {},
   "outputs": [
    {
     "name": "stdout",
     "output_type": "stream",
     "text": [
      "6\n",
      "{7, 8, 10}\n"
     ]
    }
   ],
   "source": [
    "## pop method\n",
    "removed_element=my_set.pop()\n",
    "print(removed_element)\n",
    "print(my_set)"
   ]
  },
  {
   "cell_type": "code",
   "execution_count": 26,
   "id": "e8be6ced",
   "metadata": {},
   "outputs": [],
   "source": [
    "my_set.add(5)"
   ]
  },
  {
   "cell_type": "code",
   "execution_count": 27,
   "id": "c519f1e8",
   "metadata": {},
   "outputs": [
    {
     "data": {
      "text/plain": [
       "{5, 7, 8, 10}"
      ]
     },
     "execution_count": 27,
     "metadata": {},
     "output_type": "execute_result"
    }
   ],
   "source": [
    "my_set"
   ]
  },
  {
   "cell_type": "code",
   "execution_count": 29,
   "id": "68c0df9d",
   "metadata": {},
   "outputs": [
    {
     "name": "stdout",
     "output_type": "stream",
     "text": [
      "set()\n"
     ]
    }
   ],
   "source": [
    "## clear all elements\n",
    "my_set.clear()\n",
    "print(my_set)"
   ]
  },
  {
   "cell_type": "code",
   "execution_count": 31,
   "id": "084e8712",
   "metadata": {},
   "outputs": [
    {
     "name": "stdout",
     "output_type": "stream",
     "text": [
      "True\n",
      "False\n"
     ]
    }
   ],
   "source": [
    "## set memebership test\n",
    "my_set={1,2,3,4,5}\n",
    "print(3 in my_set)\n",
    "print(10 in my_set)"
   ]
  },
  {
   "cell_type": "code",
   "execution_count": null,
   "id": "4ee435f1",
   "metadata": {},
   "outputs": [],
   "source": []
  }
 ],
 "metadata": {
  "kernelspec": {
   "display_name": "base",
   "language": "python",
   "name": "python3"
  },
  "language_info": {
   "codemirror_mode": {
    "name": "ipython",
    "version": 3
   },
   "file_extension": ".py",
   "mimetype": "text/x-python",
   "name": "python",
   "nbconvert_exporter": "python",
   "pygments_lexer": "ipython3",
   "version": "3.12.7"
  }
 },
 "nbformat": 4,
 "nbformat_minor": 5
}

{
 "cells": [
  {
   "cell_type": "markdown",
   "id": "d0b6adf0",
   "metadata": {},
   "source": [
    "## 1. Syntax and Semantics\n",
    "\n",
    "**Question 1:** Write a Python program to print \"Hello, World!\"."
   ]
  },
  {
   "cell_type": "code",
   "execution_count": 11,
   "id": "6fc6cd4b",
   "metadata": {},
   "outputs": [
    {
     "name": "stdout",
     "output_type": "stream",
     "text": [
      "hello world!\n"
     ]
    }
   ],
   "source": [
    "print(\"hello world!\")"
   ]
  },
  {
   "cell_type": "markdown",
   "id": "83392956",
   "metadata": {},
   "source": [
    "**Question 2:** Write a Python program that takes a user input and prints it."
   ]
  },
  {
   "cell_type": "code",
   "execution_count": 13,
   "id": "485bbebc",
   "metadata": {},
   "outputs": [
    {
     "name": "stdout",
     "output_type": "stream",
     "text": [
      "i love codeing\n"
     ]
    }
   ],
   "source": [
    "user_input=input(\"enter your thought:\")\n",
    "print(user_input)"
   ]
  },
  {
   "cell_type": "markdown",
   "id": "c636b0e3",
   "metadata": {},
   "source": [
    "**Question 3:** Write a Python program to check if a number is positive, negative, or zero."
   ]
  },
  {
   "cell_type": "code",
   "execution_count": 14,
   "id": "27117c5e",
   "metadata": {},
   "outputs": [
    {
     "name": "stdout",
     "output_type": "stream",
     "text": [
      "78 is positive\n"
     ]
    }
   ],
   "source": [
    "num=int(input(\"enter the number:\"))\n",
    "if num>0:\n",
    "    print(f\"{num} is positive\")\n",
    "elif num<0:\n",
    "    print(f\"{num} is negative\")\n",
    "else:\n",
    "    print(f\"{num} is zero\")"
   ]
  },
  {
   "cell_type": "markdown",
   "id": "ef0e6075",
   "metadata": {},
   "source": [
    "**Question 4:** Write a Python program to find the largest of three numbers."
   ]
  },
  {
   "cell_type": "code",
   "execution_count": 19,
   "id": "3789f2f7",
   "metadata": {},
   "outputs": [
    {
     "name": "stdout",
     "output_type": "stream",
     "text": [
      "largest three numbers:[10, 9, 8]\n"
     ]
    }
   ],
   "source": [
    "##use shorted\n",
    "lis=[1,2,3,4,5,6,7,8,9,10]\n",
    "sort_num=sorted(lis,reverse=True)\n",
    "largre_num=sort_num[:3]\n",
    "print(f\"largest three numbers:{largre_num}\")"
   ]
  },
  {
   "cell_type": "code",
   "execution_count": 24,
   "id": "da0da71d",
   "metadata": {},
   "outputs": [
    {
     "name": "stdout",
     "output_type": "stream",
     "text": [
      "largest three numbers:[10, 9, 8]\n"
     ]
    }
   ],
   "source": [
    "##use heapq\n",
    "import heapq\n",
    "lis=[1,2,3,4,5,6,7,8,9,10]\n",
    "sort_num=heapq.nlargest(3,lis)\n",
    "largre_num=sort_num[:3]\n",
    "print(f\"largest three numbers:{largre_num}\")\n"
   ]
  },
  {
   "cell_type": "markdown",
   "id": "12aa3cd6",
   "metadata": {},
   "source": [
    "**Question 5:** Write a Python program to calculate the factorial of a number."
   ]
  },
  {
   "cell_type": "code",
   "execution_count": 29,
   "id": "626fc665",
   "metadata": {},
   "outputs": [
    {
     "name": "stdout",
     "output_type": "stream",
     "text": [
      "120\n"
     ]
    }
   ],
   "source": [
    "fact=5\n",
    "for i in range(1,fact):\n",
    "    fact=fact*i\n",
    "print(fact)\n",
    "\n",
    "      "
   ]
  },
  {
   "cell_type": "code",
   "execution_count": 32,
   "id": "fd5b0d92",
   "metadata": {},
   "outputs": [
    {
     "name": "stdout",
     "output_type": "stream",
     "text": [
      "1\n",
      "4\n",
      "9\n",
      "16\n",
      "25\n",
      "36\n",
      "49\n",
      "64\n",
      "81\n"
     ]
    }
   ],
   "source": [
    "##square\n",
    "sequare=10\n",
    "\n",
    "for i in range(1,sequare):\n",
    "    sequare=i*i\n",
    "    print(sequare)\n"
   ]
  },
  {
   "cell_type": "markdown",
   "id": "dd1268b2",
   "metadata": {},
   "source": [
    "## 2. Variables and Data Types\n",
    "\n",
    "**Question 6:** Create variables of different data types: integer, float, string, and boolean. Print their values and types."
   ]
  },
  {
   "cell_type": "code",
   "execution_count": 34,
   "id": "62747b16",
   "metadata": {},
   "outputs": [
    {
     "name": "stdout",
     "output_type": "stream",
     "text": [
      "<class 'int'>\n",
      "<class 'float'>\n",
      "<class 'str'>\n",
      "<class 'bool'>\n"
     ]
    }
   ],
   "source": [
    "int_data=68\n",
    "float_data=67.9\n",
    "string=\"vithu\"\n",
    "bool_data=True\n",
    "\n",
    "print(type(int_data))\n",
    "print(type(float_data))\n",
    "print(type(string))\n",
    "print(type(bool_data))\n"
   ]
  },
  {
   "cell_type": "markdown",
   "id": "b6bc1900",
   "metadata": {},
   "source": [
    "**Question 7:** Write a Python program to swap the values of two variables."
   ]
  },
  {
   "cell_type": "code",
   "execution_count": 36,
   "id": "570dd30e",
   "metadata": {},
   "outputs": [
    {
     "name": "stdout",
     "output_type": "stream",
     "text": [
      "a= 80\n",
      "b= 90\n"
     ]
    }
   ],
   "source": [
    "a=90\n",
    "b=80\n",
    "## swap\n",
    "c=a\n",
    "a=b\n",
    "b=c\n",
    "print(\"a=\",a)\n",
    "print(\"b=\",b)\n"
   ]
  },
  {
   "cell_type": "markdown",
   "id": "a7cf8b97",
   "metadata": {},
   "source": [
    "**Question 8:** Write a Python program to convert Celsius to Fahrenheit."
   ]
  },
  {
   "cell_type": "code",
   "execution_count": 38,
   "id": "0af74dfd",
   "metadata": {},
   "outputs": [
    {
     "name": "stdout",
     "output_type": "stream",
     "text": [
      "celsiu_to_fahrenite:752.0\n"
     ]
    }
   ],
   "source": [
    "celsius=int(input(\"enter the celsius:\"))\n",
    "celsiu_to_fahrenite=(celsius*9/5)+32\n",
    "print(f\"celsiu_to_fahrenite:{celsiu_to_fahrenite}\")"
   ]
  },
  {
   "cell_type": "markdown",
   "id": "b62799c8",
   "metadata": {},
   "source": [
    "**Question 9:** Write a Python program to concatenate two strings."
   ]
  },
  {
   "cell_type": "code",
   "execution_count": 40,
   "id": "370d1429",
   "metadata": {},
   "outputs": [
    {
     "name": "stdout",
     "output_type": "stream",
     "text": [
      "vithu vimslsthas\n"
     ]
    }
   ],
   "source": [
    "name=\"vithu\"\n",
    "Name=\"vimslsthas\"\n",
    "print(name+\" \"+Name)\n"
   ]
  },
  {
   "cell_type": "markdown",
   "id": "d65c172b",
   "metadata": {},
   "source": [
    "**Question 10:** Write a Python program to check if a variable is of a specific data type."
   ]
  },
  {
   "cell_type": "code",
   "execution_count": null,
   "id": "81633b39",
   "metadata": {},
   "outputs": [
    {
     "name": "stdout",
     "output_type": "stream",
     "text": [
      "True\n"
     ]
    }
   ],
   "source": [
    "name=input(\"enter the type of data:\")\n",
    "print(isinstance(name,type(name)))\n"
   ]
  },
  {
   "cell_type": "markdown",
   "id": "d4fc8a91",
   "metadata": {},
   "source": [
    "## 3. Basic Operators (Arithmetic, Comparison, Logical)\n",
    "\n",
    "**Question 11:** Write a Python program to perform arithmetic operations: addition, subtraction, multiplication, and division."
   ]
  },
  {
   "cell_type": "code",
   "execution_count": 5,
   "id": "f14e8070",
   "metadata": {},
   "outputs": [
    {
     "name": "stdout",
     "output_type": "stream",
     "text": [
      "adisition= 46\n",
      "subraction= 42\n",
      "multiplication= 88\n",
      "division= 22.0\n"
     ]
    }
   ],
   "source": [
    "\n",
    "a=44\n",
    "b=2\n",
    "print(\"adisition=\",a+b)\n",
    "print(\"subraction=\",a-b)\n",
    "print(\"multiplication=\",a*b)\n",
    "print(\"division=\",a/b)"
   ]
  },
  {
   "cell_type": "markdown",
   "id": "6157eaf0",
   "metadata": {},
   "source": [
    "**Question 12:** Write a Python program to demonstrate comparison operators: equal to, not equal to, greater than, less than."
   ]
  },
  {
   "cell_type": "code",
   "execution_count": 11,
   "id": "181ec17c",
   "metadata": {},
   "outputs": [
    {
     "name": "stdout",
     "output_type": "stream",
     "text": [
      "equal to= False\n",
      "True\n",
      "True\n",
      "False\n"
     ]
    }
   ],
   "source": [
    "a=89\n",
    "b=57\n",
    "\n",
    "print(\"equal to=\",a==b)   #equal to\n",
    "print(a !=b)  #not equal to\n",
    "print(a>b)    #greater than\n",
    "print(a<b)    #less than"
   ]
  },
  {
   "cell_type": "markdown",
   "id": "1f9fc12c",
   "metadata": {},
   "source": [
    "**Question 13:** Write a Python program to demonstrate logical operators: and, or, not."
   ]
  },
  {
   "cell_type": "code",
   "execution_count": null,
   "id": "fe0eec25",
   "metadata": {},
   "outputs": [
    {
     "name": "stdout",
     "output_type": "stream",
     "text": [
      "False\n",
      "True\n",
      "False\n",
      "False\n",
      "True\n",
      "False\n",
      "True\n",
      "True\n",
      "False\n",
      "True\n"
     ]
    }
   ],
   "source": [
    "a=True\n",
    "b=False\n",
    "## AND GATE\n",
    "print(a and b)\n",
    "print(a and a)  ## true\n",
    "print(b and b)\n",
    "print(b and a)\n",
    "\n",
    "#OR GATE\n",
    "a=True\n",
    "b=False\n",
    "print(a or a)\n",
    "print(b or b)  #false\n",
    "print(b or a)\n",
    "print(a or b)\n",
    "\n",
    "#not gate\n",
    "print(not a)  ##false\n",
    "print(not b)  ##true"
   ]
  },
  {
   "cell_type": "markdown",
   "id": "7f762eba",
   "metadata": {},
   "source": [
    "**Question 14:** Write a Python program to calculate the square of a number."
   ]
  },
  {
   "cell_type": "code",
   "execution_count": 21,
   "id": "f9e573d7",
   "metadata": {},
   "outputs": [
    {
     "name": "stdout",
     "output_type": "stream",
     "text": [
      "1\n",
      "4\n",
      "9\n",
      "16\n",
      "25\n"
     ]
    }
   ],
   "source": [
    "sequare=5\n",
    "for i in range(1,sequare+1):\n",
    "       sequare=i*i  \n",
    "       print(sequare)"
   ]
  },
  {
   "cell_type": "code",
   "execution_count": null,
   "id": "707b6c82",
   "metadata": {},
   "outputs": [
    {
     "name": "stdout",
     "output_type": "stream",
     "text": [
      "1\n",
      "4\n",
      "9\n",
      "16\n",
      "25\n"
     ]
    }
   ],
   "source": [
    "def myfun(sequare):\n",
    "    for i in range(1,sequare):\n",
    "        sequare=i*i       \n",
    "        print(sequare)\n",
    "myfun(6)\n"
   ]
  },
  {
   "cell_type": "code",
   "execution_count": null,
   "id": "90f48beb",
   "metadata": {},
   "outputs": [],
   "source": []
  },
  {
   "cell_type": "markdown",
   "id": "e26485e7",
   "metadata": {},
   "source": [
    "**Question 15:** Write a Python program to check if a number is even or odd."
   ]
  },
  {
   "cell_type": "code",
   "execution_count": 24,
   "id": "9d2c5cbe",
   "metadata": {},
   "outputs": [
    {
     "name": "stdout",
     "output_type": "stream",
     "text": [
      "6 is even number\n"
     ]
    }
   ],
   "source": [
    "num=int(input(\"enter the number:\"))\n",
    "if num%2==0:\n",
    "    print(f\"{num} is even number\")\n",
    "else:\n",
    "    print(f\"{num} is odd number\")\n",
    "\n"
   ]
  },
  {
   "cell_type": "markdown",
   "id": "a26b4fbd",
   "metadata": {},
   "source": [
    "**Question 16:** Write a Python program to find the sum of the first n natural numbers."
   ]
  },
  {
   "cell_type": "code",
   "execution_count": 34,
   "id": "453f20fd",
   "metadata": {},
   "outputs": [
    {
     "name": "stdout",
     "output_type": "stream",
     "text": [
      "total= 1035\n"
     ]
    }
   ],
   "source": [
    "num=45\n",
    "total=num*(num+1)//2\n",
    "print(\"total=\",total)"
   ]
  },
  {
   "cell_type": "code",
   "execution_count": 38,
   "id": "3ea555ba",
   "metadata": {},
   "outputs": [
    {
     "data": {
      "text/plain": [
       "[55]"
      ]
     },
     "execution_count": 38,
     "metadata": {},
     "output_type": "execute_result"
    }
   ],
   "source": [
    "[10*(10+1)//2]"
   ]
  },
  {
   "cell_type": "markdown",
   "id": "6bb02d1e",
   "metadata": {},
   "source": [
    "**Question 17:** Write a Python program to check if a year is a leap year."
   ]
  },
  {
   "cell_type": "code",
   "execution_count": 43,
   "id": "d43b7e95",
   "metadata": {},
   "outputs": [
    {
     "name": "stdout",
     "output_type": "stream",
     "text": [
      "2024this year is leep year\n"
     ]
    }
   ],
   "source": [
    "year=int(input(\"enter the year:\"))\n",
    "if (year%4==0 and year%100!=0) or (year%400==0):\n",
    "    print(f\"{year}this year is leep year\")\n",
    "else:\n",
    "    print(f\"{year} is not a leep year\")"
   ]
  },
  {
   "cell_type": "markdown",
   "id": "3e76049e",
   "metadata": {},
   "source": [
    "**Question 18:** Write a Python program to reverse a string."
   ]
  },
  {
   "cell_type": "code",
   "execution_count": 47,
   "id": "5f376a92",
   "metadata": {},
   "outputs": [
    {
     "name": "stdout",
     "output_type": "stream",
     "text": [
      "ahsuhtiv\n"
     ]
    }
   ],
   "source": [
    "name=\"vithusha\"\n",
    "print(name[::-1])\n"
   ]
  },
  {
   "cell_type": "markdown",
   "id": "3030a45c",
   "metadata": {},
   "source": [
    "**Question 19:** Write a Python program to check if a string is a palindrome."
   ]
  },
  {
   "cell_type": "code",
   "execution_count": 52,
   "id": "ec78db48",
   "metadata": {},
   "outputs": [
    {
     "name": "stdout",
     "output_type": "stream",
     "text": [
      "kalak is palindrome word\n"
     ]
    }
   ],
   "source": [
    "str_var=input(\"enter the word\")\n",
    "if str_var[0]==str_var[-1]:\n",
    "    print(f\"{str_var} is palindrome word\")\n",
    "else:\n",
    "    print(\"this word is not palindrome word\")\n"
   ]
  },
  {
   "cell_type": "code",
   "execution_count": 53,
   "id": "e4854acf",
   "metadata": {},
   "outputs": [
    {
     "name": "stdout",
     "output_type": "stream",
     "text": [
      "k\n",
      "k\n"
     ]
    }
   ],
   "source": [
    "str_var=\"kalak\"\n",
    "print(str_var[0])\n",
    "print(str_var[-1])"
   ]
  },
  {
   "cell_type": "markdown",
   "id": "456a02ec",
   "metadata": {},
   "source": [
    "**Question 20:** Write a Python program to sort a list of numbers in ascending order."
   ]
  },
  {
   "cell_type": "code",
   "execution_count": 55,
   "id": "5f54e043",
   "metadata": {},
   "outputs": [
    {
     "name": "stdout",
     "output_type": "stream",
     "text": [
      "[784, 745, 654, 564, 474, 355, 336, 289, 200]\n"
     ]
    }
   ],
   "source": [
    "lis=[289,474,564,784,355,654,745,200,336,]\n",
    "asc_order=sorted(lis,reverse=True)\n",
    "print(asc_order)"
   ]
  },
  {
   "cell_type": "code",
   "execution_count": 56,
   "id": "d636eeea",
   "metadata": {},
   "outputs": [
    {
     "name": "stdout",
     "output_type": "stream",
     "text": [
      "[200, 289, 336, 355, 474, 564, 654, 745, 784]\n"
     ]
    }
   ],
   "source": [
    "## desending order\n",
    "lis=[289,474,564,784,355,654,745,200,336,]\n",
    "asc_order=sorted(lis,reverse=False)\n",
    "print(asc_order)"
   ]
  },
  {
   "cell_type": "code",
   "execution_count": null,
   "id": "7f8d46a6",
   "metadata": {},
   "outputs": [],
   "source": []
  }
 ],
 "metadata": {
  "kernelspec": {
   "display_name": "base",
   "language": "python",
   "name": "python3"
  },
  "language_info": {
   "codemirror_mode": {
    "name": "ipython",
    "version": 3
   },
   "file_extension": ".py",
   "mimetype": "text/x-python",
   "name": "python",
   "nbconvert_exporter": "python",
   "pygments_lexer": "ipython3",
   "version": "3.12.7"
  }
 },
 "nbformat": 4,
 "nbformat_minor": 5
}

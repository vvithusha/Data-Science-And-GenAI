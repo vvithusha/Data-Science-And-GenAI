{
 "cells": [
  {
   "cell_type": "markdown",
   "id": "cf0dbfe6",
   "metadata": {},
   "source": [
    "# Module 3: Data Structures Assignments\n",
    "## Lesson 3.2: Tuples\n",
    "### Assignment 1: Creating and Accessing Tuples\n",
    "\n",
    "Create a tuple with the first 10 positive integers. Print the tuple.\n"
   ]
  },
  {
   "cell_type": "code",
   "execution_count": 25,
   "id": "dc934e52",
   "metadata": {},
   "outputs": [
    {
     "name": "stdout",
     "output_type": "stream",
     "text": [
      "(1, 2, 3, 4, 5, 6, 7, 8, 9, 10)\n"
     ]
    }
   ],
   "source": [
    "pos_tup=tuple(range(1,11))\n",
    "print(pos_tup)"
   ]
  },
  {
   "cell_type": "markdown",
   "id": "590e4bdc",
   "metadata": {},
   "source": [
    "### Assignment 2: Accessing Tuple Elements\n",
    "\n",
    "Print the first, middle, and last elements of the tuple created in Assignment 1."
   ]
  },
  {
   "cell_type": "code",
   "execution_count": 7,
   "id": "441ba3b2",
   "metadata": {},
   "outputs": [
    {
     "name": "stdout",
     "output_type": "stream",
     "text": [
      "first : 1\n",
      "middle : 5\n",
      "last : 10\n"
     ]
    }
   ],
   "source": [
    "print(\"first :\",positive_tuple[0])\n",
    "print(\"middle :\",len(positive_tuple)//2)\n",
    "print(\"last :\",positive_tuple[-1])"
   ]
  },
  {
   "cell_type": "markdown",
   "id": "7214b37d",
   "metadata": {},
   "source": [
    "### Assignment 3: Tuple Slicing\n",
    "\n",
    "Print the first three elements, the last three elements, and the elements from index 2 to 5 of the tuple created in Assignment 1."
   ]
  },
  {
   "cell_type": "code",
   "execution_count": 10,
   "id": "6ba0d443",
   "metadata": {},
   "outputs": [
    {
     "name": "stdout",
     "output_type": "stream",
     "text": [
      "first three :  (1, 2, 3)\n",
      "last three :  (8, 9, 10)\n",
      "2 to 5 elements : (2, 3, 4, 5)\n"
     ]
    }
   ],
   "source": [
    "print(\"first three : \",positive_tuple[0:3])\n",
    "print(\"last three : \",positive_tuple[-3:])\n",
    "print(\"2 to 5 elements :\",positive_tuple[1:5])"
   ]
  },
  {
   "cell_type": "markdown",
   "id": "6e2cc795",
   "metadata": {},
   "source": [
    "### Assignment 4: Nested Tuples\n",
    "\n",
    "Create a nested tuple representing a 3x3 matrix and print the matrix. Access and print the element at the second row and third column."
   ]
  },
  {
   "cell_type": "code",
   "execution_count": 14,
   "id": "ecb2d89c",
   "metadata": {},
   "outputs": [
    {
     "name": "stdout",
     "output_type": "stream",
     "text": [
      "2ed row 3d column :  6\n"
     ]
    }
   ],
   "source": [
    "tuple_matix=(\n",
    "    (1,2,3),\n",
    "    (4,5,6),\n",
    "    (7,8,9)\n",
    ")\n",
    "print(\"2ed row 3d column : \",tuple_matix[1][2])"
   ]
  },
  {
   "cell_type": "markdown",
   "id": "29746fed",
   "metadata": {},
   "source": [
    "### Assignment 5: Tuple Concatenation\n",
    "\n",
    "Concatenate two tuples: (1, 2, 3) and (4, 5, 6). Print the resulting tuple."
   ]
  },
  {
   "cell_type": "code",
   "execution_count": 18,
   "id": "7a8fcd5e",
   "metadata": {},
   "outputs": [
    {
     "name": "stdout",
     "output_type": "stream",
     "text": [
      "concatenete_tuple :  (1, 2, 3, 4, 5, 6)\n"
     ]
    }
   ],
   "source": [
    "tuple_one=(1,2,3)\n",
    "tuple_secound=(4,5,6)\n",
    "\n",
    "concatenete_tuple=tuple_one + tuple_secound\n",
    "print (\"concatenete_tuple : \",concatenete_tuple)"
   ]
  },
  {
   "cell_type": "markdown",
   "id": "80ed9949",
   "metadata": {},
   "source": [
    "\n",
    "### Assignment 6: Tuple Methods\n",
    "\n",
    "Create a tuple with duplicate elements and count the occurrences of an element. Find the index of the first occurrence of an element in the tuple."
   ]
  },
  {
   "cell_type": "code",
   "execution_count": 22,
   "id": "3c960be9",
   "metadata": {},
   "outputs": [
    {
     "name": "stdout",
     "output_type": "stream",
     "text": [
      "count of the element :  4\n",
      "first occurrence element :  1\n"
     ]
    }
   ],
   "source": [
    "tup=(1,2,3,3,3,3,4)\n",
    "print(f\"count of the element : \",tup.count(3))\n",
    "print(f\"first occurrence element : \",tup.index(2))"
   ]
  },
  {
   "cell_type": "markdown",
   "id": "8785ba9d",
   "metadata": {},
   "source": [
    "### Assignment 7: Unpacking Tuples\n",
    "\n",
    "Create a tuple with 5 elements and unpack it into 5 variables. Print the variables."
   ]
  },
  {
   "cell_type": "code",
   "execution_count": 23,
   "id": "f33794e9",
   "metadata": {},
   "outputs": [
    {
     "name": "stdout",
     "output_type": "stream",
     "text": [
      "A\n",
      "B\n",
      "C\n",
      "D\n",
      "E\n"
     ]
    }
   ],
   "source": [
    "tup=(\"A\",\"B\",\"C\",\"D\",\"E\")\n",
    "a,b,c,d,e=tup\n",
    "print(a)\n",
    "print(b)\n",
    "print(c)\n",
    "print(d)\n",
    "print(e)"
   ]
  },
  {
   "cell_type": "markdown",
   "id": "8382630e",
   "metadata": {},
   "source": [
    "### Assignment 8: Tuple Conversion\n",
    "\n",
    "Convert a list of the first 5 positive integers to a tuple. Print the tuple.\n"
   ]
  },
  {
   "cell_type": "code",
   "execution_count": 26,
   "id": "2dc87ce8",
   "metadata": {},
   "outputs": [
    {
     "name": "stdout",
     "output_type": "stream",
     "text": [
      "(1, 2, 3, 4, 5)\n"
     ]
    }
   ],
   "source": [
    "lis=[1,2,3,4,5]\n",
    "print(tuple(lis))"
   ]
  },
  {
   "cell_type": "markdown",
   "id": "e77bcbe9",
   "metadata": {},
   "source": [
    "### Assignment 9: Tuple of Tuples\n",
    "\n",
    "Create a tuple containing 3 tuples, each with 3 elements. Print the tuple of tuples."
   ]
  },
  {
   "cell_type": "code",
   "execution_count": 28,
   "id": "0e38979a",
   "metadata": {},
   "outputs": [
    {
     "name": "stdout",
     "output_type": "stream",
     "text": [
      "1 2 3 \n",
      "a b c \n",
      "23 45 67 \n"
     ]
    }
   ],
   "source": [
    "tup=((1,2,3),(\"a\",\"b\",\"c\"),(23,45,67))\n",
    "for tups in tup:\n",
    "    for elements in tups:\n",
    "        print(elements,end=\" \")\n",
    "    print()"
   ]
  },
  {
   "cell_type": "markdown",
   "id": "19d4a0c2",
   "metadata": {},
   "source": [
    "### Assignment 10: Tuple and List\n",
    "\n",
    "Create a tuple with the first 5 positive integers. Convert it to a list, append the number 6, and convert it back to a tuple. Print the resulting tuple."
   ]
  },
  {
   "cell_type": "code",
   "execution_count": 43,
   "id": "6f01f36a",
   "metadata": {},
   "outputs": [
    {
     "name": "stdout",
     "output_type": "stream",
     "text": [
      "list :  [(1, 2, 3, 4, 5), 6]\n",
      "tuple :  ((1, 2, 3, 4, 5), 6)\n"
     ]
    }
   ],
   "source": [
    "tup=[tuple(range(1,6))]\n",
    "tup.append(6)\n",
    "tupl=tuple(tup)\n",
    "print(\"list : \",tup)\n",
    "print(\"tuple : \",tupl)\n"
   ]
  },
  {
   "cell_type": "markdown",
   "id": "e5d707bb",
   "metadata": {},
   "source": [
    "### Assignment 11: Tuple and String\n",
    "\n",
    "Create a tuple with the characters of a string. Join the tuple elements into a single string. Print the string."
   ]
  },
  {
   "cell_type": "code",
   "execution_count": 55,
   "id": "eaa7ad05",
   "metadata": {},
   "outputs": [
    {
     "name": "stdout",
     "output_type": "stream",
     "text": [
      "iamvithusha\n"
     ]
    }
   ],
   "source": [
    "tup=\"i\", \"am\", \"vithusha\"\n",
    "tupl=tuple(tup)\n",
    "join_str=''. join(tupl)\n",
    "print(join_str)"
   ]
  },
  {
   "cell_type": "markdown",
   "id": "3c7134f8",
   "metadata": {},
   "source": [
    "### Assignment 12: Tuple and Dictionary\n",
    "\n",
    "Create a dictionary with tuple keys and integer values. Print the dictionary."
   ]
  },
  {
   "cell_type": "code",
   "execution_count": 73,
   "id": "09af74e9",
   "metadata": {},
   "outputs": [
    {
     "name": "stdout",
     "output_type": "stream",
     "text": [
      "{(2, 3): 4, (4, 5): 5, (6, 7): 6}\n"
     ]
    }
   ],
   "source": [
    "tup_dict={\n",
    "    (2,3):4,\n",
    "    (4,5):5,\n",
    "    (6,7):6\n",
    "}\n",
    "print(tup_dict)"
   ]
  },
  {
   "cell_type": "code",
   "execution_count": 75,
   "id": "9035d313",
   "metadata": {},
   "outputs": [
    {
     "name": "stdout",
     "output_type": "stream",
     "text": [
      "{(2, 3): 4, (4, 5): 5, (6, 7): 6}\n"
     ]
    }
   ],
   "source": [
    "tupl_dict=((\"name\",\"vithu\",\"age\",21))\n",
    "dic=dict(tup_dict)\n",
    "dictionary=dict(dic)\n",
    "print(dictionary)"
   ]
  },
  {
   "cell_type": "code",
   "execution_count": 76,
   "id": "cce62faa",
   "metadata": {},
   "outputs": [
    {
     "name": "stdout",
     "output_type": "stream",
     "text": [
      "{'vithu': 43, 'hana': 67, 'paala': 89, 'raja': 56}\n"
     ]
    }
   ],
   "source": [
    "name=\"vithu\",\"hana\",\"paala\",\"raja\"\n",
    "score=43,67,89,56\n",
    "\n",
    "print(dict(zip(name,score)))"
   ]
  },
  {
   "cell_type": "markdown",
   "id": "eda81b78",
   "metadata": {},
   "source": [
    "### Assignment 13: Nested Tuple Iteration\n",
    "\n",
    "Create a nested tuple and iterate over the elements, printing each element."
   ]
  },
  {
   "cell_type": "code",
   "execution_count": 85,
   "id": "c233979b",
   "metadata": {},
   "outputs": [
    {
     "name": "stdout",
     "output_type": "stream",
     "text": [
      "1 2 3 \n",
      "4 5 6 \n",
      "7 8 9 \n"
     ]
    }
   ],
   "source": [
    "nest_tup=((1,2,3),(4,5,6),(7,8,9))\n",
    "for i in nest_tup:\n",
    "    for items in i:\n",
    "        print(items,end=\" \")\n",
    "    print()"
   ]
  },
  {
   "cell_type": "markdown",
   "id": "f9a2b434",
   "metadata": {},
   "source": [
    "### Assignment 14: Tuple and Set\n",
    "\n",
    "Create a tuple with duplicate elements. Convert it to a set to remove duplicates and print the resulting set."
   ]
  },
  {
   "cell_type": "code",
   "execution_count": 87,
   "id": "f50f6c29",
   "metadata": {},
   "outputs": [
    {
     "name": "stdout",
     "output_type": "stream",
     "text": [
      "{2, 3, 4, 5, 6, 7, 8}\n"
     ]
    }
   ],
   "source": [
    "tup=(3,4,5,5,5,6,6,7,7,8,3,2,7)\n",
    "remov=set(tup)\n",
    "print(remov)"
   ]
  },
  {
   "cell_type": "markdown",
   "id": "d6d1f173",
   "metadata": {},
   "source": [
    "### Assignment 15: Tuple Functions\n",
    "\n",
    "Write functions that take a tuple and return the minimum, maximum, and sum of the elements. Print the results for a sample tuple."
   ]
  },
  {
   "cell_type": "code",
   "execution_count": 97,
   "id": "88d6162f",
   "metadata": {},
   "outputs": [
    {
     "name": "stdout",
     "output_type": "stream",
     "text": [
      "minimum : 1\n",
      "maxmimum : 10\n",
      "sum : 55\n"
     ]
    }
   ],
   "source": [
    "sample_tup=(1,2,3,4,5,6,7,8,9,10)\n",
    "\n",
    "def sum_tup(tup):\n",
    "    return sum(tup)\n",
    "def max_tup(tup):\n",
    "    return max(tup)\n",
    "def min_tup(tup):\n",
    "    return min(tup)\n",
    "sample_tup=(1,2,3,4,5,6,7,8,9,10)\n",
    "print(f\"minimum : {min_tup(sample_tup)}\")\n",
    "print(f\"maxmimum : {max_tup(sample_tup)}\")\n",
    "print(f\"sum : {sum_tup(sample_tup)}\")\n"
   ]
  },
  {
   "cell_type": "code",
   "execution_count": null,
   "id": "39d10149",
   "metadata": {},
   "outputs": [],
   "source": []
  }
 ],
 "metadata": {
  "kernelspec": {
   "display_name": "base",
   "language": "python",
   "name": "python3"
  },
  "language_info": {
   "codemirror_mode": {
    "name": "ipython",
    "version": 3
   },
   "file_extension": ".py",
   "mimetype": "text/x-python",
   "name": "python",
   "nbconvert_exporter": "python",
   "pygments_lexer": "ipython3",
   "version": "3.12.7"
  }
 },
 "nbformat": 4,
 "nbformat_minor": 5
}

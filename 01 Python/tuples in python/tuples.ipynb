{
 "cells": [
  {
   "cell_type": "markdown",
   "id": "037f4857",
   "metadata": {},
   "source": [
    "## Introduction to Tuples"
   ]
  },
  {
   "cell_type": "code",
   "execution_count": 2,
   "id": "a89ac7c8",
   "metadata": {},
   "outputs": [
    {
     "name": "stdout",
     "output_type": "stream",
     "text": [
      "()\n",
      "<class 'tuple'>\n"
     ]
    }
   ],
   "source": [
    "## creating a tuple\n",
    "\n",
    "empty_tuple=()\n",
    "print(empty_tuple)\n",
    "print(type(empty_tuple))"
   ]
  },
  {
   "cell_type": "code",
   "execution_count": 1,
   "id": "6dd40e5e",
   "metadata": {},
   "outputs": [
    {
     "name": "stdout",
     "output_type": "stream",
     "text": [
      "<class 'list'>\n",
      "<class 'tuple'>\n"
     ]
    }
   ],
   "source": [
    "lis=list()\n",
    "print(type(lis))\n",
    "tup = tuple()\n",
    "print(type(tup))"
   ]
  },
  {
   "cell_type": "code",
   "execution_count": 3,
   "id": "e003d9a2",
   "metadata": {},
   "outputs": [
    {
     "data": {
      "text/plain": [
       "[2, 1, 3, 4, 5, 6, 7, 9]"
      ]
     },
     "execution_count": 3,
     "metadata": {},
     "output_type": "execute_result"
    }
   ],
   "source": [
    "list((2,1,3,4,5,6,7,9))"
   ]
  },
  {
   "cell_type": "code",
   "execution_count": 5,
   "id": "7d918f84",
   "metadata": {},
   "outputs": [
    {
     "data": {
      "text/plain": [
       "(1, 2, 3, 4, 5, 6, 7, 7)"
      ]
     },
     "execution_count": 5,
     "metadata": {},
     "output_type": "execute_result"
    }
   ],
   "source": [
    "tuple([1,2,3,4,5,6,7,7])"
   ]
  },
  {
   "cell_type": "code",
   "execution_count": 6,
   "id": "5680a900",
   "metadata": {},
   "outputs": [],
   "source": [
    "mixed_tuple=[\"vithu\",80,7.8,4+0j]"
   ]
  },
  {
   "cell_type": "code",
   "execution_count": 7,
   "id": "18d514b7",
   "metadata": {},
   "outputs": [
    {
     "name": "stdout",
     "output_type": "stream",
     "text": [
      "['vithu', 80, 7.8, (4+0j)]\n"
     ]
    }
   ],
   "source": [
    "print(mixed_tuple)"
   ]
  },
  {
   "cell_type": "markdown",
   "id": "395c835a",
   "metadata": {},
   "source": [
    "## slicing tuple"
   ]
  },
  {
   "cell_type": "code",
   "execution_count": 9,
   "id": "925c8441",
   "metadata": {},
   "outputs": [
    {
     "data": {
      "text/plain": [
       "['vithu', 80, 7.8, (4+0j)]"
      ]
     },
     "execution_count": 9,
     "metadata": {},
     "output_type": "execute_result"
    }
   ],
   "source": [
    "mixed_tuple"
   ]
  },
  {
   "cell_type": "code",
   "execution_count": 16,
   "id": "84b5f771",
   "metadata": {},
   "outputs": [
    {
     "name": "stdout",
     "output_type": "stream",
     "text": [
      "vithu\n",
      "7.8\n",
      "[80, 7.8, (4+0j)]\n",
      "['vithu', 80, 7.8]\n",
      "(4+0j)\n"
     ]
    }
   ],
   "source": [
    "print(mixed_tuple[0] ) ## first element\n",
    "print(mixed_tuple[2] ) ##  thirt element\n",
    "print(mixed_tuple[1:] )\n",
    "print(mixed_tuple[:-1])\n",
    "print(mixed_tuple[-1])"
   ]
  },
  {
   "cell_type": "code",
   "execution_count": 18,
   "id": "b69c4212",
   "metadata": {},
   "outputs": [
    {
     "name": "stdout",
     "output_type": "stream",
     "text": [
      "['vithu', 80, 7.8, (4+0j)]\n",
      "[(4+0j), 7.8, 80, 'vithu']\n"
     ]
    }
   ],
   "source": [
    "print(mixed_tuple[::])\n",
    "print(mixed_tuple[::-1])"
   ]
  },
  {
   "cell_type": "code",
   "execution_count": 19,
   "id": "1ef393d5",
   "metadata": {},
   "outputs": [
    {
     "name": "stdout",
     "output_type": "stream",
     "text": [
      "(1, 2, 3, 4, 5, 6, 7, 8, 9, 10)\n"
     ]
    }
   ],
   "source": [
    "tuple1=(1,2,3,4,5)\n",
    "tuple2=(6,7,8,9,10)\n",
    "\n",
    "concatenation=tuple1 + tuple2\n",
    "\n",
    "print(concatenation)\n"
   ]
  },
  {
   "cell_type": "code",
   "execution_count": 27,
   "id": "6d466ebb",
   "metadata": {},
   "outputs": [
    {
     "name": "stdout",
     "output_type": "stream",
     "text": [
      "(1, 2, 3, 4, 5, 6, 7, 8, 9, 10, 1, 2, 3, 4, 5, 6, 7, 8, 9, 10)\n"
     ]
    }
   ],
   "source": [
    "conca=concatenation *2\n",
    "print(conca)"
   ]
  },
  {
   "cell_type": "code",
   "execution_count": 30,
   "id": "b5c455d7",
   "metadata": {},
   "outputs": [
    {
     "name": "stdout",
     "output_type": "stream",
     "text": [
      "2\n",
      "5\n"
     ]
    }
   ],
   "source": [
    "print(conca.count(4))\n",
    "print(conca.index(6))"
   ]
  },
  {
   "cell_type": "markdown",
   "id": "f252de8e",
   "metadata": {},
   "source": [
    "#### packing tuple"
   ]
  },
  {
   "cell_type": "code",
   "execution_count": 31,
   "id": "d419f99c",
   "metadata": {},
   "outputs": [
    {
     "name": "stdout",
     "output_type": "stream",
     "text": [
      "(4, 'vithu', 4.65)\n"
     ]
    }
   ],
   "source": [
    "packed_tuple=4,\"vithu\",4.65\n",
    "print(packed_tuple)"
   ]
  },
  {
   "cell_type": "code",
   "execution_count": 32,
   "id": "1a16c758",
   "metadata": {},
   "outputs": [
    {
     "name": "stdout",
     "output_type": "stream",
     "text": [
      "(4, 'vithu', 5.6)\n"
     ]
    }
   ],
   "source": [
    "packed_list=4,\"vithu\",5.6\n",
    "print(packed_list)"
   ]
  },
  {
   "cell_type": "code",
   "execution_count": 6,
   "id": "29d92561",
   "metadata": {},
   "outputs": [],
   "source": [
    "numbers=[4,5,6]"
   ]
  },
  {
   "cell_type": "markdown",
   "id": "333f2075",
   "metadata": {},
   "source": [
    "#### unpacking tuple"
   ]
  },
  {
   "cell_type": "code",
   "execution_count": 7,
   "id": "ac21fdaf",
   "metadata": {},
   "outputs": [
    {
     "name": "stdout",
     "output_type": "stream",
     "text": [
      "4\n",
      "5\n",
      "6\n"
     ]
    }
   ],
   "source": [
    "a,b,c=numbers\n",
    "print (a)\n",
    "print (b)\n",
    "print(c)"
   ]
  },
  {
   "cell_type": "markdown",
   "id": "8a14929a",
   "metadata": {},
   "source": [
    "### unpacking with *"
   ]
  },
  {
   "cell_type": "code",
   "execution_count": 14,
   "id": "2129e2ff",
   "metadata": {},
   "outputs": [
    {
     "name": "stdout",
     "output_type": "stream",
     "text": [
      "1\n",
      "[2, 3, 4, 5, 6, 7, 8, 9]\n",
      "10\n"
     ]
    }
   ],
   "source": [
    "number=[1,2,3,4,5,6,7,8,9,10]\n",
    "first,*middle,last=number\n",
    "\n",
    "print (first)\n",
    "print (middle)\n",
    "print (last)\n"
   ]
  },
  {
   "cell_type": "markdown",
   "id": "978a94a1",
   "metadata": {},
   "source": [
    "## access the elements insite a tuple\n"
   ]
  },
  {
   "cell_type": "code",
   "execution_count": 17,
   "id": "4246eaad",
   "metadata": {},
   "outputs": [
    {
     "name": "stdout",
     "output_type": "stream",
     "text": [
      "1 2 3 4 \n",
      "s b l \n",
      "hello vithu 2.0 \n"
     ]
    }
   ],
   "source": [
    "nested_tuple =((1,2,3,4),(\"s\",\"b\",\"l\"),[\"hello\",\"vithu\",\"2.0\"])\n",
    "for sub_tuple in nested_tuple:\n",
    "    for items in sub_tuple:\n",
    "        print(items,end=\" \")\n",
    "    print()"
   ]
  },
  {
   "cell_type": "code",
   "execution_count": 18,
   "id": "875d45f9",
   "metadata": {},
   "outputs": [
    {
     "data": {
      "text/plain": [
       "('2', '.', '0', ['hello', 'vithu', '2.0'])"
      ]
     },
     "execution_count": 18,
     "metadata": {},
     "output_type": "execute_result"
    }
   ],
   "source": [
    "*items , sub_tuple"
   ]
  },
  {
   "cell_type": "code",
   "execution_count": null,
   "id": "4beadccf",
   "metadata": {},
   "outputs": [],
   "source": []
  }
 ],
 "metadata": {
  "kernelspec": {
   "display_name": "base",
   "language": "python",
   "name": "python3"
  },
  "language_info": {
   "codemirror_mode": {
    "name": "ipython",
    "version": 3
   },
   "file_extension": ".py",
   "mimetype": "text/x-python",
   "name": "python",
   "nbconvert_exporter": "python",
   "pygments_lexer": "ipython3",
   "version": "3.12.7"
  }
 },
 "nbformat": 4,
 "nbformat_minor": 5
}

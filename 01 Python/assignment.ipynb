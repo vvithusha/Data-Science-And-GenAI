{
 "cells": [
  {
   "cell_type": "markdown",
   "id": "d0b6adf0",
   "metadata": {},
   "source": [
    "## 1. Syntax and Semantics\n",
    "\n",
    "**Question 1:** Write a Python program to print \"Hello, World!\"."
   ]
  },
  {
   "cell_type": "code",
   "execution_count": 1,
   "id": "6fc6cd4b",
   "metadata": {},
   "outputs": [
    {
     "name": "stdout",
     "output_type": "stream",
     "text": [
      "hello world!\n"
     ]
    }
   ],
   "source": [
    "print(\"hello world!\")"
   ]
  },
  {
   "cell_type": "markdown",
   "id": "b3f8a261",
   "metadata": {},
   "source": [
    "**Question 2:** Write a Python program that takes a user input and prints it."
   ]
  },
  {
   "cell_type": "code",
   "execution_count": 2,
   "id": "485bbebc",
   "metadata": {},
   "outputs": [
    {
     "name": "stdout",
     "output_type": "stream",
     "text": [
      "user thought is :i love coding\n"
     ]
    }
   ],
   "source": [
    "user_input=input(\"enter you thought:\")\n",
    "print(f\"user thought is :{user_input}\")"
   ]
  },
  {
   "cell_type": "markdown",
   "id": "c636b0e3",
   "metadata": {},
   "source": [
    "**Question 3:** Write a Python program to check if a number is positive, negative, or zero."
   ]
  },
  {
   "cell_type": "code",
   "execution_count": 7,
   "id": "27117c5e",
   "metadata": {},
   "outputs": [
    {
     "name": "stdout",
     "output_type": "stream",
     "text": [
      "80 is possitive\n"
     ]
    }
   ],
   "source": [
    "number = int(input(\"enter the number:\"))\n",
    "if number > 0:\n",
    "    print(f\"{number} is possitive\")\n",
    "elif number < 0:\n",
    "    print(f\"{number} is negative\")\n",
    "else :\n",
    "    print(f\"{number} is zero\")"
   ]
  },
  {
   "cell_type": "markdown",
   "id": "ef0e6075",
   "metadata": {},
   "source": [
    "**Question 4:** Write a Python program to find the largest of three numbers."
   ]
  },
  {
   "cell_type": "code",
   "execution_count": 12,
   "id": "3789f2f7",
   "metadata": {},
   "outputs": [
    {
     "name": "stdout",
     "output_type": "stream",
     "text": [
      "largest numbers are :[98, 89, 80]\n"
     ]
    }
   ],
   "source": [
    "## shorted methord\n",
    "list = [45,89,9,23,12,56,34,40,80,98]\n",
    " \n",
    "sort_number=sorted(list,reverse=True)\n",
    "lar_number=sort_number[ :3]\n",
    "print(f\"largest numbers are :{lar_number}\")"
   ]
  },
  {
   "cell_type": "code",
   "execution_count": 13,
   "id": "da0da71d",
   "metadata": {},
   "outputs": [
    {
     "name": "stdout",
     "output_type": "stream",
     "text": [
      "largest numbers are :[98, 89, 80]\n"
     ]
    }
   ],
   "source": [
    "## heapq methord\n",
    "import heapq\n",
    "\n",
    "list = [45,89,9,23,12,56,34,40,80,98]\n",
    "lar_number=heapq.nlargest(3,list)\n",
    "print(f\"largest numbers are :{lar_number}\")\n"
   ]
  },
  {
   "cell_type": "markdown",
   "id": "12aa3cd6",
   "metadata": {},
   "source": [
    "**Question 5:** Write a Python program to calculate the factorial of a number."
   ]
  },
  {
   "cell_type": "code",
   "execution_count": 18,
   "id": "626fc665",
   "metadata": {},
   "outputs": [
    {
     "name": "stdout",
     "output_type": "stream",
     "text": [
      "1\n",
      "2\n",
      "3\n",
      "6\n"
     ]
    }
   ],
   "source": [
    "num = int (input(\"enter the number:\"))\n",
    "for i in range (1,num +1):\n",
    "   if num%i==0:\n",
    "     print(i)"
   ]
  },
  {
   "cell_type": "markdown",
   "id": "dd1268b2",
   "metadata": {},
   "source": [
    "## 2. Variables and Data Types\n",
    "\n",
    "**Question 6:** Create variables of different data types: integer, float, string, and boolean. Print their values and types."
   ]
  },
  {
   "cell_type": "code",
   "execution_count": 23,
   "id": "62747b16",
   "metadata": {},
   "outputs": [
    {
     "name": "stdout",
     "output_type": "stream",
     "text": [
      "<class 'int'> 34\n",
      "<class 'float'> 89.7\n",
      "<class 'complex'> (4+0j)\n",
      "<class 'str'> vithu\n",
      "<class 'bool'> True\n"
     ]
    }
   ],
   "source": [
    "int_num = 34\n",
    "float_num = 89.7\n",
    "comp_num = 4+0j\n",
    "str_var = \"vithu\"\n",
    "bool = True\n",
    "\n",
    "print(type(int_num),int_num)\n",
    "print(type(float_num),float_num)\n",
    "print(type(comp_num),comp_num)\n",
    "print(type(str_var),str_var)\n",
    "print(type(bool),bool)\n"
   ]
  },
  {
   "cell_type": "markdown",
   "id": "b6bc1900",
   "metadata": {},
   "source": [
    "**Question 7:** Write a Python program to swap the values of two variables."
   ]
  },
  {
   "cell_type": "code",
   "execution_count": 25,
   "id": "570dd30e",
   "metadata": {},
   "outputs": [
    {
     "name": "stdout",
     "output_type": "stream",
     "text": [
      "a= 90\n",
      "b= 78\n"
     ]
    }
   ],
   "source": [
    "a = 78\n",
    "b = 90\n",
    "\n",
    "c = a\n",
    "a = b \n",
    "b = c\n",
    "\n",
    "print(\"a=\",a)\n",
    "print(\"b=\",b)\n"
   ]
  },
  {
   "cell_type": "markdown",
   "id": "a7cf8b97",
   "metadata": {},
   "source": [
    "**Question 8:** Write a Python program to convert Celsius to Fahrenheit."
   ]
  },
  {
   "cell_type": "code",
   "execution_count": 33,
   "id": "0af74dfd",
   "metadata": {},
   "outputs": [
    {
     "name": "stdout",
     "output_type": "stream",
     "text": [
      "to convert fahrenheit to celsius : 204.44444444444446\n"
     ]
    }
   ],
   "source": [
    "##celsius='c'\n",
    "##fahrenheit='f'\n",
    "operations=input(\"enter your coise 'c' ,'f'\")\n",
    "if operations == 'c':\n",
    "    fahrenheit=int(input(\"enter you fahranite number:\"))\n",
    "    celsius=(fahrenheit-32)*5/9\n",
    "    print(f\"to convert fahrenheit to celsius : {celsius}\")\n",
    "elif operations == 'f':\n",
    "    celsius=int(input(\"enter your celsius number:\"))\n",
    "    fahrenheit=(celsius*9/5)+32\n",
    "    print(f\"to convert celsius to fahrenheit : {fahrenheit}\")\n",
    "else:\n",
    "    print(\"please enter the correct syntex:\")"
   ]
  },
  {
   "cell_type": "markdown",
   "id": "b62799c8",
   "metadata": {},
   "source": [
    "**Question 9:** Write a Python program to concatenate two strings."
   ]
  },
  {
   "cell_type": "code",
   "execution_count": 34,
   "id": "370d1429",
   "metadata": {},
   "outputs": [
    {
     "name": "stdout",
     "output_type": "stream",
     "text": [
      "vithu vimalathas\n"
     ]
    }
   ],
   "source": [
    "my_name=\"vithu\"\n",
    "father_name=\"vimalathas\"\n",
    "\n",
    "print(my_name+\" \"+father_name)"
   ]
  },
  {
   "cell_type": "markdown",
   "id": "d65c172b",
   "metadata": {},
   "source": [
    "**Question 10:** Write a Python program to check if a variable is of a specific data type."
   ]
  },
  {
   "cell_type": "code",
   "execution_count": 45,
   "id": "81633b39",
   "metadata": {},
   "outputs": [
    {
     "name": "stdout",
     "output_type": "stream",
     "text": [
      "True\n",
      "True\n",
      "True\n",
      "False\n",
      "True\n",
      "True\n"
     ]
    }
   ],
   "source": [
    "a = 25\n",
    "b = 45.8\n",
    "c = \"vithu\"\n",
    "e = {\"name: vithu\", \"age: 24\", \"love: coding\"}\n",
    "f = (\"roja\", \"kamala\", \"bala\", \"raja\")\n",
    "g = {\"banana\", \"apple\", \"orange\"}\n",
    "\n",
    "print(isinstance(a, int))     # True\n",
    "print(isinstance(b, float))   # True\n",
    "print(isinstance(c, str))     # True\n",
    "print(isinstance(e, dict))    # True \n",
    "print(isinstance(f, tuple))   # True\n",
    "print(isinstance(g, set))     # True\n"
   ]
  },
  {
   "cell_type": "markdown",
   "id": "d4fc8a91",
   "metadata": {},
   "source": [
    "## 3. Basic Operators (Arithmetic, Comparison, Logical)\n",
    "\n",
    "**Question 11:** Write a Python program to perform arithmetic operations: addition, subtraction, multiplication, and division."
   ]
  },
  {
   "cell_type": "code",
   "execution_count": 47,
   "id": "f14e8070",
   "metadata": {},
   "outputs": [
    {
     "name": "stdout",
     "output_type": "stream",
     "text": [
      "addision=95\n",
      "subraction=-5\n",
      "division=1.0\n",
      "multipilication=2250\n",
      "exponinetion=45\n"
     ]
    }
   ],
   "source": [
    "num = 45\n",
    "num2 = 50\n",
    "\n",
    "add = num+num2\n",
    "sub = num-num2\n",
    "div = num/num\n",
    "multi =num*num2\n",
    "floordiv =num//num2\n",
    "expo =num %num2\n",
    "\n",
    "print(f\"addision={add}\")\n",
    "print(f\"subraction={sub}\")\n",
    "print(f\"division={div}\")\n",
    "print(f\"multipilication={multi}\")\n",
    "print(f\"exponinetion={expo}\")\n"
   ]
  },
  {
   "cell_type": "markdown",
   "id": "6157eaf0",
   "metadata": {},
   "source": [
    "**Question 12:** Write a Python program to demonstrate comparison operators: equal to, not equal to, greater than, less than."
   ]
  },
  {
   "cell_type": "code",
   "execution_count": 50,
   "id": "181ec17c",
   "metadata": {},
   "outputs": [
    {
     "name": "stdout",
     "output_type": "stream",
     "text": [
      "False\n",
      "True\n",
      "True\n",
      "False\n"
     ]
    }
   ],
   "source": [
    "number =78\n",
    "number2 =45\n",
    "\n",
    "print(number == number2)\n",
    "print(number != number2)\n",
    "print(number > number2)\n",
    "print(number < number2)"
   ]
  },
  {
   "cell_type": "markdown",
   "id": "1f9fc12c",
   "metadata": {},
   "source": [
    "**Question 13:** Write a Python program to demonstrate logical operators: and, or, not."
   ]
  },
  {
   "cell_type": "code",
   "execution_count": 52,
   "id": "fe0eec25",
   "metadata": {},
   "outputs": [
    {
     "name": "stdout",
     "output_type": "stream",
     "text": [
      "True\n",
      "False\n",
      "False\n",
      "False\n",
      "True\n",
      "False\n",
      "True\n",
      "True\n",
      "False\n",
      "True\n"
     ]
    }
   ],
   "source": [
    "a = True\n",
    "b = False\n",
    "\n",
    "#and gate\n",
    "print(a and a)\n",
    "print(a and b)\n",
    "print(b and a)\n",
    "print(b and b)\n",
    "\n",
    "#or gate\n",
    "print(a or a)\n",
    "print(b or b)\n",
    "print(a or b)\n",
    "print(b or a)\n",
    "\n",
    "#not gate\n",
    "print(not a)\n",
    "print(not b)"
   ]
  },
  {
   "cell_type": "markdown",
   "id": "7f762eba",
   "metadata": {},
   "source": [
    "**Question 14:** Write a Python program to calculate the square of a number."
   ]
  },
  {
   "cell_type": "code",
   "execution_count": 2,
   "id": "f9e573d7",
   "metadata": {},
   "outputs": [
    {
     "name": "stdout",
     "output_type": "stream",
     "text": [
      "25\n",
      "16\n",
      "9\n",
      "64\n",
      "49\n",
      "36\n",
      "64\n",
      "64\n",
      "81\n",
      "please enter the positive number:\n"
     ]
    }
   ],
   "source": [
    "while True:\n",
    "  num=int(input(\"enter the number:\"))\n",
    "  square=num*num\n",
    "  print(square)\n",
    "  if num <0:\n",
    "    print(\"please enter the positive number:\")\n",
    "    break"
   ]
  },
  {
   "cell_type": "markdown",
   "id": "e26485e7",
   "metadata": {},
   "source": [
    "**Question 15:** Write a Python program to check if a number is even or odd."
   ]
  },
  {
   "cell_type": "code",
   "execution_count": null,
   "id": "9d2c5cbe",
   "metadata": {},
   "outputs": [
    {
     "name": "stdout",
     "output_type": "stream",
     "text": [
      "46 is even number\n"
     ]
    }
   ],
   "source": [
    "num = int(input(\"enter the number:\"))\n",
    "if num%2==0:\n",
    "    print(f\"{num} is even number\")\n",
    "else:\n",
    "    print(f\"{num} is odd number\")\n"
   ]
  },
  {
   "cell_type": "markdown",
   "id": "a26b4fbd",
   "metadata": {},
   "source": [
    "**Question 16:** Write a Python program to find the sum of the first n natural numbers."
   ]
  },
  {
   "cell_type": "code",
   "execution_count": 19,
   "id": "453f20fd",
   "metadata": {},
   "outputs": [
    {
     "name": "stdout",
     "output_type": "stream",
     "text": [
      "55\n"
     ]
    }
   ],
   "source": [
    "num=int(input(\"enter the number:\"))\n",
    "sum_num=num*(num+1)//2\n",
    "print(sum_num)"
   ]
  },
  {
   "cell_type": "markdown",
   "id": "6bb02d1e",
   "metadata": {},
   "source": [
    "**Question 17:** Write a Python program to check if a year is a leap year."
   ]
  },
  {
   "cell_type": "code",
   "execution_count": null,
   "id": "d43b7e95",
   "metadata": {},
   "outputs": [
    {
     "name": "stdout",
     "output_type": "stream",
     "text": [
      "2000 is leep year\n"
     ]
    }
   ],
   "source": [
    "year=int(input(\"enter the year:\"))\n",
    "if (year%4==0  and  year%100!=0) or (year%400==0):\n",
    "    print(f\"{year} is leep year\")\n",
    "else:\n",
    "    print(f\"{year} is not leep year\")"
   ]
  },
  {
   "cell_type": "markdown",
   "id": "3e76049e",
   "metadata": {},
   "source": [
    "**Question 18:** Write a Python program to reverse a string."
   ]
  },
  {
   "cell_type": "code",
   "execution_count": 31,
   "id": "5f376a92",
   "metadata": {},
   "outputs": [
    {
     "name": "stdout",
     "output_type": "stream",
     "text": [
      "vithusha reverse to= ahsuhtiv\n"
     ]
    }
   ],
   "source": [
    "\n",
    "str_var = input(\"enter the string:\")\n",
    "reve_str=str_var[ : :-1]\n",
    "print(f\"{str_var} reverse to=\",reve_str)"
   ]
  },
  {
   "cell_type": "markdown",
   "id": "3030a45c",
   "metadata": {},
   "source": [
    "**Question 19:** Write a Python program to check if a string is a palindrome."
   ]
  },
  {
   "cell_type": "code",
   "execution_count": 40,
   "id": "ec78db48",
   "metadata": {},
   "outputs": [
    {
     "name": "stdout",
     "output_type": "stream",
     "text": [
      "level is palindrom\n"
     ]
    }
   ],
   "source": [
    "palin_str=input(\"enter the word:\")\n",
    "if palin_str[0] == palin_str[-1]:\n",
    "    print(f\"{palin_str} is palindrom\")\n",
    "else:\n",
    "    print(f\"{palin_str} is not palindrom\")"
   ]
  },
  {
   "cell_type": "code",
   "execution_count": 38,
   "id": "e4854acf",
   "metadata": {},
   "outputs": [
    {
     "name": "stdout",
     "output_type": "stream",
     "text": [
      "madam is palindrom\n"
     ]
    }
   ],
   "source": [
    "palin_str=input(\"enter the word:\")\n",
    "if palin_str == palin_str[ : :-1]:\n",
    "    print(f\"{palin_str} is palindrom\")\n",
    "else:\n",
    "    print(f\"{palin_str} is not palindrom\")"
   ]
  },
  {
   "cell_type": "markdown",
   "id": "456a02ec",
   "metadata": {},
   "source": [
    "**Question 20:** Write a Python program to sort a list of numbers in ascending order."
   ]
  },
  {
   "cell_type": "code",
   "execution_count": 41,
   "id": "5f54e043",
   "metadata": {},
   "outputs": [
    {
     "name": "stdout",
     "output_type": "stream",
     "text": [
      "[0, 34, 45, 45, 67, 77, 87, 89, 90]\n"
     ]
    }
   ],
   "source": [
    "import heapq\n",
    "list=[45,89,90,67,45,0,34,77,87]\n",
    "asce_num=heapq.nsmallest(9,list)\n",
    "print(asce_num)"
   ]
  }
 ],
 "metadata": {
  "kernelspec": {
   "display_name": "base",
   "language": "python",
   "name": "python3"
  },
  "language_info": {
   "codemirror_mode": {
    "name": "ipython",
    "version": 3
   },
   "file_extension": ".py",
   "mimetype": "text/x-python",
   "name": "python",
   "nbconvert_exporter": "python",
   "pygments_lexer": "ipython3",
   "version": "3.12.7"
  }
 },
 "nbformat": 4,
 "nbformat_minor": 5
}

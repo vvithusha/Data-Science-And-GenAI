{
 "cells": [
  {
   "cell_type": "markdown",
   "id": "502dfe4c",
   "metadata": {},
   "source": [
    "What are Conditional Statements?\n",
    "\n",
    "Conditional statements are used to perform different actions based on conditions"
   ]
  },
  {
   "cell_type": "code",
   "execution_count": null,
   "id": "62772b3c",
   "metadata": {},
   "outputs": [
    {
     "name": "stdout",
     "output_type": "stream",
     "text": [
      "you are allowed to vote in the elevtions\n"
     ]
    }
   ],
   "source": [
    "## IF STATEMENT\n",
    "age = 21\n",
    "\n",
    "if age>=18:\n",
    "    print (\"you are allowed to vote in the elctions\")"
   ]
  },
  {
   "cell_type": "code",
   "execution_count": 2,
   "id": "43f4bf9f",
   "metadata": {},
   "outputs": [
    {
     "name": "stdout",
     "output_type": "stream",
     "text": [
      "you are not eligible for voting\n"
     ]
    }
   ],
   "source": [
    "## else statement\n",
    "## the else statement executes a block of code if the condition in the if statement is false.\n",
    "\n",
    "age =15\n",
    "\n",
    "if age >= 18:\n",
    "    print(\"you are allowed to vote in the elections\")\n",
    "else:\n",
    "    print(\"you are not eligible for voting\") \n"
   ]
  },
  {
   "cell_type": "code",
   "execution_count": 5,
   "id": "a26328c2",
   "metadata": {},
   "outputs": [
    {
     "name": "stdout",
     "output_type": "stream",
     "text": [
      "you are eligable for voting\n"
     ]
    }
   ],
   "source": [
    "## elif statement\n",
    "## the elif statement alllows you to check mutiple conditons . it stands for \"else if \"\n",
    "\n",
    "age = 20\n",
    " \n",
    "if age <15:\n",
    "    print(\"you are not allow to voting \") \n",
    "elif age < 18:\n",
    "    print(\"you are a teenager\")\n",
    "else:\n",
    "    print(\"you are eligable for voting\")\n",
    "\n",
    "\n"
   ]
  },
  {
   "cell_type": "code",
   "execution_count": null,
   "id": "425723c3",
   "metadata": {},
   "outputs": [
    {
     "name": "stdout",
     "output_type": "stream",
     "text": [
      "'the number is positive\n",
      "the number is odd\n"
     ]
    }
   ],
   "source": [
    "## nested conditonal statement\n",
    "\n",
    "num=int(input(\"enter the number\"))\n",
    "\n",
    "if num >0:\n",
    "    print(\"the number is positive\")\n",
    "    if num%2==0:\n",
    "        print(\"the numbre is even\")\n",
    "    else:\n",
    "        print(\"the number is odd\")\n",
    "else:\n",
    "    print(\"the number is zero or negative\")"
   ]
  },
  {
   "cell_type": "code",
   "execution_count": 9,
   "id": "68ceb244",
   "metadata": {},
   "outputs": [
    {
     "name": "stdout",
     "output_type": "stream",
     "text": [
      "2024 this year is leep year\n"
     ]
    }
   ],
   "source": [
    "## practical example\n",
    "\n",
    "year=int(input(\"enter the year:\"))\n",
    "\n",
    "if (year%4==0  and  year%100!=0 ) or (year%400==0):\n",
    "    print(f\"{year} this year is leep year\")\n",
    "else:\n",
    "    print(f\"{year} this year is not leep year\")"
   ]
  },
  {
   "cell_type": "code",
   "execution_count": 3,
   "id": "c15c1859",
   "metadata": {},
   "outputs": [
    {
     "name": "stdout",
     "output_type": "stream",
     "text": [
      "result= 90\n",
      "result= -22\n",
      "result= 529\n",
      "result= 24.0\n",
      "result= 1\n",
      "result= 1156\n",
      "result= 77\n",
      "thank for using !\n"
     ]
    }
   ],
   "source": [
    "## assingment\n",
    "## calculater\n",
    "while True:\n",
    "     num1= int (input(\"enter the first number:\"))\n",
    "     num2= int (input(\"enter the secound number:\"))\n",
    "     operation=input(\"enter the opreation(+,-,*,/,//,**):\")\n",
    "\n",
    "     if operation == \"+\":\n",
    "        print(\"result=\",num1+num2)\n",
    "     elif  operation ==\"-\":\n",
    "        print(\"result=\",num1-num2)\n",
    "     elif  operation ==\"*\":\n",
    "        print(\"result=\",num1*num2)\n",
    "     elif operation ==\"/\":\n",
    "        print(\"result=\",num1/num2)\n",
    "     elif  operation ==\"//\":\n",
    "        print(\"result=\",num1//num1)\n",
    "     elif  operation ==\"**\":\n",
    "        print(\"result=\",num1**num2)\n",
    "     else:\n",
    "        print(\"please enter the valid opreation:\")\n",
    "     continuation=input(\" enter please'yes' or 'no'\")\n",
    "     if continuation != \"yes\":\n",
    "        print(\"thank for using !\")\n",
    "        break\n",
    "    "
   ]
  },
  {
   "cell_type": "code",
   "execution_count": 8,
   "id": "035f07ad",
   "metadata": {},
   "outputs": [
    {
     "name": "stdout",
     "output_type": "stream",
     "text": [
      "Ticket price : free\n"
     ]
    }
   ],
   "source": [
    "age = int(input(\"enter your age:\"))\n",
    "is_student=input(\"are you a student?(yes/no):\")\n",
    "\n",
    "if age>5:\n",
    "    price=\"free\"\n",
    "elif age <=12:\n",
    "    price=\"$10\"\n",
    "elif age <=17:\n",
    "    price=\"$15\"\n",
    "    if is_student ==\"yes\":\n",
    "        price=\"$12\"\n",
    "    else:\n",
    "        price=\"$15\"\n",
    "elif age<=65:\n",
    "    if is_student ==\"yes\":\n",
    "        price=\"$18\"\n",
    "    else:\n",
    "        price=\"$25\"\n",
    "else:\n",
    "    price=\"$20\"\n",
    "\n",
    "print(\"Ticket price :\",price)"
   ]
  },
  {
   "cell_type": "code",
   "execution_count": null,
   "id": "23dc20a0",
   "metadata": {},
   "outputs": [],
   "source": []
  }
 ],
 "metadata": {
  "kernelspec": {
   "display_name": "base",
   "language": "python",
   "name": "python3"
  },
  "language_info": {
   "codemirror_mode": {
    "name": "ipython",
    "version": 3
   },
   "file_extension": ".py",
   "mimetype": "text/x-python",
   "name": "python",
   "nbconvert_exporter": "python",
   "pygments_lexer": "ipython3",
   "version": "3.12.7"
  }
 },
 "nbformat": 4,
 "nbformat_minor": 5
}

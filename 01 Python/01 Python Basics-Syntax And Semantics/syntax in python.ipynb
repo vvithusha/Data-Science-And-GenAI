{
 "cells": [
  {
   "cell_type": "markdown",
   "id": "21644121",
   "metadata": {},
   "source": [
    "python variables and sematics  "
   ]
  },
  {
   "cell_type": "code",
   "execution_count": 20,
   "id": "de4409b0",
   "metadata": {},
   "outputs": [
    {
     "name": "stdout",
     "output_type": "stream",
     "text": [
      "hello world\n"
     ]
    }
   ],
   "source": [
    "##this is a single line comment\n",
    "print(\"hello world\")"
   ]
  },
  {
   "cell_type": "code",
   "execution_count": 21,
   "id": "7e07ffe2",
   "metadata": {},
   "outputs": [
    {
     "name": "stdout",
     "output_type": "stream",
     "text": [
      "21\n",
      "20\n"
     ]
    }
   ],
   "source": [
    "##basic syntax rules in python\n",
    "##case sensitivity-python is case sensitivity\n",
    "\n",
    "age =21\n",
    "Age =20\n",
    "\n",
    "print(age)\n",
    "print(Age)\n",
    "##both is variables are differents identifiers"
   ]
  },
  {
   "cell_type": "code",
   "execution_count": 22,
   "id": "a4ffdad5",
   "metadata": {},
   "outputs": [
    {
     "name": "stdout",
     "output_type": "stream",
     "text": [
      "you're major\n"
     ]
    }
   ],
   "source": [
    "##Indentation\n",
    "\n",
    "age=21\n",
    "if age>18:\n",
    "    print(\"you're major\")\n",
    "else:\n",
    "    print(\"you're not major\")\n",
    "\n",
    "    \n",
    "##Indentation means adding spaces or tabs at the beginning of a line of code \n",
    "  "
   ]
  },
  {
   "cell_type": "code",
   "execution_count": 23,
   "id": "3e350e2d",
   "metadata": {},
   "outputs": [
    {
     "name": "stdout",
     "output_type": "stream",
     "text": [
      "55\n"
     ]
    }
   ],
   "source": [
    "##line continution\n",
    "numbers=1+2+3+4+5+6+\\\n",
    "7+8+9+10\n",
    "\n",
    "print(numbers)\n",
    "\n",
    "##use a backslash (\\) to continue a statement to the next line"
   ]
  },
  {
   "cell_type": "code",
   "execution_count": 24,
   "id": "4cf9befd",
   "metadata": {},
   "outputs": [
    {
     "name": "stdout",
     "output_type": "stream",
     "text": [
      "50\n"
     ]
    }
   ],
   "source": [
    "##multiple statements on a single line\n",
    "\n",
    "x=20 ; y=30 ; z=x+y\n",
    "\n",
    "print(z)"
   ]
  },
  {
   "cell_type": "code",
   "execution_count": 25,
   "id": "e851d6cd",
   "metadata": {},
   "outputs": [
    {
     "name": "stdout",
     "output_type": "stream",
     "text": [
      "<class 'int'> 21\n",
      "<class 'str'> vithu\n",
      "<class 'float'> 1.6\n",
      "<class 'complex'> (5+0j)\n"
     ]
    }
   ],
   "source": [
    "##understand sematics in python\n",
    "#variable assigment\n",
    "\n",
    "age=21       ## age is integer\n",
    "name=\"vithu\" ## name is string\n",
    "height=1.6   ## height is float\n",
    "num=5+0j     ## num is complex\n",
    "\n",
    "print(type(age),age)\n",
    "print(type(name),name)\n",
    "print(type(height),height)\n",
    "print(type(num),num)"
   ]
  },
  {
   "cell_type": "code",
   "execution_count": 26,
   "id": "aadb52aa",
   "metadata": {},
   "outputs": [
    {
     "name": "stdout",
     "output_type": "stream",
     "text": [
      "correct indentation\n",
      "this will print\n",
      "outside the if block\n"
     ]
    }
   ],
   "source": [
    "##code examples of indentation\n",
    "age=21\n",
    "\n",
    "if age>18:\n",
    "    print(\"correct indentation\")\n",
    "    if age<18:\n",
    "        print(\"this is not print\")\n",
    "    print(\"this will print\")\n",
    "print(\"outside the if block\")"
   ]
  }
 ],
 "metadata": {
  "kernelspec": {
   "display_name": "base",
   "language": "python",
   "name": "python3"
  },
  "language_info": {
   "codemirror_mode": {
    "name": "ipython",
    "version": 3
   },
   "file_extension": ".py",
   "mimetype": "text/x-python",
   "name": "python",
   "nbconvert_exporter": "python",
   "pygments_lexer": "ipython3",
   "version": "3.12.7"
  }
 },
 "nbformat": 4,
 "nbformat_minor": 5
}

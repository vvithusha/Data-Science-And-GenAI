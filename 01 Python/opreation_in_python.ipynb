{
 "cells": [
  {
   "cell_type": "markdown",
   "id": "8c9b494e",
   "metadata": {},
   "source": [
    "1.Arithmetic Operators"
   ]
  },
  {
   "cell_type": "markdown",
   "id": "5e904ca4",
   "metadata": {},
   "source": [
    "| Operator | Meaning        | Example (`a=10`, `b=3`) | Result |\n",
    "| -------- | -------------- | ----------------------- | ------ |\n",
    "| `+`      | Addition       | `a + b`                 | `13`   |\n",
    "| `-`      | Subtraction    | `a - b`                 | `7`    |\n",
    "| `*`      | Multiplication | `a * b`                 | `30`   |\n",
    "| `/`      | Division       | `a / b`                 | `3.33` |\n",
    "| `//`     | Floor Division | `a // b`                | `3`    |\n",
    "| `%`      | Modulus        | `a % b`                 | `1`    |\n",
    "| `**`     | Exponentiation | `a ** b`                | `1000` |\n"
   ]
  },
  {
   "cell_type": "markdown",
   "id": "28d0dc1d",
   "metadata": {},
   "source": [
    " 2. Assignment Operators"
   ]
  },
  {
   "cell_type": "markdown",
   "id": "bfbe83e8",
   "metadata": {},
   "source": [
    "| Operator | Meaning             | Example                |\n",
    "| -------- | ------------------- | ---------------------- |\n",
    "| `=`      | Assign              | `x = 5`                |\n",
    "| `+=`     | Add and assign      | `x += 3` → `x = x + 3` |\n",
    "| `-=`     | Subtract and assign | `x -= 2`               |\n",
    "| `*=`     | Multiply and assign | `x *= 4`               |\n",
    "| `/=`     | Divide and assign   | `x /= 2`               |\n",
    "| `%=`     | Modulus and assign  | `x %= 3`               |\n",
    "| `**=`    | Power and assign    | `x **= 2`              |\n"
   ]
  },
  {
   "cell_type": "markdown",
   "id": "61e4d517",
   "metadata": {},
   "source": [
    " 3. Comparison Operators"
   ]
  },
  {
   "cell_type": "markdown",
   "id": "1313db1a",
   "metadata": {},
   "source": [
    "| Operator | Meaning          | Example  | Result       |\n",
    "| -------- | ---------------- | -------- | ------------ |\n",
    "| `==`     | Equal            | `x == y` | `True/False` |\n",
    "| `!=`     | Not equal        | `x != y` | `True/False` |\n",
    "| `>`      | Greater than     | `x > y`  | `True/False` |\n",
    "| `<`      | Less than        | `x < y`  | `True/False` |\n",
    "| `>=`     | Greater or equal | `x >= y` | `True/False` |\n",
    "| `<=`     | Less or equal    | `x <= y` | `True/False` |\n"
   ]
  },
  {
   "cell_type": "markdown",
   "id": "d94f7577",
   "metadata": {},
   "source": [
    "4. Logical Operators"
   ]
  },
  {
   "cell_type": "markdown",
   "id": "942cf646",
   "metadata": {},
   "source": [
    "| Operator | Meaning               | Example            | Result       |\n",
    "| -------- | --------------------- | ------------------ | ------------ |\n",
    "| `and`    | True if both are true | `x > 5 and y < 10` | `True/False` |\n",
    "| `or`     | True if one is true   | `x > 5 or y < 10`  | `True/False` |\n",
    "| `not`    | Reverse the result    | `not(x > 5)`       | `True/False` |\n"
   ]
  },
  {
   "cell_type": "markdown",
   "id": "5577c0b2",
   "metadata": {},
   "source": [
    "5.Bitwise Operators"
   ]
  },
  {
   "cell_type": "markdown",
   "id": "bdfdcab3",
   "metadata": {},
   "source": [
    "| Operator | Meaning     | Example  |     |     |\n",
    "| -------- | ----------- | -------- | --- | --- |\n",
    "| `&`      | AND         | `a & b`  |     |     |\n",
    "| \\`       | \\`          | OR       | \\`a | b\\` |\n",
    "| `^`      | XOR         | `a ^ b`  |     |     |\n",
    "| `~`      | NOT         | `~a`     |     |     |\n",
    "| `<<`     | Left Shift  | `a << 1` |     |     |\n",
    "| `>>`     | Right Shift | `a >> 1` |     |     |\n"
   ]
  },
  {
   "cell_type": "code",
   "execution_count": 2,
   "id": "5e1ecc9f",
   "metadata": {},
   "outputs": [
    {
     "name": "stdout",
     "output_type": "stream",
     "text": [
      "addition 9\n",
      "subtraction -1\n",
      "multipication 20\n",
      "divison 0.8\n",
      "floordivision 0\n",
      "modulus 4\n",
      "exponenentiation 1024\n"
     ]
    }
   ],
   "source": [
    "a = int(input(\"enter the number:\"))\n",
    "b = int(input(\"enter the number:\"))\n",
    "\n",
    "addition = a+b\n",
    "subtraction = a-b\n",
    "multiplication = a*b\n",
    "division = a/b\n",
    "floordivision = a//b\n",
    "modulus = a%b\n",
    "exponentiation = a**b\n",
    "\n",
    "print(\"addition\",addition)\n",
    "print(\"subtraction\",subtraction)\n",
    "print(\"multipication\",multiplication)\n",
    "print(\"divison\",division)\n",
    "print(\"floordivision\",floordivision)\n",
    "print(\"modulus\",modulus)\n",
    "print(\"exponenentiation\",exponentiation)\n"
   ]
  },
  {
   "cell_type": "code",
   "execution_count": null,
   "id": "1aa7d8a6",
   "metadata": {},
   "outputs": [],
   "source": []
  }
 ],
 "metadata": {
  "kernelspec": {
   "display_name": "base",
   "language": "python",
   "name": "python3"
  },
  "language_info": {
   "codemirror_mode": {
    "name": "ipython",
    "version": 3
   },
   "file_extension": ".py",
   "mimetype": "text/x-python",
   "name": "python",
   "nbconvert_exporter": "python",
   "pygments_lexer": "ipython3",
   "version": "3.12.7"
  }
 },
 "nbformat": 4,
 "nbformat_minor": 5
}

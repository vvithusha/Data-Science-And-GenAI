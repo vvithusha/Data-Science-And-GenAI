{
 "cells": [
  {
   "cell_type": "markdown",
   "id": "dd6a5cae",
   "metadata": {},
   "source": [
    "### function example"
   ]
  },
  {
   "cell_type": "markdown",
   "id": "75921c8f",
   "metadata": {},
   "source": [
    "### example-01 : temperature conversion"
   ]
  },
  {
   "cell_type": "code",
   "execution_count": null,
   "id": "599cc2f5",
   "metadata": {},
   "outputs": [
    {
     "name": "stdout",
     "output_type": "stream",
     "text": [
      "113.0\n",
      "45.0\n"
     ]
    }
   ],
   "source": [
    "def convert_temperature(temp,unit):\n",
    "    if unit == \"c\":\n",
    "        return temp*9/5 +32   ### celsius to fahrenhite\n",
    "\n",
    "    elif unit == \"f\":\n",
    "        return (temp-32)*5/9  ### fahrenhite to celsius\n",
    "\n",
    "print(convert_temperature(45,'c')) \n",
    "print(convert_temperature(113,'f'))"
   ]
  },
  {
   "cell_type": "markdown",
   "id": "9f7b02d3",
   "metadata": {},
   "source": [
    "#### example-02 : password strength check\n"
   ]
  },
  {
   "cell_type": "code",
   "execution_count": 7,
   "id": "e99890f0",
   "metadata": {},
   "outputs": [
    {
     "name": "stdout",
     "output_type": "stream",
     "text": [
      "False\n",
      "True\n"
     ]
    }
   ],
   "source": [
    "def is_password_strong(password):\n",
    "    if len(password) < 8:\n",
    "        return False\n",
    "    if not any(char.isdigit() for char in password):\n",
    "        return False\n",
    "    if not any(char.islower() for char in password):\n",
    "        return False\n",
    "    if not any(char.isupper() for char in password):\n",
    "        return False\n",
    "    if not any(char in '!@#$%^&*()+' for char in password):\n",
    "        return False\n",
    "    return True\n",
    "\n",
    "print(is_password_strong(\"example@4356\"))\n",
    "print(is_password_strong(\"Check#7484\"))"
   ]
  },
  {
   "cell_type": "markdown",
   "id": "a65df426",
   "metadata": {},
   "source": [
    "#### example-03 : calculate the total cost of items in a shopping cart"
   ]
  },
  {
   "cell_type": "code",
   "execution_count": 12,
   "id": "7c3b611c",
   "metadata": {},
   "outputs": [
    {
     "name": "stdout",
     "output_type": "stream",
     "text": [
      "182\n"
     ]
    }
   ],
   "source": [
    "def calculate_cost(cart):\n",
    "    total_cost = 0\n",
    "    for items in cart :\n",
    "        total_cost += items['price']*items['quantity']\n",
    "    return total_cost\n",
    "## example cart data\n",
    "\n",
    "cart=[\n",
    "    {'name':'apple','price':32,'quantity':4},\n",
    "    {'name':'orange','price':12,'quantity':2},\n",
    "    {'name':'mango','price':10,'quantity':3}\n",
    "\n",
    "\n",
    "]\n",
    "\n",
    "print(calculate_cost(cart))"
   ]
  },
  {
   "cell_type": "code",
   "execution_count": 11,
   "id": "70cfb2fd",
   "metadata": {},
   "outputs": [
    {
     "name": "stdout",
     "output_type": "stream",
     "text": [
      "182\n"
     ]
    }
   ],
   "source": [
    "def calculate_cost(cart):\n",
    "    total_cost = 0\n",
    "    return sum(item['price']*item['quantity']for item in cart)\n",
    "## example cart data\n",
    "\n",
    "cart=[\n",
    "    {'name':'apple','price':32,'quantity':4},\n",
    "    {'name':'orange','price':12,'quantity':2},\n",
    "    {'name':'mango','price':10,'quantity':3}\n",
    "\n",
    "\n",
    "]\n",
    "print(calculate_cost(cart))\n"
   ]
  },
  {
   "cell_type": "markdown",
   "id": "0b0048a1",
   "metadata": {},
   "source": [
    "#### example-04 : check if a string is palindrome"
   ]
  },
  {
   "cell_type": "code",
   "execution_count": 16,
   "id": "52a1ca3a",
   "metadata": {},
   "outputs": [
    {
     "name": "stdout",
     "output_type": "stream",
     "text": [
      "True\n",
      "True\n"
     ]
    }
   ],
   "source": [
    "def is_str_palindrome(s):\n",
    "    s = s.lower().replace(\" \",\"\") ## change lowercase and remove whitespace\n",
    "    return s == s[::-1]\n",
    "\n",
    "print(is_str_palindrome('madam'))\n",
    "print(is_str_palindrome(\"racecar\"))"
   ]
  },
  {
   "cell_type": "markdown",
   "id": "5b93ea49",
   "metadata": {},
   "source": [
    "#### example-05 : calculate the factorials of a number using recursion"
   ]
  },
  {
   "cell_type": "code",
   "execution_count": 21,
   "id": "4e931e1b",
   "metadata": {},
   "outputs": [
    {
     "name": "stdout",
     "output_type": "stream",
     "text": [
      "24\n",
      "120\n",
      "720\n"
     ]
    }
   ],
   "source": [
    "def fact(num):\n",
    "    if num == 0 :\n",
    "        return 1\n",
    "    else:\n",
    "        return num*fact(num-1)\n",
    "\n",
    "print(fact(4))\n",
    "print(fact(5))\n",
    "print(fact(6))"
   ]
  },
  {
   "cell_type": "markdown",
   "id": "bd085287",
   "metadata": {},
   "source": [
    "#### example-06 :a function to read a file and count the frequency of each word"
   ]
  },
  {
   "cell_type": "code",
   "execution_count": 12,
   "id": "bb999b30",
   "metadata": {},
   "outputs": [
    {
     "name": "stdout",
     "output_type": "stream",
     "text": [
      "{'hello': 2, 'word': 1, 'i': 1, 'am': 1, 'vithu': 2}\n"
     ]
    }
   ],
   "source": [
    "def count_word_frequency(filepath):\n",
    "    word_count = {}\n",
    "    with open (filepath,'r') as file:\n",
    "        for line in file:\n",
    "            words = line.split()\n",
    "            for word in words:\n",
    "                word = word.lower().strip('!@#$%^&*():;')\n",
    "                word_count[word]=word_count.get(word,0)+1\n",
    "    \n",
    "    return word_count \n",
    "\n",
    "filepath='hello.txt'\n",
    "word_frequency=count_word_frequency(filepath) \n",
    "print(word_frequency)         \n"
   ]
  },
  {
   "cell_type": "markdown",
   "id": "a3d94f8f",
   "metadata": {},
   "source": [
    "#### example-07 : validate Email Address"
   ]
  },
  {
   "cell_type": "code",
   "execution_count": 3,
   "id": "1fe9a188",
   "metadata": {},
   "outputs": [
    {
     "name": "stdout",
     "output_type": "stream",
     "text": [
      "True\n",
      "True\n",
      "False\n"
     ]
    }
   ],
   "source": [
    "import re\n",
    "def is_valid_email(email):\n",
    "    \"this function is check if the mail is valid.\"\n",
    "    pattern = r'^[a-zA-Z0-9_.+-]+@[a-zA-Z0-9]+\\.[a-zA-Z0-9-.]+$'\n",
    "    return re.match(pattern, email) is not None\n",
    "\n",
    "\n",
    "### calling the function\n",
    "print(is_valid_email(\"test@example.com\")) \n",
    "print(is_valid_email(\"hello@gmail.com\"))\n",
    "print(is_valid_email(\"example.com\"))"
   ]
  },
  {
   "cell_type": "code",
   "execution_count": null,
   "id": "4fc8da83",
   "metadata": {},
   "outputs": [],
   "source": []
  }
 ],
 "metadata": {
  "kernelspec": {
   "display_name": "base",
   "language": "python",
   "name": "python3"
  },
  "language_info": {
   "codemirror_mode": {
    "name": "ipython",
    "version": 3
   },
   "file_extension": ".py",
   "mimetype": "text/x-python",
   "name": "python",
   "nbconvert_exporter": "python",
   "pygments_lexer": "ipython3",
   "version": "3.12.7"
  }
 },
 "nbformat": 4,
 "nbformat_minor": 5
}

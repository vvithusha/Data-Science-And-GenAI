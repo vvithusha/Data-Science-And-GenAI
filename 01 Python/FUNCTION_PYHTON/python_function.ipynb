{
 "cells": [
  {
   "cell_type": "code",
   "execution_count": 2,
   "id": "f19a8aad",
   "metadata": {},
   "outputs": [],
   "source": [
    "### syntax \n",
    "def function(parameters):\n",
    "    \"docstring\"\n",
    "    # function body\n",
    "    return expression\n"
   ]
  },
  {
   "cell_type": "code",
   "execution_count": 3,
   "id": "4fa6a0e3",
   "metadata": {},
   "outputs": [
    {
     "name": "stdout",
     "output_type": "stream",
     "text": [
      "this number is even\n"
     ]
    }
   ],
   "source": [
    "### why function?\n",
    "num =4\n",
    "if num%2==0:\n",
    "    print(\"this number is even\")\n",
    "else:\n",
    "    print(\"this number is odd\")"
   ]
  },
  {
   "cell_type": "code",
   "execution_count": 8,
   "id": "4cbbcf28",
   "metadata": {},
   "outputs": [
    {
     "name": "stdout",
     "output_type": "stream",
     "text": [
      "odd number\n",
      "None\n"
     ]
    }
   ],
   "source": [
    "def odd_or_even(num):\n",
    "    \"\"\" this function is finds even or odd\"\"\"\n",
    "    if num%2==0:\n",
    "        print(\"even number\")\n",
    "    else:\n",
    "        print(\"odd number\")\n",
    "print(odd_or_even(45))"
   ]
  },
  {
   "cell_type": "code",
   "execution_count": 11,
   "id": "67f73692",
   "metadata": {},
   "outputs": [
    {
     "name": "stdout",
     "output_type": "stream",
     "text": [
      "odd number\n"
     ]
    }
   ],
   "source": [
    "odd_or_even(33)"
   ]
  },
  {
   "cell_type": "code",
   "execution_count": 13,
   "id": "f8e5a91e",
   "metadata": {},
   "outputs": [
    {
     "name": "stdout",
     "output_type": "stream",
     "text": [
      "24\n"
     ]
    }
   ],
   "source": [
    "## function with multiple parameters\n",
    "\n",
    "def add(a,b):\n",
    "    \"\"\"add two variable\"\"\"\n",
    "    return a+b\n",
    "print(add(4,20))"
   ]
  },
  {
   "cell_type": "code",
   "execution_count": 17,
   "id": "c4e890d5",
   "metadata": {},
   "outputs": [
    {
     "name": "stdout",
     "output_type": "stream",
     "text": [
      "hello Guest welcome to the paradise\n"
     ]
    }
   ],
   "source": [
    "## default paremeters\n",
    "\n",
    "def greet (name=\"Guest\"):\n",
    "    print(f\"hello {name} welcome to the paradise\")\n",
    "\n",
    "greet()"
   ]
  },
  {
   "cell_type": "code",
   "execution_count": 18,
   "id": "f8529142",
   "metadata": {},
   "outputs": [
    {
     "name": "stdout",
     "output_type": "stream",
     "text": [
      "hello vithu welcome to the paradise\n"
     ]
    }
   ],
   "source": [
    "def greet (name=\"Guest\"):\n",
    "    print(f\"hello {name} welcome to the paradise\")\n",
    "\n",
    "greet(\"vithu\")"
   ]
  },
  {
   "cell_type": "code",
   "execution_count": 23,
   "id": "f6c0a060",
   "metadata": {},
   "outputs": [
    {
     "name": "stdout",
     "output_type": "stream",
     "text": [
      "1\n",
      "2\n",
      "3\n",
      "4\n",
      "5\n",
      "6\n",
      "7\n",
      "8\n",
      "vithu\n"
     ]
    }
   ],
   "source": [
    "## variable length Arguments\n",
    "## positional and keywords arguments\n",
    "\n",
    "def print_number(*vithu):\n",
    "    for number in vithu:\n",
    "        print(number)\n",
    "\n",
    "print_number(1,2,3,4,5,6,7,8,\"vithu\")"
   ]
  },
  {
   "cell_type": "code",
   "execution_count": 25,
   "id": "07afe19e",
   "metadata": {},
   "outputs": [
    {
     "name": "stdout",
     "output_type": "stream",
     "text": [
      "1\n",
      "2\n",
      "3\n",
      "4\n",
      "5\n"
     ]
    }
   ],
   "source": [
    "## positional arguments\n",
    "def print_number(*args):\n",
    "    for number in args:\n",
    "        print(number)\n",
    "print_number(1,2,3,4,5)"
   ]
  },
  {
   "cell_type": "code",
   "execution_count": 27,
   "id": "dd570b61",
   "metadata": {},
   "outputs": [
    {
     "name": "stdout",
     "output_type": "stream",
     "text": [
      "name:vithu\n",
      "age:21\n",
      "country:srilanka\n"
     ]
    }
   ],
   "source": [
    "## keywords Arguments\n",
    "\n",
    "def print_details(**kwargs):\n",
    "    for key,value in kwargs.items():\n",
    "        print(f\"{key}:{value}\")\n",
    "\n",
    "print_details(name=\"vithu\",age=21,country=\"srilanka\")"
   ]
  },
  {
   "cell_type": "code",
   "execution_count": 30,
   "id": "29e21296",
   "metadata": {},
   "outputs": [
    {
     "name": "stdout",
     "output_type": "stream",
     "text": [
      "1\n",
      "2\n",
      "3\n",
      "4\n",
      "5\n",
      "name:vithu\n",
      "age:21\n",
      "country:srilanka\n"
     ]
    }
   ],
   "source": [
    "def print_details(*args,**kwargs):\n",
    "    for key,value in kwargs.items():\n",
    "        print(f\"{key}:{value}\")\n",
    "    for number in args:\n",
    "        print(number)\n",
    "print_number(1,2,3,4,5)\n",
    "print_details(name=\"vithu\",age=21,country=\"srilanka\")"
   ]
  },
  {
   "cell_type": "code",
   "execution_count": 37,
   "id": "ab273052",
   "metadata": {},
   "outputs": [],
   "source": [
    "def print_details(*args,**kwargs):\n",
    "    for number in args:\n",
    "        print(f\"position argument{number}\")\n",
    "\n",
    "    for key,value in kwargs.items():\n",
    "      print(f\"{key}:{value}\")\n"
   ]
  },
  {
   "cell_type": "code",
   "execution_count": 38,
   "id": "edb2f1ce",
   "metadata": {},
   "outputs": [
    {
     "name": "stdout",
     "output_type": "stream",
     "text": [
      "position argument1\n",
      "position argument2\n",
      "position argument3\n",
      "position argumentvithu\n",
      "name:vithu\n",
      "age:21\n",
      "country:srilanka\n"
     ]
    }
   ],
   "source": [
    "print_details(1,2,3,\"vithu\",name=\"vithu\",age=21,country=\"srilanka\")"
   ]
  },
  {
   "cell_type": "code",
   "execution_count": 40,
   "id": "32cdeaf5",
   "metadata": {},
   "outputs": [
    {
     "data": {
      "text/plain": [
       "12"
      ]
     },
     "execution_count": 40,
     "metadata": {},
     "output_type": "execute_result"
    }
   ],
   "source": [
    "## return  statement\n",
    "def multi(a,b):\n",
    "    return a*b\n",
    "\n",
    "multi(3,4)\n"
   ]
  },
  {
   "cell_type": "code",
   "execution_count": 39,
   "id": "1380676a",
   "metadata": {},
   "outputs": [
    {
     "data": {
      "text/plain": [
       "(20, 4, 5)"
      ]
     },
     "execution_count": 39,
     "metadata": {},
     "output_type": "execute_result"
    }
   ],
   "source": [
    "## return multiple parameters\n",
    "def mutiple(a,b):\n",
    "    return a*b,a,b\n",
    "mutiple(4,5)"
   ]
  },
  {
   "cell_type": "code",
   "execution_count": null,
   "id": "1037091c",
   "metadata": {},
   "outputs": [],
   "source": []
  }
 ],
 "metadata": {
  "kernelspec": {
   "display_name": "base",
   "language": "python",
   "name": "python3"
  },
  "language_info": {
   "codemirror_mode": {
    "name": "ipython",
    "version": 3
   },
   "file_extension": ".py",
   "mimetype": "text/x-python",
   "name": "python",
   "nbconvert_exporter": "python",
   "pygments_lexer": "ipython3",
   "version": "3.12.7"
  }
 },
 "nbformat": 4,
 "nbformat_minor": 5
}

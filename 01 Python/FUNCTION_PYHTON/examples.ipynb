{
 "cells": [
  {
   "cell_type": "markdown",
   "id": "9f55d254",
   "metadata": {},
   "source": [
    "### functions Examples"
   ]
  },
  {
   "cell_type": "markdown",
   "id": "31eb0740",
   "metadata": {},
   "source": [
    "#### 1.Temperarature Conversion"
   ]
  },
  {
   "cell_type": "code",
   "execution_count": null,
   "id": "81777c28",
   "metadata": {},
   "outputs": [
    {
     "name": "stdout",
     "output_type": "stream",
     "text": [
      "The converted temperature is: 579.2\n"
     ]
    }
   ],
   "source": [
    "### A program to convert celsius to fahrenheit and vice versa\n",
    "def conversion(Temperature):\n",
    "    \"\"\"converts celsius to fahrenheit\"\"\"\n",
    "    choice = input(\"if you want to convert celsius to fahrenheit, type 'c' else type 'f': \")\n",
    "    if choice == 'c':\n",
    "        fahrenheit = (Temperature * 9/5) + 32\n",
    "        return fahrenheit\n",
    "    elif choice == 'f':\n",
    "        celsius = (Temperature -32) * 5/9\n",
    "        return celsius\n",
    "    else:\n",
    "        return \"Invelid input\"\n",
    "    \n",
    "Temperature = float(input(\"Enter the temperature: \"))\n",
    "result = conversion(Temperature)\n",
    "print(\"The converted temperature is:\", result)\n"
   ]
  },
  {
   "cell_type": "markdown",
   "id": "fbdec468",
   "metadata": {},
   "source": [
    "### 1.tempeture conversion"
   ]
  },
  {
   "cell_type": "code",
   "execution_count": 4,
   "id": "a6f82eb0",
   "metadata": {},
   "outputs": [
    {
     "name": "stdout",
     "output_type": "stream",
     "text": [
      "77.0\n",
      "25.0\n"
     ]
    }
   ],
   "source": [
    "### tempeture conversion\n",
    "def convert_tempeture(temp,unit):\n",
    "    \"\"\"This function convert tempeture between celsius and fahrenhit\"\"\"\n",
    "    if unit == \"c\":\n",
    "        return temp * 9/5 +32 ## celsius to fahrenhit\n",
    "\n",
    "    elif unit == \"f\":\n",
    "        return (temp - 32 )* 5/9 ## fahrenheit to celsius\n",
    "\n",
    "    else: \n",
    "        return None\n",
    "\n",
    "print(convert_tempeture(25,\"c\"))\n",
    "print(convert_tempeture(77,'f'))"
   ]
  },
  {
   "cell_type": "markdown",
   "id": "29af0972",
   "metadata": {},
   "source": [
    "### 2.password stength check"
   ]
  },
  {
   "cell_type": "code",
   "execution_count": 10,
   "id": "5c80b403",
   "metadata": {},
   "outputs": [
    {
     "name": "stdout",
     "output_type": "stream",
     "text": [
      "False\n",
      "True\n",
      "True\n"
     ]
    }
   ],
   "source": [
    "def is_strong_password(password):\n",
    "    \"\"\"This function check password is strong or not\"\"\"\n",
    "    if len(password)<8:\n",
    "        return False\n",
    "\n",
    "    if not any(char.isdigit() for char in password):\n",
    "        return False\n",
    "\n",
    "    if not any(char.islower()for char in password):\n",
    "        return False\n",
    "\n",
    "    if not any(char.isupper()for char in password):\n",
    "        return False\n",
    "    \n",
    "    if not any (char in '!@#$%^&()_+' for char in password):\n",
    "        return False\n",
    "    return True  \n",
    "\n",
    "##calling the function\n",
    "print(is_strong_password(\"WerRdff\"))\n",
    "print(is_strong_password(\"Stro0dfD!\"))\n",
    "print(is_strong_password(\"kndfAk893$dsa\"))\n",
    "\n",
    "  "
   ]
  },
  {
   "cell_type": "code",
   "execution_count": null,
   "id": "2d73fa5f",
   "metadata": {},
   "outputs": [],
   "source": []
  }
 ],
 "metadata": {
  "kernelspec": {
   "display_name": "base",
   "language": "python",
   "name": "python3"
  },
  "language_info": {
   "codemirror_mode": {
    "name": "ipython",
    "version": 3
   },
   "file_extension": ".py",
   "mimetype": "text/x-python",
   "name": "python",
   "nbconvert_exporter": "python",
   "pygments_lexer": "ipython3",
   "version": "3.12.7"
  }
 },
 "nbformat": 4,
 "nbformat_minor": 5
}

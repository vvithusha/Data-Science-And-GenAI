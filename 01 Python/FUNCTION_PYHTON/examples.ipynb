{
 "cells": [
  {
   "cell_type": "markdown",
   "id": "9f55d254",
   "metadata": {},
   "source": [
    "### functions Examples"
   ]
  },
  {
   "cell_type": "markdown",
   "id": "31eb0740",
   "metadata": {},
   "source": [
    "#### 1.Temperarature Conversion"
   ]
  },
  {
   "cell_type": "code",
   "execution_count": null,
   "id": "81777c28",
   "metadata": {},
   "outputs": [
    {
     "name": "stdout",
     "output_type": "stream",
     "text": [
      "The converted temperature is: 579.2\n"
     ]
    }
   ],
   "source": [
    "### A program to convert celsius to fahrenheit and vice versa\n",
    "def conversion(Temperature):\n",
    "    \"\"\"converts celsius to fahrenheit\"\"\"\n",
    "    choice = input(\"if you want to convert celsius to fahrenheit, type 'c' else type 'f': \")\n",
    "    if choice == 'c':\n",
    "        fahrenheit = (Temperature * 9/5) + 32\n",
    "        return fahrenheit\n",
    "    elif choice == 'f':\n",
    "        celsius = (Temperature -32) * 5/9\n",
    "        return celsius\n",
    "    else:\n",
    "        return \"Invelid input\"\n",
    "    \n",
    "Temperature = float(input(\"Enter the temperature: \"))\n",
    "result = conversion(Temperature)\n",
    "print(\"The converted temperature is:\", result)\n"
   ]
  },
  {
   "cell_type": "markdown",
   "id": "fbdec468",
   "metadata": {},
   "source": [
    "### 1.tempeture conversion"
   ]
  },
  {
   "cell_type": "code",
   "execution_count": 4,
   "id": "a6f82eb0",
   "metadata": {},
   "outputs": [
    {
     "name": "stdout",
     "output_type": "stream",
     "text": [
      "77.0\n",
      "25.0\n"
     ]
    }
   ],
   "source": [
    "### tempeture conversion\n",
    "def convert_tempeture(temp,unit):\n",
    "    \"\"\"This function convert tempeture between celsius and fahrenhit\"\"\"\n",
    "    if unit == \"c\":\n",
    "        return temp * 9/5 +32 ## celsius to fahrenhit\n",
    "\n",
    "    elif unit == \"f\":\n",
    "        return (temp - 32 )* 5/9 ## fahrenheit to celsius\n",
    "\n",
    "    else: \n",
    "        return None\n",
    "\n",
    "print(convert_tempeture(25,\"c\"))\n",
    "print(convert_tempeture(77,'f'))"
   ]
  },
  {
   "cell_type": "markdown",
   "id": "29af0972",
   "metadata": {},
   "source": [
    "### 2.password stength check"
   ]
  },
  {
   "cell_type": "code",
   "execution_count": 10,
   "id": "5c80b403",
   "metadata": {},
   "outputs": [
    {
     "name": "stdout",
     "output_type": "stream",
     "text": [
      "False\n",
      "True\n",
      "True\n"
     ]
    }
   ],
   "source": [
    "def is_strong_password(password):\n",
    "    \"\"\"This function check password is strong or not\"\"\"\n",
    "    if len(password)<8:\n",
    "        return False\n",
    "\n",
    "    if not any(char.isdigit() for char in password):\n",
    "        return False\n",
    "\n",
    "    if not any(char.islower()for char in password):\n",
    "        return False\n",
    "\n",
    "    if not any(char.isupper()for char in password):\n",
    "        return False\n",
    "    \n",
    "    if not any (char in '!@#$%^&()_+' for char in password):\n",
    "        return False\n",
    "    return True  \n",
    "\n",
    "##calling the function\n",
    "print(is_strong_password(\"WerRdff\"))\n",
    "print(is_strong_password(\"Stro0dfD!\"))\n",
    "print(is_strong_password(\"kndfAk893$dsa\"))\n",
    "\n",
    "  "
   ]
  },
  {
   "cell_type": "code",
   "execution_count": null,
   "id": "2d73fa5f",
   "metadata": {},
   "outputs": [
    {
     "name": "stdout",
     "output_type": "stream",
     "text": [
      "celsius to fahrenhit 113.0\n",
      "fahrenhite to celsius 45.0\n"
     ]
    }
   ],
   "source": [
    "def convert(temp,unit):\n",
    "    \"\"\"this function is converts temperature\"\"\"\n",
    "    if unit == 'c':\n",
    "        return temp *9/5 +32 ## celsious to fahrenhit\n",
    "    elif unit == 'f':\n",
    "        return (temp-32)*5/9 ## fahrenhite to celsius\n",
    "    else:\n",
    "        return 'invalid input'\n",
    "print(\"celsius to fahrenhit:\",convert(45,'c'))\n",
    "print(\"fahrenhite to celsius:\",convert(113,'f'))  \n"
   ]
  },
  {
   "cell_type": "code",
   "execution_count": 22,
   "id": "68f9f825",
   "metadata": {},
   "outputs": [
    {
     "name": "stdout",
     "output_type": "stream",
     "text": [
      "True\n",
      "False\n"
     ]
    }
   ],
   "source": [
    "### check strong password \n",
    "def is_strong_password(password):\n",
    "    \"\"\"this functon is check is password is strong\"\"\"\n",
    "    if len(password) < 8:\n",
    "        return False\n",
    "    if not any(char.isdigit() for char in password):\n",
    "        return False\n",
    "    if not any(char.islower() for char in password):\n",
    "        return False\n",
    "    if not any(char.isupper() for char in password):\n",
    "        return False\n",
    "    if not any(char in '!@#$%^&*()_+' for char in password):\n",
    "        return False\n",
    "    return True\n",
    "print(is_strong_password(\"Kiris@7484\"))\n",
    "print(is_strong_password(\"kirish#564\"))"
   ]
  },
  {
   "cell_type": "code",
   "execution_count": null,
   "id": "ba7b9193",
   "metadata": {},
   "outputs": [
    {
     "name": "stdout",
     "output_type": "stream",
     "text": [
      "False\n",
      "VITHU\n",
      "Vithu\n",
      "vithu\n"
     ]
    }
   ],
   "source": [
    "name=\"vithu\"\n",
    "print(name.isupper()) ## cheak if all letters are capital letters\n",
    "print(name.upper())\n",
    "print(name.title())\n",
    "print(name.lower())"
   ]
  },
  {
   "cell_type": "code",
   "execution_count": 7,
   "id": "5d31d62b",
   "metadata": {},
   "outputs": [
    {
     "name": "stdout",
     "output_type": "stream",
     "text": [
      "HELLO VITHU\n"
     ]
    }
   ],
   "source": [
    "def changecase(func):\n",
    "    def myinner():\n",
    "        return func().upper()\n",
    "    return myinner\n",
    "\n",
    "@changecase\n",
    "def myfun():\n",
    "    return \"hello vithu\"\n",
    "print(myfun())"
   ]
  },
  {
   "cell_type": "markdown",
   "id": "b590e9a3",
   "metadata": {},
   "source": [
    "#### 3.calculate the total cost of items in a shoping chart"
   ]
  },
  {
   "cell_type": "code",
   "execution_count": 1,
   "id": "bf7041d8",
   "metadata": {},
   "outputs": [
    {
     "name": "stdout",
     "output_type": "stream",
     "text": [
      "9.100000000000001\n"
     ]
    }
   ],
   "source": [
    "def calculate_total_cost(cart):\n",
    "    total_cost=0 \n",
    "    for item in cart:\n",
    "        total_cost +=item['price']*item['quantity']\n",
    "    \n",
    "    return total_cost\n",
    "\n",
    "\n",
    "### example cart data\n",
    "\n",
    "cart = [\n",
    "    {'name':'apple','price':0.5,'quantity':4},\n",
    "    {'name':'banan','price':0.9,'quantity':5},\n",
    "    {'name':'orange','price':0.6,'quantity':3},\n",
    "    {'name':'cherry','price':0.4,'quantity':2}\n",
    "]\n",
    "\n",
    "total_cost = calculate_total_cost(cart)\n",
    "print(total_cost)"
   ]
  },
  {
   "cell_type": "markdown",
   "id": "2da8a0b1",
   "metadata": {},
   "source": [
    "#### 4.check if a string is palindrome "
   ]
  },
  {
   "cell_type": "code",
   "execution_count": 3,
   "id": "0f3cc18e",
   "metadata": {},
   "outputs": [
    {
     "name": "stdout",
     "output_type": "stream",
     "text": [
      "this string palindorm\n"
     ]
    }
   ],
   "source": [
    "def is_string_palindrome(string):\n",
    "    if string == string[::-1]:\n",
    "        return 'this string palindorm'\n",
    "    else:\n",
    "        return 'this is not palindoram'\n",
    "    \n",
    "print(is_string_palindrome(\"mom\"))"
   ]
  },
  {
   "cell_type": "code",
   "execution_count": 6,
   "id": "e876b553",
   "metadata": {},
   "outputs": [
    {
     "name": "stdout",
     "output_type": "stream",
     "text": [
      "True\n",
      "False\n"
     ]
    }
   ],
   "source": [
    "def is_polindorm(s):\n",
    "    s = s.lower().replace(\" \",\"\")\n",
    "    return s == s[::-1]\n",
    "print(is_polindorm(\"a man a plan a canal panama\"))\n",
    "print(is_polindorm(\"hello world\"))"
   ]
  },
  {
   "cell_type": "markdown",
   "id": "624fcb4e",
   "metadata": {},
   "source": [
    "#### 5.calcualte the factorial of a number using necursion"
   ]
  },
  {
   "cell_type": "code",
   "execution_count": 7,
   "id": "7ea0838e",
   "metadata": {},
   "outputs": [
    {
     "name": "stdout",
     "output_type": "stream",
     "text": [
      "120\n"
     ]
    }
   ],
   "source": [
    "def factorial(n):\n",
    "    if n == 0:\n",
    "        return 1\n",
    "    else:\n",
    "        return n*factorial(n-1)\n",
    "    \n",
    "print(factorial(5))"
   ]
  },
  {
   "cell_type": "code",
   "execution_count": 20,
   "id": "ba6fead0",
   "metadata": {},
   "outputs": [
    {
     "ename": "FileNotFoundError",
     "evalue": "[Errno 2] No such file or directory: 'hello.txt'",
     "output_type": "error",
     "traceback": [
      "\u001b[1;31m---------------------------------------------------------------------------\u001b[0m",
      "\u001b[1;31mFileNotFoundError\u001b[0m                         Traceback (most recent call last)",
      "Cell \u001b[1;32mIn[20], line 13\u001b[0m\n\u001b[0;32m     10\u001b[0m     \u001b[38;5;28;01mreturn\u001b[39;00m word_count\n\u001b[0;32m     12\u001b[0m filepath \u001b[38;5;241m=\u001b[39m \u001b[38;5;124m\"\u001b[39m\u001b[38;5;124mhello.txt\u001b[39m\u001b[38;5;124m\"\u001b[39m\n\u001b[1;32m---> 13\u001b[0m word_frequance\u001b[38;5;241m=\u001b[39mcount_word_frequancy(filepath)\n\u001b[0;32m     14\u001b[0m \u001b[38;5;28mprint\u001b[39m(word_frequance)\n",
      "Cell \u001b[1;32mIn[20], line 3\u001b[0m, in \u001b[0;36mcount_word_frequancy\u001b[1;34m(file_path)\u001b[0m\n\u001b[0;32m      1\u001b[0m \u001b[38;5;28;01mdef\u001b[39;00m \u001b[38;5;21mcount_word_frequancy\u001b[39m(file_path):\n\u001b[0;32m      2\u001b[0m     word_count\u001b[38;5;241m=\u001b[39m{}\n\u001b[1;32m----> 3\u001b[0m     \u001b[38;5;28;01mwith\u001b[39;00m \u001b[38;5;28mopen\u001b[39m(file_path,\u001b[38;5;124m'\u001b[39m\u001b[38;5;124mr\u001b[39m\u001b[38;5;124m'\u001b[39m) \u001b[38;5;28;01mas\u001b[39;00m file:\n\u001b[0;32m      4\u001b[0m         \u001b[38;5;28;01mfor\u001b[39;00m line \u001b[38;5;129;01min\u001b[39;00m file:\n\u001b[0;32m      5\u001b[0m             words \u001b[38;5;241m=\u001b[39m line\u001b[38;5;241m.\u001b[39msplit()\n",
      "File \u001b[1;32mc:\\ProgramData\\anaconda3\\Lib\\site-packages\\IPython\\core\\interactiveshell.py:324\u001b[0m, in \u001b[0;36m_modified_open\u001b[1;34m(file, *args, **kwargs)\u001b[0m\n\u001b[0;32m    317\u001b[0m \u001b[38;5;28;01mif\u001b[39;00m file \u001b[38;5;129;01min\u001b[39;00m {\u001b[38;5;241m0\u001b[39m, \u001b[38;5;241m1\u001b[39m, \u001b[38;5;241m2\u001b[39m}:\n\u001b[0;32m    318\u001b[0m     \u001b[38;5;28;01mraise\u001b[39;00m \u001b[38;5;167;01mValueError\u001b[39;00m(\n\u001b[0;32m    319\u001b[0m         \u001b[38;5;124mf\u001b[39m\u001b[38;5;124m\"\u001b[39m\u001b[38;5;124mIPython won\u001b[39m\u001b[38;5;124m'\u001b[39m\u001b[38;5;124mt let you open fd=\u001b[39m\u001b[38;5;132;01m{\u001b[39;00mfile\u001b[38;5;132;01m}\u001b[39;00m\u001b[38;5;124m by default \u001b[39m\u001b[38;5;124m\"\u001b[39m\n\u001b[0;32m    320\u001b[0m         \u001b[38;5;124m\"\u001b[39m\u001b[38;5;124mas it is likely to crash IPython. If you know what you are doing, \u001b[39m\u001b[38;5;124m\"\u001b[39m\n\u001b[0;32m    321\u001b[0m         \u001b[38;5;124m\"\u001b[39m\u001b[38;5;124myou can use builtins\u001b[39m\u001b[38;5;124m'\u001b[39m\u001b[38;5;124m open.\u001b[39m\u001b[38;5;124m\"\u001b[39m\n\u001b[0;32m    322\u001b[0m     )\n\u001b[1;32m--> 324\u001b[0m \u001b[38;5;28;01mreturn\u001b[39;00m io_open(file, \u001b[38;5;241m*\u001b[39margs, \u001b[38;5;241m*\u001b[39m\u001b[38;5;241m*\u001b[39mkwargs)\n",
      "\u001b[1;31mFileNotFoundError\u001b[0m: [Errno 2] No such file or directory: 'hello.txt'"
     ]
    }
   ],
   "source": [
    "def count_word_frequancy(file_path):\n",
    "    word_count={}\n",
    "    with open(file_path,'r') as file:\n",
    "        for line in file:\n",
    "            words = line.split()\n",
    "            for word in words:\n",
    "                word=word.lower().strip('.,!?:;\"\\'')\n",
    "                word_count[word]=word_count.get(word,0)+1\n",
    "\n",
    "    return word_count\n",
    "\n",
    "filepath = \"hello.txt\"\n",
    "word_frequance=count_word_frequancy(filepath)\n",
    "print(word_frequance)"
   ]
  },
  {
   "cell_type": "code",
   "execution_count": null,
   "id": "d2aba76a",
   "metadata": {},
   "outputs": [],
   "source": []
  }
 ],
 "metadata": {
  "kernelspec": {
   "display_name": "base",
   "language": "python",
   "name": "python3"
  },
  "language_info": {
   "codemirror_mode": {
    "name": "ipython",
    "version": 3
   },
   "file_extension": ".py",
   "mimetype": "text/x-python",
   "name": "python",
   "nbconvert_exporter": "python",
   "pygments_lexer": "ipython3",
   "version": "3.12.7"
  }
 },
 "nbformat": 4,
 "nbformat_minor": 5
}

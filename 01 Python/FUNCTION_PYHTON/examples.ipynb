{
 "cells": [
  {
   "cell_type": "markdown",
   "id": "9f55d254",
   "metadata": {},
   "source": [
    "### functions Examples"
   ]
  },
  {
   "cell_type": "markdown",
   "id": "31eb0740",
   "metadata": {},
   "source": [
    "#### 1.Temperarature Conversion"
   ]
  },
  {
   "cell_type": "code",
   "execution_count": null,
   "id": "81777c28",
   "metadata": {},
   "outputs": [
    {
     "name": "stdout",
     "output_type": "stream",
     "text": [
      "The converted temperature is: 579.2\n"
     ]
    }
   ],
   "source": [
    "### A program to convert celsius to fahrenheit and vice versa\n",
    "def conversion(Temperature):\n",
    "    \"\"\"converts celsius to fahrenheit\"\"\"\n",
    "    choice = input(\"if you want to convert celsius to fahrenheit, type 'c' else type 'f': \")\n",
    "    if choice == 'c':\n",
    "        fahrenheit = (Temperature * 9/5) + 32\n",
    "        return fahrenheit\n",
    "    elif choice == 'f':\n",
    "        celsius = (Temperature -32) * 5/9\n",
    "        return celsius\n",
    "    else:\n",
    "        return \"Invelid input\"\n",
    "    \n",
    "Temperature = float(input(\"Enter the temperature: \"))\n",
    "result = conversion(Temperature)\n",
    "print(\"The converted temperature is:\", result)\n"
   ]
  },
  {
   "cell_type": "markdown",
   "id": "fbdec468",
   "metadata": {},
   "source": [
    "### 1.tempeture conversion"
   ]
  },
  {
   "cell_type": "code",
   "execution_count": 4,
   "id": "a6f82eb0",
   "metadata": {},
   "outputs": [
    {
     "name": "stdout",
     "output_type": "stream",
     "text": [
      "77.0\n",
      "25.0\n"
     ]
    }
   ],
   "source": [
    "### tempeture conversion\n",
    "def convert_tempeture(temp,unit):\n",
    "    \"\"\"This function convert tempeture between celsius and fahrenhit\"\"\"\n",
    "    if unit == \"c\":\n",
    "        return temp * 9/5 +32 ## celsius to fahrenhit\n",
    "\n",
    "    elif unit == \"f\":\n",
    "        return (temp - 32 )* 5/9 ## fahrenheit to celsius\n",
    "\n",
    "    else: \n",
    "        return None\n",
    "\n",
    "print(convert_tempeture(25,\"c\"))\n",
    "print(convert_tempeture(77,'f'))"
   ]
  },
  {
   "cell_type": "markdown",
   "id": "29af0972",
   "metadata": {},
   "source": [
    "### 2.password stength check"
   ]
  },
  {
   "cell_type": "code",
   "execution_count": 10,
   "id": "5c80b403",
   "metadata": {},
   "outputs": [
    {
     "name": "stdout",
     "output_type": "stream",
     "text": [
      "False\n",
      "True\n",
      "True\n"
     ]
    }
   ],
   "source": [
    "def is_strong_password(password):\n",
    "    \"\"\"This function check password is strong or not\"\"\"\n",
    "    if len(password)<8:\n",
    "        return False\n",
    "\n",
    "    if not any(char.isdigit() for char in password):\n",
    "        return False\n",
    "\n",
    "    if not any(char.islower()for char in password):\n",
    "        return False\n",
    "\n",
    "    if not any(char.isupper()for char in password):\n",
    "        return False\n",
    "    \n",
    "    if not any (char in '!@#$%^&()_+' for char in password):\n",
    "        return False\n",
    "    return True  \n",
    "\n",
    "##calling the function\n",
    "print(is_strong_password(\"WerRdff\"))\n",
    "print(is_strong_password(\"Stro0dfD!\"))\n",
    "print(is_strong_password(\"kndfAk893$dsa\"))\n",
    "\n",
    "  "
   ]
  },
  {
   "cell_type": "code",
   "execution_count": null,
   "id": "2d73fa5f",
   "metadata": {},
   "outputs": [
    {
     "name": "stdout",
     "output_type": "stream",
     "text": [
      "celsius to fahrenhit 113.0\n",
      "fahrenhite to celsius 45.0\n"
     ]
    }
   ],
   "source": [
    "def convert(temp,unit):\n",
    "    \"\"\"this function is converts temperature\"\"\"\n",
    "    if unit == 'c':\n",
    "        return temp *9/5 +32 ## celsious to fahrenhit\n",
    "    elif unit == 'f':\n",
    "        return (temp-32)*5/9 ## fahrenhite to celsius\n",
    "    else:\n",
    "        return 'invalid input'\n",
    "print(\"celsius to fahrenhit:\",convert(45,'c'))\n",
    "print(\"fahrenhite to celsius:\",convert(113,'f'))  \n"
   ]
  },
  {
   "cell_type": "code",
   "execution_count": 22,
   "id": "68f9f825",
   "metadata": {},
   "outputs": [
    {
     "name": "stdout",
     "output_type": "stream",
     "text": [
      "True\n",
      "False\n"
     ]
    }
   ],
   "source": [
    "### check strong password \n",
    "def is_strong_password(password):\n",
    "    \"\"\"this functon is check is password is strong\"\"\"\n",
    "    if len(password) < 8:\n",
    "        return False\n",
    "    if not any(char.isdigit() for char in password):\n",
    "        return False\n",
    "    if not any(char.islower() for char in password):\n",
    "        return False\n",
    "    if not any(char.isupper() for char in password):\n",
    "        return False\n",
    "    if not any(char in '!@#$%^&*()_+' for char in password):\n",
    "        return False\n",
    "    return True\n",
    "print(is_strong_password(\"Kiris@7484\"))\n",
    "print(is_strong_password(\"kirish#564\"))"
   ]
  },
  {
   "cell_type": "code",
   "execution_count": null,
   "id": "ba7b9193",
   "metadata": {},
   "outputs": [
    {
     "name": "stdout",
     "output_type": "stream",
     "text": [
      "False\n",
      "VITHU\n",
      "Vithu\n",
      "vithu\n"
     ]
    }
   ],
   "source": [
    "name=\"vithu\"\n",
    "print(name.isupper()) ## cheak if all letters are capital letters\n",
    "print(name.upper())\n",
    "print(name.title())\n",
    "print(name.lower())"
   ]
  },
  {
   "cell_type": "code",
   "execution_count": 7,
   "id": "5d31d62b",
   "metadata": {},
   "outputs": [
    {
     "name": "stdout",
     "output_type": "stream",
     "text": [
      "HELLO VITHU\n"
     ]
    }
   ],
   "source": [
    "def changecase(func):\n",
    "    def myinner():\n",
    "        return func().upper()\n",
    "    return myinner\n",
    "\n",
    "@changecase\n",
    "def myfun():\n",
    "    return \"hello vithu\"\n",
    "print(myfun())"
   ]
  },
  {
   "cell_type": "markdown",
   "id": "b590e9a3",
   "metadata": {},
   "source": [
    "#### 3.calculate the total cost of items in a shoping chart"
   ]
  },
  {
   "cell_type": "code",
   "execution_count": 1,
   "id": "bf7041d8",
   "metadata": {},
   "outputs": [
    {
     "name": "stdout",
     "output_type": "stream",
     "text": [
      "9.100000000000001\n"
     ]
    }
   ],
   "source": [
    "def calculate_total_cost(cart):\n",
    "    total_cost=0 \n",
    "    for item in cart:\n",
    "        total_cost +=item['price']*item['quantity']\n",
    "    \n",
    "    return total_cost\n",
    "\n",
    "\n",
    "### example cart data\n",
    "\n",
    "cart = [\n",
    "    {'name':'apple','price':0.5,'quantity':4},\n",
    "    {'name':'banan','price':0.9,'quantity':5},\n",
    "    {'name':'orange','price':0.6,'quantity':3},\n",
    "    {'name':'cherry','price':0.4,'quantity':2}\n",
    "]\n",
    "\n",
    "total_cost = calculate_total_cost(cart)\n",
    "print(total_cost)"
   ]
  },
  {
   "cell_type": "markdown",
   "id": "2da8a0b1",
   "metadata": {},
   "source": [
    "#### 4.check if a string is palindrome "
   ]
  },
  {
   "cell_type": "code",
   "execution_count": 3,
   "id": "0f3cc18e",
   "metadata": {},
   "outputs": [
    {
     "name": "stdout",
     "output_type": "stream",
     "text": [
      "this string palindorm\n"
     ]
    }
   ],
   "source": [
    "def is_string_palindrome(string):\n",
    "    if string == string[::-1]:\n",
    "        return 'this string palindorm'\n",
    "    else:\n",
    "        return 'this is not palindoram'\n",
    "    \n",
    "print(is_string_palindrome(\"mom\"))"
   ]
  },
  {
   "cell_type": "code",
   "execution_count": 6,
   "id": "e876b553",
   "metadata": {},
   "outputs": [
    {
     "name": "stdout",
     "output_type": "stream",
     "text": [
      "True\n",
      "False\n"
     ]
    }
   ],
   "source": [
    "def is_polindorm(s):\n",
    "    s = s.lower().replace(\" \",\"\")\n",
    "    return s == s[::-1]\n",
    "print(is_polindorm(\"a man a plan a canal panama\"))\n",
    "print(is_polindorm(\"hello world\"))"
   ]
  },
  {
   "cell_type": "markdown",
   "id": "624fcb4e",
   "metadata": {},
   "source": [
    "#### 5.calcualte the factorial of a number using necursion"
   ]
  },
  {
   "cell_type": "code",
   "execution_count": 7,
   "id": "7ea0838e",
   "metadata": {},
   "outputs": [
    {
     "name": "stdout",
     "output_type": "stream",
     "text": [
      "120\n"
     ]
    }
   ],
   "source": [
    "def factorial(n):\n",
    "    if n == 0:\n",
    "        return 1\n",
    "    else:\n",
    "        return n*factorial(n-1)\n",
    "    \n",
    "print(factorial(5))"
   ]
  },
  {
   "cell_type": "code",
   "execution_count": 26,
   "id": "ba6fead0",
   "metadata": {},
   "outputs": [
    {
     "name": "stdout",
     "output_type": "stream",
     "text": [
      "{'hello': 2, 'i': 2, 'am': 2, 'vithu': 2, 'how': 1, 'are': 1, 'you': 2, 'dr': 1, 'good': 1, 'what': 1, 'about': 1}\n"
     ]
    }
   ],
   "source": [
    "def count_word_frequency(file_path):\n",
    "    word_count={}\n",
    "    with open(file_path,'r') as file:\n",
    "        for line in file:\n",
    "            words = line.split()\n",
    "            for word in words:\n",
    "                word=word.lower().strip('.,!?:;\"\\'')\n",
    "                word_count[word]=word_count.get(word,0)+1\n",
    "\n",
    "    return word_count\n",
    "\n",
    "filepath = r\"D:\\Data-Science-And-GenAI\\01 Python\\FUNCTION_PYHTON\\hello .txt\"\n",
    "word_frequency=count_word_frequency(filepath)\n",
    "print(word_frequency)"
   ]
  },
  {
   "cell_type": "markdown",
   "id": "a4902ef0",
   "metadata": {},
   "source": [
    " #### 7.validate email address"
   ]
  },
  {
   "cell_type": "code",
   "execution_count": 34,
   "id": "f0b61750",
   "metadata": {},
   "outputs": [
    {
     "name": "stdout",
     "output_type": "stream",
     "text": [
      "True\n",
      "False\n"
     ]
    }
   ],
   "source": [
    "import re\n",
    "\n",
    "## email validation function\n",
    "def is_valid_email(email):\n",
    "    \"\"\"this function check if the email is valid\"\"\"\n",
    "    pattern = r'^[a-zA-Z0-9_.+-]+@[a-zA-Z0-9-.]+\\.[a-zA-Z0-9-.]+$'\n",
    "    return re.match(pattern ,email) is not None\n",
    "\n",
    "## calling the function\n",
    "print(is_valid_email(\"test@example.com\"))\n",
    "print(is_valid_email(\"invalid-email\"))\n"
   ]
  },
  {
   "cell_type": "code",
   "execution_count": 2,
   "id": "06a4372c",
   "metadata": {},
   "outputs": [
    {
     "name": "stdout",
     "output_type": "stream",
     "text": [
      "113.0\n",
      "45.0\n"
     ]
    }
   ],
   "source": [
    "### Temperature conversion\n",
    "def convert_tempeture(temp,unit):\n",
    "    \"\"\"this function converts temprature beetween celsius and fahrenhit\"\"\"\n",
    "    if unit == \"c\":\n",
    "        return temp * 9/5 +32\n",
    "    elif unit == \"f\":\n",
    "        return (temp - 32)*5/9\n",
    "    else:\n",
    "        return 'invalid syntex'\n",
    "    \n",
    "print(convert_tempeture(45,'c'))\n",
    "print(convert_tempeture(113,'f'))\n",
    "    "
   ]
  },
  {
   "cell_type": "code",
   "execution_count": 6,
   "id": "f1883d26",
   "metadata": {},
   "outputs": [
    {
     "name": "stdout",
     "output_type": "stream",
     "text": [
      "True\n",
      "False\n"
     ]
    }
   ],
   "source": [
    "### password strength checker\n",
    "def is_strong_password(password):\n",
    "    if len(password) < 8:\n",
    "        return False\n",
    "    if not any(char.isdigit for char in password):\n",
    "        return False\n",
    "    if not any(char.islower for char in password):\n",
    "        return False\n",
    "    if not any(char.isupper for char in password):\n",
    "        return False\n",
    "    if not any(char in '!@#$%^&*()?' for char in password):\n",
    "        return False\n",
    "    return True\n",
    "    \n",
    "print(is_strong_password(\"vihtu&er323\"))\n",
    "print(is_strong_password(\"google.log\"))"
   ]
  },
  {
   "cell_type": "code",
   "execution_count": 8,
   "id": "8f498c6b",
   "metadata": {},
   "outputs": [
    {
     "name": "stdout",
     "output_type": "stream",
     "text": [
      "30.2\n"
     ]
    }
   ],
   "source": [
    "### calculater the total cost of items in a shopping cart\n",
    "def total_cost(cart):\n",
    "    \"\"\"\"calculate the total cost\"\"\"\n",
    "    total = 0\n",
    "    for items in cart :\n",
    "        total += items['price']*items['quantity']\n",
    "    return total\n",
    "### items \n",
    "cart =[\n",
    "    {'name':'apple','price':2.5,'quantity':3},\n",
    "    {'name':'cherry','price':4.5,'quantity':4},\n",
    "    {'name':'banana','price':0.5,'quantity':5},\n",
    "    {'name':'orange','price':2.2,'quantity':1}\n",
    "]\n",
    "    \n",
    "print(total_cost(cart))"
   ]
  },
  {
   "cell_type": "code",
   "execution_count": 11,
   "id": "badae562",
   "metadata": {},
   "outputs": [
    {
     "name": "stdout",
     "output_type": "stream",
     "text": [
      "True\n",
      "False\n"
     ]
    }
   ],
   "source": [
    "### check if a string palindrome\n",
    "def is_string_palindrome(s):\n",
    "    s = s.lower() .replace(\" \",\"\")\n",
    "    return s == s[::-1]\n",
    "print(is_string_palindrome(\"kalak\"))\n",
    "print(is_string_palindrome(\"vithu\"))"
   ]
  },
  {
   "cell_type": "code",
   "execution_count": 13,
   "id": "8fe805ba",
   "metadata": {},
   "outputs": [
    {
     "name": "stdout",
     "output_type": "stream",
     "text": [
      "palidrome\n",
      "None\n"
     ]
    }
   ],
   "source": [
    "def check(s):\n",
    "    if s == s[::-1]:\n",
    "        return 'palidrome'\n",
    "print(check(\"kalak\"))\n",
    "print(check(\"vithu\"))"
   ]
  },
  {
   "cell_type": "code",
   "execution_count": 16,
   "id": "7cde1218",
   "metadata": {},
   "outputs": [
    {
     "name": "stdout",
     "output_type": "stream",
     "text": [
      "120\n"
     ]
    }
   ],
   "source": [
    "### calculate the factorial of a number using recursion\n",
    "def fact(num):\n",
    "    if num == 0:\n",
    "        return 1\n",
    "    else:\n",
    "       return num*fact(num-1)\n",
    "    \n",
    "print(fact(5))"
   ]
  },
  {
   "cell_type": "code",
   "execution_count": null,
   "id": "882151f9",
   "metadata": {},
   "outputs": [],
   "source": [
    "### a function to read file and count the frequency of each word\n"
   ]
  },
  {
   "cell_type": "code",
   "execution_count": null,
   "id": "736a1872",
   "metadata": {},
   "outputs": [],
   "source": [
    "### valid email address"
   ]
  }
 ],
 "metadata": {
  "kernelspec": {
   "display_name": "base",
   "language": "python",
   "name": "python3"
  },
  "language_info": {
   "codemirror_mode": {
    "name": "ipython",
    "version": 3
   },
   "file_extension": ".py",
   "mimetype": "text/x-python",
   "name": "python",
   "nbconvert_exporter": "python",
   "pygments_lexer": "ipython3",
   "version": "3.12.7"
  }
 },
 "nbformat": 4,
 "nbformat_minor": 5
}

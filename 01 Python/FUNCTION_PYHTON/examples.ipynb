{
 "cells": [
  {
   "cell_type": "markdown",
   "id": "9f55d254",
   "metadata": {},
   "source": [
    "### functions Examples"
   ]
  },
  {
   "cell_type": "markdown",
   "id": "31eb0740",
   "metadata": {},
   "source": [
    "#### 1.Temperarature Conversion"
   ]
  },
  {
   "cell_type": "code",
   "execution_count": null,
   "id": "81777c28",
   "metadata": {},
   "outputs": [
    {
     "name": "stdout",
     "output_type": "stream",
     "text": [
      "The converted temperature is: 579.2\n"
     ]
    }
   ],
   "source": [
    "### A program to convert celsius to fahrenheit and vice versa\n",
    "def conversion(Temperature):\n",
    "    \"\"\"converts celsius to fahrenheit\"\"\"\n",
    "    choice = input(\"if you want to convert celsius to fahrenheit, type 'c' else type 'f': \")\n",
    "    if choice == 'c':\n",
    "        fahrenheit = (Temperature * 9/5) + 32\n",
    "        return fahrenheit\n",
    "    elif choice == 'f':\n",
    "        celsius = (Temperature -32) * 5/9\n",
    "        return celsius\n",
    "    else:\n",
    "        return \"Invelid input\"\n",
    "    \n",
    "Temperature = float(input(\"Enter the temperature: \"))\n",
    "result = conversion(Temperature)\n",
    "print(\"The converted temperature is:\", result)\n"
   ]
  },
  {
   "cell_type": "code",
   "execution_count": null,
   "id": "a6f82eb0",
   "metadata": {},
   "outputs": [],
   "source": []
  },
  {
   "cell_type": "code",
   "execution_count": null,
   "id": "77bc4d3d",
   "metadata": {},
   "outputs": [],
   "source": []
  }
 ],
 "metadata": {
  "kernelspec": {
   "display_name": "base",
   "language": "python",
   "name": "python3"
  },
  "language_info": {
   "codemirror_mode": {
    "name": "ipython",
    "version": 3
   },
   "file_extension": ".py",
   "mimetype": "text/x-python",
   "name": "python",
   "nbconvert_exporter": "python",
   "pygments_lexer": "ipython3",
   "version": "3.12.7"
  }
 },
 "nbformat": 4,
 "nbformat_minor": 5
}

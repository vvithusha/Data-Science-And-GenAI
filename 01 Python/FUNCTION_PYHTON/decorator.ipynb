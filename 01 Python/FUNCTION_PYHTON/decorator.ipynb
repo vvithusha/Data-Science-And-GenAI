{
 "cells": [
  {
   "cell_type": "markdown",
   "id": "8d6a189c",
   "metadata": {},
   "source": [
    "#### Basic Decorator"
   ]
  },
  {
   "cell_type": "code",
   "execution_count": null,
   "id": "5605debd",
   "metadata": {},
   "outputs": [
    {
     "name": "stdout",
     "output_type": "stream",
     "text": [
      "HELLO VITHU\n"
     ]
    }
   ],
   "source": [
    "### return uppercase\n",
    "def changecase(fun):\n",
    "    def myinner():\n",
    "        return fun().upper()\n",
    "    return myinner\n",
    "\n",
    "@changecase\n",
    "def myfunction():\n",
    "    return \"hello vithu\"\n",
    "print(myfunction())"
   ]
  },
  {
   "cell_type": "code",
   "execution_count": null,
   "id": "ec02c1c0",
   "metadata": {},
   "outputs": [
    {
     "name": "stdout",
     "output_type": "stream",
     "text": [
      "hello sally\n"
     ]
    }
   ],
   "source": [
    "#### lowercase\n",
    "def changecase(fun):\n",
    "    def myinner():\n",
    "        return fun().lower()\n",
    "    return myinner\n",
    "\n",
    "@changecase  ### this is decorator\n",
    "def myfunction():\n",
    "    return \"hello sally\"\n",
    "print(myfunction())"
   ]
  },
  {
   "cell_type": "markdown",
   "id": "9df63bb2",
   "metadata": {},
   "source": [
    "#### multiple Decorator Calls"
   ]
  },
  {
   "cell_type": "code",
   "execution_count": 10,
   "id": "2a5c2f3a",
   "metadata": {},
   "outputs": [
    {
     "name": "stdout",
     "output_type": "stream",
     "text": [
      "HELLO VITHU\n",
      "HELLO SALLY\n"
     ]
    }
   ],
   "source": [
    "def changecase(fun):\n",
    "    def myinner():\n",
    "        return fun().upper()\n",
    "    return myinner\n",
    "\n",
    "@changecase\n",
    "def myfunction1():\n",
    "    return \"hello vithu\"\n",
    "print(myfunction1())\n",
    "\n",
    "@changecase\n",
    "def myfunction2():\n",
    "    return \"hello sally\"\n",
    "print(myfunction2())\n"
   ]
  },
  {
   "cell_type": "markdown",
   "id": "894aaa05",
   "metadata": {},
   "source": [
    "#### Arguments in the Decorated Function"
   ]
  },
  {
   "cell_type": "code",
   "execution_count": null,
   "id": "5fd271ad",
   "metadata": {},
   "outputs": [
    {
     "name": "stdout",
     "output_type": "stream",
     "text": [
      "HELLOVIHTU\n"
     ]
    }
   ],
   "source": [
    "### Functions that requires arguments \n",
    "### can also be decorated, just make sure\n",
    "### you pass the arguments to the wrapper function:\n",
    "\n",
    "def changecase(fun):\n",
    "    def myinner(x):\n",
    "        return fun(x).upper()\n",
    "    return myinner\n",
    "\n",
    "@changecase\n",
    "def myfunction(n):\n",
    "    return \"hello\"+ n\n",
    "\n",
    "print(myfunction(\"vihtu\"))\n"
   ]
  },
  {
   "cell_type": "markdown",
   "id": "feac6bc3",
   "metadata": {},
   "source": [
    "### *args and **kwargs"
   ]
  },
  {
   "cell_type": "code",
   "execution_count": null,
   "id": "6f237a31",
   "metadata": {},
   "outputs": [
    {
     "name": "stdout",
     "output_type": "stream",
     "text": [
      "MY SELF :VITHU 21 AI ENGINEER\n"
     ]
    }
   ],
   "source": [
    "def changecase(fun):\n",
    "    def myinner(*arge,**kwargs):\n",
    "        return fun(*arge,**kwargs).upper()\n",
    "    return myinner\n",
    "\n",
    "@changecase\n",
    "def myfunction(n,b,c):\n",
    "    return \"my self :\" + n + \" \"+ b + \" \"+c\n",
    "\n",
    "print(myfunction(\"vithu\",\"21\",\"AI engineer\"))\n"
   ]
  },
  {
   "cell_type": "code",
   "execution_count": 28,
   "id": "379bc678",
   "metadata": {},
   "outputs": [
    {
     "name": "stdout",
     "output_type": "stream",
     "text": [
      "MY SELF:VITHU,AGE:21,GOAL:AI ENGINEER\n"
     ]
    }
   ],
   "source": [
    "def changecase(fun):\n",
    "    def myinner(*arge,**kwargs):\n",
    "        return fun(*arge,**kwargs).upper()\n",
    "    return myinner\n",
    "\n",
    "@changecase\n",
    "def myfunction(name,age,goal):\n",
    "    return f\"my self:{name},age:{age},goal:{goal}\"\n",
    "\n",
    "print(myfunction(name=\"vithu\",age=21,goal=\"AI engineer\"))"
   ]
  },
  {
   "cell_type": "code",
   "execution_count": 29,
   "id": "5bb39a98",
   "metadata": {},
   "outputs": [
    {
     "name": "stdout",
     "output_type": "stream",
     "text": [
      "MY SELF:VITHU,AGE21,GOALAI ENGINEER\n"
     ]
    }
   ],
   "source": [
    "def changecase(fun):\n",
    "    def myinner(*arge,**kwargs):\n",
    "        return fun(*arge,**kwargs).upper()\n",
    "    return myinner\n",
    "\n",
    "@changecase\n",
    "def myfunction(*args,**kwargs):\n",
    "    if kwargs:\n",
    "         return f\"my self:{kwargs.get('name')},age{kwargs.get('age')},goal{kwargs.get('goal')}\"\n",
    "\n",
    "print(myfunction(name=\"vithu\",age=21,goal=\"AI engineer\"))"
   ]
  },
  {
   "cell_type": "code",
   "execution_count": 7,
   "id": "510af7d5",
   "metadata": {},
   "outputs": [
    {
     "name": "stdout",
     "output_type": "stream",
     "text": [
      "{'hello': 1, 'world': 1, 'how': 1, 'are': 1, 'you': 1, 'i': 1, 'am': 1, 'vithu': 1}\n"
     ]
    }
   ],
   "source": [
    "def count_word_frequency(filepath):\n",
    "    word_count={}\n",
    "    with open(filepath,'r') as file:\n",
    "        for line in file:\n",
    "            words=line.split()\n",
    "            for word in words:\n",
    "                word = word.lower().strip('!@#$%^&*')\n",
    "                word_count[word]=word_count.get(word,0)+1\n",
    "    return word_count\n",
    "\n",
    "file_path = \"hello vithu.txt\"\n",
    "word_frequency = count_word_frequency(file_path)\n",
    "print(word_frequency)"
   ]
  },
  {
   "cell_type": "code",
   "execution_count": 9,
   "id": "d55f1bb7",
   "metadata": {},
   "outputs": [
    {
     "name": "stdout",
     "output_type": "stream",
     "text": [
      "True\n",
      "False\n"
     ]
    }
   ],
   "source": [
    "### valid email\n",
    "import re\n",
    "def is_valid_email(email):\n",
    "    \"\"\"this functions check if the email is valid\"\"\"\n",
    "    pattern = r\"^[a-zA-Z0-9_.+-]+@[a-zA-Z0-9-.]+\\.[a-zA-Z0-9-.]+$\"\n",
    "    return re.match(pattern,email) is not None\n",
    "\n",
    "## calling the function\n",
    "print(is_valid_email(\"test@example.com\"))\n",
    "print(is_valid_email(\"hello.com\"))"
   ]
  },
  {
   "cell_type": "code",
   "execution_count": null,
   "id": "eff898d8",
   "metadata": {},
   "outputs": [],
   "source": []
  }
 ],
 "metadata": {
  "kernelspec": {
   "display_name": "base",
   "language": "python",
   "name": "python3"
  },
  "language_info": {
   "codemirror_mode": {
    "name": "ipython",
    "version": 3
   },
   "file_extension": ".py",
   "mimetype": "text/x-python",
   "name": "python",
   "nbconvert_exporter": "python",
   "pygments_lexer": "ipython3",
   "version": "3.12.7"
  }
 },
 "nbformat": 4,
 "nbformat_minor": 5
}

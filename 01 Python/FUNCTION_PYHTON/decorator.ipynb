{
 "cells": [
  {
   "cell_type": "markdown",
   "id": "8d6a189c",
   "metadata": {},
   "source": [
    "#### Basic Decorator"
   ]
  },
  {
   "cell_type": "code",
   "execution_count": null,
   "id": "5605debd",
   "metadata": {},
   "outputs": [
    {
     "name": "stdout",
     "output_type": "stream",
     "text": [
      "HELLO VITHU\n"
     ]
    }
   ],
   "source": [
    "### return uppercase\n",
    "def changecase(fun):\n",
    "    def myinner():\n",
    "        return fun().upper()\n",
    "    return myinner\n",
    "\n",
    "@changecase\n",
    "def myfunction():\n",
    "    return \"hello vithu\"\n",
    "print(myfunction())"
   ]
  },
  {
   "cell_type": "code",
   "execution_count": null,
   "id": "ec02c1c0",
   "metadata": {},
   "outputs": [
    {
     "name": "stdout",
     "output_type": "stream",
     "text": [
      "hello sally\n"
     ]
    }
   ],
   "source": [
    "#### lowercase\n",
    "def changecase(fun):\n",
    "    def myinner():\n",
    "        return fun().lower()\n",
    "    return myinner\n",
    "\n",
    "@changecase  ### this is decorator\n",
    "def myfunction():\n",
    "    return \"hello sally\"\n",
    "print(myfunction())"
   ]
  },
  {
   "cell_type": "markdown",
   "id": "9df63bb2",
   "metadata": {},
   "source": [
    "#### multiple Decorator Calls"
   ]
  },
  {
   "cell_type": "code",
   "execution_count": 10,
   "id": "2a5c2f3a",
   "metadata": {},
   "outputs": [
    {
     "name": "stdout",
     "output_type": "stream",
     "text": [
      "HELLO VITHU\n",
      "HELLO SALLY\n"
     ]
    }
   ],
   "source": [
    "def changecase(fun):\n",
    "    def myinner():\n",
    "        return fun().upper()\n",
    "    return myinner\n",
    "\n",
    "@changecase\n",
    "def myfunction1():\n",
    "    return \"hello vithu\"\n",
    "print(myfunction1())\n",
    "\n",
    "@changecase\n",
    "def myfunction2():\n",
    "    return \"hello sally\"\n",
    "print(myfunction2())\n"
   ]
  },
  {
   "cell_type": "markdown",
   "id": "894aaa05",
   "metadata": {},
   "source": [
    "#### Arguments in the Decorated Function"
   ]
  },
  {
   "cell_type": "code",
   "execution_count": null,
   "id": "5fd271ad",
   "metadata": {},
   "outputs": [
    {
     "name": "stdout",
     "output_type": "stream",
     "text": [
      "HELLOVIHTU\n"
     ]
    }
   ],
   "source": [
    "### Functions that requires arguments \n",
    "### can also be decorated, just make sure\n",
    "### you pass the arguments to the wrapper function:\n",
    "\n",
    "def changecase(fun):\n",
    "    def myinner(x):\n",
    "        return fun(x).upper()\n",
    "    return myinner\n",
    "\n",
    "@changecase\n",
    "def myfunction(n):\n",
    "    return \"hello\"+ n\n",
    "\n",
    "print(myfunction(\"vihtu\"))\n"
   ]
  },
  {
   "cell_type": "markdown",
   "id": "feac6bc3",
   "metadata": {},
   "source": [
    "### *args and **kwargs"
   ]
  },
  {
   "cell_type": "code",
   "execution_count": null,
   "id": "6f237a31",
   "metadata": {},
   "outputs": [
    {
     "name": "stdout",
     "output_type": "stream",
     "text": [
      "MY SELF :VITHU 21 AI ENGINEER\n"
     ]
    }
   ],
   "source": [
    "def changecase(fun):\n",
    "    def myinner(*arge,**kwargs):\n",
    "        return fun(*arge,**kwargs).upper()\n",
    "    return myinner\n",
    "\n",
    "@changecase\n",
    "def myfunction(n,b,c):\n",
    "    return \"my self :\" + n + \" \"+ b + \" \"+c\n",
    "\n",
    "print(myfunction(\"vithu\",\"21\",\"AI engineer\"))\n"
   ]
  },
  {
   "cell_type": "code",
   "execution_count": 28,
   "id": "379bc678",
   "metadata": {},
   "outputs": [
    {
     "name": "stdout",
     "output_type": "stream",
     "text": [
      "MY SELF:VITHU,AGE:21,GOAL:AI ENGINEER\n"
     ]
    }
   ],
   "source": [
    "def changecase(fun):\n",
    "    def myinner(*arge,**kwargs):\n",
    "        return fun(*arge,**kwargs).upper()\n",
    "    return myinner\n",
    "\n",
    "@changecase\n",
    "def myfunction(name,age,goal):\n",
    "    return f\"my self:{name},age:{age},goal:{goal}\"\n",
    "\n",
    "print(myfunction(name=\"vithu\",age=21,goal=\"AI engineer\"))"
   ]
  },
  {
   "cell_type": "code",
   "execution_count": 29,
   "id": "5bb39a98",
   "metadata": {},
   "outputs": [
    {
     "name": "stdout",
     "output_type": "stream",
     "text": [
      "MY SELF:VITHU,AGE21,GOALAI ENGINEER\n"
     ]
    }
   ],
   "source": [
    "def changecase(fun):\n",
    "    def myinner(*arge,**kwargs):\n",
    "        return fun(*arge,**kwargs).upper()\n",
    "    return myinner\n",
    "\n",
    "@changecase\n",
    "def myfunction(*args,**kwargs):\n",
    "    if kwargs:\n",
    "         return f\"my self:{kwargs.get('name')},age{kwargs.get('age')},goal{kwargs.get('goal')}\"\n",
    "\n",
    "print(myfunction(name=\"vithu\",age=21,goal=\"AI engineer\"))"
   ]
  },
  {
   "cell_type": "code",
   "execution_count": 7,
   "id": "510af7d5",
   "metadata": {},
   "outputs": [
    {
     "name": "stdout",
     "output_type": "stream",
     "text": [
      "{'hello': 1, 'world': 1, 'how': 1, 'are': 1, 'you': 1, 'i': 1, 'am': 1, 'vithu': 1}\n"
     ]
    }
   ],
   "source": [
    "def count_word_frequency(filepath):\n",
    "    word_count={}\n",
    "    with open(filepath,'r') as file:\n",
    "        for line in file:\n",
    "            words=line.split()\n",
    "            for word in words:\n",
    "                word = word.lower().strip('!@#$%^&*')\n",
    "                word_count[word]=word_count.get(word,0)+1\n",
    "    return word_count\n",
    "\n",
    "file_path = \"hello vithu.txt\"\n",
    "word_frequency = count_word_frequency(file_path)\n",
    "print(word_frequency)"
   ]
  },
  {
   "cell_type": "code",
   "execution_count": 9,
   "id": "d55f1bb7",
   "metadata": {},
   "outputs": [
    {
     "name": "stdout",
     "output_type": "stream",
     "text": [
      "True\n",
      "False\n"
     ]
    }
   ],
   "source": [
    "### valid email\n",
    "import re\n",
    "def is_valid_email(email):\n",
    "    \"\"\"this functions check if the email is valid\"\"\"\n",
    "    pattern = r\"^[a-zA-Z0-9_.+-]+@[a-zA-Z0-9-.]+\\.[a-zA-Z0-9-.]+$\"\n",
    "    return re.match(pattern,email) is not None\n",
    "\n",
    "## calling the function\n",
    "print(is_valid_email(\"test@example.com\"))\n",
    "print(is_valid_email(\"hello.com\"))"
   ]
  },
  {
   "cell_type": "code",
   "execution_count": 1,
   "id": "eff898d8",
   "metadata": {},
   "outputs": [
    {
     "name": "stdout",
     "output_type": "stream",
     "text": [
      "HELLO WORLD\n"
     ]
    }
   ],
   "source": [
    "def changecase(func):\n",
    "    def myinner():\n",
    "        return func().upper()\n",
    "    return myinner\n",
    "\n",
    "@changecase\n",
    "def myfunction():\n",
    "    return \"hello world\"\n",
    "\n",
    "print(myfunction())"
   ]
  },
  {
   "cell_type": "code",
   "execution_count": 6,
   "id": "bc6524aa",
   "metadata": {},
   "outputs": [
    {
     "name": "stdout",
     "output_type": "stream",
     "text": [
      "HELLO WORLDVITHU\n"
     ]
    }
   ],
   "source": [
    "def changecase(func):\n",
    "    def myinner(x):\n",
    "        return func(x).upper()\n",
    "    return myinner\n",
    "\n",
    "@changecase\n",
    "def myfunction(x):\n",
    "    return \"hello world\"+ x\n",
    "\n",
    "print(myfunction(\"vithu\"))"
   ]
  },
  {
   "cell_type": "code",
   "execution_count": 7,
   "id": "fe706980",
   "metadata": {},
   "outputs": [
    {
     "name": "stdout",
     "output_type": "stream",
     "text": [
      "HELLO VITHU\n",
      "HOW ARE YOU\n"
     ]
    }
   ],
   "source": [
    "def changecase(func):\n",
    "    def myinner():\n",
    "        return func().upper()\n",
    "    return myinner\n",
    "\n",
    "@changecase\n",
    "def myfunction():\n",
    "    return \"hello vithu\"\n",
    "\n",
    "@changecase\n",
    "def myfunction1():\n",
    "    return \"how are you\"\n",
    "\n",
    "print(myfunction())\n",
    "print(myfunction1())\n"
   ]
  },
  {
   "cell_type": "code",
   "execution_count": 11,
   "id": "29fbf436",
   "metadata": {},
   "outputs": [
    {
     "name": "stdout",
     "output_type": "stream",
     "text": [
      "HELLO JAJA YOU AREATRACTIVE\n"
     ]
    }
   ],
   "source": [
    "def changecase(func):\n",
    "    def myinner(x):\n",
    "        return func(x).upper()\n",
    "    return myinner\n",
    "\n",
    "@changecase\n",
    "def myfun(x):\n",
    "    return \"hello jaja you are\" + x\n",
    "\n",
    "print(myfun(\"atractive\"))\n",
    "        "
   ]
  },
  {
   "cell_type": "code",
   "execution_count": 15,
   "id": "77d335fb",
   "metadata": {},
   "outputs": [
    {
     "name": "stdout",
     "output_type": "stream",
     "text": [
      "HELLOVITHU\n"
     ]
    }
   ],
   "source": [
    "def changecase(func):\n",
    "    def myinner(*args ,**kwargs):\n",
    "        return func(*args,**kwargs).upper()\n",
    "    return myinner\n",
    "\n",
    "@changecase\n",
    "def myfunc(name):\n",
    "    return \"hello\" + name\n",
    "print(myfunc(\"vithu\"))\n",
    "\n",
    "           \n"
   ]
  },
  {
   "cell_type": "markdown",
   "id": "0295fab3",
   "metadata": {},
   "source": [
    "#### Decorator With Arguments"
   ]
  },
  {
   "cell_type": "code",
   "execution_count": 21,
   "id": "03f1e062",
   "metadata": {},
   "outputs": [
    {
     "name": "stdout",
     "output_type": "stream",
     "text": [
      "HELLO LINUS\n"
     ]
    }
   ],
   "source": [
    "def changecase(n):\n",
    "    def changecase(func):\n",
    "        def myinner():\n",
    "            if n==1:\n",
    "                a=func().lower()\n",
    "            else:\n",
    "                a=func().upper()\n",
    "            return a\n",
    "        return myinner\n",
    "    return changecase\n",
    "\n",
    "@changecase(4)\n",
    "def myfunction():\n",
    "    return \"hello linus\"\n",
    "\n",
    "print(myfunction())"
   ]
  },
  {
   "cell_type": "markdown",
   "id": "19deb25c",
   "metadata": {},
   "source": [
    "#### Multiple Decorators"
   ]
  },
  {
   "cell_type": "code",
   "execution_count": 27,
   "id": "352647f6",
   "metadata": {},
   "outputs": [
    {
     "name": "stdout",
     "output_type": "stream",
     "text": [
      "HELLOTOBIASHAVE A GOOD DAY!\n"
     ]
    }
   ],
   "source": [
    "def changecase(func):\n",
    "    def myinner():\n",
    "        return func().upper()\n",
    "    return myinner\n",
    "\n",
    "def addgreeting(func):\n",
    "    def myinner():\n",
    "        return \"hello\" + func() + \"have a good day!\"\n",
    "    return myinner\n",
    "\n",
    "@changecase\n",
    "@addgreeting\n",
    "def myfunction():\n",
    "    return \"tobias\"\n",
    "\n",
    "print(myfunction())"
   ]
  },
  {
   "cell_type": "markdown",
   "id": "479d4c73",
   "metadata": {},
   "source": [
    "#### Preserving Function Metadata"
   ]
  },
  {
   "cell_type": "code",
   "execution_count": 29,
   "id": "0a35e6cb",
   "metadata": {},
   "outputs": [
    {
     "name": "stdout",
     "output_type": "stream",
     "text": [
      "myfunction\n"
     ]
    }
   ],
   "source": [
    "def myfunction():\n",
    "    return \"have a good day!\"\n",
    "print(myfunction.__name__)"
   ]
  },
  {
   "cell_type": "code",
   "execution_count": 30,
   "id": "b6883261",
   "metadata": {},
   "outputs": [
    {
     "name": "stdout",
     "output_type": "stream",
     "text": [
      "myinner\n"
     ]
    }
   ],
   "source": [
    "def changecase(func):\n",
    "    def myinner():\n",
    "        return func().upper()\n",
    "    return myinner\n",
    "\n",
    "@changecase\n",
    "def myfunction():\n",
    "    return\"have a nice day!\"\n",
    "print(myfunction . __name__) "
   ]
  },
  {
   "cell_type": "code",
   "execution_count": 31,
   "id": "a208ce65",
   "metadata": {},
   "outputs": [
    {
     "name": "stdout",
     "output_type": "stream",
     "text": [
      "myfunction\n"
     ]
    }
   ],
   "source": [
    "### to fix this code\n",
    "import functools\n",
    "\n",
    "def changecase(func):\n",
    "    @functools.wraps(func)\n",
    "    def myinner():\n",
    "        return func().upper()\n",
    "    return myinner\n",
    "\n",
    "@changecase\n",
    "def myfunction():\n",
    "    return \"have a great day!\"\n",
    "\n",
    "print(myfunction . __name__)"
   ]
  },
  {
   "cell_type": "code",
   "execution_count": 33,
   "id": "f97f9dc4",
   "metadata": {},
   "outputs": [
    {
     "name": "stdout",
     "output_type": "stream",
     "text": [
      "myfunction\n"
     ]
    }
   ],
   "source": [
    "### to fix this code\n",
    "import functools\n",
    "\n",
    "def changecase(func):\n",
    "    @functools.wraps(func)\n",
    "    def myinner():\n",
    "        return func().upper()\n",
    "    return myinner\n",
    "\n",
    "@changecase\n",
    "def myfunction():\n",
    "    return \"have a great day!\"\n",
    "\n",
    "print(myfunction . __name__)"
   ]
  },
  {
   "cell_type": "code",
   "execution_count": 35,
   "id": "e0bffc9f",
   "metadata": {},
   "outputs": [
    {
     "name": "stdout",
     "output_type": "stream",
     "text": [
      "HELLO VITHU\n"
     ]
    }
   ],
   "source": [
    "def changecase(fun):\n",
    "    def myinner():\n",
    "        return fun().upper()\n",
    "    return myinner\n",
    "\n",
    "@changecase\n",
    "def myfun():\n",
    "    return \"hello vithu\"\n",
    "print(myfun())"
   ]
  },
  {
   "cell_type": "code",
   "execution_count": 36,
   "id": "61c10559",
   "metadata": {},
   "outputs": [
    {
     "name": "stdout",
     "output_type": "stream",
     "text": [
      "HELLO WORLD\n",
      "HELLO MATHU\n"
     ]
    }
   ],
   "source": [
    "def changecase(fun):\n",
    "    def myinner():\n",
    "        return fun().upper()\n",
    "    return myinner\n",
    "\n",
    "@changecase\n",
    "def myfun1():\n",
    "    return \"hello world\"\n",
    "print(myfun1())\n",
    "\n",
    "@changecase\n",
    "def myfun2():\n",
    "    return \"hello mathu\"\n",
    "print(myfun2())"
   ]
  },
  {
   "cell_type": "code",
   "execution_count": 37,
   "id": "4092af97",
   "metadata": {},
   "outputs": [
    {
     "name": "stdout",
     "output_type": "stream",
     "text": [
      "HELLOVITHU\n"
     ]
    }
   ],
   "source": [
    "def changecase(fun):\n",
    "    def myinner(x):\n",
    "        return fun(x).upper()\n",
    "    return myinner\n",
    "\n",
    "@changecase\n",
    "def myfun(x):\n",
    "    return \"hello\" + x\n",
    "print(myfun(\"vithu\"))"
   ]
  },
  {
   "cell_type": "code",
   "execution_count": 38,
   "id": "7833bc53",
   "metadata": {},
   "outputs": [
    {
     "name": "stdout",
     "output_type": "stream",
     "text": [
      "HELLOSARAA\n"
     ]
    }
   ],
   "source": [
    "def changecase(fun):\n",
    "    def myinner(*args,**kwargs):\n",
    "        return fun(*args,**kwargs).upper()\n",
    "    return myinner\n",
    "\n",
    "@changecase\n",
    "def myfun(naem):\n",
    "    return \"hello\" +naem\n",
    "    \n",
    "print(myfun(\"saraa\"))"
   ]
  },
  {
   "cell_type": "code",
   "execution_count": 41,
   "id": "35650b52",
   "metadata": {},
   "outputs": [
    {
     "name": "stdout",
     "output_type": "stream",
     "text": [
      "hello maina\n"
     ]
    }
   ],
   "source": [
    "def changecase(n):\n",
    "    def changecase(fun):\n",
    "        def myinner():\n",
    "            if n==1:\n",
    "                a = fun().upper()\n",
    "            else:\n",
    "                a = fun().lower()\n",
    "            return a\n",
    "        return myinner\n",
    "    return changecase\n",
    "\n",
    "@changecase(2)\n",
    "def myfun():\n",
    "    return \"hello maina\"\n",
    "\n",
    "print(myfun())\n",
    "                "
   ]
  },
  {
   "cell_type": "code",
   "execution_count": 42,
   "id": "7f397467",
   "metadata": {},
   "outputs": [
    {
     "name": "stdout",
     "output_type": "stream",
     "text": [
      "HELLO MAINA\n"
     ]
    }
   ],
   "source": [
    "def changecase(n):\n",
    "    def changecase(fun):\n",
    "        def myinner():\n",
    "            if n==1:\n",
    "                a = fun().upper()\n",
    "            else:\n",
    "                a = fun().lower()\n",
    "            return a\n",
    "        return myinner\n",
    "    return changecase\n",
    "\n",
    "@changecase(1)\n",
    "def myfun():\n",
    "    return \"hello maina\"\n",
    "\n",
    "print(myfun())"
   ]
  },
  {
   "cell_type": "code",
   "execution_count": 43,
   "id": "cb0f5886",
   "metadata": {},
   "outputs": [
    {
     "name": "stdout",
     "output_type": "stream",
     "text": [
      "HELLOVITHUHOW ARE YOU\n"
     ]
    }
   ],
   "source": [
    "def changecase(fun):\n",
    "    def myinner():\n",
    "        return fun().upper()\n",
    "    return myinner\n",
    "\n",
    "def addgreeting(fun):\n",
    "    def myinner():\n",
    "        return \"hello\" + fun() + \"how are you\"\n",
    "    return myinner\n",
    "\n",
    "@changecase\n",
    "@addgreeting\n",
    "def myfun():\n",
    "    return \"vithu\"\n",
    "print(myfun())"
   ]
  },
  {
   "cell_type": "code",
   "execution_count": 44,
   "id": "28fb9bd5",
   "metadata": {},
   "outputs": [
    {
     "name": "stdout",
     "output_type": "stream",
     "text": [
      "myfunc\n"
     ]
    }
   ],
   "source": [
    "def myfunc():\n",
    "    return \"hello\"\n",
    "print(myfunc.__name__)"
   ]
  },
  {
   "cell_type": "code",
   "execution_count": 45,
   "id": "07925f8a",
   "metadata": {},
   "outputs": [
    {
     "name": "stdout",
     "output_type": "stream",
     "text": [
      "myinner\n"
     ]
    }
   ],
   "source": [
    "def changecase(fun):\n",
    "    def myinner():\n",
    "        return fun().upper()\n",
    "    return myinner\n",
    "@changecase\n",
    "def myfun():\n",
    "    return \"hello world\"\n",
    "\n",
    "print(myfun.__name__)"
   ]
  },
  {
   "cell_type": "code",
   "execution_count": 48,
   "id": "fcad22e6",
   "metadata": {},
   "outputs": [
    {
     "name": "stdout",
     "output_type": "stream",
     "text": [
      "myfun\n"
     ]
    }
   ],
   "source": [
    "import functools\n",
    "\n",
    "def changecase(fun):\n",
    "    @functools.wraps(fun)\n",
    "    def myinner():\n",
    "        return fun().upper()\n",
    "    return myinner\n",
    "\n",
    "@changecase\n",
    "def myfun():\n",
    "    return \"have a nice day\"\n",
    "\n",
    "print(myfun.__name__)\n"
   ]
  },
  {
   "cell_type": "code",
   "execution_count": null,
   "id": "b3e3f397",
   "metadata": {},
   "outputs": [],
   "source": []
  }
 ],
 "metadata": {
  "kernelspec": {
   "display_name": "base",
   "language": "python",
   "name": "python3"
  },
  "language_info": {
   "codemirror_mode": {
    "name": "ipython",
    "version": 3
   },
   "file_extension": ".py",
   "mimetype": "text/x-python",
   "name": "python",
   "nbconvert_exporter": "python",
   "pygments_lexer": "ipython3",
   "version": "3.12.7"
  }
 },
 "nbformat": 4,
 "nbformat_minor": 5
}

{
 "cells": [
  {
   "cell_type": "markdown",
   "id": "48170a5e",
   "metadata": {},
   "source": [
    "# Module 3: Data Structures Assignments\n",
    "## Lesson 3.1: Lists\n",
    "### Assignment 1: Creating and Accessing Lists\n",
    "\n",
    "Create a list of the first 20 positive integers. Print the list."
   ]
  },
  {
   "cell_type": "code",
   "execution_count": 1,
   "id": "f0a3b5dc",
   "metadata": {},
   "outputs": [
    {
     "data": {
      "text/plain": [
       "[1, 2, 3, 4, 5, 6, 7, 8, 9, 10, 11, 12, 13, 14, 15, 16, 17, 18, 19, 20]"
      ]
     },
     "execution_count": 1,
     "metadata": {},
     "output_type": "execute_result"
    }
   ],
   "source": [
    "[num for num  in range(1,21)]"
   ]
  },
  {
   "cell_type": "markdown",
   "id": "060ef5a1",
   "metadata": {},
   "source": [
    "### Assignment 2: Accessing List Elements\n",
    "\n",
    "Print the first, middle, and last elements of the list created in Assignment 1."
   ]
  },
  {
   "cell_type": "code",
   "execution_count": 33,
   "id": "eaba080e",
   "metadata": {},
   "outputs": [
    {
     "name": "stdout",
     "output_type": "stream",
     "text": [
      "first= 1\n",
      "middle= 5\n"
     ]
    }
   ],
   "source": [
    "lis=[1,2,3,4,5,6,7,8,9,10]\n",
    "print(\"first=\",lis[0])\n",
    "print(\"middle=\",len(lis)//2)"
   ]
  },
  {
   "cell_type": "markdown",
   "id": "6e9cec23",
   "metadata": {},
   "source": [
    "### Assignment 3: List Slicing\n",
    "\n",
    "Print the first five elements, the last five elements, and the elements from index 5 to 15 of the list created in Assignment 1."
   ]
  },
  {
   "cell_type": "code",
   "execution_count": 8,
   "id": "95847681",
   "metadata": {},
   "outputs": [
    {
     "data": {
      "text/plain": [
       "[1, 2, 3, 4, 5, 6, 7, 8, 9, 10]"
      ]
     },
     "execution_count": 8,
     "metadata": {},
     "output_type": "execute_result"
    }
   ],
   "source": [
    "lis"
   ]
  },
  {
   "cell_type": "code",
   "execution_count": 6,
   "id": "4ce2c12c",
   "metadata": {},
   "outputs": [
    {
     "ename": "SyntaxError",
     "evalue": "invalid syntax (2477906296.py, line 1)",
     "output_type": "error",
     "traceback": [
      "\u001b[1;36m  Cell \u001b[1;32mIn[6], line 1\u001b[1;36m\u001b[0m\n\u001b[1;33m    x := 3\u001b[0m\n\u001b[1;37m      ^\u001b[0m\n\u001b[1;31mSyntaxError\u001b[0m\u001b[1;31m:\u001b[0m invalid syntax\n"
     ]
    }
   ],
   "source": [
    "x := 3\n",
    "print(x)"
   ]
  },
  {
   "cell_type": "code",
   "execution_count": 32,
   "id": "60c0d803",
   "metadata": {},
   "outputs": [
    {
     "name": "stdout",
     "output_type": "stream",
     "text": [
      "first five= [1, 2, 3, 4, 5]\n",
      "last five= [6, 7, 8, 9, 10]\n",
      "element from 5 to 15= [6, 7, 8, 9, 10]\n"
     ]
    }
   ],
   "source": [
    "print(\"first five=\",lis[:5])\n",
    "print(\"last five=\",lis[-5:])\n",
    "print(\"element from 5 to 15=\",lis[5:16])"
   ]
  },
  {
   "cell_type": "markdown",
   "id": "22e99523",
   "metadata": {},
   "source": [
    "### Assignment 4: List Comprehensions\n",
    "\n",
    "Create a new list containing the squares of the first 10 positive integers using a list comprehension. Print the new list."
   ]
  },
  {
   "cell_type": "code",
   "execution_count": 18,
   "id": "e59c7e3e",
   "metadata": {},
   "outputs": [
    {
     "data": {
      "text/plain": [
       "[1, 4, 9, 16, 25, 36, 49, 64, 81, 100]"
      ]
     },
     "execution_count": 18,
     "metadata": {},
     "output_type": "execute_result"
    }
   ],
   "source": [
    "[num**2 for num in range(1,11)]"
   ]
  },
  {
   "cell_type": "markdown",
   "id": "3bae8be9",
   "metadata": {},
   "source": [
    "### Assignment 5: Filtering Lists\n",
    "\n",
    "Create a new list containing only the even numbers from the list created in Assignment 1 using a list comprehension. Print the new list."
   ]
  },
  {
   "cell_type": "code",
   "execution_count": 19,
   "id": "27dfbe78",
   "metadata": {},
   "outputs": [
    {
     "data": {
      "text/plain": [
       "[2, 4, 6, 8, 10]"
      ]
     },
     "execution_count": 19,
     "metadata": {},
     "output_type": "execute_result"
    }
   ],
   "source": [
    "[num for num in range(1,11) if num%2==0]\n"
   ]
  },
  {
   "cell_type": "markdown",
   "id": "b976b72e",
   "metadata": {},
   "source": [
    "### Assignment 6: List Methods\n",
    "\n",
    "Create a list of random numbers and sort it in ascending and descending order. Remove the duplicates from the list and print the modified list."
   ]
  },
  {
   "cell_type": "code",
   "execution_count": 53,
   "id": "5d1a8469",
   "metadata": {},
   "outputs": [
    {
     "name": "stdout",
     "output_type": "stream",
     "text": [
      "random list= [17, 14, 5, 19, 16, 1, 18, 4, 8, 19, 13, 14, 6, 9, 14]\n",
      "ascending order= [1, 4, 5, 6, 8, 9, 13, 14, 14, 14, 16, 17, 18, 19, 19]\n",
      "decending order= [19, 19, 18, 17, 16, 14, 14, 14, 13, 9, 8, 6, 5, 4, 1]\n"
     ]
    }
   ],
   "source": [
    "import random \n",
    "\n",
    "rand_list = [ random.randint(1,20) for _ in range(15)]\n",
    "print(\"random list=\",rand_list)\n",
    "\n",
    "asce_order=sorted(rand_list)\n",
    "print(\"ascending order=\",asce_order)\n",
    "\n",
    "dece_order=sorted(asce_order,reverse=True)\n",
    "print(\"decending order=\",dece_order)\n",
    "\n",
    "\n"
   ]
  },
  {
   "cell_type": "markdown",
   "id": "57f84146",
   "metadata": {},
   "source": [
    "\n",
    "\n",
    "## Assignment 7: Nested Lists\n",
    "\n",
    "Create a nested list representing a 3x3 matrix and print the matrix. Access and print the element at the second row and third column.\n"
   ]
  },
  {
   "cell_type": "code",
   "execution_count": 93,
   "id": "ee0279ac",
   "metadata": {},
   "outputs": [
    {
     "name": "stdout",
     "output_type": "stream",
     "text": [
      "elements at tha secound row and third colum:6\n"
     ]
    }
   ],
   "source": [
    "matix=[\n",
    "    [1,2,3],\n",
    "    [4,5,6],\n",
    "    [7,8,9],\n",
    "]\n",
    "print(f\"elements at tha secound row and third colum:{matix[1][2]}\")"
   ]
  },
  {
   "cell_type": "markdown",
   "id": "e4a82bd4",
   "metadata": {},
   "source": [
    "\n",
    "### Assignment 8: List of Dictionaries\n",
    "\n",
    "Create a list of dictionaries where each dictionary represents a student with keys 'name' and 'score'. Sort the list of dictionaries by the 'score' in descending order and print the sorted list."
   ]
  },
  {
   "cell_type": "code",
   "execution_count": 87,
   "id": "9e80f0a3",
   "metadata": {},
   "outputs": [
    {
     "name": "stdout",
     "output_type": "stream",
     "text": [
      "scores of desending order:\n",
      "{'name': 'suja', 'score': 100}\n",
      "{'name': 'posha', 'score': 99}\n",
      "{'name': 'saara', 'score': 90}\n",
      "{'name': 'keela', 'score': 85}\n",
      "{'name': 'vithu', 'score': 45}\n"
     ]
    }
   ],
   "source": [
    "lis = [\n",
    "\n",
    "    {'name' : 'vithu','score' : 45},\n",
    "    {'name' : 'saara','score' : 90},\n",
    "    {'name' : 'suja','score' : 100},\n",
    "    {'name' : 'keela','score' : 85},\n",
    "    {'name' : 'posha','score' : 99}\n",
    "     \n",
    "]\n",
    "\n",
    "order = sorted(lis ,key=lambda x: x[\"score\"] ,reverse=True)\n",
    "print(\"scores of desending order:\")\n",
    "for asce_order in order:\n",
    "    print(asce_order)"
   ]
  },
  {
   "cell_type": "markdown",
   "id": "5073de31",
   "metadata": {},
   "source": [
    "\n",
    "### Assignment 9: Matrix Transposition\n",
    "\n",
    "Write a function that takes a 3x3 matrix (nested list) as input and returns its transpose. Print the original and transposed matrices."
   ]
  },
  {
   "cell_type": "code",
   "execution_count": 35,
   "id": "5dbdec65",
   "metadata": {},
   "outputs": [
    {
     "name": "stdout",
     "output_type": "stream",
     "text": [
      "orignal matrix:\n",
      "[1, 2, 3]\n",
      "[4, 5, 6]\n",
      "[7, 8, 9]\n",
      "transport matix:\n",
      "[1, 4, 7]\n",
      "[2, 5, 8]\n",
      "[3, 6, 9]\n"
     ]
    }
   ],
   "source": [
    "def transposed_matix(matix):\n",
    "   transposed=[[matix[i][j] for i in range(len(matix))] for j in range (len(matix[0]))]\n",
    "   return transposed\n",
    "matix=[\n",
    "    [1,2,3],\n",
    "    [4,5,6],\n",
    "    [7,8,9]\n",
    "]\n",
    "transposed=transposed_matix(matix)\n",
    "print(\"orignal matrix:\")\n",
    "for row in matix:\n",
    "   print(row)\n",
    "print(\"transport matix:\")\n",
    "for row in transposed:\n",
    "   print(row)\n",
    " "
   ]
  },
  {
   "cell_type": "markdown",
   "id": "c5f64679",
   "metadata": {},
   "source": [
    "### Assignment 10: Flattening a Nested List\n",
    "\n",
    "Write a function that takes a nested list and flattens it into a single list. Print the original and flattened lists.\n"
   ]
  },
  {
   "cell_type": "code",
   "execution_count": 15,
   "id": "70263b99",
   "metadata": {},
   "outputs": [
    {
     "name": "stdout",
     "output_type": "stream",
     "text": [
      "[1, 2, 3, 4, 5, 6, 7, 8, 9]\n"
     ]
    }
   ],
   "source": [
    "flattening=[]\n",
    "matix=[\n",
    "    [1,2,3],\n",
    "    [4,5,6],\n",
    "    [7,8,9]\n",
    "]\n",
    "for row in matix:\n",
    "    for flatt in row:\n",
    "        flattening.append(flatt)\n",
    "print(flattening)"
   ]
  },
  {
   "cell_type": "code",
   "execution_count": 5,
   "id": "1b09c229",
   "metadata": {},
   "outputs": [
    {
     "name": "stdout",
     "output_type": "stream",
     "text": [
      "orignal matix:\n",
      "[1, 2, 3]\n",
      "[4, 5, 6]\n",
      "[7, 8, 9]\n",
      "transport matix:\n",
      "[1, 4, 7]\n",
      "[2, 5, 8]\n",
      "[3, 6, 9]\n"
     ]
    }
   ],
   "source": [
    "def transpose_matix(matix):\n",
    "    transposed=[[matix[i][j] for i in range(len(matix))] for j in range (len(matix[0]))]\n",
    "    return transposed\n",
    "matix=[\n",
    "    [1,2,3],\n",
    "    [4,5,6],\n",
    "    [7,8,9]\n",
    "]\n",
    "transposed=transpose_matix(matix)\n",
    "print(\"orignal matix:\")\n",
    "for row in matix:\n",
    "    print(row)\n",
    "print(\"transport matix:\")\n",
    "for row in transposed:\n",
    "    print(row)"
   ]
  },
  {
   "cell_type": "code",
   "execution_count": null,
   "id": "05331842",
   "metadata": {},
   "outputs": [],
   "source": []
  },
  {
   "cell_type": "markdown",
   "id": "125438dc",
   "metadata": {},
   "source": [
    "### Assignment 11: List Manipulation\n",
    "\n",
    "Create a list of the first 10 positive integers. Remove the elements at indices 2, 4, and 6, and insert the element '99' at index 5. Print the modified list."
   ]
  },
  {
   "cell_type": "code",
   "execution_count": 12,
   "id": "39010bb7",
   "metadata": {},
   "outputs": [
    {
     "name": "stdout",
     "output_type": "stream",
     "text": [
      "[1, 3, 5, 7, 8, 99, 9, 10]\n"
     ]
    }
   ],
   "source": [
    "lis=[1,2,3,4,5,6,7,8,9,10]\n",
    "lis.remove(2)\n",
    "lis.remove(4)\n",
    "lis.remove(6)\n",
    "lis.insert(5,99)\n",
    "print(lis)"
   ]
  },
  {
   "cell_type": "markdown",
   "id": "b88ed0fa",
   "metadata": {},
   "source": [
    "### Assignment 12: List Zipping\n",
    "\n",
    "Create two lists of the same length. Use the `zip` function to combine these lists into a list of tuples and print the result."
   ]
  },
  {
   "cell_type": "code",
   "execution_count": 19,
   "id": "2b2827d1",
   "metadata": {},
   "outputs": [
    {
     "name": "stdout",
     "output_type": "stream",
     "text": [
      "[('vithu', 90), ('hana', 89), ('suja', 100), ('reshmi', 99)]\n"
     ]
    }
   ],
   "source": [
    "score=[90,89,100,99]\n",
    "name=[\"vithu\",\"hana\",\"suja\",\"reshmi\"]\n",
    "\n",
    "ziped=zip(name,score)\n",
    "print(list(ziped))"
   ]
  },
  {
   "cell_type": "markdown",
   "id": "7716a226",
   "metadata": {},
   "source": [
    "### Assignment 13: List Reversal\n",
    "\n",
    "Write a function that takes a list and returns a new list with the elements in reverse order. Print the original and reversed lists."
   ]
  },
  {
   "cell_type": "code",
   "execution_count": 21,
   "id": "67ce5e54",
   "metadata": {},
   "outputs": [
    {
     "name": "stdout",
     "output_type": "stream",
     "text": [
      "reversed list is:\n",
      "[10, 9, 8, 7, 6, 5, 4, 3, 2, 1]\n",
      "orignal list is:\n",
      "[1, 2, 3, 4, 5, 6, 7, 8, 9, 10]\n"
     ]
    }
   ],
   "source": [
    "lis=[1,2,3,4,5,6,7,8,9,10]\n",
    "\n",
    "reversed_lis=sorted(lis,reverse=True)\n",
    "print(\"reversed list is:\")\n",
    "print(reversed_lis)\n",
    "print(\"orignal list is:\")\n",
    "print(lis)"
   ]
  },
  {
   "cell_type": "markdown",
   "id": "4cb37e4d",
   "metadata": {},
   "source": [
    "\n",
    "### Assignment 14: List Rotation\n",
    "\n",
    "Write a function that rotates a list by n positions. Print the original and rotated lists."
   ]
  },
  {
   "cell_type": "code",
   "execution_count": 28,
   "id": "ead477c9",
   "metadata": {},
   "outputs": [
    {
     "name": "stdout",
     "output_type": "stream",
     "text": [
      "rotated list :\n",
      "[6, 7, 8, 9, 10, 6, 7, 8, 9, 10]\n",
      "orignal list :\n",
      "[1, 2, 3, 4, 5, 6, 7, 8, 9, 10]\n"
     ]
    }
   ],
   "source": [
    "lis=[1,2,3,4,5,6,7,8,9,10]\n",
    "\n",
    "rotated=lis[-5:] + lis[5: ] \n",
    "print(\"rotated list :\")\n",
    "print(rotated)\n",
    "print(\"orignal list :\")\n",
    "print(lis)"
   ]
  },
  {
   "cell_type": "markdown",
   "id": "7297f0ec",
   "metadata": {},
   "source": [
    "### Assignment 15: List Intersection\n",
    "\n",
    "Write a function that takes two lists and returns a new list containing only the elements that are present in both lists. Print the intersected list."
   ]
  },
  {
   "cell_type": "code",
   "execution_count": 52,
   "id": "f2cbae03",
   "metadata": {},
   "outputs": [
    {
     "name": "stdout",
     "output_type": "stream",
     "text": [
      "intersection :  [3, 6, 8]\n"
     ]
    }
   ],
   "source": [
    "def lis_intersection(list1,list2):\n",
    "    return [x for x in list1 if x in list2]\n",
    "\n",
    "list1= [0, 7, 3, 6, 8]\n",
    "list2 = [6, 3, 8, 2, 1]\n",
    "\n",
    "inser=lis_intersection(list1,list2)\n",
    "print(\"intersection : \",inser)"
   ]
  },
  {
   "cell_type": "code",
   "execution_count": null,
   "id": "7eaecb30",
   "metadata": {},
   "outputs": [],
   "source": []
  }
 ],
 "metadata": {
  "kernelspec": {
   "display_name": "base",
   "language": "python",
   "name": "python3"
  },
  "language_info": {
   "codemirror_mode": {
    "name": "ipython",
    "version": 3
   },
   "file_extension": ".py",
   "mimetype": "text/x-python",
   "name": "python",
   "nbconvert_exporter": "python",
   "pygments_lexer": "ipython3",
   "version": "3.12.7"
  }
 },
 "nbformat": 4,
 "nbformat_minor": 5
}

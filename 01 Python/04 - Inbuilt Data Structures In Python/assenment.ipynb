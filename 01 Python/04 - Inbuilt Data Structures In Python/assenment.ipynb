{
 "cells": [
  {
   "cell_type": "markdown",
   "id": "48170a5e",
   "metadata": {},
   "source": [
    "# Module 3: Data Structures Assignments\n",
    "## Lesson 3.1: Lists\n",
    "### Assignment 1: Creating and Accessing Lists\n",
    "\n",
    "Create a list of the first 20 positive integers. Print the list."
   ]
  },
  {
   "cell_type": "code",
   "execution_count": null,
   "id": "f0a3b5dc",
   "metadata": {},
   "outputs": [],
   "source": []
  },
  {
   "cell_type": "markdown",
   "id": "060ef5a1",
   "metadata": {},
   "source": [
    "### Assignment 2: Accessing List Elements\n",
    "\n",
    "Print the first, middle, and last elements of the list created in Assignment 1."
   ]
  },
  {
   "cell_type": "code",
   "execution_count": null,
   "id": "eaba080e",
   "metadata": {},
   "outputs": [],
   "source": []
  },
  {
   "cell_type": "markdown",
   "id": "6e9cec23",
   "metadata": {},
   "source": [
    "### Assignment 3: List Slicing\n",
    "\n",
    "Print the first five elements, the last five elements, and the elements from index 5 to 15 of the list created in Assignment 1."
   ]
  },
  {
   "cell_type": "code",
   "execution_count": null,
   "id": "95847681",
   "metadata": {},
   "outputs": [],
   "source": []
  },
  {
   "cell_type": "markdown",
   "id": "22e99523",
   "metadata": {},
   "source": [
    "### Assignment 4: List Comprehensions\n",
    "\n",
    "Create a new list containing the squares of the first 10 positive integers using a list comprehension. Print the new list."
   ]
  },
  {
   "cell_type": "code",
   "execution_count": null,
   "id": "e59c7e3e",
   "metadata": {},
   "outputs": [],
   "source": []
  },
  {
   "cell_type": "markdown",
   "id": "3bae8be9",
   "metadata": {},
   "source": [
    "### Assignment 5: Filtering Lists\n",
    "\n",
    "Create a new list containing only the even numbers from the list created in Assignment 1 using a list comprehension. Print the new list."
   ]
  },
  {
   "cell_type": "code",
   "execution_count": null,
   "id": "27dfbe78",
   "metadata": {},
   "outputs": [],
   "source": [
    "\n"
   ]
  },
  {
   "cell_type": "markdown",
   "id": "b976b72e",
   "metadata": {},
   "source": [
    "### Assignment 6: List Methods\n",
    "\n",
    "Create a list of random numbers and sort it in ascending and descending order. Remove the duplicates from the list and print the modified list."
   ]
  },
  {
   "cell_type": "code",
   "execution_count": null,
   "id": "5d1a8469",
   "metadata": {},
   "outputs": [],
   "source": [
    "\n"
   ]
  },
  {
   "cell_type": "code",
   "execution_count": null,
   "id": "0deaf8ec",
   "metadata": {},
   "outputs": [],
   "source": []
  },
  {
   "cell_type": "markdown",
   "id": "57f84146",
   "metadata": {},
   "source": [
    "\n",
    "\n",
    "## Assignment 7: Nested Lists\n",
    "\n",
    "Create a nested list representing a 3x3 matrix and print the matrix. Access and print the element at the second row and third column.\n"
   ]
  },
  {
   "cell_type": "code",
   "execution_count": null,
   "id": "ee0279ac",
   "metadata": {},
   "outputs": [],
   "source": [
    "\n"
   ]
  },
  {
   "cell_type": "markdown",
   "id": "e4a82bd4",
   "metadata": {},
   "source": [
    "\n",
    "### Assignment 8: List of Dictionaries\n",
    "\n",
    "Create a list of dictionaries where each dictionary represents a student with keys 'name' and 'score'. Sort the list of dictionaries by the 'score' in descending order and print the sorted list."
   ]
  },
  {
   "cell_type": "code",
   "execution_count": null,
   "id": "9e80f0a3",
   "metadata": {},
   "outputs": [],
   "source": [
    "\n"
   ]
  },
  {
   "cell_type": "markdown",
   "id": "5073de31",
   "metadata": {},
   "source": [
    "\n",
    "### Assignment 9: Matrix Transposition\n",
    "\n",
    "Write a function that takes a 3x3 matrix (nested list) as input and returns its transpose. Print the original and transposed matrices."
   ]
  },
  {
   "cell_type": "code",
   "execution_count": null,
   "id": "5dbdec65",
   "metadata": {},
   "outputs": [],
   "source": []
  },
  {
   "cell_type": "markdown",
   "id": "c5f64679",
   "metadata": {},
   "source": [
    "### Assignment 10: Flattening a Nested List\n",
    "\n",
    "Write a function that takes a nested list and flattens it into a single list. Print the original and flattened lists.\n"
   ]
  },
  {
   "cell_type": "code",
   "execution_count": null,
   "id": "70263b99",
   "metadata": {},
   "outputs": [],
   "source": []
  },
  {
   "cell_type": "markdown",
   "id": "125438dc",
   "metadata": {},
   "source": [
    "### Assignment 11: List Manipulation\n",
    "\n",
    "Create a list of the first 10 positive integers. Remove the elements at indices 2, 4, and 6, and insert the element '99' at index 5. Print the modified list."
   ]
  },
  {
   "cell_type": "code",
   "execution_count": null,
   "id": "39010bb7",
   "metadata": {},
   "outputs": [],
   "source": []
  },
  {
   "cell_type": "markdown",
   "id": "b88ed0fa",
   "metadata": {},
   "source": [
    "### Assignment 12: List Zipping\n",
    "\n",
    "Create two lists of the same length. Use the `zip` function to combine these lists into a list of tuples and print the result."
   ]
  },
  {
   "cell_type": "code",
   "execution_count": null,
   "id": "2b2827d1",
   "metadata": {},
   "outputs": [],
   "source": []
  },
  {
   "cell_type": "markdown",
   "id": "7716a226",
   "metadata": {},
   "source": [
    "### Assignment 13: List Reversal\n",
    "\n",
    "Write a function that takes a list and returns a new list with the elements in reverse order. Print the original and reversed lists."
   ]
  },
  {
   "cell_type": "code",
   "execution_count": null,
   "id": "67ce5e54",
   "metadata": {},
   "outputs": [],
   "source": []
  },
  {
   "cell_type": "markdown",
   "id": "4cb37e4d",
   "metadata": {},
   "source": [
    "\n",
    "### Assignment 14: List Rotation\n",
    "\n",
    "Write a function that rotates a list by n positions. Print the original and rotated lists."
   ]
  },
  {
   "cell_type": "code",
   "execution_count": null,
   "id": "ead477c9",
   "metadata": {},
   "outputs": [],
   "source": []
  },
  {
   "cell_type": "markdown",
   "id": "7297f0ec",
   "metadata": {},
   "source": [
    "### Assignment 15: List Intersection\n",
    "\n",
    "Write a function that takes two lists and returns a new list containing only the elements that are present in both lists. Print the intersected list."
   ]
  },
  {
   "cell_type": "code",
   "execution_count": null,
   "id": "bf3ca202",
   "metadata": {},
   "outputs": [],
   "source": []
  }
 ],
 "metadata": {
  "kernelspec": {
   "display_name": "base",
   "language": "python",
   "name": "python3"
  },
  "language_info": {
   "codemirror_mode": {
    "name": "ipython",
    "version": 3
   },
   "file_extension": ".py",
   "mimetype": "text/x-python",
   "name": "python",
   "nbconvert_exporter": "python",
   "pygments_lexer": "ipython3",
   "version": "3.12.7"
  }
 },
 "nbformat": 4,
 "nbformat_minor": 5
}

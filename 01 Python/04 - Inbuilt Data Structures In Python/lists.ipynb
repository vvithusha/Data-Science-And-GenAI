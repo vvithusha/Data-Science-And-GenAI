{
 "cells": [
  {
   "cell_type": "markdown",
   "id": "35df12a8",
   "metadata": {},
   "source": [
    "  introduction to list"
   ]
  },
  {
   "cell_type": "code",
   "execution_count": 1,
   "id": "628a0799",
   "metadata": {},
   "outputs": [
    {
     "name": "stdout",
     "output_type": "stream",
     "text": [
      "<class 'list'>\n"
     ]
    }
   ],
   "source": [
    "lst=[]\n",
    "print(type(lst))\n"
   ]
  },
  {
   "cell_type": "code",
   "execution_count": 2,
   "id": "4c9044ab",
   "metadata": {},
   "outputs": [
    {
     "name": "stdout",
     "output_type": "stream",
     "text": [
      "['vithu', 'jash', 'kesh', 23, 67, 6.9, 34]\n"
     ]
    }
   ],
   "source": [
    "names=[\"vithu\",\"jash\",\"kesh\",23,67,6.9,34]\n",
    "print(names)"
   ]
  },
  {
   "cell_type": "code",
   "execution_count": null,
   "id": "663bff9d",
   "metadata": {},
   "outputs": [
    {
     "name": "stdout",
     "output_type": "stream",
     "text": [
      "[2, 'hello', 23.4, True]\n"
     ]
    }
   ],
   "source": [
    "mixed_list=[2,\"hello\",23.4,True]\n",
    "print(mixed_list)"
   ]
  },
  {
   "cell_type": "code",
   "execution_count": 1,
   "id": "b81dba40",
   "metadata": {},
   "outputs": [
    {
     "name": "stdout",
     "output_type": "stream",
     "text": [
      "apple\n",
      "mango\n",
      "orange\n",
      "cherry\n",
      "gauva\n",
      "['gauva', 'cherry', 'orange', 'mango']\n"
     ]
    }
   ],
   "source": [
    "fruits=[\"apple\",\"mango\",\"orange\",\"cherry\",\"gauva\"]\n",
    "\n",
    "print(fruits[0])\n",
    "print(fruits[1])\n",
    "print(fruits[2])\n",
    "print(fruits[3])\n",
    "print(fruits[-1])\n",
    "print(fruits[:-5:-1])"
   ]
  },
  {
   "cell_type": "code",
   "execution_count": 11,
   "id": "a375fe38",
   "metadata": {},
   "outputs": [
    {
     "name": "stdout",
     "output_type": "stream",
     "text": [
      "['mango', 'orange', 'cherry', 'gauva']\n",
      "['apple', 'mango', 'orange', 'cherry', 'gauva']\n",
      "['apple', 'mango', 'orange', 'cherry']\n",
      "['gauva']\n",
      "['mango', 'orange']\n"
     ]
    }
   ],
   "source": [
    "fruits=[\"apple\",\"mango\",\"orange\",\"cherry\",\"gauva\"]\n",
    "\n",
    "print(fruits[1:])  #start to end\n",
    "print(fruits[:])   # all the elements\n",
    "print(fruits[:-1])\n",
    "print(fruits[-1:])\n",
    "print(fruits[1:3])"
   ]
  },
  {
   "cell_type": "code",
   "execution_count": null,
   "id": "0cd792d5",
   "metadata": {},
   "outputs": [
    {
     "name": "stdout",
     "output_type": "stream",
     "text": [
      "['apple', 'mango', 'watermelon', 'cherry', 'gauva']\n"
     ]
    }
   ],
   "source": [
    "## modift the string\n",
    "fruits=[\"apple\",\"mango\",\"orange\",\"cherry\",\"gauva\"]\n",
    "\n",
    "fruits[2]=\"watermelon\"\n",
    "print(fruits)\n"
   ]
  },
  {
   "cell_type": "code",
   "execution_count": 17,
   "id": "3d4e27b8",
   "metadata": {},
   "outputs": [
    {
     "name": "stdout",
     "output_type": "stream",
     "text": [
      "['apple', 'm', 'a', 'n', 'g', 'o', ' ', 'j', 'u', 's', 'e']\n"
     ]
    }
   ],
   "source": [
    "fruits[1:]=\"mango juse\"\n",
    "print(fruits)"
   ]
  },
  {
   "cell_type": "code",
   "execution_count": 19,
   "id": "0116cafb",
   "metadata": {},
   "outputs": [
    {
     "name": "stdout",
     "output_type": "stream",
     "text": [
      "['apple', 'mango', 'orange', 'cherry', 'gauva', 'orange']\n"
     ]
    }
   ],
   "source": [
    "## list methods\n",
    "fruits=[\"apple\",\"mango\",\"orange\",\"cherry\",\"gauva\"]\n",
    "fruits.append(\"orange\")   ## add an item to the end\n",
    "print(fruits)\n",
    "\n",
    " "
   ]
  },
  {
   "cell_type": "code",
   "execution_count": null,
   "id": "472afba0",
   "metadata": {},
   "outputs": [
    {
     "name": "stdout",
     "output_type": "stream",
     "text": [
      "['apple', 'watermelone', 'mango', 'orange', 'cherry', 'gauva']\n"
     ]
    }
   ],
   "source": [
    "## to insert the items\n",
    "fruits=[\"apple\",\"mango\",\"orange\",\"cherry\",\"gauva\"]\n",
    "fruits.insert(1,\"watermelone\")\n",
    "print(fruits)"
   ]
  },
  {
   "cell_type": "code",
   "execution_count": null,
   "id": "5fc1dee0",
   "metadata": {},
   "outputs": [
    {
     "name": "stdout",
     "output_type": "stream",
     "text": [
      "['apple', 'mango', 'cherry', 'gauva']\n"
     ]
    }
   ],
   "source": [
    "## remove the items\n",
    "## removing the first occurance of an item\n",
    "fruits=[\"apple\",\"mango\",\"orange\",\"cherry\",\"gauva\"]\n",
    "fruits.remove(\"orange\")\n",
    "print(fruits)"
   ]
  },
  {
   "cell_type": "code",
   "execution_count": 28,
   "id": "a09622ab",
   "metadata": {},
   "outputs": [
    {
     "name": "stdout",
     "output_type": "stream",
     "text": [
      "gauva\n",
      "['apple', 'mango', 'orange', 'cherry']\n"
     ]
    }
   ],
   "source": [
    "## remove and return the last items\n",
    "fruits=[\"apple\",\"mango\",\"orange\",\"cherry\",\"gauva\"]\n",
    "popped_fruit=fruits.pop()\n",
    "print(popped_fruit)\n",
    "print(fruits)\n",
    "\n"
   ]
  },
  {
   "cell_type": "code",
   "execution_count": 31,
   "id": "83fef663",
   "metadata": {},
   "outputs": [
    {
     "name": "stdout",
     "output_type": "stream",
     "text": [
      "2\n",
      "3\n"
     ]
    }
   ],
   "source": [
    "## get the index\n",
    "index=fruits.index(\"cherry\")\n",
    "index1=fruits.index(\"orange\")\n",
    "print(index1)\n",
    "print(index)"
   ]
  },
  {
   "cell_type": "code",
   "execution_count": 3,
   "id": "05ca561d",
   "metadata": {},
   "outputs": [
    {
     "name": "stdout",
     "output_type": "stream",
     "text": [
      "['apple', 'mango', 'banana', 'orange', 'cherry', 'gauva']\n"
     ]
    }
   ],
   "source": [
    "fruits=[\"apple\",\"mango\",\"orange\",\"cherry\",\"gauva\"]\n",
    "fruits.insert(2,\"banana\")\n",
    "print(fruits)"
   ]
  },
  {
   "cell_type": "code",
   "execution_count": 5,
   "id": "97132109",
   "metadata": {},
   "outputs": [
    {
     "name": "stdout",
     "output_type": "stream",
     "text": [
      "2\n"
     ]
    }
   ],
   "source": [
    "\n",
    "fruits.insert(2,\"banana\")\n",
    "print(fruits.count(\"banana\"))"
   ]
  },
  {
   "cell_type": "code",
   "execution_count": 6,
   "id": "623cde15",
   "metadata": {},
   "outputs": [
    {
     "name": "stdout",
     "output_type": "stream",
     "text": [
      "['apple', 'mango', 'banana', 'banana', 'orange', 'cherry', 'gauva']\n"
     ]
    }
   ],
   "source": [
    "print(fruits)"
   ]
  },
  {
   "cell_type": "code",
   "execution_count": 7,
   "id": "c6b99d6c",
   "metadata": {},
   "outputs": [],
   "source": [
    "fruits.remove(\"banana\")"
   ]
  },
  {
   "cell_type": "code",
   "execution_count": 8,
   "id": "ecad3f93",
   "metadata": {},
   "outputs": [
    {
     "name": "stdout",
     "output_type": "stream",
     "text": [
      "['apple', 'mango', 'banana', 'orange', 'cherry', 'gauva']\n"
     ]
    }
   ],
   "source": [
    "print(fruits)"
   ]
  },
  {
   "cell_type": "code",
   "execution_count": 9,
   "id": "75346acc",
   "metadata": {},
   "outputs": [
    {
     "data": {
      "text/plain": [
       "1"
      ]
     },
     "execution_count": 9,
     "metadata": {},
     "output_type": "execute_result"
    }
   ],
   "source": [
    "fruits.count(\"banana\")"
   ]
  },
  {
   "cell_type": "code",
   "execution_count": 11,
   "id": "b389de26",
   "metadata": {},
   "outputs": [
    {
     "name": "stdout",
     "output_type": "stream",
     "text": [
      "['apple', 'mango', 'banana', 'banana', 'banana', 'orange', 'cherry', 'gauva']\n"
     ]
    }
   ],
   "source": [
    "fruits.insert(2,\"banana\")\n",
    "print(fruits)"
   ]
  },
  {
   "cell_type": "code",
   "execution_count": 19,
   "id": "bb10fe2d",
   "metadata": {},
   "outputs": [
    {
     "name": "stdout",
     "output_type": "stream",
     "text": [
      "['apple', 'cherry', 'gauva', 'mango', 'orange']\n"
     ]
    }
   ],
   "source": [
    "## this list in ascending order\n",
    "fruits.sort()\n",
    "print(fruits)\n"
   ]
  },
  {
   "cell_type": "code",
   "execution_count": 22,
   "id": "1734bd60",
   "metadata": {},
   "outputs": [
    {
     "name": "stdout",
     "output_type": "stream",
     "text": [
      "['orange', 'mango', 'gauva', 'cherry', 'apple']\n"
     ]
    }
   ],
   "source": [
    "## all the elements reverse\n",
    "fruits.reverse()\n",
    "print(fruits)  "
   ]
  },
  {
   "cell_type": "code",
   "execution_count": 24,
   "id": "ab28783e",
   "metadata": {},
   "outputs": [
    {
     "name": "stdout",
     "output_type": "stream",
     "text": [
      "[]\n"
     ]
    }
   ],
   "source": [
    "##remove all items\n",
    "\n",
    "fruits.clear()\n",
    "print(fruits)"
   ]
  },
  {
   "cell_type": "code",
   "execution_count": null,
   "id": "1933f0e0",
   "metadata": {},
   "outputs": [
    {
     "name": "stdout",
     "output_type": "stream",
     "text": [
      "[2, 3, 4]\n",
      "[0, 1, 2, 3, 4]\n",
      "[5, 6, 7, 8, 9, 10]\n",
      "[10, 9, 8, 7, 6, 5, 4, 3, 2, 1, 0]\n",
      "[0, 2, 4, 6, 8, 10]\n",
      "[0, 1, 2, 3, 4, 5, 6, 7, 8, 9, 10]\n",
      "[10, 6, 2]\n"
     ]
    }
   ],
   "source": [
    "## slicing list\n",
    "numbers=[0,1,2,3,4,5,6,7,8,9,10]\n",
    "print(numbers[2:5])\n",
    "print(numbers[:5])\n",
    "print(numbers[5:])\n",
    "print(numbers[::-1])\n",
    "print(numbers[::2])\n",
    "print(numbers[::])\n",
    "print(numbers[::-4]) ## statr:stop:step"
   ]
  },
  {
   "cell_type": "code",
   "execution_count": 31,
   "id": "bac1baa3",
   "metadata": {},
   "outputs": [
    {
     "name": "stdout",
     "output_type": "stream",
     "text": [
      "[0, 1, 2, 3, 4, 5, 6, 7, 8, 9, 10]\n"
     ]
    }
   ],
   "source": [
    "## all the elements\n",
    "print(numbers[::])"
   ]
  },
  {
   "cell_type": "code",
   "execution_count": 32,
   "id": "a9bca13a",
   "metadata": {},
   "outputs": [
    {
     "name": "stdout",
     "output_type": "stream",
     "text": [
      "[10, 9, 8, 7, 6, 5, 4, 3, 2, 1, 0]\n"
     ]
    }
   ],
   "source": [
    "## print previous value\n",
    "print(numbers[::-1])\n"
   ]
  },
  {
   "cell_type": "code",
   "execution_count": 33,
   "id": "446b218c",
   "metadata": {},
   "outputs": [
    {
     "name": "stdout",
     "output_type": "stream",
     "text": [
      "[10, 7, 4, 1]\n"
     ]
    }
   ],
   "source": [
    "print(numbers[::-3]) "
   ]
  },
  {
   "cell_type": "code",
   "execution_count": 40,
   "id": "9f991b49",
   "metadata": {},
   "outputs": [
    {
     "name": "stdout",
     "output_type": "stream",
     "text": [
      "0\n",
      "1\n",
      "2\n",
      "3\n",
      "4\n",
      "5\n",
      "6\n",
      "7\n",
      "8\n",
      "9\n",
      "10\n"
     ]
    }
   ],
   "source": [
    "## iterating with index\n",
    "for num in numbers:\n",
    "    print(num)"
   ]
  },
  {
   "cell_type": "code",
   "execution_count": 41,
   "id": "311bf32e",
   "metadata": {},
   "outputs": [
    {
     "name": "stdout",
     "output_type": "stream",
     "text": [
      "0 0\n",
      "1 1\n",
      "2 2\n",
      "3 3\n",
      "4 4\n",
      "5 5\n",
      "6 6\n",
      "7 7\n",
      "8 8\n",
      "9 9\n",
      "10 10\n"
     ]
    }
   ],
   "source": [
    "## interating with index\n",
    "for index,number in  enumerate(numbers):\n",
    "    print(index,number)"
   ]
  },
  {
   "cell_type": "code",
   "execution_count": 45,
   "id": "cfb57c54",
   "metadata": {},
   "outputs": [
    {
     "name": "stdout",
     "output_type": "stream",
     "text": [
      "[0, 1, 4, 9, 16, 25, 36, 49, 64, 81]\n"
     ]
    }
   ],
   "source": [
    "## list compr ehension\n",
    "lis=[]\n",
    "for x in range(10):\n",
    "    lis.append(x**2)\n",
    "\n",
    "print(lis)"
   ]
  },
  {
   "cell_type": "code",
   "execution_count": 47,
   "id": "dea82fa2",
   "metadata": {},
   "outputs": [
    {
     "data": {
      "text/plain": [
       "[0, 1, 4, 9, 16, 25, 36, 49, 64, 81]"
      ]
     },
     "execution_count": 47,
     "metadata": {},
     "output_type": "execute_result"
    }
   ],
   "source": [
    "[x**2 for x in range(10)]"
   ]
  },
  {
   "cell_type": "code",
   "execution_count": 49,
   "id": "a19bdcd7",
   "metadata": {},
   "outputs": [
    {
     "data": {
      "text/plain": [
       "[0.0, 0.5, 1.0, 1.5, 2.0, 2.5, 3.0, 3.5, 4.0, 4.5]"
      ]
     },
     "execution_count": 49,
     "metadata": {},
     "output_type": "execute_result"
    }
   ],
   "source": [
    "[x/2 for x in range (10)]"
   ]
  },
  {
   "cell_type": "code",
   "execution_count": 51,
   "id": "ffc11709",
   "metadata": {},
   "outputs": [
    {
     "data": {
      "text/plain": [
       "[2, 3, 4, 5, 6, 7, 8, 9, 10, 11]"
      ]
     },
     "execution_count": 51,
     "metadata": {},
     "output_type": "execute_result"
    }
   ],
   "source": [
    "[x+2 for x in range(10)]"
   ]
  },
  {
   "cell_type": "markdown",
   "id": "15e74ce6",
   "metadata": {},
   "source": [
    "list comprehension\n",
    "\n",
    "basicsyntax:                                                    [expression for item in iterable]\n",
    "\n",
    "with conditional logic:\n",
    "    [expresion for item in iterable if condition]\n",
    "\n",
    "nested list comprehension:\n",
    "    [expression for item in iterable for item2 in iterable2]"
   ]
  },
  {
   "cell_type": "code",
   "execution_count": null,
   "id": "b2b6db84",
   "metadata": {},
   "outputs": [],
   "source": []
  },
  {
   "cell_type": "code",
   "execution_count": 2,
   "id": "dfc07edb",
   "metadata": {},
   "outputs": [
    {
     "name": "stdout",
     "output_type": "stream",
     "text": [
      "[0, 1, 4, 9, 16, 25, 36, 49, 64, 81]\n"
     ]
    }
   ],
   "source": [
    "## basic list comphrension\n",
    "\n",
    "sqaure=[num**2 for num in range(10)]\n",
    "print(sqaure)"
   ]
  },
  {
   "cell_type": "code",
   "execution_count": 8,
   "id": "f4f08131",
   "metadata": {},
   "outputs": [
    {
     "name": "stdout",
     "output_type": "stream",
     "text": [
      "[0, 2, 4, 6, 8]\n"
     ]
    }
   ],
   "source": [
    "## list comphrension with condisition \n",
    "lst=[]\n",
    "for i in range(10):\n",
    "    if i%2==0:\n",
    "        lst.append(i)\n",
    "print(lst)\n",
    "\n"
   ]
  },
  {
   "cell_type": "code",
   "execution_count": 11,
   "id": "87150a46",
   "metadata": {},
   "outputs": [
    {
     "name": "stdout",
     "output_type": "stream",
     "text": [
      "[0, 2, 4, 6, 8]\n"
     ]
    }
   ],
   "source": [
    "even_num=[i for i in range(10) if i%2==0]\n",
    "print(even_num)"
   ]
  },
  {
   "cell_type": "code",
   "execution_count": 12,
   "metadata": {},
   "outputs": [
    {
     "name": "stdout",
     "output_type": "stream",
     "text": [
      "[['v', 2], ['v', 4], ['v', 5], ['v', 6], ['v', 8], ['i', 2], ['i', 4], ['i', 5], ['i', 6], ['i', 8], ['t', 2], ['t', 4], ['t', 5], ['t', 6], ['t', 8], ['h', 2], ['h', 4], ['h', 5], ['h', 6], ['h', 8], ['u', 2], ['u', 4], ['u', 5], ['u', 6], ['u', 8]]\n"
     ]
    }
   ],
   "source": [
    "## nested list compreconsion\n",
    "lis1=[\"v\",\"i\",\"t\",\"h\",\"u\"]\n",
    "list2=[2,4,5,6,8]\n",
    "\n",
    "pair=[[i,j] for i in lis1 for j in list2 ]\n",
    "print(pair)"
   ]
  },
  {
   "cell_type": "code",
   "execution_count": 14,
   "id": "8ece1ceb",
   "metadata": {},
   "outputs": [
    {
     "name": "stdout",
     "output_type": "stream",
     "text": [
      "[5, 6, 6, 6]\n"
     ]
    }
   ],
   "source": [
    "## list comprehension with function calls\n",
    "\n",
    "words=[\"vithu\",\"parish\",\"kanash\",\"kamash\"]\n",
    "length=[len(word) for word in words]\n",
    "print(length)\n",
    "\n"
   ]
  },
  {
   "cell_type": "code",
   "execution_count": null,
   "id": "da3c57d7",
   "metadata": {},
   "outputs": [],
   "source": []
  }
 ],
 "metadata": {
  "kernelspec": {
   "display_name": "base",
   "language": "python",
   "name": "python3"
  },
  "language_info": {
   "codemirror_mode": {
    "name": "ipython",
    "version": 3
   },
   "file_extension": ".py",
   "mimetype": "text/x-python",
   "name": "python",
   "nbconvert_exporter": "python",
   "pygments_lexer": "ipython3",
   "version": "3.12.7"
  }
 },
 "nbformat": 4,
 "nbformat_minor": 5
}

{
 "cells": [
  {
   "cell_type": "markdown",
   "id": "35df12a8",
   "metadata": {},
   "source": [
    "  introduction to list"
   ]
  },
  {
   "cell_type": "code",
   "execution_count": 1,
   "id": "628a0799",
   "metadata": {},
   "outputs": [
    {
     "name": "stdout",
     "output_type": "stream",
     "text": [
      "<class 'list'>\n"
     ]
    }
   ],
   "source": [
    "lst=[]\n",
    "print(type(lst))\n"
   ]
  },
  {
   "cell_type": "code",
   "execution_count": 2,
   "id": "4c9044ab",
   "metadata": {},
   "outputs": [
    {
     "name": "stdout",
     "output_type": "stream",
     "text": [
      "['vithu', 'jash', 'kesh', 23, 67, 6.9, 34]\n"
     ]
    }
   ],
   "source": [
    "names=[\"vithu\",\"jash\",\"kesh\",23,67,6.9,34]\n",
    "print(names)"
   ]
  },
  {
   "cell_type": "code",
   "execution_count": 3,
   "id": "663bff9d",
   "metadata": {},
   "outputs": [
    {
     "name": "stdout",
     "output_type": "stream",
     "text": [
      "[2, 'hello', 23.4, True]\n"
     ]
    }
   ],
   "source": [
    " mixed_list=[2,\"hello\",23.4,True]\n",
    " print(mixed_list)"
   ]
  },
  {
   "cell_type": "code",
   "execution_count": 6,
   "id": "b81dba40",
   "metadata": {},
   "outputs": [
    {
     "name": "stdout",
     "output_type": "stream",
     "text": [
      "apple\n",
      "mango\n",
      "orange\n",
      "cherry\n",
      "gauva\n"
     ]
    }
   ],
   "source": [
    "fruits=[\"apple\",\"mango\",\"orange\",\"cherry\",\"gauva\"]\n",
    "\n",
    "print(fruits[0])\n",
    "print(fruits[1])\n",
    "print(fruits[2])\n",
    "print(fruits[3])\n",
    "print(fruits[-1])"
   ]
  },
  {
   "cell_type": "code",
   "execution_count": 11,
   "id": "a375fe38",
   "metadata": {},
   "outputs": [
    {
     "name": "stdout",
     "output_type": "stream",
     "text": [
      "['mango', 'orange', 'cherry', 'gauva']\n",
      "['apple', 'mango', 'orange', 'cherry', 'gauva']\n",
      "['apple', 'mango', 'orange', 'cherry']\n",
      "['gauva']\n",
      "['mango', 'orange']\n"
     ]
    }
   ],
   "source": [
    "fruits=[\"apple\",\"mango\",\"orange\",\"cherry\",\"gauva\"]\n",
    "\n",
    "print(fruits[1:])  #start to end\n",
    "print(fruits[:])   # all the elements\n",
    "print(fruits[:-1])\n",
    "print(fruits[-1:])\n",
    "print(fruits[1:3])"
   ]
  },
  {
   "cell_type": "code",
   "execution_count": 13,
   "id": "0cd792d5",
   "metadata": {},
   "outputs": [
    {
     "name": "stdout",
     "output_type": "stream",
     "text": [
      "['apple', 'mango', 'watermelon', 'cherry', 'gauva']\n"
     ]
    }
   ],
   "source": [
    "## modift the string\n",
    "fruits=[\"apple\",\"mango\",\"orange\",\"cherry\",\"gauva\"]\n",
    "\n",
    "fruits[2]=\"watermelon\"\n",
    "print(fruits)\n"
   ]
  },
  {
   "cell_type": "code",
   "execution_count": null,
   "id": "3d4e27b8",
   "metadata": {},
   "outputs": [],
   "source": []
  }
 ],
 "metadata": {
  "kernelspec": {
   "display_name": "base",
   "language": "python",
   "name": "python3"
  },
  "language_info": {
   "codemirror_mode": {
    "name": "ipython",
    "version": 3
   },
   "file_extension": ".py",
   "mimetype": "text/x-python",
   "name": "python",
   "nbconvert_exporter": "python",
   "pygments_lexer": "ipython3",
   "version": "3.12.7"
  }
 },
 "nbformat": 4,
 "nbformat_minor": 5
}

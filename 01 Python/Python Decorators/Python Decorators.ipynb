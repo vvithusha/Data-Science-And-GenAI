{
 "cells": [
  {
   "cell_type": "markdown",
   "id": "c2892419",
   "metadata": {},
   "source": [
    "### Python Decorators"
   ]
  },
  {
   "cell_type": "markdown",
   "id": "37e0ee88",
   "metadata": {},
   "source": [
    "### Basic Decorator\n",
    "Define the Decorator first,then apply it with @decorator_name above the function"
   ]
  },
  {
   "cell_type": "code",
   "execution_count": 10,
   "id": "31c32716",
   "metadata": {},
   "outputs": [
    {
     "name": "stdout",
     "output_type": "stream",
     "text": [
      "HELLO SALLY\n"
     ]
    }
   ],
   "source": [
    "def changecase (func):\n",
    "    def myinner():\n",
    "      return func().upper()\n",
    "    return myinner\n",
    "\n",
    "@changecase\n",
    "def myfunction():\n",
    "    return \"Hello Sally\"\n",
    "\n",
    "print(myfunction())"
   ]
  },
  {
   "cell_type": "code",
   "execution_count": 17,
   "id": "ebd574af",
   "metadata": {},
   "outputs": [
    {
     "name": "stdout",
     "output_type": "stream",
     "text": [
      "VITHU\n"
     ]
    }
   ],
   "source": [
    "def myfun(stri):\n",
    "     return stri.upper()\n",
    "\n",
    "print(myfun(stri=\"vithu\"))"
   ]
  },
  {
   "cell_type": "code",
   "execution_count": 23,
   "id": "55a49fd2",
   "metadata": {},
   "outputs": [
    {
     "name": "stdout",
     "output_type": "stream",
     "text": [
      "HELLO VITHU\n"
     ]
    }
   ],
   "source": [
    "def change(fun):\n",
    "    def myin ():\n",
    "        return fun().upper()\n",
    "    return myin\n",
    "\n",
    "@changecase\n",
    "def myfun():\n",
    "    return \"hello vithu\"\n",
    "\n",
    "print(myfun())\n"
   ]
  },
  {
   "cell_type": "code",
   "execution_count": 29,
   "id": "46ab8474",
   "metadata": {},
   "outputs": [
    {
     "name": "stdout",
     "output_type": "stream",
     "text": [
      "Hi, I am Vithu\n"
     ]
    }
   ],
   "source": [
    "def add_prefix(prefix):\n",
    "    def decorator(func):\n",
    "        def wrapper():\n",
    "            return prefix + func()\n",
    "\n",
    "        return wrapper\n",
    "    return decorator\n",
    "\n",
    "@add_prefix(\"Hi, \")\n",
    "def greet():\n",
    "    return \"I am Vithu\"\n",
    "\n",
    "print(greet())\n"
   ]
  },
  {
   "cell_type": "code",
   "execution_count": null,
   "id": "982c38af",
   "metadata": {},
   "outputs": [],
   "source": []
  }
 ],
 "metadata": {
  "kernelspec": {
   "display_name": "base",
   "language": "python",
   "name": "python3"
  },
  "language_info": {
   "codemirror_mode": {
    "name": "ipython",
    "version": 3
   },
   "file_extension": ".py",
   "mimetype": "text/x-python",
   "name": "python",
   "nbconvert_exporter": "python",
   "pygments_lexer": "ipython3",
   "version": "3.12.7"
  }
 },
 "nbformat": 4,
 "nbformat_minor": 5
}

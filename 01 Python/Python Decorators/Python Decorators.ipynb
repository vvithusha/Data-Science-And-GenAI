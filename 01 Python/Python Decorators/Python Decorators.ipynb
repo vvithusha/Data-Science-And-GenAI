{
 "cells": [
  {
   "cell_type": "markdown",
   "id": "c2892419",
   "metadata": {},
   "source": [
    "### Python Decorators"
   ]
  },
  {
   "cell_type": "markdown",
   "id": "37e0ee88",
   "metadata": {},
   "source": [
    "### Basic Decorator\n",
    "Define the Decorator first,then apply it with @decorator_name above the function"
   ]
  },
  {
   "cell_type": "code",
   "execution_count": 10,
   "id": "31c32716",
   "metadata": {},
   "outputs": [
    {
     "name": "stdout",
     "output_type": "stream",
     "text": [
      "HELLO SALLY\n"
     ]
    }
   ],
   "source": [
    "def changecase (func):\n",
    "    def myinner():\n",
    "      return func().upper()\n",
    "    return myinner\n",
    "\n",
    "@changecase\n",
    "def myfunction():\n",
    "    return \"Hello Sally\"\n",
    "\n",
    "print(myfunction())"
   ]
  },
  {
   "cell_type": "code",
   "execution_count": 17,
   "id": "ebd574af",
   "metadata": {},
   "outputs": [
    {
     "name": "stdout",
     "output_type": "stream",
     "text": [
      "VITHU\n"
     ]
    }
   ],
   "source": [
    "def myfun(stri):\n",
    "     return stri.upper()\n",
    "\n",
    "print(myfun(stri=\"vithu\"))"
   ]
  },
  {
   "cell_type": "code",
   "execution_count": 23,
   "id": "55a49fd2",
   "metadata": {},
   "outputs": [
    {
     "name": "stdout",
     "output_type": "stream",
     "text": [
      "HELLO VITHU\n"
     ]
    }
   ],
   "source": [
    "def change(fun):\n",
    "    def myin ():\n",
    "        return fun().upper()\n",
    "    return myin\n",
    "\n",
    "@changecase\n",
    "def myfun():\n",
    "    return \"hello vithu\"\n",
    "\n",
    "print(myfun())\n"
   ]
  },
  {
   "cell_type": "code",
   "execution_count": 29,
   "id": "46ab8474",
   "metadata": {},
   "outputs": [
    {
     "name": "stdout",
     "output_type": "stream",
     "text": [
      "Hi, I am Vithu\n"
     ]
    }
   ],
   "source": [
    "def add_prefix(prefix):\n",
    "    def decorator(func):\n",
    "        def wrapper():\n",
    "            return prefix + func()\n",
    "\n",
    "        return wrapper\n",
    "    return decorator\n",
    "\n",
    "@add_prefix(\"Hi, \")\n",
    "def greet():\n",
    "    return \"I am Vithu\"\n",
    "\n",
    "print(greet())\n"
   ]
  },
  {
   "cell_type": "code",
   "execution_count": 6,
   "id": "982c38af",
   "metadata": {},
   "outputs": [
    {
     "name": "stdout",
     "output_type": "stream",
     "text": [
      "True\n"
     ]
    }
   ],
   "source": [
    "### CHECK IS THE VALID EMAIL\n",
    "import re\n",
    "\n",
    "def is_valid_email(email):\n",
    "    pattern = r\"^[a-zA-Z0-9._+]+@[a-zA-Z0-9.-]+\\.[a-zA-Z]{2,}$\"\n",
    "    return bool(re.match(pattern, email))\n",
    "\n",
    "print(is_valid_email(\"user@gmail.com\")) "
   ]
  },
  {
   "cell_type": "code",
   "execution_count": 7,
   "id": "e9cbeec2",
   "metadata": {},
   "outputs": [
    {
     "name": "stdout",
     "output_type": "stream",
     "text": [
      "True\n"
     ]
    }
   ],
   "source": [
    "import re\n",
    "def is_valid_email(email):\n",
    "    pattern = r\"^[a-zA-Z0-9._+]+@[a-zA-Z0-9.-]+\\.[a-zA-Z]{2,}$\"\n",
    "    return bool(re.match(pattern,email))\n",
    "\n",
    "print(is_valid_email(\"user@gamil.com\"))"
   ]
  },
  {
   "cell_type": "code",
   "execution_count": 11,
   "id": "669a80ea",
   "metadata": {},
   "outputs": [
    {
     "name": "stdout",
     "output_type": "stream",
     "text": [
      "113.0\n",
      "45.0\n"
     ]
    }
   ],
   "source": [
    "def convert_temperature(temp,unit):\n",
    "    if unit == \"c\":\n",
    "        return temp*9/5+32\n",
    "    if unit == \"f\":\n",
    "        return (temp-32)*5/9\n",
    "    \n",
    "print(convert_temperature(45,\"c\"))\n",
    "print(convert_temperature(113,\"f\"))"
   ]
  },
  {
   "cell_type": "code",
   "execution_count": 16,
   "id": "9ddc55b2",
   "metadata": {},
   "outputs": [
    {
     "name": "stdout",
     "output_type": "stream",
     "text": [
      "True\n",
      "False\n"
     ]
    }
   ],
   "source": [
    "### check strong password\n",
    "def is_password_strong(password):\n",
    "    if len(password)<8:\n",
    "        return False\n",
    "    if not any(char.isdigit() for char in password):\n",
    "        return False\n",
    "    if not any(char.upper() for char in password):\n",
    "        return False\n",
    "    if not any(char.lower() for char in password):\n",
    "        return False\n",
    "    if not any(char in '!@#$%^&*' for char in password):\n",
    "        return False\n",
    "    return True\n",
    "print(is_password_strong(\"SAfhosofw#j3424\"))\n",
    "print(is_password_strong(\"cofr9jjnf45\"))"
   ]
  },
  {
   "cell_type": "code",
   "execution_count": 20,
   "id": "126116bb",
   "metadata": {},
   "outputs": [
    {
     "name": "stdout",
     "output_type": "stream",
     "text": [
      "245\n"
     ]
    }
   ],
   "source": [
    "### calculate the total cost in the cart\n",
    "def total_cost(cart):\n",
    "    total = 0\n",
    "    for items in cart:\n",
    "        total += items['price']*items['quantity']\n",
    "    return total\n",
    "cart = [\n",
    "    {'name':'apple',\"price\":43,'quantity':3},\n",
    "    {'name':'orange','price':12,'quantity':2},\n",
    "    {'name':'mango','price':23,'quantity':4}\n",
    "\n",
    "]\n",
    "\n",
    "print(total_cost(cart))"
   ]
  },
  {
   "cell_type": "code",
   "execution_count": 21,
   "id": "a8517cc7",
   "metadata": {},
   "outputs": [
    {
     "name": "stdout",
     "output_type": "stream",
     "text": [
      "True\n",
      "False\n"
     ]
    }
   ],
   "source": [
    "### check is a string palindome\n",
    "def is_palindrome_word(s):\n",
    "    s=s.upper().replace(\" \",\"\")\n",
    "    return s==s[::-1]\n",
    "\n",
    "print(is_palindrome_word(\"madam\"))\n",
    "print(is_palindrome_word(\"hello\"))\n"
   ]
  },
  {
   "cell_type": "code",
   "execution_count": 23,
   "id": "536e1a5f",
   "metadata": {},
   "outputs": [
    {
     "ename": "FileNotFoundError",
     "evalue": "[Errno 2] No such file or directory: 'hello.txt'",
     "output_type": "error",
     "traceback": [
      "\u001b[1;31m---------------------------------------------------------------------------\u001b[0m",
      "\u001b[1;31mFileNotFoundError\u001b[0m                         Traceback (most recent call last)",
      "Cell \u001b[1;32mIn[23], line 13\u001b[0m\n\u001b[0;32m     10\u001b[0m     \u001b[38;5;28;01mreturn\u001b[39;00m word_count\n\u001b[0;32m     12\u001b[0m file_path \u001b[38;5;241m=\u001b[39m \u001b[38;5;124m\"\u001b[39m\u001b[38;5;124mhello.txt\u001b[39m\u001b[38;5;124m\"\u001b[39m\n\u001b[1;32m---> 13\u001b[0m count\u001b[38;5;241m=\u001b[39mcount_ferquancy(file_path)\n\u001b[0;32m     14\u001b[0m \u001b[38;5;28mprint\u001b[39m(count)\n",
      "Cell \u001b[1;32mIn[23], line 4\u001b[0m, in \u001b[0;36mcount_ferquancy\u001b[1;34m(file_path)\u001b[0m\n\u001b[0;32m      2\u001b[0m \u001b[38;5;28;01mdef\u001b[39;00m \u001b[38;5;21mcount_ferquancy\u001b[39m(file_path):\n\u001b[0;32m      3\u001b[0m     word_count\u001b[38;5;241m=\u001b[39m{}\n\u001b[1;32m----> 4\u001b[0m     \u001b[38;5;28;01mwith\u001b[39;00m \u001b[38;5;28mopen\u001b[39m(file_path,\u001b[38;5;124m'\u001b[39m\u001b[38;5;124mr\u001b[39m\u001b[38;5;124m'\u001b[39m) \u001b[38;5;28;01mas\u001b[39;00m file:\n\u001b[0;32m      5\u001b[0m         \u001b[38;5;28;01mfor\u001b[39;00m line \u001b[38;5;129;01min\u001b[39;00m file:\n\u001b[0;32m      6\u001b[0m             words\u001b[38;5;241m=\u001b[39mline\u001b[38;5;241m.\u001b[39msplit()\n",
      "File \u001b[1;32mc:\\ProgramData\\anaconda3\\Lib\\site-packages\\IPython\\core\\interactiveshell.py:324\u001b[0m, in \u001b[0;36m_modified_open\u001b[1;34m(file, *args, **kwargs)\u001b[0m\n\u001b[0;32m    317\u001b[0m \u001b[38;5;28;01mif\u001b[39;00m file \u001b[38;5;129;01min\u001b[39;00m {\u001b[38;5;241m0\u001b[39m, \u001b[38;5;241m1\u001b[39m, \u001b[38;5;241m2\u001b[39m}:\n\u001b[0;32m    318\u001b[0m     \u001b[38;5;28;01mraise\u001b[39;00m \u001b[38;5;167;01mValueError\u001b[39;00m(\n\u001b[0;32m    319\u001b[0m         \u001b[38;5;124mf\u001b[39m\u001b[38;5;124m\"\u001b[39m\u001b[38;5;124mIPython won\u001b[39m\u001b[38;5;124m'\u001b[39m\u001b[38;5;124mt let you open fd=\u001b[39m\u001b[38;5;132;01m{\u001b[39;00mfile\u001b[38;5;132;01m}\u001b[39;00m\u001b[38;5;124m by default \u001b[39m\u001b[38;5;124m\"\u001b[39m\n\u001b[0;32m    320\u001b[0m         \u001b[38;5;124m\"\u001b[39m\u001b[38;5;124mas it is likely to crash IPython. If you know what you are doing, \u001b[39m\u001b[38;5;124m\"\u001b[39m\n\u001b[0;32m    321\u001b[0m         \u001b[38;5;124m\"\u001b[39m\u001b[38;5;124myou can use builtins\u001b[39m\u001b[38;5;124m'\u001b[39m\u001b[38;5;124m open.\u001b[39m\u001b[38;5;124m\"\u001b[39m\n\u001b[0;32m    322\u001b[0m     )\n\u001b[1;32m--> 324\u001b[0m \u001b[38;5;28;01mreturn\u001b[39;00m io_open(file, \u001b[38;5;241m*\u001b[39margs, \u001b[38;5;241m*\u001b[39m\u001b[38;5;241m*\u001b[39mkwargs)\n",
      "\u001b[1;31mFileNotFoundError\u001b[0m: [Errno 2] No such file or directory: 'hello.txt'"
     ]
    }
   ],
   "source": [
    "### count frequency\n",
    "def count_ferquancy(file_path):\n",
    "    word_count={}\n",
    "    with open(file_path,'r') as file:\n",
    "        for line in file:\n",
    "            words=line.split()\n",
    "            for word in words:\n",
    "                word=word.lower().strip('@!#$%^&*')\n",
    "                word_count[word]=word_count.get(word,0)+1\n",
    "    return word_count\n",
    "\n",
    "file_path = \"hello.txt\"\n",
    "count=count_ferquancy(file_path)\n",
    "print(count)"
   ]
  },
  {
   "cell_type": "code",
   "execution_count": null,
   "id": "c9a4c26c",
   "metadata": {},
   "outputs": [],
   "source": []
  }
 ],
 "metadata": {
  "kernelspec": {
   "display_name": "base",
   "language": "python",
   "name": "python3"
  },
  "language_info": {
   "codemirror_mode": {
    "name": "ipython",
    "version": 3
   },
   "file_extension": ".py",
   "mimetype": "text/x-python",
   "name": "python",
   "nbconvert_exporter": "python",
   "pygments_lexer": "ipython3",
   "version": "3.12.7"
  }
 },
 "nbformat": 4,
 "nbformat_minor": 5
}

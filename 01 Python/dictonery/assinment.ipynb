{
 "cells": [
  {
   "cell_type": "markdown",
   "id": "8444f046",
   "metadata": {},
   "source": [
    "# Module 3: Data Structures Assignments\n",
    "## Lesson 3.4: Dictionaries\n",
    "### Assignment 1: Creating and Accessing Dictionaries\n",
    "\n",
    "Create a dictionary with the first 10 positive integers as keys and their squares as values. Print the dictionary."
   ]
  },
  {
   "cell_type": "code",
   "execution_count": 16,
   "id": "0f350162",
   "metadata": {},
   "outputs": [
    {
     "name": "stdout",
     "output_type": "stream",
     "text": [
      "{1: 1, 2: 4, 3: 9, 4: 16, 5: 25, 6: 36, 7: 49, 8: 64, 9: 81, 10: 100}\n"
     ]
    }
   ],
   "source": [
    "squar = {x:x**2 for x in range(1,11)}\n",
    "print(squar)"
   ]
  },
  {
   "cell_type": "markdown",
   "id": "051ef401",
   "metadata": {},
   "source": [
    "### Assignment 2: Accessing Dictionary Elements\n",
    "\n",
    "Print the value of the key 5 and the keys of the dictionary created in Assignment 1."
   ]
  },
  {
   "cell_type": "code",
   "execution_count": 17,
   "id": "9df80352",
   "metadata": {},
   "outputs": [
    {
     "name": "stdout",
     "output_type": "stream",
     "text": [
      "Value of key 5: 25\n",
      "Keys: [1, 2, 3, 4, 5, 6, 7, 8, 9, 10]\n"
     ]
    }
   ],
   "source": [
    "print(f\"Value of key 5: {squar[5]}\")\n",
    "print(f\"Keys: {list(squar.keys())}\")"
   ]
  },
  {
   "cell_type": "markdown",
   "id": "5a36d6f1",
   "metadata": {},
   "source": [
    "### Assignment 3: Dictionary Methods\n",
    "\n",
    "Add a new key-value pair (11, 121) to the dictionary created in Assignment 1 and then remove the key-value pair with key 1. Print the modified dictionary.\n"
   ]
  },
  {
   "cell_type": "code",
   "execution_count": 19,
   "id": "6ec03b0a",
   "metadata": {},
   "outputs": [
    {
     "name": "stdout",
     "output_type": "stream",
     "text": [
      "{2: 4, 3: 9, 4: 16, 5: 25, 6: 36, 7: 49, 8: 64, 9: 81, 10: 100, 11: 121}\n"
     ]
    }
   ],
   "source": [
    "squar[11]=121\n",
    "squar.pop(1)\n",
    "print(squar)"
   ]
  },
  {
   "cell_type": "markdown",
   "id": "4c1b8629",
   "metadata": {},
   "source": [
    "\n",
    "### Assignment 4: Iterating Over Dictionaries\n",
    "\n",
    "Iterate over the dictionary created in Assignment 1 and print each key-value pair."
   ]
  },
  {
   "cell_type": "code",
   "execution_count": 22,
   "id": "6ddff915",
   "metadata": {},
   "outputs": [
    {
     "name": "stdout",
     "output_type": "stream",
     "text": [
      "2 : 4\n",
      "3 : 9\n",
      "4 : 16\n",
      "5 : 25\n",
      "6 : 36\n",
      "7 : 49\n",
      "8 : 64\n",
      "9 : 81\n",
      "10 : 100\n",
      "11 : 121\n"
     ]
    }
   ],
   "source": [
    "for key ,value in squar.items():\n",
    "    print(f\"{key} : {value}\")"
   ]
  },
  {
   "cell_type": "markdown",
   "id": "ddc00fe6",
   "metadata": {},
   "source": [
    "\n",
    "### Assignment 5: Dictionary Comprehensions\n",
    "\n",
    "Create a new dictionary containing the cubes of the first 10 positive integers using a dictionary comprehension. Print the new dictionary.\n"
   ]
  },
  {
   "cell_type": "code",
   "execution_count": 24,
   "id": "5f65521f",
   "metadata": {},
   "outputs": [
    {
     "name": "stdout",
     "output_type": "stream",
     "text": [
      "cubes: {1: 1, 2: 8, 3: 27, 4: 64, 5: 125, 6: 216, 7: 343, 8: 512, 9: 729, 10: 1000}\n"
     ]
    }
   ],
   "source": [
    "cubes={x:x**3 for x in range(1,11)}\n",
    "print(\"cubes:\",cubes)"
   ]
  },
  {
   "cell_type": "markdown",
   "id": "e17abfc2",
   "metadata": {},
   "source": [
    "### Assignment 6: Merging Dictionaries\n",
    "\n",
    "Create two dictionaries: one with keys as the first 5 positive integers and values as their squares, and another with keys as the next 5 positive integers and values as their squares. Merge these dictionaries into a single dictionary and print it.\n"
   ]
  },
  {
   "cell_type": "code",
   "execution_count": 31,
   "id": "5fdffbc9",
   "metadata": {},
   "outputs": [
    {
     "name": "stdout",
     "output_type": "stream",
     "text": [
      "first dict: {1: 1, 2: 4, 3: 9, 4: 16, 5: 25}\n",
      "secound dict: {6: 36, 7: 49, 8: 64, 9: 81, 10: 100}\n",
      "join two dict: {1: 1, 2: 4, 3: 9, 4: 16, 5: 25, 6: 36, 7: 49, 8: 64, 9: 81, 10: 100, 11: 121}\n"
     ]
    }
   ],
   "source": [
    "one = {x:x**2 for x in range(1,6)}\n",
    "print(\"first dict:\",one)\n",
    "\n",
    "secound = {x:x**2 for x in range(6,11)}\n",
    "print(\"secound dict:\",secound)\n",
    "\n",
    "join = {**one ,**squar}\n",
    "print(\"join two dict:\",join)"
   ]
  },
  {
   "cell_type": "markdown",
   "id": "e02a4c61",
   "metadata": {},
   "source": [
    "### Assignment 7: Nested Dictionaries\n",
    "\n",
    "Create a nested dictionary representing a student with keys 'name', 'age', 'grades', where 'grades' is another dictionary with keys 'math', 'science', and 'english'. Print the nested dictionary."
   ]
  },
  {
   "cell_type": "code",
   "execution_count": 32,
   "id": "d7edc144",
   "metadata": {},
   "outputs": [
    {
     "name": "stdout",
     "output_type": "stream",
     "text": [
      "{'name': 'vithu', 'age': 21, 'grade': {'math': 32, 'science': 90, 'english': 65}}\n"
     ]
    }
   ],
   "source": [
    "nested_dict = {\n",
    "    'name':'vithu',\n",
    "    'age':21,\n",
    "    'grade':{\n",
    "        'math':32,\n",
    "        'science':90,\n",
    "        'english':65\n",
    "    }\n",
    "\n",
    "}\n",
    "print(nested_dict)"
   ]
  },
  {
   "cell_type": "markdown",
   "id": "a4994968",
   "metadata": {},
   "source": [
    "### Assignment 8: Dictionary of Lists\n",
    "\n",
    "Create a dictionary where the keys are the first 5 positive integers and the values are lists containing the first 5 multiples of the key. Print the dictionary."
   ]
  },
  {
   "cell_type": "code",
   "execution_count": 37,
   "id": "8232ba2a",
   "metadata": {},
   "outputs": [
    {
     "name": "stdout",
     "output_type": "stream",
     "text": [
      "{1: [1, 2, 3, 4, 5], 2: [2, 4, 6, 8, 10], 3: [3, 6, 9, 12, 15], 4: [4, 8, 12, 16, 20], 5: [5, 10, 15, 20, 25]}\n"
     ]
    }
   ],
   "source": [
    "multiple = {x: [x*j for j in range(1,6)] for x in range(1,6)}\n",
    "print(multiple)"
   ]
  },
  {
   "cell_type": "markdown",
   "id": "81faf10f",
   "metadata": {},
   "source": [
    "\n",
    "### Assignment 9: Dictionary of Tuples\n",
    "\n",
    "Create a dictionary where the keys are the first 5 positive integers and the values are tuples containing the key and its square. Print the dictionary.\n"
   ]
  },
  {
   "cell_type": "code",
   "execution_count": 40,
   "id": "00735709",
   "metadata": {},
   "outputs": [
    {
     "name": "stdout",
     "output_type": "stream",
     "text": [
      "{2: 4, 3: 9, 4: 16, 5: 25, 6: 36, 7: 49, 8: 64, 9: 81, 10: 100, 11: 121}\n"
     ]
    }
   ],
   "source": [
    "square = {x:(x**2 ) for x in range(1,6)}\n",
    "print(squar)\n"
   ]
  },
  {
   "cell_type": "markdown",
   "id": "83b26ae9",
   "metadata": {},
   "source": [
    "### Assignment 10: Dictionary and List Conversion\n",
    "\n",
    "Create a dictionary with the first 5 positive integers as keys and their squares as values. Convert the dictionary to a list of tuples and print it."
   ]
  },
  {
   "cell_type": "code",
   "execution_count": 48,
   "id": "ec6abae4",
   "metadata": {},
   "outputs": [
    {
     "name": "stdout",
     "output_type": "stream",
     "text": [
      "[(1, 1), (2, 4), (3, 9), (4, 16), (5, 25)]\n"
     ]
    }
   ],
   "source": [
    "squar = {x:x**2 for x in range(1,6)}\n",
    "list_of_tuple = list(squar.items())\n",
    "print(list_of_tuple)\n"
   ]
  },
  {
   "cell_type": "markdown",
   "id": "e2b6f879",
   "metadata": {},
   "source": [
    "### Assignment 11: Dictionary Filtering\n",
    "\n",
    "Create a dictionary with the first 10 positive integers as keys and their squares as values. Create a new dictionary containing only the key-value pairs where the key is even. Print the new dictionary."
   ]
  },
  {
   "cell_type": "code",
   "execution_count": 49,
   "id": "ae7b96fb",
   "metadata": {},
   "outputs": [
    {
     "name": "stdout",
     "output_type": "stream",
     "text": [
      "2 : 4\n",
      "4 : 16\n",
      "6 : 36\n",
      "8 : 64\n",
      "10 : 100\n"
     ]
    }
   ],
   "source": [
    "s = {x:x**2 for x in range(1,11)}\n",
    "for k , v in s.items():\n",
    "    if k % 2 == 0 :\n",
    "        print(f\"{k} : {v}\")"
   ]
  },
  {
   "cell_type": "markdown",
   "id": "d11a7b97",
   "metadata": {},
   "source": [
    "### Assignment 12: Dictionary Key and Value Transformation\n",
    "\n",
    "Create a dictionary with the first 5 positive integers as keys and their squares as values. Create a new dictionary with keys and values swapped. Print the new dictionary."
   ]
  },
  {
   "cell_type": "code",
   "execution_count": 50,
   "id": "b3387882",
   "metadata": {},
   "outputs": [
    {
     "name": "stdout",
     "output_type": "stream",
     "text": [
      "{1: 1, 4: 2, 9: 3, 16: 4, 25: 5}\n"
     ]
    }
   ],
   "source": [
    "sq = {x : x**2 for x in range(1,6)}\n",
    "swapped = {v:k for k ,v in sq.items()}\n",
    "print(swapped)"
   ]
  },
  {
   "cell_type": "markdown",
   "id": "1b0b7b5a",
   "metadata": {},
   "source": [
    "### Assignment 13: Default Dictionary\n",
    "\n",
    "Create a default dictionary where each key has a default value of an empty list. Add some elements to the lists and print the dictionary."
   ]
  },
  {
   "cell_type": "code",
   "execution_count": 53,
   "id": "d32c6d7b",
   "metadata": {},
   "outputs": [
    {
     "name": "stdout",
     "output_type": "stream",
     "text": [
      "defaultdict(<class 'list'>, {'a': [1, 2], 'b': [3, 4]})\n"
     ]
    }
   ],
   "source": [
    "from collections import defaultdict\n",
    "\n",
    "default_dict = defaultdict(list)\n",
    "default_dict['a'].append(1)\n",
    "default_dict['a'].append(2)\n",
    "default_dict['b'].append(3)\n",
    "default_dict['b'].append(4)\n",
    "print(default_dict)\n"
   ]
  },
  {
   "cell_type": "markdown",
   "id": "729e545a",
   "metadata": {},
   "source": [
    "### Assignment 14: Counting with Dictionaries\n",
    "\n",
    "Write a function that takes a string and returns a dictionary with the count of each character in the string. Print the dictionary."
   ]
  },
  {
   "cell_type": "code",
   "execution_count": 59,
   "id": "75646495",
   "metadata": {},
   "outputs": [
    {
     "name": "stdout",
     "output_type": "stream",
     "text": [
      "{'h': 2, 'e': 1, 'l': 2, 'o': 1, ' ': 3, 'i': 2, 'a': 1, 'm': 1, 'v': 1, 't': 1, 'u': 1}\n"
     ]
    }
   ],
   "source": [
    "def str_count(s):\n",
    "    dect_cound = {}\n",
    "    for char in s:\n",
    "       dect_cound[char]=dect_cound.get(char,0)+1\n",
    "    return dect_cound\n",
    "\n",
    "string = \"hello i am vithu\"\n",
    "print(str_count(string))"
   ]
  },
  {
   "cell_type": "markdown",
   "id": "71fa2bdf",
   "metadata": {},
   "source": [
    "### Assignment 15: Dictionary and JSON\n",
    "\n",
    "Create a dictionary representing a book with keys 'title', 'author', 'year', and 'genre'. Convert the dictionary to a JSON string and print it."
   ]
  },
  {
   "cell_type": "code",
   "execution_count": 61,
   "id": "6b9d2dbd",
   "metadata": {},
   "outputs": [
    {
     "name": "stdout",
     "output_type": "stream",
     "text": [
      "{\"title\": \"goles\", \"year\": 2024, \"genre\": \"ficton\"}\n",
      "{'title': 'goles', 'year': 2024, 'genre': 'ficton'}\n"
     ]
    }
   ],
   "source": [
    "import json\n",
    "book = {\n",
    "      'title':'goles',\n",
    "      'year': 2024,\n",
    "      'genre':'ficton'\n",
    "}\n",
    "book_json = json.dumps(book)\n",
    "print(book_json)\n",
    "print(book)"
   ]
  }
 ],
 "metadata": {
  "kernelspec": {
   "display_name": "base",
   "language": "python",
   "name": "python3"
  },
  "language_info": {
   "codemirror_mode": {
    "name": "ipython",
    "version": 3
   },
   "file_extension": ".py",
   "mimetype": "text/x-python",
   "name": "python",
   "nbconvert_exporter": "python",
   "pygments_lexer": "ipython3",
   "version": "3.12.7"
  }
 },
 "nbformat": 4,
 "nbformat_minor": 5
}

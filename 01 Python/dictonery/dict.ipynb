{
 "cells": [
  {
   "cell_type": "markdown",
   "id": "a5203f7e",
   "metadata": {},
   "source": [
    "## dictionaries"
   ]
  },
  {
   "cell_type": "code",
   "execution_count": 1,
   "id": "4fa60dd5",
   "metadata": {},
   "outputs": [
    {
     "name": "stdout",
     "output_type": "stream",
     "text": [
      "<class 'dict'>\n"
     ]
    }
   ],
   "source": [
    "empty_dict={}\n",
    "print(type(empty_dict))"
   ]
  },
  {
   "cell_type": "code",
   "execution_count": 6,
   "id": "974ef63b",
   "metadata": {},
   "outputs": [
    {
     "name": "stdout",
     "output_type": "stream",
     "text": [
      "<class 'set'>\n"
     ]
    }
   ],
   "source": [
    "empty_set=set()\n",
    "print(type(empty_set))"
   ]
  },
  {
   "cell_type": "code",
   "execution_count": 19,
   "id": "9c8fc2f3",
   "metadata": {},
   "outputs": [
    {
     "name": "stdout",
     "output_type": "stream",
     "text": [
      "{'name': 'vithu', 'age': 21, 'grade': 'A'}\n",
      "<class 'dict'>\n"
     ]
    }
   ],
   "source": [
    "my_self={\"name\":\"vithu\",\"age\":21,\"grade\":'A'}\n",
    "print(my_self)\n",
    "print(type(my_self))"
   ]
  },
  {
   "cell_type": "code",
   "execution_count": 4,
   "id": "15628cd9",
   "metadata": {},
   "outputs": [
    {
     "name": "stdout",
     "output_type": "stream",
     "text": [
      "{'name': 'lalaa'}\n"
     ]
    }
   ],
   "source": [
    "student={\"name\":\"nama\",\"name\":\"jaka\",\"name\":\"lalaa\"}\n",
    "print(student)"
   ]
  },
  {
   "cell_type": "code",
   "execution_count": 20,
   "id": "5776a0d3",
   "metadata": {},
   "outputs": [
    {
     "name": "stdout",
     "output_type": "stream",
     "text": [
      "vithu\n",
      "21\n",
      "A\n"
     ]
    }
   ],
   "source": [
    "print(my_self[\"name\"])\n",
    "print(my_self['age'])\n",
    "print(my_self['grade'])"
   ]
  },
  {
   "cell_type": "code",
   "execution_count": 11,
   "id": "2e25d68c",
   "metadata": {},
   "outputs": [
    {
     "name": "stdout",
     "output_type": "stream",
     "text": [
      "vithu\n",
      "vithu\n",
      "None\n",
      "Not Availble\n"
     ]
    }
   ],
   "source": [
    "my_self={\"name\":\"vithu\",\"age\":21,\"grade\":'A'}\n",
    "print(my_self['name'])\n",
    "print(my_self.get('name'))\n",
    "print(my_self.get('height'))\n",
    "print(my_self.get('weight',\"Not Availble\"))\n",
    " "
   ]
  },
  {
   "cell_type": "code",
   "execution_count": 33,
   "id": "87fff963",
   "metadata": {},
   "outputs": [
    {
     "name": "stdout",
     "output_type": "stream",
     "text": [
      "{'name': 'vithu', 'age': 21, 'grade': 'A'}\n"
     ]
    }
   ],
   "source": [
    "##Modifying 4dictonary Elements\n",
    "## Dictionary are mutuble,so you can add,update or delete elements\n",
    "print(my_self)"
   ]
  },
  {
   "cell_type": "code",
   "execution_count": null,
   "id": "9d6cd93e",
   "metadata": {},
   "outputs": [
    {
     "name": "stdout",
     "output_type": "stream",
     "text": [
      "{'name': 'vithu', 'age': 32, 'grade': 'A'}\n",
      "{'name': 'vithu', 'age': 32, 'grade': 'A', 'address': 'srilanka'}\n"
     ]
    }
   ],
   "source": [
    "my_self[\"age\"]=32 ## add the elements\n",
    "print(my_self)\n",
    "my_self[\"address\"]=\"srilanka\"\n",
    "print(my_self)"
   ]
  },
  {
   "cell_type": "code",
   "execution_count": null,
   "id": "ef65c844",
   "metadata": {},
   "outputs": [
    {
     "name": "stdout",
     "output_type": "stream",
     "text": [
      "{'name': 'vithu', 'grade': 'A', 'address': 'srilanka'}\n"
     ]
    }
   ],
   "source": [
    "del my_self[\"age\"]## delete the value\n",
    "print(my_self)"
   ]
  },
  {
   "cell_type": "code",
   "execution_count": 40,
   "id": "5ed0fb61",
   "metadata": {},
   "outputs": [
    {
     "name": "stdout",
     "output_type": "stream",
     "text": [
      "dict_keys(['name', 'grade', 'address'])\n",
      "dict_values(['vithu', 'A', 'srilanka'])\n",
      "dict_items([('name', 'vithu'), ('grade', 'A'), ('address', 'srilanka')])\n"
     ]
    }
   ],
   "source": [
    "## dictionary method\n",
    "\n",
    "key=my_self.keys() ## print keys \n",
    "print(key)\n",
    "\n",
    "values=my_self.values() ## print values\n",
    "print(values)\n",
    "\n",
    "items=my_self.items() ## get all key values pairs\n",
    "print(items)"
   ]
  },
  {
   "cell_type": "code",
   "execution_count": 44,
   "id": "3cdcc8f0",
   "metadata": {},
   "outputs": [
    {
     "name": "stdout",
     "output_type": "stream",
     "text": [
      "{'name': 'mathu', 'grade': 'A', 'address': 'srilanka'}\n",
      "{'name': 'mathu', 'grade': 'A', 'address': 'srilanka'}\n"
     ]
    }
   ],
   "source": [
    "## copy the sets values\n",
    "\n",
    "my_detials=my_self\n",
    "print(my_self)\n",
    "print(my_detials)"
   ]
  },
  {
   "cell_type": "code",
   "execution_count": 42,
   "id": "bfb2790c",
   "metadata": {},
   "outputs": [
    {
     "name": "stdout",
     "output_type": "stream",
     "text": [
      "{'name': 'mathu', 'grade': 'A', 'address': 'srilanka'}\n",
      "{'name': 'mathu', 'grade': 'A', 'address': 'srilanka'}\n"
     ]
    }
   ],
   "source": [
    "my_self[\"name\"]=\"mathu\"\n",
    "print(my_self)\n",
    "print(my_detials)"
   ]
  },
  {
   "cell_type": "code",
   "execution_count": 45,
   "id": "2bacb7db",
   "metadata": {},
   "outputs": [
    {
     "name": "stdout",
     "output_type": "stream",
     "text": [
      "{'name': 'mathu', 'grade': 'A', 'address': 'srilanka'}\n",
      "{'name': 'mathu', 'grade': 'A', 'address': 'srilanka'}\n"
     ]
    }
   ],
   "source": [
    "my_self1=my_self.copy() ## shallow copy\n",
    "print(my_self1)\n",
    "print(my_self)\n"
   ]
  },
  {
   "cell_type": "code",
   "execution_count": 46,
   "id": "27d80eac",
   "metadata": {},
   "outputs": [
    {
     "name": "stdout",
     "output_type": "stream",
     "text": [
      "{'name': 'kala', 'grade': 'A', 'address': 'srilanka'}\n",
      "{'name': 'mathu', 'grade': 'A', 'address': 'srilanka'}\n",
      "{'name': 'kala', 'grade': 'A', 'address': 'srilanka'}\n"
     ]
    }
   ],
   "source": [
    "my_self[\"name\"]=\"kala\"\n",
    "print(my_self)\n",
    "print(my_self1)\n",
    "print(my_detials)"
   ]
  },
  {
   "cell_type": "code",
   "execution_count": 49,
   "id": "49ddd9ad",
   "metadata": {},
   "outputs": [
    {
     "name": "stdout",
     "output_type": "stream",
     "text": [
      "keys of the set\n",
      "name\n",
      "grade\n",
      "address\n"
     ]
    }
   ],
   "source": [
    "## iterating over dictionaries\n",
    "## you can use loop to over dictionatries,key,values,or items\n",
    "\n",
    "## iterating over keys\n",
    "print(\"keys of the set\")\n",
    "for keys in my_self.keys():\n",
    "    print(keys)\n"
   ]
  },
  {
   "cell_type": "code",
   "execution_count": 50,
   "id": "75a2ed46",
   "metadata": {},
   "outputs": [
    {
     "name": "stdout",
     "output_type": "stream",
     "text": [
      "values of the sets\n",
      "kala\n",
      "A\n",
      "srilanka\n"
     ]
    }
   ],
   "source": [
    "print(\"values of the sets\")\n",
    "for value in my_self.values():\n",
    "    print(value)"
   ]
  },
  {
   "cell_type": "code",
   "execution_count": 51,
   "id": "999ac144",
   "metadata": {},
   "outputs": [
    {
     "name": "stdout",
     "output_type": "stream",
     "text": [
      "keys:name,value:kala\n",
      "keys:grade,value:A\n",
      "keys:address,value:srilanka\n"
     ]
    }
   ],
   "source": [
    "##iterating over key value pairs\n",
    "for key,value in my_self.items():\n",
    "    print(f\"keys:{key},value:{value}\")"
   ]
  },
  {
   "cell_type": "code",
   "execution_count": 1,
   "id": "c6498e21",
   "metadata": {},
   "outputs": [
    {
     "name": "stdout",
     "output_type": "stream",
     "text": [
      "<class 'dict'>\n"
     ]
    }
   ],
   "source": [
    "d = dict()\n",
    "print(type(d))"
   ]
  },
  {
   "cell_type": "code",
   "execution_count": 3,
   "id": "4b02eb0d",
   "metadata": {},
   "outputs": [
    {
     "name": "stdout",
     "output_type": "stream",
     "text": [
      "{1, 2, 3, 4, 5}\n"
     ]
    }
   ],
   "source": [
    "d = set(range(1,6))\n",
    "print(d)"
   ]
  },
  {
   "cell_type": "code",
   "execution_count": 13,
   "id": "3e46093a",
   "metadata": {},
   "outputs": [
    {
     "name": "stdout",
     "output_type": "stream",
     "text": [
      "{'name': 'vithu', 'age': 21, 'no': 7484}\n",
      "21\n",
      "vithu\n",
      "dict_keys(['name', 'age', 'no'])\n",
      "dict_values(['vithu', 21, 7484])\n",
      "vithu\n",
      "{'n': 'vithu', 'a': 'vithu', 'm': 'vithu', 'e': 'vithu'}\n"
     ]
    }
   ],
   "source": [
    "dic = {'name':'vithu','age':21,'no':7484}\n",
    "print(dic)\n",
    "print(dic['age'])\n",
    "print(dic['name'])\n",
    "print(dic.keys())\n",
    "print(dic.values())\n",
    "print(dic.get('name')) ## don't print error\n",
    "print(dic.fromkeys('name','vithu'))\n"
   ]
  },
  {
   "cell_type": "code",
   "execution_count": 14,
   "id": "155b05ce",
   "metadata": {},
   "outputs": [
    {
     "name": "stdout",
     "output_type": "stream",
     "text": [
      "not Available\n",
      "vithu\n",
      "None\n"
     ]
    }
   ],
   "source": [
    "print(dic.get('address','not Available'))\n",
    "print(dic.get('name'))\n",
    "print(dic.get('phone'))"
   ]
  },
  {
   "cell_type": "code",
   "execution_count": null,
   "id": "0d27dbc0",
   "metadata": {},
   "outputs": [
    {
     "name": "stdout",
     "output_type": "stream",
     "text": [
      "{'name': 'vithu', 'age': 21, 'weight': 50, 'address': 'srilanka', 'phone no:': 34048432}\n"
     ]
    }
   ],
   "source": [
    "s = {\"name\":\"vithu\",\"age\":21,\"weight\":50}\n",
    "s [\"address\"]=\"srilanka\"\n",
    "s [\"phone no:\"] = 34048432\n",
    "print(s)\n"
   ]
  },
  {
   "cell_type": "code",
   "execution_count": 11,
   "id": "8d85ac35",
   "metadata": {},
   "outputs": [
    {
     "name": "stdout",
     "output_type": "stream",
     "text": [
      "{'name': 'vithu', 'age': 21, 'address': 'srilanka', 'phone no:': 34048432}\n"
     ]
    }
   ],
   "source": [
    "del s[\"weight\"]\n",
    "print(s)"
   ]
  },
  {
   "cell_type": "code",
   "execution_count": 13,
   "id": "cd2e1a8c",
   "metadata": {},
   "outputs": [
    {
     "name": "stdout",
     "output_type": "stream",
     "text": [
      "dict_keys(['name', 'age', 'address', 'phone no:'])\n",
      "dict_values(['vithu', 21, 'srilanka', 34048432])\n",
      "dict_items([('name', 'vithu'), ('age', 21), ('address', 'srilanka'), ('phone no:', 34048432)])\n"
     ]
    }
   ],
   "source": [
    "key=s.keys()\n",
    "print(key)\n",
    "value=s.values()\n",
    "print(value)\n",
    "\n",
    "item = s.items()\n",
    "print(item)"
   ]
  },
  {
   "cell_type": "code",
   "execution_count": 17,
   "id": "6c05b4b1",
   "metadata": {},
   "outputs": [
    {
     "name": "stdout",
     "output_type": "stream",
     "text": [
      "{'name': 'vithu', 'age': 21, 'weight': 50, 'address': 'srilanka', 'phone no:': 34048432}\n"
     ]
    }
   ],
   "source": [
    "\n",
    "s = {\"name\":\"vithu\",\"age\":21,\"weight\":50}\n",
    "s [\"address\"]=\"srilanka\"\n",
    "s [\"phone no:\"] = 34048432\n",
    "print(s)\n"
   ]
  },
  {
   "cell_type": "code",
   "execution_count": 19,
   "id": "dffbe515",
   "metadata": {},
   "outputs": [
    {
     "name": "stdout",
     "output_type": "stream",
     "text": [
      "{'name': 'vithu', 'age': 21, 'weight': 50, 'address': 'srilanka', 'phone no:': 34048432}\n",
      "{'name': 'vithu', 'age': 21, 'weight': 50, 'address': 'srilanka', 'phone no:': 34048432, 'nickname': 'thusha'}\n",
      "{'name': 'vithu', 'age': 21, 'weight': 50, 'address': 'srilanka', 'phone no:': 34048432, 'nickname': 'thusha'}\n"
     ]
    }
   ],
   "source": [
    "s2 = s\n",
    "print(s2)\n",
    "s [\"nickname\"]=\"thusha\"\n",
    "print(s2)\n",
    "print(s)\n"
   ]
  },
  {
   "cell_type": "code",
   "execution_count": 23,
   "id": "14c6eaee",
   "metadata": {},
   "outputs": [
    {
     "name": "stdout",
     "output_type": "stream",
     "text": [
      "{'name': 'vithu', 'age': 21, 'weight': 50, 'address': 'srilanka', 'phone no:': 34048432, 'nickname': 'thusha', 'pet': 'dog'}\n",
      "{'name': 'vithu', 'age': 21, 'weight': 50, 'address': 'srilanka', 'phone no:': 34048432, 'nickname': 'thusha', 'pet': 'dog'}\n",
      "{'name': 'vithu', 'age': 21, 'weight': 50, 'address': 'srilanka', 'phone no:': 34048432, 'nickname': 'thusha', 'pet': 'dog'}\n",
      "{'name': 'vithu', 'age': 21, 'weight': 50, 'address': 'srilanka', 'phone no:': 34048432, 'nickname': 'thusha', 'pet': 'dog'}\n"
     ]
    }
   ],
   "source": [
    "s3 = s.copy()\n",
    "print(s3)\n",
    "s[\"pet\"]=\"dog\"\n",
    "print(s3)\n",
    "print(s)\n",
    "print(s2)\n"
   ]
  },
  {
   "cell_type": "code",
   "execution_count": 26,
   "id": "661be629",
   "metadata": {},
   "outputs": [
    {
     "name": "stdout",
     "output_type": "stream",
     "text": [
      "name\n",
      "age\n",
      "weight\n",
      "address\n",
      "phone no:\n",
      "nickname\n",
      "pet\n",
      "vithu\n",
      "21\n",
      "50\n",
      "srilanka\n",
      "34048432\n",
      "thusha\n",
      "dog\n",
      "name:vithu\n",
      "age:21\n",
      "weight:50\n",
      "address:srilanka\n",
      "phone no::34048432\n",
      "nickname:thusha\n",
      "pet:dog\n"
     ]
    }
   ],
   "source": [
    "## iterating over keys\n",
    "for key in s.keys():\n",
    "    print(key)\n",
    "\n",
    "## iterating over values\n",
    "for value in s.values():\n",
    "    print(value)\n",
    "\n",
    "##iterating over key value pairs\n",
    "for key ,value in s.items():\n",
    "    print(f\"{key}:{value}\")"
   ]
  },
  {
   "cell_type": "code",
   "execution_count": null,
   "id": "b83ee8aa",
   "metadata": {},
   "outputs": [
    {
     "name": "stdout",
     "output_type": "stream",
     "text": [
      "{'name': 'vithu', 'age': 21}\n",
      "nama\n",
      "23\n"
     ]
    }
   ],
   "source": [
    "##nested dictonary\n",
    "student = {\n",
    "    \"student1\" :{\"name\":\"vithu\",\"age\":21},\n",
    "    \"student2\" :{\"name\":\"nama\",\"age\":22},\n",
    "    \"student3\" :{\"name\":\"jaka\",\"age\":23} \n",
    "    }\n",
    "print(student[\"student1\"])\n",
    "print(student[\"student2\"][\"name\"])\n",
    "print(student[\"student3\"][\"age\"])"
   ]
  },
  {
   "cell_type": "code",
   "execution_count": 33,
   "id": "7a42ac49",
   "metadata": {},
   "outputs": [
    {
     "name": "stdout",
     "output_type": "stream",
     "text": [
      "dict_items([('student1', {'name': 'vithu', 'age': 21}), ('student2', {'name': 'nama', 'age': 22}), ('student3', {'name': 'jaka', 'age': 23})])\n"
     ]
    }
   ],
   "source": [
    "stu = student.items()\n",
    "print(stu)"
   ]
  },
  {
   "cell_type": "code",
   "execution_count": 18,
   "id": "9fcad53e",
   "metadata": {},
   "outputs": [
    {
     "name": "stdout",
     "output_type": "stream",
     "text": [
      "name:lalaa\n"
     ]
    },
    {
     "ename": "AttributeError",
     "evalue": "'str' object has no attribute 'items'",
     "output_type": "error",
     "traceback": [
      "\u001b[1;31m---------------------------------------------------------------------------\u001b[0m",
      "\u001b[1;31mAttributeError\u001b[0m                            Traceback (most recent call last)",
      "Cell \u001b[1;32mIn[18], line 3\u001b[0m\n\u001b[0;32m      1\u001b[0m \u001b[38;5;28;01mfor\u001b[39;00m k , v \u001b[38;5;129;01min\u001b[39;00m student\u001b[38;5;241m.\u001b[39mitems():\n\u001b[0;32m      2\u001b[0m     \u001b[38;5;28mprint\u001b[39m(\u001b[38;5;124mf\u001b[39m\u001b[38;5;124m\"\u001b[39m\u001b[38;5;132;01m{\u001b[39;00mk\u001b[38;5;132;01m}\u001b[39;00m\u001b[38;5;124m:\u001b[39m\u001b[38;5;132;01m{\u001b[39;00mv\u001b[38;5;132;01m}\u001b[39;00m\u001b[38;5;124m\"\u001b[39m)\n\u001b[1;32m----> 3\u001b[0m     \u001b[38;5;28;01mfor\u001b[39;00m ke,va \u001b[38;5;129;01min\u001b[39;00m v\u001b[38;5;241m.\u001b[39mitems():\n\u001b[0;32m      4\u001b[0m         \u001b[38;5;28mprint\u001b[39m(\u001b[38;5;124mf\u001b[39m\u001b[38;5;124m\"\u001b[39m\u001b[38;5;132;01m{\u001b[39;00mke\u001b[38;5;132;01m}\u001b[39;00m\u001b[38;5;124m:\u001b[39m\u001b[38;5;132;01m{\u001b[39;00mva\u001b[38;5;132;01m}\u001b[39;00m\u001b[38;5;124m\"\u001b[39m)\n",
      "\u001b[1;31mAttributeError\u001b[0m: 'str' object has no attribute 'items'"
     ]
    }
   ],
   "source": [
    "for k , v in student.items():\n",
    "    print(f\"{k}:{v}\")\n",
    "    for ke,va in v.items():\n",
    "        print(f\"{ke}:{va}\")"
   ]
  },
  {
   "cell_type": "code",
   "execution_count": 20,
   "id": "78473add",
   "metadata": {},
   "outputs": [
    {
     "name": "stdout",
     "output_type": "stream",
     "text": [
      "{0: 0, 1: 1, 2: 4, 3: 9, 4: 16, 5: 25}\n"
     ]
    }
   ],
   "source": [
    "s = {x:x**2 for x in range (6)}\n",
    "print(s)"
   ]
  },
  {
   "cell_type": "code",
   "execution_count": 40,
   "id": "41e7eacc",
   "metadata": {},
   "outputs": [
    {
     "name": "stdout",
     "output_type": "stream",
     "text": [
      "{0: 0, 1: 1, 2: 4, 3: 9, 4: 16}\n"
     ]
    }
   ],
   "source": [
    "## dict comphrehension\n",
    "squares = {x:x**2 for x in range(5)}\n",
    "print(squares)"
   ]
  },
  {
   "cell_type": "code",
   "execution_count": 42,
   "id": "a49cd8e1",
   "metadata": {},
   "outputs": [
    {
     "name": "stdout",
     "output_type": "stream",
     "text": [
      "{0: 0, 2: 4, 4: 16, 6: 36, 8: 64}\n"
     ]
    }
   ],
   "source": [
    "##condinal dict comprehension\n",
    "even_squares = {x:x**2 for x in range(10) if x%2==0}\n",
    "print(even_squares)"
   ]
  },
  {
   "cell_type": "code",
   "execution_count": 21,
   "id": "acb7a6e6",
   "metadata": {},
   "outputs": [
    {
     "name": "stdout",
     "output_type": "stream",
     "text": [
      "{1: 4, 2: 3, 3: 3, 4: 3, 5: 3, 6: 2, 7: 2, 8: 2, 9: 2}\n"
     ]
    }
   ],
   "source": [
    "numbers = [1,1,2,3,4,5,6,7,8,9,1,2,3,4,5,6,7,8,9,1,2,3,4,5]\n",
    "frequance = { }\n",
    "for num in numbers:\n",
    "    if num in frequance:\n",
    "        frequance[num] +=1\n",
    "    else:\n",
    "        frequance[num]=1\n",
    "print(frequance)"
   ]
  },
  {
   "cell_type": "code",
   "execution_count": 50,
   "id": "0c8e44ef",
   "metadata": {},
   "outputs": [
    {
     "name": "stdout",
     "output_type": "stream",
     "text": [
      "{'a': 1, 'b': 3, 'd': 4}\n"
     ]
    }
   ],
   "source": [
    "## merch dict\n",
    "dic1={\"a\":1,\"b\":5}\n",
    "dic2={\"b\":3,\"d\":4}\n",
    "dic3={**dic1,**dic2}\n",
    "print(dic3)"
   ]
  },
  {
   "cell_type": "code",
   "execution_count": 23,
   "id": "e554fbe3",
   "metadata": {},
   "outputs": [
    {
     "name": "stdout",
     "output_type": "stream",
     "text": [
      "{1: 4, 2: 3, 3: 3, 4: 3, 5: 3, 6: 2, 7: 2, 8: 2, 9: 2}\n"
     ]
    }
   ],
   "source": [
    "numbers = [1,1,2,3,4,5,6,7,8,9,1,2,3,4,5,6,7,8,9,1,2,3,4,5]\n",
    "frequance={}\n",
    "for num in numbers:\n",
    "    if num in frequance:\n",
    "        frequance[num] +=1\n",
    "    else:\n",
    "        frequance[num]=1\n",
    "print(frequance)"
   ]
  },
  {
   "cell_type": "code",
   "execution_count": 28,
   "id": "cd941d25",
   "metadata": {},
   "outputs": [
    {
     "name": "stdout",
     "output_type": "stream",
     "text": [
      "{'a': 1, 'b': 3, 'd': 4}\n"
     ]
    }
   ],
   "source": [
    "dic1={\"a\":1,\"b\":5}\n",
    "dic2={\"b\":3,\"d\":4}\n",
    "padd = ({**dic1,**dic2})\n",
    "print(padd)"
   ]
  },
  {
   "cell_type": "code",
   "execution_count": 27,
   "id": "a30de076",
   "metadata": {},
   "outputs": [
    {
     "name": "stdout",
     "output_type": "stream",
     "text": [
      "None\n",
      "{'a': 1, 'b': 4}\n"
     ]
    }
   ],
   "source": [
    "x = dic1.update({\"b\":4})\n",
    "print(x)\n",
    "print(dic1)"
   ]
  },
  {
   "cell_type": "code",
   "execution_count": null,
   "id": "d9719b17",
   "metadata": {},
   "outputs": [],
   "source": []
  }
 ],
 "metadata": {
  "kernelspec": {
   "display_name": "base",
   "language": "python",
   "name": "python3"
  },
  "language_info": {
   "codemirror_mode": {
    "name": "ipython",
    "version": 3
   },
   "file_extension": ".py",
   "mimetype": "text/x-python",
   "name": "python",
   "nbconvert_exporter": "python",
   "pygments_lexer": "ipython3",
   "version": "3.12.7"
  }
 },
 "nbformat": 4,
 "nbformat_minor": 5
}

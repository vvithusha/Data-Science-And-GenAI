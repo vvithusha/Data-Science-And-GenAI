{
 "cells": [
  {
   "cell_type": "markdown",
   "id": "a5203f7e",
   "metadata": {},
   "source": [
    "## dictionaries"
   ]
  },
  {
   "cell_type": "code",
   "execution_count": 1,
   "id": "4fa60dd5",
   "metadata": {},
   "outputs": [
    {
     "name": "stdout",
     "output_type": "stream",
     "text": [
      "<class 'dict'>\n"
     ]
    }
   ],
   "source": [
    "empty_dict={}\n",
    "print(type(empty_dict))"
   ]
  },
  {
   "cell_type": "code",
   "execution_count": 6,
   "id": "974ef63b",
   "metadata": {},
   "outputs": [
    {
     "name": "stdout",
     "output_type": "stream",
     "text": [
      "<class 'set'>\n"
     ]
    }
   ],
   "source": [
    "empty_set=set()\n",
    "print(type(empty_set))"
   ]
  },
  {
   "cell_type": "code",
   "execution_count": 19,
   "id": "9c8fc2f3",
   "metadata": {},
   "outputs": [
    {
     "name": "stdout",
     "output_type": "stream",
     "text": [
      "{'name': 'vithu', 'age': 21, 'grade': 'A'}\n",
      "<class 'dict'>\n"
     ]
    }
   ],
   "source": [
    "my_self={\"name\":\"vithu\",\"age\":21,\"grade\":'A'}\n",
    "print(my_self)\n",
    "print(type(my_self))"
   ]
  },
  {
   "cell_type": "code",
   "execution_count": 11,
   "id": "15628cd9",
   "metadata": {},
   "outputs": [
    {
     "name": "stdout",
     "output_type": "stream",
     "text": [
      "{'name': 'lalaa'}\n"
     ]
    }
   ],
   "source": [
    "student={\"name\":\"nama\",\"name\":\"jaka\",\"name\":\"lalaa\"}\n",
    "print(student)"
   ]
  },
  {
   "cell_type": "code",
   "execution_count": 20,
   "id": "5776a0d3",
   "metadata": {},
   "outputs": [
    {
     "name": "stdout",
     "output_type": "stream",
     "text": [
      "vithu\n",
      "21\n",
      "A\n"
     ]
    }
   ],
   "source": [
    "print(my_self[\"name\"])\n",
    "print(my_self['age'])\n",
    "print(my_self['grade'])"
   ]
  },
  {
   "cell_type": "code",
   "execution_count": 31,
   "id": "2e25d68c",
   "metadata": {},
   "outputs": [
    {
     "name": "stdout",
     "output_type": "stream",
     "text": [
      "vithu\n",
      "vithu\n",
      "None\n",
      "Not Availble\n"
     ]
    }
   ],
   "source": [
    "print(my_self['name'])\n",
    "print(my_self.get('name'))\n",
    "print(my_self.get('height'))\n",
    "print(my_self.get('weight',\"Not Availble\"))\n",
    " "
   ]
  },
  {
   "cell_type": "code",
   "execution_count": 33,
   "id": "87fff963",
   "metadata": {},
   "outputs": [
    {
     "name": "stdout",
     "output_type": "stream",
     "text": [
      "{'name': 'vithu', 'age': 21, 'grade': 'A'}\n"
     ]
    }
   ],
   "source": [
    "##Modifying 4dictonary Elements\n",
    "## Dictionary are mutuble,so you can add,update or delete elements\n",
    "print(my_self)"
   ]
  },
  {
   "cell_type": "code",
   "execution_count": null,
   "id": "9d6cd93e",
   "metadata": {},
   "outputs": [
    {
     "name": "stdout",
     "output_type": "stream",
     "text": [
      "{'name': 'vithu', 'age': 32, 'grade': 'A'}\n",
      "{'name': 'vithu', 'age': 32, 'grade': 'A', 'address': 'srilanka'}\n"
     ]
    }
   ],
   "source": [
    "my_self[\"age\"]=32 ## add the elements\n",
    "print(my_self)\n",
    "my_self[\"address\"]=\"srilanka\"\n",
    "print(my_self)"
   ]
  },
  {
   "cell_type": "code",
   "execution_count": null,
   "id": "ef65c844",
   "metadata": {},
   "outputs": [
    {
     "name": "stdout",
     "output_type": "stream",
     "text": [
      "{'name': 'vithu', 'grade': 'A', 'address': 'srilanka'}\n"
     ]
    }
   ],
   "source": [
    "del my_self[\"age\"]## delete the value\n",
    "print(my_self)"
   ]
  },
  {
   "cell_type": "code",
   "execution_count": 40,
   "id": "5ed0fb61",
   "metadata": {},
   "outputs": [
    {
     "name": "stdout",
     "output_type": "stream",
     "text": [
      "dict_keys(['name', 'grade', 'address'])\n",
      "dict_values(['vithu', 'A', 'srilanka'])\n",
      "dict_items([('name', 'vithu'), ('grade', 'A'), ('address', 'srilanka')])\n"
     ]
    }
   ],
   "source": [
    "## dictionary method\n",
    "\n",
    "key=my_self.keys() ## print keys \n",
    "print(key)\n",
    "\n",
    "values=my_self.values() ## print values\n",
    "print(values)\n",
    "\n",
    "items=my_self.items() ## get all key values pairs\n",
    "print(items)"
   ]
  },
  {
   "cell_type": "code",
   "execution_count": 44,
   "id": "3cdcc8f0",
   "metadata": {},
   "outputs": [
    {
     "name": "stdout",
     "output_type": "stream",
     "text": [
      "{'name': 'mathu', 'grade': 'A', 'address': 'srilanka'}\n",
      "{'name': 'mathu', 'grade': 'A', 'address': 'srilanka'}\n"
     ]
    }
   ],
   "source": [
    "## copy the sets values\n",
    "\n",
    "my_detials=my_self\n",
    "print(my_self)\n",
    "print(my_detials)"
   ]
  },
  {
   "cell_type": "code",
   "execution_count": 42,
   "id": "bfb2790c",
   "metadata": {},
   "outputs": [
    {
     "name": "stdout",
     "output_type": "stream",
     "text": [
      "{'name': 'mathu', 'grade': 'A', 'address': 'srilanka'}\n",
      "{'name': 'mathu', 'grade': 'A', 'address': 'srilanka'}\n"
     ]
    }
   ],
   "source": [
    "my_self[\"name\"]=\"mathu\"\n",
    "print(my_self)\n",
    "print(my_detials)"
   ]
  },
  {
   "cell_type": "code",
   "execution_count": 45,
   "id": "2bacb7db",
   "metadata": {},
   "outputs": [
    {
     "name": "stdout",
     "output_type": "stream",
     "text": [
      "{'name': 'mathu', 'grade': 'A', 'address': 'srilanka'}\n",
      "{'name': 'mathu', 'grade': 'A', 'address': 'srilanka'}\n"
     ]
    }
   ],
   "source": [
    "my_self1=my_self.copy() ## shallow copy\n",
    "print(my_self1)\n",
    "print(my_self)\n"
   ]
  },
  {
   "cell_type": "code",
   "execution_count": 46,
   "id": "27d80eac",
   "metadata": {},
   "outputs": [
    {
     "name": "stdout",
     "output_type": "stream",
     "text": [
      "{'name': 'kala', 'grade': 'A', 'address': 'srilanka'}\n",
      "{'name': 'mathu', 'grade': 'A', 'address': 'srilanka'}\n",
      "{'name': 'kala', 'grade': 'A', 'address': 'srilanka'}\n"
     ]
    }
   ],
   "source": [
    "my_self[\"name\"]=\"kala\"\n",
    "print(my_self)\n",
    "print(my_self1)\n",
    "print(my_detials)"
   ]
  },
  {
   "cell_type": "code",
   "execution_count": 49,
   "id": "49ddd9ad",
   "metadata": {},
   "outputs": [
    {
     "name": "stdout",
     "output_type": "stream",
     "text": [
      "keys of the set\n",
      "name\n",
      "grade\n",
      "address\n"
     ]
    }
   ],
   "source": [
    "## iterating over dictionaries\n",
    "## you can use loop to over dictionatries,key,values,or items\n",
    "\n",
    "## iterating over keys\n",
    "print(\"keys of the set\")\n",
    "for keys in my_self.keys():\n",
    "    print(keys)\n"
   ]
  },
  {
   "cell_type": "code",
   "execution_count": 50,
   "id": "75a2ed46",
   "metadata": {},
   "outputs": [
    {
     "name": "stdout",
     "output_type": "stream",
     "text": [
      "values of the sets\n",
      "kala\n",
      "A\n",
      "srilanka\n"
     ]
    }
   ],
   "source": [
    "print(\"values of the sets\")\n",
    "for value in my_self.values():\n",
    "    print(value)"
   ]
  },
  {
   "cell_type": "code",
   "execution_count": 51,
   "id": "999ac144",
   "metadata": {},
   "outputs": [
    {
     "name": "stdout",
     "output_type": "stream",
     "text": [
      "keys:name,value:kala\n",
      "keys:grade,value:A\n",
      "keys:address,value:srilanka\n"
     ]
    }
   ],
   "source": [
    "##iterating over key value pairs\n",
    "for key,value in my_self.items():\n",
    "    print(f\"keys:{key},value:{value}\")"
   ]
  },
  {
   "cell_type": "code",
   "execution_count": 1,
   "id": "c6498e21",
   "metadata": {},
   "outputs": [
    {
     "name": "stdout",
     "output_type": "stream",
     "text": [
      "<class 'dict'>\n"
     ]
    }
   ],
   "source": [
    "d = dict()\n",
    "print(type(d))"
   ]
  },
  {
   "cell_type": "code",
   "execution_count": 3,
   "id": "4b02eb0d",
   "metadata": {},
   "outputs": [
    {
     "name": "stdout",
     "output_type": "stream",
     "text": [
      "{1, 2, 3, 4, 5}\n"
     ]
    }
   ],
   "source": [
    "d = set(range(1,6))\n",
    "print(d)"
   ]
  },
  {
   "cell_type": "code",
   "execution_count": 18,
   "id": "3e46093a",
   "metadata": {},
   "outputs": [
    {
     "name": "stdout",
     "output_type": "stream",
     "text": [
      "{'name': 'vithu', 'age': 21, 'no': 7484}\n",
      "21\n",
      "vithu\n",
      "dict_keys(['name', 'age', 'no'])\n",
      "dict_values(['vithu', 21, 7484])\n",
      "vithu\n",
      "{'n': 'w', 'a': 'w', 'm': 'w', 'e': 'w'}\n"
     ]
    }
   ],
   "source": [
    "dic = {'name':'vithu','age':21,'no':7484}\n",
    "print(dic)\n",
    "print(dic['age'])\n",
    "print(dic['name'])\n",
    "print(dic.keys())\n",
    "print(dic.values())\n",
    "print(dic.get('name')) ## don't print error\n",
    "print(dic.fromkeys('name','w'))\n"
   ]
  },
  {
   "cell_type": "code",
   "execution_count": 22,
   "id": "155b05ce",
   "metadata": {},
   "outputs": [
    {
     "name": "stdout",
     "output_type": "stream",
     "text": [
      "Available\n",
      "vithu\n",
      "None\n"
     ]
    }
   ],
   "source": [
    "print(dic.get('address','Available'))\n",
    "print(dic.get('name'))\n",
    "print(dic.get('phone'))"
   ]
  },
  {
   "cell_type": "code",
   "execution_count": null,
   "id": "0d27dbc0",
   "metadata": {},
   "outputs": [],
   "source": []
  }
 ],
 "metadata": {
  "kernelspec": {
   "display_name": "base",
   "language": "python",
   "name": "python3"
  },
  "language_info": {
   "codemirror_mode": {
    "name": "ipython",
    "version": 3
   },
   "file_extension": ".py",
   "mimetype": "text/x-python",
   "name": "python",
   "nbconvert_exporter": "python",
   "pygments_lexer": "ipython3",
   "version": "3.12.7"
  }
 },
 "nbformat": 4,
 "nbformat_minor": 5
}

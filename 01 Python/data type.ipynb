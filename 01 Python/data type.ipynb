{
 "cells": [
  {
   "cell_type": "markdown",
   "id": "a0f97a9d",
   "metadata": {},
   "source": [
    "Python Basic Data Types\n",
    "\n",
    "Python has several built-in data types used to store different kinds of data.\n",
    "\n",
    " 1. Numeric Types\n",
    "    1. int\n",
    "    2. float\n",
    "    3. complex\n",
    "2. text type\n",
    "    1. str\n",
    "3. boolean type\n",
    "    1. bool\n",
    "4. Sequence Types\n",
    "    1. list\n",
    "    2. tuple\n",
    "    3. range\n",
    "5. mapping type\n",
    "    1. dict\n",
    "6. set type\n",
    "    1. set\n",
    "    2. frozenset\n",
    "7. none type\n",
    "    1. none"
   ]
  },
  {
   "cell_type": "code",
   "execution_count": 5,
   "id": "dd46316e",
   "metadata": {},
   "outputs": [
    {
     "name": "stdout",
     "output_type": "stream",
     "text": [
      "<class 'int'> 21\n"
     ]
    }
   ],
   "source": [
    "## integer examples\n",
    "age=21\n",
    "print(type(age),age)"
   ]
  },
  {
   "cell_type": "code",
   "execution_count": 4,
   "id": "3cfe6899",
   "metadata": {},
   "outputs": [
    {
     "name": "stdout",
     "output_type": "stream",
     "text": [
      "<class 'float'> 6.2\n"
     ]
    }
   ],
   "source": [
    "## floating point datatype\n",
    "height=6.2\n",
    "print(type(height),height)"
   ]
  },
  {
   "cell_type": "code",
   "execution_count": 6,
   "id": "3d3ddd0f",
   "metadata": {},
   "outputs": [
    {
     "name": "stdout",
     "output_type": "stream",
     "text": [
      "<class 'str'> vithu\n"
     ]
    }
   ],
   "source": [
    "##string data type\n",
    "name=\"vithu\"\n",
    "print(type(name),name)"
   ]
  },
  {
   "cell_type": "code",
   "execution_count": 8,
   "id": "9a42758d",
   "metadata": {},
   "outputs": [
    {
     "name": "stdout",
     "output_type": "stream",
     "text": [
      "<class 'bool'> True\n",
      "<class 'bool'> False\n"
     ]
    }
   ],
   "source": [
    "##boolean data type\n",
    "a=True\n",
    "b=False\n",
    "print(type(a),a)\n",
    "print(type(a),b)\n"
   ]
  },
  {
   "cell_type": "code",
   "execution_count": 13,
   "id": "82b45b8f",
   "metadata": {},
   "outputs": [],
   "source": [
    "##common error\n",
    "\n",
    "##name=\"vithu\" +5\n",
    "##fixed this error\n",
    "name=\"vithu\"+\"5\"\n",
    "name=\"vithu\"+str(5)\n",
    " "
   ]
  }
 ],
 "metadata": {
  "kernelspec": {
   "display_name": "base",
   "language": "python",
   "name": "python3"
  },
  "language_info": {
   "codemirror_mode": {
    "name": "ipython",
    "version": 3
   },
   "file_extension": ".py",
   "mimetype": "text/x-python",
   "name": "python",
   "nbconvert_exporter": "python",
   "pygments_lexer": "ipython3",
   "version": "3.12.7"
  }
 },
 "nbformat": 4,
 "nbformat_minor": 5
}

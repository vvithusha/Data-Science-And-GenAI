{
 "cells": [
  {
   "cell_type": "markdown",
   "id": "f3e043d7",
   "metadata": {},
   "source": [
    " ### Project 1: Student Grade Management System"
   ]
  },
  {
   "cell_type": "code",
   "execution_count": 12,
   "id": "d1a0c886",
   "metadata": {},
   "outputs": [
    {
     "name": "stdout",
     "output_type": "stream",
     "text": [
      "name : vithu = grate : A \n",
      "name : mathu = grate : C \n",
      "name : shaka = grate : A \n"
     ]
    }
   ],
   "source": [
    "students=[]\n",
    "for i in range(3):\n",
    "   name=input(\"enter the name :\")\n",
    "   marks=[]\n",
    "   for j in range(3):\n",
    "      mark=int(input(\"enter the marks :\"))\n",
    "      marks.append(mark)\n",
    "   students.append((name,marks))\n",
    "   average=sum(marks)/3\n",
    "   if average>=75:\n",
    "       print(f\"name : {name} = grate : A \")\n",
    "   elif average<75 and average>=65:\n",
    "       print(f\"name : {name} = grate : B \")\n",
    "   elif average<65 and average>=55:\n",
    "       print(f\"name : {name} = grate : C \")\n",
    "   elif average<55 and average>=35:\n",
    "      print(f\"name : {name} = grate : s\")\n",
    "   else:\n",
    "      print(\"you are fail!\")"
   ]
  },
  {
   "cell_type": "code",
   "execution_count": null,
   "id": "a04f57d4",
   "metadata": {},
   "outputs": [
    {
     "name": "stdout",
     "output_type": "stream",
     "text": [
      "[1, 2, 3, 7, 8, 9, 10, 5]\n",
      "[1, 2, 3, 7, 8, 9, 10, 5, 67]\n"
     ]
    }
   ],
   "source": [
    "lis=[1,2,3,7,8,9,10,5]\n",
    "cop=lis.copy()\n",
    "print(cop)\n",
    "lis.append(67)\n",
    "print(lis)"
   ]
  },
  {
   "cell_type": "code",
   "execution_count": 6,
   "id": "64a552f9",
   "metadata": {},
   "outputs": [
    {
     "name": "stdout",
     "output_type": "stream",
     "text": [
      "[1, 2, 3, 7, 8, 9, 10, 5, 67]\n"
     ]
    }
   ],
   "source": [
    "change=list(lis)\n",
    "print(change)"
   ]
  },
  {
   "cell_type": "code",
   "execution_count": null,
   "id": "46961890",
   "metadata": {},
   "outputs": [
    {
     "name": "stdout",
     "output_type": "stream",
     "text": [
      "[1, 3, 4, 5, 6, 8, 9, 6, 7]\n",
      "[1, 3, 4, 5, 6, 8, 9, 6, 7]\n",
      "[1, 3, 4, 5, 6, 8, 9, 6, 7, 8, 9, 6, 7]\n"
     ]
    }
   ],
   "source": [
    "lis1=[1,3,4,5,6]\n",
    "lis2=[8,9,6,7]\n",
    "print(lis1+lis2)\n",
    "for x in lis2:\n",
    "    lis1.append(x)\n",
    "print(lis1)\n",
    "lis1.extend(lis2)\n",
    "print(lis1)\n"
   ]
  },
  {
   "cell_type": "code",
   "execution_count": 11,
   "id": "e249160a",
   "metadata": {},
   "outputs": [
    {
     "name": "stdout",
     "output_type": "stream",
     "text": [
      "8\n",
      "9\n",
      "6\n",
      "7\n"
     ]
    }
   ],
   "source": [
    "for lis1 in lis2:\n",
    "    print(lis1)\n"
   ]
  },
  {
   "cell_type": "code",
   "execution_count": null,
   "id": "5bc16cb1",
   "metadata": {},
   "outputs": [],
   "source": []
  },
  {
   "cell_type": "code",
   "execution_count": null,
   "id": "fd2e6162",
   "metadata": {},
   "outputs": [],
   "source": []
  }
 ],
 "metadata": {
  "kernelspec": {
   "display_name": "base",
   "language": "python",
   "name": "python3"
  },
  "language_info": {
   "codemirror_mode": {
    "name": "ipython",
    "version": 3
   },
   "file_extension": ".py",
   "mimetype": "text/x-python",
   "name": "python",
   "nbconvert_exporter": "python",
   "pygments_lexer": "ipython3",
   "version": "3.12.7"
  }
 },
 "nbformat": 4,
 "nbformat_minor": 5
}

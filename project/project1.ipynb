{
 "cells": [
  {
   "cell_type": "markdown",
   "id": "f3e043d7",
   "metadata": {},
   "source": [
    " ### Project 1: Student Grade Management System"
   ]
  },
  {
   "cell_type": "code",
   "execution_count": 12,
   "id": "d1a0c886",
   "metadata": {},
   "outputs": [
    {
     "name": "stdout",
     "output_type": "stream",
     "text": [
      "name : vithu = grate : A \n",
      "name : mathu = grate : C \n",
      "name : shaka = grate : A \n"
     ]
    }
   ],
   "source": [
    "students=[]\n",
    "for i in range(3):\n",
    "   name=input(\"enter the name :\")\n",
    "   marks=[]\n",
    "   for j in range(3):\n",
    "      mark=int(input(\"enter the marks :\"))\n",
    "      marks.append(mark)\n",
    "   students.append((name,marks))\n",
    "   average=sum(marks)/3\n",
    "   if average>=75:\n",
    "       print(f\"name : {name} = grate : A \")\n",
    "   elif average<75 and average>=65:\n",
    "       print(f\"name : {name} = grate : B \")\n",
    "   elif average<65 and average>=55:\n",
    "       print(f\"name : {name} = grate : C \")\n",
    "   elif average<55 and average>=35:\n",
    "      print(f\"name : {name} = grate : s\")\n",
    "   else:\n",
    "      print(\"you are fail!\")"
   ]
  },
  {
   "cell_type": "code",
   "execution_count": null,
   "id": "a04f57d4",
   "metadata": {},
   "outputs": [],
   "source": []
  }
 ],
 "metadata": {
  "kernelspec": {
   "display_name": "base",
   "language": "python",
   "name": "python3"
  },
  "language_info": {
   "codemirror_mode": {
    "name": "ipython",
    "version": 3
   },
   "file_extension": ".py",
   "mimetype": "text/x-python",
   "name": "python",
   "nbconvert_exporter": "python",
   "pygments_lexer": "ipython3",
   "version": "3.12.7"
  }
 },
 "nbformat": 4,
 "nbformat_minor": 5
}

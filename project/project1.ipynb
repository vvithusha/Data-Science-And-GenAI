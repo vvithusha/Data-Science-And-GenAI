{
 "cells": [
  {
   "cell_type": "markdown",
   "id": "f3e043d7",
   "metadata": {},
   "source": [
    " ### Project 1: Student Grade Management System"
   ]
  },
  {
   "cell_type": "code",
   "execution_count": 12,
   "id": "d1a0c886",
   "metadata": {},
   "outputs": [
    {
     "name": "stdout",
     "output_type": "stream",
     "text": [
      "name : vithu = grate : A \n",
      "name : mathu = grate : C \n",
      "name : shaka = grate : A \n"
     ]
    }
   ],
   "source": [
    "students=[]\n",
    "for i in range(3):\n",
    "   name=input(\"enter the name :\")\n",
    "   marks=[]\n",
    "   for j in range(3):\n",
    "      mark=int(input(\"enter the marks :\"))\n",
    "      marks.append(mark)\n",
    "   students.append((name,marks))\n",
    "   average=sum(marks)/3\n",
    "   if average>=75:\n",
    "       print(f\"name : {name} = grate : A \")\n",
    "   elif average<75 and average>=65:\n",
    "       print(f\"name : {name} = grate : B \")\n",
    "   elif average<65 and average>=55:\n",
    "       print(f\"name : {name} = grate : C \")\n",
    "   elif average<55 and average>=35:\n",
    "      print(f\"name : {name} = grate : s\")\n",
    "   else:\n",
    "      print(\"you are fail!\")"
   ]
  },
  {
   "cell_type": "code",
   "execution_count": 21,
   "id": "5bc16cb1",
   "metadata": {},
   "outputs": [
    {
     "name": "stdout",
     "output_type": "stream",
     "text": [
      "5.477225575051661\n",
      "sin 30 :1.2246467991473532e-16\n",
      "sin 45:1.0\n",
      "\n"
     ]
    }
   ],
   "source": [
    "import math\n",
    "num=30\n",
    "print(math.sqrt(num))\n",
    "print(f\"sin 30 :{math.sin(math.pi)}\")\n",
    "print(f\"sin 45:{math.sin(math.pi/2)}\")\n",
    "print(f\"\")"
   ]
  },
  {
   "cell_type": "code",
   "execution_count": null,
   "id": "fd2e6162",
   "metadata": {},
   "outputs": [
    {
     "name": "stdout",
     "output_type": "stream",
     "text": [
      "Square root of 16 = 4.0\n",
      "sin(90°) = 1.0\n",
      "cos(180°) = -1.0\n",
      "tan(45°) = 0.9999999999999999\n",
      "log(e) = 1.0\n",
      "2^3 = 8.0\n",
      "log(10):2.302585092994046\n",
      "log(25):4.605170185988092\n"
     ]
    }
   ],
   "source": [
    "import math\n",
    "\n",
    "num = 16\n",
    "\n",
    "print(f\"Square root of {num} = {math.sqrt(num)}\")\n",
    "print(f\"sin(90°) = {math.sin(math.pi/2)}\")\n",
    "print(f\"cos(180°) = {math.cos(math.pi)}\")\n",
    "print(f\"tan(45°) = {math.tan(math.pi/4)}\")\n",
    "print(f\"log(e) = {math.log(math.e)}\")\n",
    "print(f\"2^3 = {math.pow(2,3)}\")\n",
    "print(f\"log(10):{math.log(10)}\")\n",
    "print(f\"log(25):{math.log(100)}\")\n",
    "print\n",
    "\n"
   ]
  },
  {
   "cell_type": "code",
   "execution_count": 4,
   "id": "21d725b4",
   "metadata": {},
   "outputs": [
    {
     "name": "stdout",
     "output_type": "stream",
     "text": [
      "3wednesday\n",
      "2tuesday\n",
      "3wednesday\n",
      "4thursday\n",
      "5friday\n",
      "5friday\n",
      "6saturday\n",
      "5friday\n",
      "6saturday\n",
      "3wednesday\n",
      "1monday\n"
     ]
    },
    {
     "ename": "ValueError",
     "evalue": "invalid literal for int() with base 10: 'exit'",
     "output_type": "error",
     "traceback": [
      "\u001b[1;31m---------------------------------------------------------------------------\u001b[0m",
      "\u001b[1;31mValueError\u001b[0m                                Traceback (most recent call last)",
      "Cell \u001b[1;32mIn[4], line 2\u001b[0m\n\u001b[0;32m      1\u001b[0m \u001b[38;5;28;01mwhile\u001b[39;00m \u001b[38;5;28;01mTrue\u001b[39;00m:\n\u001b[1;32m----> 2\u001b[0m   day\u001b[38;5;241m=\u001b[39m\u001b[38;5;28mint\u001b[39m(\u001b[38;5;28minput\u001b[39m(\u001b[38;5;124m\"\u001b[39m\u001b[38;5;124menter the day number :\u001b[39m\u001b[38;5;124m\"\u001b[39m))\n\u001b[0;32m      3\u001b[0m   \u001b[38;5;28;01mif\u001b[39;00m day \u001b[38;5;241m==\u001b[39m \u001b[38;5;124m\"\u001b[39m\u001b[38;5;124mexit\u001b[39m\u001b[38;5;124m\"\u001b[39m:\n\u001b[0;32m      4\u001b[0m       \u001b[38;5;28;01mbreak\u001b[39;00m\n",
      "\u001b[1;31mValueError\u001b[0m: invalid literal for int() with base 10: 'exit'"
     ]
    }
   ],
   "source": [
    "while True:\n",
    "  day=int(input(\"enter the day number :\"))\n",
    "  if day == \"exit\":\n",
    "      break\n",
    "  match day:\n",
    "    case 1:\n",
    "        print(f\"{day}monday\")\n",
    "    case 2:\n",
    "        print(f\"{day}tuesday\")\n",
    "    case 3:\n",
    "        print(f\"{day}wednesday\")\n",
    "    case 4:\n",
    "        print(f\"{day}thursday\")\n",
    "    case 5:\n",
    "        print(f\"{day}friday\")\n",
    "    case 6:\n",
    "        print(f\"{day}saturday\")\n",
    "    case 7:\n",
    "        print(f\"{day}sunday\")\n",
    "    "
   ]
  },
  {
   "cell_type": "code",
   "execution_count": null,
   "id": "e896984d",
   "metadata": {},
   "outputs": [],
   "source": []
  }
 ],
 "metadata": {
  "kernelspec": {
   "display_name": "base",
   "language": "python",
   "name": "python3"
  },
  "language_info": {
   "codemirror_mode": {
    "name": "ipython",
    "version": 3
   },
   "file_extension": ".py",
   "mimetype": "text/x-python",
   "name": "python",
   "nbconvert_exporter": "python",
   "pygments_lexer": "ipython3",
   "version": "3.12.7"
  }
 },
 "nbformat": 4,
 "nbformat_minor": 5
}

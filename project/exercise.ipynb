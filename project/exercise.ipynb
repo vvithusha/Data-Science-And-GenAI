{
 "cells": [
  {
   "cell_type": "code",
   "execution_count": 11,
   "id": "0e052149",
   "metadata": {},
   "outputs": [
    {
     "name": "stdout",
     "output_type": "stream",
     "text": [
      "num:10,num:5 =addisition = 15\n",
      "num:10,num:5 =subtraction = 5\n",
      "num:10,num:5 =multipilication = 50\n",
      "num:10,num:5 =divisition = 2.0\n",
      "num:10,num:5 =floor divisition= 2\n",
      "num:10,num:5 =modulas = 0\n",
      "num:10,num:5 =power = 100000\n"
     ]
    }
   ],
   "source": [
    "def add(a,b):\n",
    "    return a+b\n",
    "def sub(a,b):\n",
    "    return a-b\n",
    "def multi(a,b):\n",
    "    return a*b\n",
    "def division(a,b):\n",
    "    return a/b\n",
    "def floor(a,b):\n",
    "    return a//b\n",
    "def modu(a,b):\n",
    "    return a%b\n",
    "def power(a,b):\n",
    "    return a**b\n",
    "\n",
    "a=int(input(\"enter the number:\"))\n",
    "b=int(input(\"enter the number:\"))\n",
    "\n",
    "print(f\"num:{a},num:{b} =addisition = {add(a,b)}\")\n",
    "print(f\"num:{a},num:{b} =subtraction = {sub(a,b)}\")\n",
    "print(f\"num:{a},num:{b} =multipilication = {multi(a,b)}\")\n",
    "print(f\"num:{a},num:{b} =divisition = {division(a,b)}\")\n",
    "print(f\"num:{a},num:{b} =floor divisition= {floor(a,b)}\")\n",
    "print(f\"num:{a},num:{b} =modulas = {modu(a,b)}\")\n",
    "print(f\"num:{a},num:{b} =power = {power(a,b)}\")\n",
    " "
   ]
  },
  {
   "cell_type": "code",
   "execution_count": null,
   "id": "8fd55c61",
   "metadata": {},
   "outputs": [],
   "source": []
  },
  {
   "cell_type": "code",
   "execution_count": null,
   "id": "2c6b1e97",
   "metadata": {},
   "outputs": [],
   "source": []
  },
  {
   "cell_type": "code",
   "execution_count": null,
   "id": "28c29a4a",
   "metadata": {},
   "outputs": [],
   "source": []
  }
 ],
 "metadata": {
  "kernelspec": {
   "display_name": "base",
   "language": "python",
   "name": "python3"
  },
  "language_info": {
   "codemirror_mode": {
    "name": "ipython",
    "version": 3
   },
   "file_extension": ".py",
   "mimetype": "text/x-python",
   "name": "python",
   "nbconvert_exporter": "python",
   "pygments_lexer": "ipython3",
   "version": "3.12.7"
  }
 },
 "nbformat": 4,
 "nbformat_minor": 5
}

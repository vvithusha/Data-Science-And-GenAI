{
 "cells": [
  {
   "cell_type": "markdown",
   "id": "3a910d78",
   "metadata": {},
   "source": [
    "Exercise 1: Hello, Python"
   ]
  },
  {
   "cell_type": "code",
   "execution_count": 1,
   "id": "c2291347",
   "metadata": {},
   "outputs": [
    {
     "name": "stdout",
     "output_type": "stream",
     "text": [
      "Hello, python\n"
     ]
    }
   ],
   "source": [
    "print(\"Hello, python\")"
   ]
  },
  {
   "cell_type": "markdown",
   "id": "90ac7045",
   "metadata": {},
   "source": [
    " Exercise 2: Comments\n",
    "Goal: Add comments to the given code to explain what each line does."
   ]
  },
  {
   "cell_type": "code",
   "execution_count": 4,
   "id": "ff3c66c3",
   "metadata": {},
   "outputs": [
    {
     "name": "stdout",
     "output_type": "stream",
     "text": [
      "my name is vithu\n"
     ]
    },
    {
     "data": {
      "text/plain": [
       "'my name is vithu\\n   i am 21 years old\\n   i love coding'"
      ]
     },
     "execution_count": 4,
     "metadata": {},
     "output_type": "execute_result"
    }
   ],
   "source": [
    "## this is single line command \n",
    "name=\"vithu\"\n",
    "print(\"my name is\",name)  # my name is vithu\n",
    "\n",
    "## this is multi line command\n",
    "\n",
    "\"\"\"my name is vithu\n",
    "   i am 21 years old\n",
    "   i love coding\"\"\""
   ]
  },
  {
   "cell_type": "markdown",
   "id": "bdf5c8aa",
   "metadata": {},
   "source": [
    " Exercise 3: Indentation Error Fix\n",
    "Goal: Fix the indentation error in this code."
   ]
  },
  {
   "cell_type": "code",
   "execution_count": 5,
   "id": "244adc1a",
   "metadata": {},
   "outputs": [
    {
     "name": "stdout",
     "output_type": "stream",
     "text": [
      "python is fun!\n"
     ]
    }
   ],
   "source": [
    "# this is indentation error\n",
    "\"\"\"if True:\n",
    "print(\"python is fun!\")\"\"\"\n",
    "\n",
    "## this fix this code\n",
    "\n",
    "if True:\n",
    "    print(\"python is fun!\")"
   ]
  },
  {
   "cell_type": "markdown",
   "id": "15b239b0",
   "metadata": {},
   "source": [
    " Exercise 4: Syntax Error Hunt\n",
    "Goal: Find and fix all syntax errors."
   ]
  },
  {
   "cell_type": "code",
   "execution_count": 6,
   "id": "a004d84f",
   "metadata": {},
   "outputs": [
    {
     "name": "stdout",
     "output_type": "stream",
     "text": [
      "welcome to python!\n",
      "hello vithu\n"
     ]
    }
   ],
   "source": [
    "# Task: Fix the syntax errors\n",
    "\"\"\"print(\"Welcome to Python\n",
    "   name = input(\"What is your name?)\n",
    "   print(\"Hello\", name)\"\"\"\n",
    "\n",
    "## to fix this code\n",
    "\n",
    "print(\"welcome to python!\")\n",
    "name=input(\"what is your name?\")\n",
    "print(\"hello\",name)\n",
    "\n"
   ]
  },
  {
   "cell_type": "markdown",
   "id": "f9dc2ff9",
   "metadata": {},
   "source": [
    "Exercise 5: Create a Function\n",
    "Goal: Define a simple function and call it."
   ]
  },
  {
   "cell_type": "code",
   "execution_count": null,
   "id": "427c92e2",
   "metadata": {},
   "outputs": [
    {
     "name": "stdout",
     "output_type": "stream",
     "text": [
      "learning python is cool!\n",
      "vithu\n"
     ]
    }
   ],
   "source": [
    "# Task: Write a function that prints \"Learning Python is cool!\"\n",
    "\n",
    "def myfun():\n",
    "    print(\"learning python is cool!\")\n",
    "myfun()\n"
   ]
  },
  {
   "cell_type": "markdown",
   "id": "a62cb945",
   "metadata": {},
   "source": [
    " Exercise 6: Case Sensitivity\n",
    "Goal: Understand how Python treats variable names with different cases."
   ]
  },
  {
   "cell_type": "code",
   "execution_count": 9,
   "id": "766c2297",
   "metadata": {},
   "outputs": [
    {
     "name": "stdout",
     "output_type": "stream",
     "text": [
      "vithu\n",
      "saraa\n"
     ]
    }
   ],
   "source": [
    "name=\"vithu\"\n",
    "Name=\"saraa\"\n",
    "\n",
    "print(name)\n",
    "print(Name)"
   ]
  },
  {
   "cell_type": "markdown",
   "id": "c900e601",
   "metadata": {},
   "source": [
    " Exercise 7: Using Keywords (Error)\n",
    "Goal: Learn why we can't use Python keywords as variable names."
   ]
  },
  {
   "cell_type": "code",
   "execution_count": 11,
   "id": "0646ec49",
   "metadata": {},
   "outputs": [
    {
     "data": {
      "text/plain": [
       "'def = \"function\"\\n   print(def)'"
      ]
     },
     "execution_count": 11,
     "metadata": {},
     "output_type": "execute_result"
    }
   ],
   "source": [
    "# Task: What error do you get? Try running this\n",
    "\"\"\"def = \"function\"\n",
    "   print(def)\"\"\"\n",
    "## tjis variable is function so this variable is error\n"
   ]
  },
  {
   "cell_type": "code",
   "execution_count": 15,
   "id": "3020ceb2",
   "metadata": {},
   "outputs": [
    {
     "name": "stdout",
     "output_type": "stream",
     "text": [
      "['False', 'None', 'True', 'and', 'as', 'assert', 'async', 'await', 'break', 'class', 'continue', 'def', 'del', 'elif', 'else', 'except', 'finally', 'for', 'from', 'global', 'if', 'import', 'in', 'is', 'lambda', 'nonlocal', 'not', 'or', 'pass', 'raise', 'return', 'try', 'while', 'with', 'yield']\n"
     ]
    }
   ],
   "source": [
    "## see the keyword module to see all reserved words\n",
    "import keyword\n",
    "print(keyword.kwlist)"
   ]
  },
  {
   "cell_type": "markdown",
   "id": "427858fc",
   "metadata": {},
   "source": [
    " Exercise 8: Semicolon Use\n",
    "Goal: Combine two statements in one line using ;"
   ]
  },
  {
   "cell_type": "code",
   "execution_count": null,
   "id": "26bd028b",
   "metadata": {},
   "outputs": [
    {
     "name": "stdout",
     "output_type": "stream",
     "text": [
      "python\n",
      "is powerful\n"
     ]
    }
   ],
   "source": [
    "##combine print statement in one line\n",
    "print(\"python\") ; print(\"is powerful\")\n",
    "\n",
    "\n",
    "\n"
   ]
  },
  {
   "cell_type": "markdown",
   "id": "c91b5c5d",
   "metadata": {},
   "source": [
    "Exercise 9: Escape Characters\n",
    "Goal: Use escape characters to print a quote inside a string."
   ]
  },
  {
   "cell_type": "code",
   "execution_count": 3,
   "id": "1007a35d",
   "metadata": {},
   "outputs": [
    {
     "name": "stdout",
     "output_type": "stream",
     "text": [
      "she said,\"hello!\"\n"
     ]
    }
   ],
   "source": [
    "print(\"she said,\\\"hello!\\\"\")"
   ]
  },
  {
   "cell_type": "markdown",
   "id": "0ae9e36e",
   "metadata": {},
   "source": [
    " Exercise 10: Block of Code (Indentation Practice)\n",
    "Goal: Properly indent the block to run inside a function."
   ]
  },
  {
   "cell_type": "code",
   "execution_count": 5,
   "id": "af1a3118",
   "metadata": {},
   "outputs": [
    {
     "name": "stdout",
     "output_type": "stream",
     "text": [
      "welcome!\n",
      "let's lean python\n"
     ]
    }
   ],
   "source": [
    "# Task: Fix the indentation inside the function\n",
    "\"\"\"def greet():\n",
    "   print(\"Welcome!\")\n",
    "   print(\"Let’s learn Python.\")\n",
    "\n",
    "greet()\"\"\"\n",
    "\n",
    "def greet():\n",
    "    print(\"welcome!\")\n",
    "    print(\"let\\'s lean python\")\n",
    "greet()\n"
   ]
  },
  {
   "cell_type": "markdown",
   "id": "8902c091",
   "metadata": {},
   "source": [
    "✅ Advanced Python Syntax and Semantics - Exercises"
   ]
  },
  {
   "cell_type": "markdown",
   "id": "a64b0a46",
   "metadata": {},
   "source": [
    " Project: Python Syntax Quiz Game"
   ]
  },
  {
   "cell_type": "code",
   "execution_count": 14,
   "id": "1bb572fa",
   "metadata": {},
   "outputs": [
    {
     "name": "stdout",
     "output_type": "stream",
     "text": [
      "well come to quiz game!\n",
      "first quesion\n",
      "what is tha correct variable?\n",
      "answer: (1)_name  (2)-name (3)@name (4)#name\n",
      "ohh grate your answer is correct\n",
      "secound quesion\n",
      "what is the python keyword?\n",
      "answer: (1)int  (2)str (3)elif (4)tuple\n",
      "ohh grate your answer is correct\n",
      "ouesion number three\n",
      "what is tha correct function?\n",
      "answer: (1)def   (2)def myfun() (3)defmyfun() (4)def myfun():\n",
      "ohh grate your answer is correct\n",
      "ouesion number four \n",
      "what is tha wrong keyword?\n",
      "answer: (1)else  (2)if (3)whle (4)in \n",
      "sorry your answer is wrong! try agin\n",
      "ohh grate your answer is correct\n",
      "last quesion!\n",
      "what is tha wrong data type?\n",
      "answer: (1)int  (2)number (3)float (4)list\n",
      "ohh grate your answer is correct\n",
      "Congratulations your marks is: 100\n"
     ]
    }
   ],
   "source": [
    "print(\"well come to quiz game!\")\n",
    "name=input(\"please enter your name:\")\n",
    "print(\"first quesion\")\n",
    "print (\"what is tha correct variable?\")\n",
    "print (\"answer: (1)_name  (2)-name (3)@name (4)#name\")\n",
    "marks=0\n",
    "while True:\n",
    "    answer = input(\"please enter your answer number(1,2,3,4)\")\n",
    "    if answer == \"1\":\n",
    "        print(\"ohh grate your answer is correct\")\n",
    "        marks=marks+20\n",
    "        break\n",
    "    elif answer in [\"2\",\"3\",\"4\"]:\n",
    "        print(\"sorry your answer is wrong! try agin\")\n",
    "    else:\n",
    "        print(\"invalid input!\")\n",
    "print(\"secound quesion\")\n",
    "print (\"what is the python keyword?\")\n",
    "print (\"answer: (1)int  (2)str (3)elif (4)tuple\")\n",
    "while True:\n",
    "    answer = input(\"please enter your answer number(1,2,3,4)\")\n",
    "    if answer == \"3\":\n",
    "        print(\"ohh grate your answer is correct\")\n",
    "        marks=marks+20\n",
    "        break\n",
    "    elif answer in [\"2\",\"1\",\"4\"]:\n",
    "        print(\"sorry your answer is wrong! try agin\")\n",
    "    else:\n",
    "        print(\"invalid input!\")\n",
    "print(\"ouesion number three\")\n",
    "print (\"what is tha correct function?\")\n",
    "print (\"answer: (1)def   (2)def myfun() (3)defmyfun() (4)def myfun():\")\n",
    "while True:\n",
    "    answer = input(\"please enter your answer number(1,2,3,4)\")\n",
    "    if answer == \"4\":\n",
    "        print(\"ohh grate your answer is correct\")\n",
    "        marks=marks+20\n",
    "        break\n",
    "    elif answer in [\"2\",\"3\",\"1\"]:\n",
    "        print(\"sorry your answer is wrong! try agin\")\n",
    "    else:\n",
    "        print(\"invalid input!\")\n",
    "\n",
    "print(\"ouesion number four \")\n",
    "print (\"what is tha wrong keyword?\")\n",
    "print (\"answer: (1)else  (2)if (3)whle (4)in \")\n",
    "while True:\n",
    "    answer = input(\"please enter your answer number(1,2,3,4)\")\n",
    "    if answer == \"3\":\n",
    "        print(\"ohh grate your answer is correct\")\n",
    "        marks=marks+20\n",
    "        break\n",
    "    elif answer in [\"2\",\"1\",\"4\"]:\n",
    "        print(\"sorry your answer is wrong! try agin\")\n",
    "    else:\n",
    "        print(\"invalid input!\")\n",
    "\n",
    "print(\"last quesion!\")\n",
    "print (\"what is tha wrong data type?\")\n",
    "print (\"answer: (1)int  (2)number (3)float (4)list\")\n",
    "while True:\n",
    "    answer = input(\"please enter your answer number(1,2,3,4)\")\n",
    "    if answer == \"2\":\n",
    "        print(\"ohh grate your answer is correct\")\n",
    "        marks=marks+20\n",
    "        break\n",
    "    elif answer in [\"1\",\"3\",\"4\"]:\n",
    "        print(\"sorry your answer is wrong! try agin\")\n",
    "    else:\n",
    "        print(\"invalid input!\")\n",
    "\n",
    "print(\"Congratulations your marks is:\",marks)"
   ]
  },
  {
   "cell_type": "code",
   "execution_count": null,
   "id": "f1872c14-0a07-4682-97d5-855b376147a9",
   "metadata": {},
   "outputs": [],
   "source": []
  }
 ],
 "metadata": {
  "kernelspec": {
   "display_name": "base",
   "language": "python",
   "name": "python3"
  },
  "language_info": {
   "codemirror_mode": {
    "name": "ipython",
    "version": 3
   },
   "file_extension": ".py",
   "mimetype": "text/x-python",
   "name": "python",
   "nbconvert_exporter": "python",
   "pygments_lexer": "ipython3",
   "version": "3.12.7"
  }
 },
 "nbformat": 4,
 "nbformat_minor": 5
}

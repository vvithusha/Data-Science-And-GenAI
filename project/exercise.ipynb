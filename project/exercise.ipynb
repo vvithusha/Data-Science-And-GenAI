{
 "cells": [
  {
   "cell_type": "markdown",
   "id": "3a910d78",
   "metadata": {},
   "source": [
    "Exercise 1: Hello, Python"
   ]
  },
  {
   "cell_type": "code",
   "execution_count": 1,
   "id": "c2291347",
   "metadata": {},
   "outputs": [
    {
     "name": "stdout",
     "output_type": "stream",
     "text": [
      "Hello, python\n"
     ]
    }
   ],
   "source": [
    "print(\"Hello, python\")"
   ]
  },
  {
   "cell_type": "markdown",
   "id": "90ac7045",
   "metadata": {},
   "source": [
    " Exercise 2: Comments\n",
    "Goal: Add comments to the given code to explain what each line does."
   ]
  },
  {
   "cell_type": "code",
   "execution_count": 4,
   "id": "ff3c66c3",
   "metadata": {},
   "outputs": [
    {
     "name": "stdout",
     "output_type": "stream",
     "text": [
      "my name is vithu\n"
     ]
    },
    {
     "data": {
      "text/plain": [
       "'my name is vithu\\n   i am 21 years old\\n   i love coding'"
      ]
     },
     "execution_count": 4,
     "metadata": {},
     "output_type": "execute_result"
    }
   ],
   "source": [
    "## this is single line command \n",
    "name=\"vithu\"\n",
    "print(\"my name is\",name)  # my name is vithu\n",
    "\n",
    "## this is multi line command\n",
    "\n",
    "\"\"\"my name is vithu\n",
    "   i am 21 years old\n",
    "   i love coding\"\"\""
   ]
  },
  {
   "cell_type": "markdown",
   "id": "bdf5c8aa",
   "metadata": {},
   "source": [
    " Exercise 3: Indentation Error Fix\n",
    "Goal: Fix the indentation error in this code."
   ]
  },
  {
   "cell_type": "code",
   "execution_count": 5,
   "id": "244adc1a",
   "metadata": {},
   "outputs": [
    {
     "name": "stdout",
     "output_type": "stream",
     "text": [
      "python is fun!\n"
     ]
    }
   ],
   "source": [
    "# this is indentation error\n",
    "\"\"\"if True:\n",
    "print(\"python is fun!\")\"\"\"\n",
    "\n",
    "## this fix this code\n",
    "\n",
    "if True:\n",
    "    print(\"python is fun!\")"
   ]
  },
  {
   "cell_type": "markdown",
   "id": "15b239b0",
   "metadata": {},
   "source": [
    " Exercise 4: Syntax Error Hunt\n",
    "Goal: Find and fix all syntax errors."
   ]
  },
  {
   "cell_type": "code",
   "execution_count": 6,
   "id": "a004d84f",
   "metadata": {},
   "outputs": [
    {
     "name": "stdout",
     "output_type": "stream",
     "text": [
      "welcome to python!\n",
      "hello vithu\n"
     ]
    }
   ],
   "source": [
    "# Task: Fix the syntax errors\n",
    "\"\"\"print(\"Welcome to Python\n",
    "   name = input(\"What is your name?)\n",
    "   print(\"Hello\", name)\"\"\"\n",
    "\n",
    "## to fix this code\n",
    "\n",
    "print(\"welcome to python!\")\n",
    "name=input(\"what is your name?\")\n",
    "print(\"hello\",name)\n",
    "\n"
   ]
  },
  {
   "cell_type": "markdown",
   "id": "f9dc2ff9",
   "metadata": {},
   "source": [
    "Exercise 5: Create a Function\n",
    "Goal: Define a simple function and call it."
   ]
  },
  {
   "cell_type": "code",
   "execution_count": null,
   "id": "427c92e2",
   "metadata": {},
   "outputs": [
    {
     "name": "stdout",
     "output_type": "stream",
     "text": [
      "learning python is cool!\n",
      "vithu\n"
     ]
    }
   ],
   "source": [
    "# Task: Write a function that prints \"Learning Python is cool!\"\n",
    "\n",
    "def myfun():\n",
    "    print(\"learning python is cool!\")\n",
    "myfun()\n"
   ]
  },
  {
   "cell_type": "markdown",
   "id": "a62cb945",
   "metadata": {},
   "source": [
    " Exercise 6: Case Sensitivity\n",
    "Goal: Understand how Python treats variable names with different cases."
   ]
  },
  {
   "cell_type": "code",
   "execution_count": 9,
   "id": "766c2297",
   "metadata": {},
   "outputs": [
    {
     "name": "stdout",
     "output_type": "stream",
     "text": [
      "vithu\n",
      "saraa\n"
     ]
    }
   ],
   "source": [
    "name=\"vithu\"\n",
    "Name=\"saraa\"\n",
    "\n",
    "print(name)\n",
    "print(Name)"
   ]
  },
  {
   "cell_type": "markdown",
   "id": "c900e601",
   "metadata": {},
   "source": [
    " Exercise 7: Using Keywords (Error)\n",
    "Goal: Learn why we can't use Python keywords as variable names."
   ]
  },
  {
   "cell_type": "code",
   "execution_count": 11,
   "id": "0646ec49",
   "metadata": {},
   "outputs": [
    {
     "data": {
      "text/plain": [
       "'def = \"function\"\\n   print(def)'"
      ]
     },
     "execution_count": 11,
     "metadata": {},
     "output_type": "execute_result"
    }
   ],
   "source": [
    "# Task: What error do you get? Try running this\n",
    "\"\"\"def = \"function\"\n",
    "   print(def)\"\"\"\n",
    "## tjis variable is function so this variable is error\n"
   ]
  },
  {
   "cell_type": "code",
   "execution_count": 15,
   "id": "3020ceb2",
   "metadata": {},
   "outputs": [
    {
     "name": "stdout",
     "output_type": "stream",
     "text": [
      "['False', 'None', 'True', 'and', 'as', 'assert', 'async', 'await', 'break', 'class', 'continue', 'def', 'del', 'elif', 'else', 'except', 'finally', 'for', 'from', 'global', 'if', 'import', 'in', 'is', 'lambda', 'nonlocal', 'not', 'or', 'pass', 'raise', 'return', 'try', 'while', 'with', 'yield']\n"
     ]
    }
   ],
   "source": [
    "## see the keyword module to see all reserved words\n",
    "import keyword\n",
    "print(keyword.kwlist)"
   ]
  },
  {
   "cell_type": "markdown",
   "id": "427858fc",
   "metadata": {},
   "source": [
    " Exercise 8: Semicolon Use\n",
    "Goal: Combine two statements in one line using ;"
   ]
  },
  {
   "cell_type": "code",
   "execution_count": null,
   "id": "26bd028b",
   "metadata": {},
   "outputs": [
    {
     "name": "stdout",
     "output_type": "stream",
     "text": [
      "python\n",
      "is powerful\n"
     ]
    }
   ],
   "source": [
    "##combine print statement in one line\n",
    "print(\"python\") ; print(\"is powerful\")\n",
    "\n",
    "\n",
    "\n"
   ]
  },
  {
   "cell_type": "markdown",
   "id": "c91b5c5d",
   "metadata": {},
   "source": [
    "Exercise 9: Escape Characters\n",
    "Goal: Use escape characters to print a quote inside a string."
   ]
  },
  {
   "cell_type": "code",
   "execution_count": 3,
   "id": "1007a35d",
   "metadata": {},
   "outputs": [
    {
     "name": "stdout",
     "output_type": "stream",
     "text": [
      "she said,\"hello!\"\n"
     ]
    }
   ],
   "source": [
    "print(\"she said,\\\"hello!\\\"\")"
   ]
  },
  {
   "cell_type": "markdown",
   "id": "0ae9e36e",
   "metadata": {},
   "source": [
    " Exercise 10: Block of Code (Indentation Practice)\n",
    "Goal: Properly indent the block to run inside a function."
   ]
  },
  {
   "cell_type": "code",
   "execution_count": 5,
   "id": "af1a3118",
   "metadata": {},
   "outputs": [
    {
     "name": "stdout",
     "output_type": "stream",
     "text": [
      "welcome!\n",
      "let's lean python\n"
     ]
    }
   ],
   "source": [
    "# Task: Fix the indentation inside the function\n",
    "\"\"\"def greet():\n",
    "   print(\"Welcome!\")\n",
    "   print(\"Let’s learn Python.\")\n",
    "\n",
    "greet()\"\"\"\n",
    "\n",
    "def greet():\n",
    "    print(\"welcome!\")\n",
    "    print(\"let\\'s lean python\")\n",
    "greet()\n"
   ]
  },
  {
   "cell_type": "markdown",
   "id": "8902c091",
   "metadata": {},
   "source": [
    "✅ Advanced Python Syntax and Semantics - Exercises"
   ]
  },
  {
   "cell_type": "markdown",
   "id": "a64b0a46",
   "metadata": {},
   "source": [
    " Project: Python Syntax Quiz Game"
   ]
  },
  {
   "cell_type": "code",
   "execution_count": 14,
   "id": "1bb572fa",
   "metadata": {},
   "outputs": [
    {
     "name": "stdout",
     "output_type": "stream",
     "text": [
      "well come to quiz game!\n",
      "first quesion\n",
      "what is tha correct variable?\n",
      "answer: (1)_name  (2)-name (3)@name (4)#name\n",
      "ohh grate your answer is correct\n",
      "secound quesion\n",
      "what is the python keyword?\n",
      "answer: (1)int  (2)str (3)elif (4)tuple\n",
      "ohh grate your answer is correct\n",
      "ouesion number three\n",
      "what is tha correct function?\n",
      "answer: (1)def   (2)def myfun() (3)defmyfun() (4)def myfun():\n",
      "ohh grate your answer is correct\n",
      "ouesion number four \n",
      "what is tha wrong keyword?\n",
      "answer: (1)else  (2)if (3)whle (4)in \n",
      "sorry your answer is wrong! try agin\n",
      "ohh grate your answer is correct\n",
      "last quesion!\n",
      "what is tha wrong data type?\n",
      "answer: (1)int  (2)number (3)float (4)list\n",
      "ohh grate your answer is correct\n",
      "Congratulations your marks is: 100\n"
     ]
    }
   ],
   "source": [
    "print(\"well come to quiz game!\")\n",
    "name=input(\"please enter your name:\")\n",
    "print(\"first quesion\")\n",
    "print (\"what is tha correct variable?\")\n",
    "print (\"answer: (1)_name  (2)-name (3)@name (4)#name\")\n",
    "marks=0\n",
    "while True:\n",
    "    answer = input(\"please enter your answer number(1,2,3,4)\")\n",
    "    if answer == \"1\":\n",
    "        print(\"ohh grate your answer is correct\")\n",
    "        marks=marks+20\n",
    "        break\n",
    "    elif answer in [\"2\",\"3\",\"4\"]:\n",
    "        print(\"sorry your answer is wrong! try agin\")\n",
    "    else:\n",
    "        print(\"invalid input!\")\n",
    "print(\"secound quesion\")\n",
    "print (\"what is the python keyword?\")\n",
    "print (\"answer: (1)int  (2)str (3)elif (4)tuple\")\n",
    "while True:\n",
    "    answer = input(\"please enter your answer number(1,2,3,4)\")\n",
    "    if answer == \"3\":\n",
    "        print(\"ohh grate your answer is correct\")\n",
    "        marks=marks+20\n",
    "        break\n",
    "    elif answer in [\"2\",\"1\",\"4\"]:\n",
    "        print(\"sorry your answer is wrong! try agin\")\n",
    "    else:\n",
    "        print(\"invalid input!\")\n",
    "print(\"ouesion number three\")\n",
    "print (\"what is tha correct function?\")\n",
    "print (\"answer: (1)def   (2)def myfun() (3)defmyfun() (4)def myfun():\")\n",
    "while True:\n",
    "    answer = input(\"please enter your answer number(1,2,3,4)\")\n",
    "    if answer == \"4\":\n",
    "        print(\"ohh grate your answer is correct\")\n",
    "        marks=marks+20\n",
    "        break\n",
    "    elif answer in [\"2\",\"3\",\"1\"]:\n",
    "        print(\"sorry your answer is wrong! try agin\")\n",
    "    else:\n",
    "        print(\"invalid input!\")\n",
    "\n",
    "print(\"ouesion number four \")\n",
    "print (\"what is tha wrong keyword?\")\n",
    "print (\"answer: (1)else  (2)if (3)whle (4)in \")\n",
    "while True:\n",
    "    answer = input(\"please enter your answer number(1,2,3,4)\")\n",
    "    if answer == \"3\":\n",
    "        print(\"ohh grate your answer is correct\")\n",
    "        marks=marks+20\n",
    "        break\n",
    "    elif answer in [\"2\",\"1\",\"4\"]:\n",
    "        print(\"sorry your answer is wrong! try agin\")\n",
    "    else:\n",
    "        print(\"invalid input!\")\n",
    "\n",
    "print(\"last quesion!\")\n",
    "print (\"what is tha wrong data type?\")\n",
    "print (\"answer: (1)int  (2)number (3)float (4)list\")\n",
    "while True:\n",
    "    answer = input(\"please enter your answer number(1,2,3,4)\")\n",
    "    if answer == \"2\":\n",
    "        print(\"ohh grate your answer is correct\")\n",
    "        marks=marks+20\n",
    "        break\n",
    "    elif answer in [\"1\",\"3\",\"4\"]:\n",
    "        print(\"sorry your answer is wrong! try agin\")\n",
    "    else:\n",
    "        print(\"invalid input!\")\n",
    "\n",
    "print(\"Congratulations your marks is:\",marks)"
   ]
  },
  {
   "cell_type": "markdown",
   "id": "ebbc18dc",
   "metadata": {
    "tags": [
     "parameters"
    ]
   },
   "source": [
    "##  fibonacci number"
   ]
  },
  {
   "cell_type": "code",
   "execution_count": 18,
   "id": "f1872c14-0a07-4682-97d5-855b376147a9",
   "metadata": {},
   "outputs": [
    {
     "name": "stdout",
     "output_type": "stream",
     "text": [
      "[0, 1, 1, 2, 4, 8, 16, 32, 64, 128, 256, 512]\n"
     ]
    }
   ],
   "source": [
    "fib=[ a := 0, b := 1 ] + [( a:= b,b := a + b)[0]for _ in range(10)]\n",
    "print(fib)"
   ]
  },
  {
   "cell_type": "markdown",
   "id": "90af2073",
   "metadata": {},
   "source": [
    "## list comprehension"
   ]
  },
  {
   "cell_type": "code",
   "execution_count": null,
   "id": "b867b8be",
   "metadata": {},
   "outputs": [
    {
     "data": {
      "text/plain": [
       "[0, 1, 1, 2, 4, 8, 16, 32, 64, 128, 256, 512]"
      ]
     },
     "execution_count": 20,
     "metadata": {},
     "output_type": "execute_result"
    }
   ],
   "source": [
    "## fibonacci number\n",
    "[a := 0 , b := 1] + [(a := b, b := a+b)[0] for _ in range(10)]"
   ]
  },
  {
   "cell_type": "code",
   "execution_count": 23,
   "id": "233b9146",
   "metadata": {},
   "outputs": [
    {
     "data": {
      "text/plain": [
       "[2, 4, 6, 8, 10, 12, 14, 16, 18, 20]"
      ]
     },
     "execution_count": 23,
     "metadata": {},
     "output_type": "execute_result"
    }
   ],
   "source": [
    "## odd number\n",
    "[num for num in range(1,21) if num % 2 ==0]"
   ]
  },
  {
   "cell_type": "code",
   "execution_count": 24,
   "id": "cdfe6d9f",
   "metadata": {},
   "outputs": [
    {
     "data": {
      "text/plain": [
       "[1, 3, 5, 7, 9, 11, 13, 15, 17, 19]"
      ]
     },
     "execution_count": 24,
     "metadata": {},
     "output_type": "execute_result"
    }
   ],
   "source": [
    "## even number\n",
    "[num for num in range(1,21) if num % 2 !=0]"
   ]
  },
  {
   "cell_type": "code",
   "execution_count": 25,
   "id": "2629bd7a",
   "metadata": {},
   "outputs": [
    {
     "data": {
      "text/plain": [
       "[1, 2, 3, 4, 5, 6, 7, 8, 9, 10, 11, 12, 13, 14, 15, 16, 17, 18, 19, 20]"
      ]
     },
     "execution_count": 25,
     "metadata": {},
     "output_type": "execute_result"
    }
   ],
   "source": [
    "## natural number\n",
    "[nat_num for nat_num in range(1,21)]"
   ]
  },
  {
   "cell_type": "code",
   "execution_count": 34,
   "id": "2deadd43",
   "metadata": {},
   "outputs": [
    {
     "data": {
      "text/plain": [
       "[2, 3, 5, 7, 11, 13, 17, 19]"
      ]
     },
     "execution_count": 34,
     "metadata": {},
     "output_type": "execute_result"
    }
   ],
   "source": [
    "## prime number\n",
    "[i for i in range(2,20) if all( i % j != 0 for j in range(2,i))]"
   ]
  },
  {
   "cell_type": "code",
   "execution_count": 36,
   "id": "0e75a348",
   "metadata": {},
   "outputs": [],
   "source": [
    "lis=[2,3,4,5,5]\n",
    "lis.extend(lis)"
   ]
  },
  {
   "cell_type": "code",
   "execution_count": 38,
   "id": "2fc15996",
   "metadata": {},
   "outputs": [],
   "source": [
    "lis.sort()"
   ]
  },
  {
   "cell_type": "code",
   "execution_count": 39,
   "id": "87cd8385",
   "metadata": {},
   "outputs": [
    {
     "data": {
      "text/plain": [
       "[2, 2, 3, 3, 4, 4, 5, 5, 5, 5]"
      ]
     },
     "execution_count": 39,
     "metadata": {},
     "output_type": "execute_result"
    }
   ],
   "source": [
    "lis"
   ]
  },
  {
   "cell_type": "code",
   "execution_count": 40,
   "id": "a3654681",
   "metadata": {},
   "outputs": [
    {
     "data": {
      "text/plain": [
       "<function list.clear()>"
      ]
     },
     "execution_count": 40,
     "metadata": {},
     "output_type": "execute_result"
    }
   ],
   "source": [
    "lis.clear"
   ]
  },
  {
   "cell_type": "code",
   "execution_count": 41,
   "id": "73fbf2ab",
   "metadata": {},
   "outputs": [
    {
     "data": {
      "text/plain": [
       "[2, 2, 3, 3, 4, 4, 5, 5, 5, 5]"
      ]
     },
     "execution_count": 41,
     "metadata": {},
     "output_type": "execute_result"
    }
   ],
   "source": [
    "lis"
   ]
  },
  {
   "cell_type": "code",
   "execution_count": 42,
   "id": "b17b2243",
   "metadata": {},
   "outputs": [],
   "source": [
    "lis.clear()"
   ]
  },
  {
   "cell_type": "code",
   "execution_count": 43,
   "id": "a35262e5",
   "metadata": {},
   "outputs": [
    {
     "data": {
      "text/plain": [
       "[]"
      ]
     },
     "execution_count": 43,
     "metadata": {},
     "output_type": "execute_result"
    }
   ],
   "source": [
    "lis"
   ]
  },
  {
   "cell_type": "code",
   "execution_count": 45,
   "id": "4d6717e3",
   "metadata": {},
   "outputs": [
    {
     "data": {
      "text/plain": [
       "3"
      ]
     },
     "execution_count": 45,
     "metadata": {},
     "output_type": "execute_result"
    }
   ],
   "source": [
    "import random\n",
    "random.randint(1,10)\n"
   ]
  },
  {
   "cell_type": "code",
   "execution_count": 49,
   "id": "be9e1618",
   "metadata": {},
   "outputs": [],
   "source": [
    "\n",
    "lis=[1,2,3,4,5,6,7,8,9,10]\n",
    "even=random.sample(lis,k=3)"
   ]
  },
  {
   "cell_type": "code",
   "execution_count": 53,
   "id": "4970a743",
   "metadata": {},
   "outputs": [
    {
     "data": {
      "text/plain": [
       "[2, 3, 5, 7, 11, 13, 17, 19]"
      ]
     },
     "execution_count": 53,
     "metadata": {},
     "output_type": "execute_result"
    }
   ],
   "source": [
    "## prime numbers\n",
    "[i for i in range(2,21) if all(i%j !=0 for j in range(2,i))]"
   ]
  },
  {
   "cell_type": "code",
   "execution_count": 58,
   "id": "9a1edcf2",
   "metadata": {},
   "outputs": [
    {
     "data": {
      "text/plain": [
       "[1, 3, 6, 10, 15, 21, 28, 36, 45]"
      ]
     },
     "execution_count": 58,
     "metadata": {},
     "output_type": "execute_result"
    }
   ],
   "source": [
    "## triangle number \n",
    "\n",
    "[num*(num+1)//2 for num in range(1,10) ]"
   ]
  },
  {
   "cell_type": "code",
   "execution_count": 71,
   "id": "32447cf5",
   "metadata": {},
   "outputs": [
    {
     "name": "stdout",
     "output_type": "stream",
     "text": [
      "[1, 2, 5, 10]\n"
     ]
    }
   ],
   "source": [
    "## factors\n",
    "fact=[]\n",
    "num = int(input(\"enter the number:\"))\n",
    "\n",
    "for i in range(1,num+1):\n",
    "    if num % i == 0:\n",
    "        fact.append(i)\n",
    "print(fact)"
   ]
  },
  {
   "cell_type": "code",
   "execution_count": 74,
   "id": "edc0204e",
   "metadata": {},
   "outputs": [
    {
     "name": "stdout",
     "output_type": "stream",
     "text": [
      "(0, 1)\n",
      "(1, 2)\n",
      "(2, 3)\n",
      "(3, 4)\n",
      "(4, 5)\n",
      "(5, 6)\n",
      "(6, 7)\n",
      "(7, 8)\n",
      "(8, 9)\n",
      "(9, 10)\n"
     ]
    }
   ],
   "source": [
    "lis=[1,2,3,4,5,6,7,8,9,10]\n",
    "for list in enumerate(lis):\n",
    "    print(list)"
   ]
  },
  {
   "cell_type": "code",
   "execution_count": 76,
   "id": "c323e9d9",
   "metadata": {},
   "outputs": [
    {
     "data": {
      "text/plain": [
       "[1, 4, 9, 16, 25, 36, 49, 64, 81, 100]"
      ]
     },
     "execution_count": 76,
     "metadata": {},
     "output_type": "execute_result"
    }
   ],
   "source": [
    "## squre number\n",
    "[num**2 for num in range(1,11)]"
   ]
  },
  {
   "cell_type": "code",
   "execution_count": 77,
   "id": "d7334e2b",
   "metadata": {},
   "outputs": [
    {
     "data": {
      "text/plain": [
       "[1, 3, 6, 10, 15, 21, 28, 36, 45, 55]"
      ]
     },
     "execution_count": 77,
     "metadata": {},
     "output_type": "execute_result"
    }
   ],
   "source": [
    "## triangle \n",
    "[num*(num+1)//2 for num in range(1,11)]"
   ]
  },
  {
   "cell_type": "code",
   "execution_count": 82,
   "id": "5e23cf7e",
   "metadata": {},
   "outputs": [
    {
     "name": "stdout",
     "output_type": "stream",
     "text": [
      "[0, 1, 1, 2, 4, 8, 16, 32, 64, 128, 256, 512, 1024]\n"
     ]
    }
   ],
   "source": [
    "## fibonacci\n",
    "fib=[a :=0,b :=1]+[(a:=b , b:=a+b)[0] for _ in range(1,12)]\n",
    "\n",
    "print(fib)\n",
    "\n",
    "\n",
    "\n",
    "\n"
   ]
  },
  {
   "cell_type": "code",
   "execution_count": 84,
   "id": "54e0460a",
   "metadata": {},
   "outputs": [
    {
     "data": {
      "text/plain": [
       "[2, 3, 5, 7]"
      ]
     },
     "execution_count": 84,
     "metadata": {},
     "output_type": "execute_result"
    }
   ],
   "source": [
    "## prime \n",
    "[num for num in range(2,11) if all(num%i !=0 for i in range(2,num))]"
   ]
  },
  {
   "cell_type": "code",
   "execution_count": null,
   "id": "190d5590",
   "metadata": {},
   "outputs": [],
   "source": []
  }
 ],
 "metadata": {
  "kernelspec": {
   "display_name": "base",
   "language": "python",
   "name": "python3"
  },
  "language_info": {
   "codemirror_mode": {
    "name": "ipython",
    "version": 3
   },
   "file_extension": ".py",
   "mimetype": "text/x-python",
   "name": "python",
   "nbconvert_exporter": "python",
   "pygments_lexer": "ipython3",
   "version": "3.12.7"
  }
 },
 "nbformat": 4,
 "nbformat_minor": 5
}

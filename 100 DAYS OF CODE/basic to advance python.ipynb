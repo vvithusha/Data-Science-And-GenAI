{
 "cells": [
  {
   "cell_type": "markdown",
   "id": "7cd6a26f",
   "metadata": {},
   "source": [
    " Python Syntax\n",
    " \n",
    "Python syntax is the set of rules that define how Python code should be written and structured so that the computer can understand and execute it."
   ]
  },
  {
   "cell_type": "markdown",
   "id": "2c2234f8",
   "metadata": {},
   "source": [
    "1.Print Statement"
   ]
  },
  {
   "cell_type": "code",
   "execution_count": 1,
   "id": "0bf04fbd",
   "metadata": {},
   "outputs": [
    {
     "name": "stdout",
     "output_type": "stream",
     "text": [
      "hello,world!\n"
     ]
    }
   ],
   "source": [
    "print(\"hello,world!\")"
   ]
  },
  {
   "cell_type": "markdown",
   "id": "f207109f",
   "metadata": {},
   "source": [
    "2. Indentation"
   ]
  },
  {
   "cell_type": "code",
   "execution_count": 2,
   "id": "7361b3e1",
   "metadata": {},
   "outputs": [
    {
     "name": "stdout",
     "output_type": "stream",
     "text": [
      "you are major\n"
     ]
    }
   ],
   "source": [
    "age = 21\n",
    "\n",
    "if age>=18:\n",
    "    print(\"you are major\")\n",
    "else:\n",
    "    print(\"you are not major\")\n"
   ]
  },
  {
   "cell_type": "markdown",
   "id": "fcf8f079",
   "metadata": {},
   "source": [
    "3.Variables"
   ]
  },
  {
   "cell_type": "code",
   "execution_count": null,
   "id": "48de9bf5",
   "metadata": {},
   "outputs": [
    {
     "name": "stdout",
     "output_type": "stream",
     "text": [
      "vithusha\n"
     ]
    }
   ],
   "source": [
    "name = \"vithusha\" ##name is a veriable\n",
    "print(name)"
   ]
  },
  {
   "cell_type": "markdown",
   "id": "b0cc82f9",
   "metadata": {},
   "source": [
    "4.Comments"
   ]
  },
  {
   "cell_type": "code",
   "execution_count": 8,
   "id": "3dfbbb83",
   "metadata": {},
   "outputs": [
    {
     "data": {
      "text/plain": [
       "'A multiline command is a command or\\n   block of code that spans\\n   more than one line    \\n                      '"
      ]
     },
     "execution_count": 8,
     "metadata": {},
     "output_type": "execute_result"
    }
   ],
   "source": [
    "## this is a single line command\n",
    "\n",
    "\"\"\"A multiline command is a command or\n",
    "   block of code that spans\n",
    "   more than one line    \n",
    "                      \"\"\""
   ]
  },
  {
   "cell_type": "markdown",
   "id": "e9d7ba60",
   "metadata": {},
   "source": [
    "5.Case Sensitive"
   ]
  },
  {
   "cell_type": "code",
   "execution_count": 11,
   "id": "9c278405",
   "metadata": {},
   "outputs": [
    {
     "name": "stdout",
     "output_type": "stream",
     "text": [
      "vithu\n",
      "mathu\n"
     ]
    }
   ],
   "source": [
    "name = \"vithu\"\n",
    "Name = \"mathu\"\n",
    "\n",
    "print(name)\n",
    "print(Name)"
   ]
  },
  {
   "cell_type": "markdown",
   "id": "190be50e",
   "metadata": {},
   "source": [
    "6.Function Definition"
   ]
  },
  {
   "cell_type": "code",
   "execution_count": 6,
   "id": "8e4842d4",
   "metadata": {},
   "outputs": [
    {
     "name": "stdout",
     "output_type": "stream",
     "text": [
      "vithu\n"
     ]
    }
   ],
   "source": [
    "def myfun():return \"vithu\"\n",
    "name=myfun()\n",
    "print(name)\n",
    "\n"
   ]
  },
  {
   "cell_type": "markdown",
   "id": "eff89fba",
   "metadata": {},
   "source": [
    "Python Variables types"
   ]
  },
  {
   "cell_type": "code",
   "execution_count": null,
   "id": "3325466b",
   "metadata": {},
   "outputs": [
    {
     "name": "stdout",
     "output_type": "stream",
     "text": [
      "<class 'int'> 32\n",
      "<class 'str'> vithu\n",
      "<class 'float'> 38.9\n",
      "<class 'complex'> (4+0j)\n",
      "<class 'list'> ['dog', 'cat', 'rabbit', 'lion']\n",
      "<class 'tuple'> ('mango', 'apple', 'banana')\n",
      "<class 'set'> {'name:vithu', 'age:21', 'height:6.1'}\n",
      "<class 'set'> {'banana', 'mango', 'apple'}\n",
      "<class 'frozenset'> frozenset({'apple', 'orange', 'banana'})\n",
      "<class 'bool'> True\n"
     ]
    }
   ],
   "source": [
    "num1=32 #int\n",
    "name=\"vithu\" #str\n",
    "num2=38.9 #float\n",
    "num3=4+0j #complex\n",
    "num4=[\"dog\",\"cat\",\"rabbit\",\"lion\"] #list\n",
    "num5=(\"mango\",\"apple\",\"banana\") #tuple\n",
    "num6={\"name:vithu\",\"age:21\",\"height:6.1\"} #dict\n",
    "num7={'banana','apple','mango'} #set\n",
    "num8=frozenset({'apple','banana','orange'}) #frozenset\n",
    "num9=True #bool\n",
    "\n",
    "print(type(num1),num1)\n",
    "print(type(name),name)\n",
    "print(type(num2),num2)\n",
    "print(type(num3),num3)\n",
    "print(type(num4),num4)\n",
    "print(type(num5),num5)\n",
    "print(type(num6),num6)\n",
    "print(type(num7),num7)\n",
    "print(type(num8),num8)\n",
    "print(type(num9),num9)\n"
   ]
  },
  {
   "cell_type": "markdown",
   "id": "9686fdb9",
   "metadata": {},
   "source": [
    "Variable Names"
   ]
  },
  {
   "cell_type": "code",
   "execution_count": null,
   "id": "d8c4405b",
   "metadata": {},
   "outputs": [
    {
     "name": "stdout",
     "output_type": "stream",
     "text": [
      "vithu\n",
      "vithu\n",
      "vithu\n",
      "vithu\n",
      "vithu\n",
      "vithu\n",
      "vithu\n"
     ]
    }
   ],
   "source": [
    "## these are different veriable names\n",
    "\n",
    "my_var = \"vithu\"\n",
    "myvar = \"vithu\"\n",
    "_my_var = \"vithu\"\n",
    "myVar = \"vithu\"\n",
    "Myvar = \"vithu\"\n",
    "MYVAR = \"vithu\"\n",
    "myvar3 = \"vithu\"\n",
    "\n",
    "print(my_var)\n",
    "print(myvar)\n",
    "print(_my_var)\n",
    "print(myVar)\n",
    "print(Myvar)\n",
    "print(MYVAR)\n",
    "print(myvar3)\n"
   ]
  },
  {
   "cell_type": "markdown",
   "id": "38467cc1",
   "metadata": {},
   "source": [
    "Many Values to Multiple Variables"
   ]
  },
  {
   "cell_type": "code",
   "execution_count": 20,
   "id": "a50db9c0",
   "metadata": {},
   "outputs": [
    {
     "name": "stdout",
     "output_type": "stream",
     "text": [
      "orange\n",
      "mango\n",
      "apple\n",
      "orang mango apple\n",
      "orangmangoapple\n",
      "orang\n",
      "mango\n",
      "apple\n",
      "orang\n",
      "mango\n",
      "apple\n"
     ]
    }
   ],
   "source": [
    "x,y,z=\"orange\",\"mango\",\"apple\"\n",
    "print(x)\n",
    "print(y)\n",
    "print(z)\n",
    "\n",
    "## other print types\n",
    "x,y,z=\"orang\",\"mango\",\"apple\"\n",
    "print(x,y,z)\n",
    "\n",
    "x,y,z=\"orang\",\"mango\",\"apple\"\n",
    "print(x+y+z)\n",
    "\n",
    " ##is actually one line with multiple expressions, separated by commas\n",
    "x,y,z=\"orang\",\"mango\",\"apple\"\n",
    "print(x),print(y),print(z)\n",
    "\n",
    "##fix this code\n",
    "x,y,z=\"orang\",\"mango\",\"apple\"\n",
    "print(x)\n",
    "print(y)\n",
    "print(z)\n"
   ]
  },
  {
   "cell_type": "markdown",
   "id": "58933e4a",
   "metadata": {},
   "source": [
    "One Value to Multiple Variables"
   ]
  },
  {
   "cell_type": "code",
   "execution_count": 21,
   "id": "ed2d51c4",
   "metadata": {},
   "outputs": [
    {
     "name": "stdout",
     "output_type": "stream",
     "text": [
      "Orange\n",
      "Orange\n",
      "Orange\n"
     ]
    }
   ],
   "source": [
    "x = y = z = \"Orange\"\n",
    "print(x)\n",
    "print(y)\n",
    "print(z)"
   ]
  },
  {
   "cell_type": "markdown",
   "id": "1a5304f4",
   "metadata": {},
   "source": [
    "Unpack a Collection"
   ]
  },
  {
   "cell_type": "code",
   "execution_count": 22,
   "id": "51e66923",
   "metadata": {},
   "outputs": [
    {
     "name": "stdout",
     "output_type": "stream",
     "text": [
      "apple\n",
      "banana\n",
      "cherry\n"
     ]
    }
   ],
   "source": [
    "fruits = [\"apple\", \"banana\", \"cherry\"]\n",
    "x, y, z = fruits\n",
    "print(x)\n",
    "print(y)\n",
    "print(z)"
   ]
  },
  {
   "cell_type": "code",
   "execution_count": null,
   "id": "fc20b38b",
   "metadata": {},
   "outputs": [],
   "source": []
  }
 ],
 "metadata": {
  "kernelspec": {
   "display_name": "base",
   "language": "python",
   "name": "python3"
  },
  "language_info": {
   "codemirror_mode": {
    "name": "ipython",
    "version": 3
   },
   "file_extension": ".py",
   "mimetype": "text/x-python",
   "name": "python",
   "nbconvert_exporter": "python",
   "pygments_lexer": "ipython3",
   "version": "3.12.7"
  }
 },
 "nbformat": 4,
 "nbformat_minor": 5
}

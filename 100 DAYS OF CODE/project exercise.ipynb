{
 "cells": [
  {
   "cell_type": "code",
   "execution_count": 4,
   "id": "76eb0068",
   "metadata": {},
   "outputs": [
    {
     "name": "stdout",
     "output_type": "stream",
     "text": [
      "Welcome your report!\n",
      "Name : vithu\n",
      "Age : 21\n",
      "Grade : university\n",
      "marks\n",
      "English : 89\n",
      "science : 80\n",
      "math : 90\n",
      "Total marks : 259\n",
      "average marks : 86.33\n",
      "🎓conguratulasion! your passed\n"
     ]
    }
   ],
   "source": [
    "name = input(\"enter your name:\")\n",
    "age = int(input(\"enter your age:\"))\n",
    "grade = input(\"enter your grade:\")\n",
    "math = int(input(\"enter your math marks:\"))\n",
    "science = int(input(\"enter your science marks:\"))\n",
    "English = int(input(\"enter your English marks:\"))\n",
    "\n",
    "total = math+science+English\n",
    "average = total/3\n",
    "passed = average >=40 and science >=35 and math >=35 and English >=35\n",
    "print(\"Welcome your report!\")\n",
    "print(f\"Name : {name}\")\n",
    "print(f\"Age : {age}\")\n",
    "print(f\"Grade : {grade}\")\n",
    "print(\"marks\")\n",
    "print(f\"English : {English}\")\n",
    "print(f\"science : {science}\")\n",
    "print(f\"math : {math}\")\n",
    "print(f\"Total marks : {total}\")\n",
    "print(f\"average marks : {average:.2f}\")\n",
    "\n",
    "if passed == True:\n",
    "    print(\"🎓conguratulasion! your passed\")\n",
    "else:\n",
    "    print(\"🚫your fail!\")"
   ]
  },
  {
   "cell_type": "code",
   "execution_count": null,
   "id": "4fe3f549",
   "metadata": {},
   "outputs": [],
   "source": []
  }
 ],
 "metadata": {
  "kernelspec": {
   "display_name": "base",
   "language": "python",
   "name": "python3"
  },
  "language_info": {
   "codemirror_mode": {
    "name": "ipython",
    "version": 3
   },
   "file_extension": ".py",
   "mimetype": "text/x-python",
   "name": "python",
   "nbconvert_exporter": "python",
   "pygments_lexer": "ipython3",
   "version": "3.12.7"
  }
 },
 "nbformat": 4,
 "nbformat_minor": 5
}

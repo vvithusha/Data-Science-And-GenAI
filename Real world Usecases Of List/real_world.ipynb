{
 "cells": [
  {
   "cell_type": "code",
   "execution_count": 9,
   "id": "e7756829",
   "metadata": {},
   "outputs": [
    {
     "name": "stdout",
     "output_type": "stream",
     "text": [
      "You have to study science\n",
      "['science', 'maths', 'English', 'go for a Run']\n"
     ]
    }
   ],
   "source": [
    "to_do_list=[\"science\" ,\"maths\",\"English\"]\n",
    "\n",
    "##Adding a task\n",
    "to_do_list.append(\"history\")\n",
    "\n",
    "to_do_list.append(\"go for a Run\")\n",
    "\n",
    "##removing a COPLETE task\n",
    "to_do_list.remove(\"history\")\n",
    "\n",
    "## checking if a task is in the list\n",
    "if \"science\" in to_do_list:\n",
    "    print(\"You have to study science\")\n",
    "\n",
    "\n",
    "print(to_do_list)"
   ]
  },
  {
   "cell_type": "code",
   "execution_count": null,
   "metadata": {},
   "outputs": [],
   "source": []
  }
 ],
 "metadata": {
  "kernelspec": {
   "display_name": "base",
   "language": "python",
   "name": "python3"
  },
  "language_info": {
   "codemirror_mode": {
    "name": "ipython",
    "version": 3
   },
   "file_extension": ".py",
   "mimetype": "text/x-python",
   "name": "python",
   "nbconvert_exporter": "python",
   "pygments_lexer": "ipython3",
   "version": "3.12.7"
  }
 },
 "nbformat": 4,
 "nbformat_minor": 5
}

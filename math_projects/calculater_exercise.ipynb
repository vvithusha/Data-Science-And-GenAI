{
 "cells": [
  {
   "cell_type": "code",
   "execution_count": null,
   "id": "fd084f58",
   "metadata": {},
   "outputs": [],
   "source": [
    "import  math\n",
    "num=80\n"
   ]
  }
 ],
 "metadata": {
  "kernelspec": {
   "display_name": "base",
   "language": "python",
   "name": "python3"
  },
  "language_info": {
   "name": "python",
   "version": "3.12.7"
  }
 },
 "nbformat": 4,
 "nbformat_minor": 5
}

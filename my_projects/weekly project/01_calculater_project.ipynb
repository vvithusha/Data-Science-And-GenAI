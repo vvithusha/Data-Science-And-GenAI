{
 "cells": [
  {
   "cell_type": "markdown",
   "id": "a0cfb3d4",
   "metadata": {},
   "source": [
    "#### calculator"
   ]
  },
  {
   "cell_type": "code",
   "execution_count": null,
   "id": "3542db8c",
   "metadata": {},
   "outputs": [
    {
     "name": "stdout",
     "output_type": "stream",
     "text": [
      "wellcome to the calculator\n",
      "select operation\n",
      "addition of 40.0 + 29.0 = 69.0\n",
      "select operation\n",
      "subtraction of 45.0 - 23.0 = 22.0\n",
      "select operation\n",
      "select operation\n",
      "multiplication of 50.0 * 5.0 = 250.0\n",
      "select operation\n",
      "division of 50.0 / 5.0 = 10.0\n",
      "select operation\n",
      "square root of 64.0 = 8.0\n",
      "select operation\n",
      "sin360.0= -2.4492935982947064e-16\n",
      "select operation\n",
      "cos180.0= -1.0\n",
      "select operation\n",
      "tan90.0= 1.633123935319537e+16\n",
      "select operation\n",
      "log50.0 =1.6989700043360187\n",
      "select operation\n",
      "thank you for using the calculator\n"
     ]
    }
   ],
   "source": [
    "import math\n",
    "print(\"wellcome to the calculator\")\n",
    "while True:\n",
    "    def add(x,y):   ## addition function\n",
    "        return x+y\n",
    "    def sub(x,y):  ## subtraction function\n",
    "        return x-y\n",
    "    def mul(x,y):  ## multiplication function\n",
    "        return x*y\n",
    "    def div(x,y):  ## division function\n",
    "        return x/y\n",
    "    def sqr(x):\n",
    "        return math.sqrt(x)   ## square root function\n",
    "    print(\"select operation\")\n",
    "    choice = input (\"enter choice(add,sub,mul,div,sqr,trig,log) and if you want to exit please enter (exit)\")\n",
    "    if choice == \"add\":    ## addition operation\n",
    "        x = float(input(\"enter the number :\"))\n",
    "        y = float(input(\"enter the number :\"))\n",
    "        print(f\"addition of {x} + {y} = {add(x,y)}\")\n",
    "    elif choice == \"sub\":  ## subtraction operation\n",
    "        x = float(input(\"enter the number :\"))\n",
    "        y = float(input(\"enter the number :\"))\n",
    "        print(f\"subtraction of {x} - {y} = {sub(x,y)}\")\n",
    "    elif choice == \"mul\":  ## multiplication operation\n",
    "        x = float(input(\"enter the number :\"))\n",
    "        y = float(input(\"enter the number :\"))\n",
    "        print(f\"multiplication of {x} * {y} = {mul(x,y)}\")\n",
    "    elif choice == \"div\":  ## division operation\n",
    "        x = float(input(\"enter the number :\"))\n",
    "        y = float(input(\"enter the number :\"))\n",
    "        print(f\"division of {x} / {y} = {div(x,y)}\")\n",
    "    elif choice == \"sqr\":  ## square root operation\n",
    "        x = float(input(\"enter the number:\"))\n",
    "        print(f\"square root of {x} = {sqr(x)}\")\n",
    "    elif choice == \"trig\": ## trigonometric operation\n",
    "        angle = float(input(\"enter the angle in degree:\"))\n",
    "        opp = input(\"enter the oppresion(sin,cos,tan)\")\n",
    "        rad = math.radians(angle)  ## converting degree to radian\n",
    "        if opp == \"sin\":   \n",
    "            print(f\"sin{angle}= {math.sin(rad)}\")\n",
    "        elif opp == \"cos\":\n",
    "            print(f\"cos{angle}= {math.cos(rad)}\")\n",
    "        elif opp == \"tan\":\n",
    "            print(f\"tan{angle}= {math.tan(rad)}\")\n",
    "        else:\n",
    "            print(\"invalid input\")\n",
    "    elif choice == \"log\":   ## logarithmic operation\n",
    "        x= float(input(\"enter the number:\"))\n",
    "        print(f\"log{x} ={math.log10(x)}\")\n",
    "    elif choice == \"exit\":\n",
    "        print(\"thank you for using the calculator\")\n",
    "        break\n",
    "## end of the code\n",
    "\n"
   ]
  },
  {
   "cell_type": "code",
   "execution_count": 5,
   "id": "e3662393",
   "metadata": {},
   "outputs": [
    {
     "name": "stdout",
     "output_type": "stream",
     "text": [
      "57\n",
      "11\n",
      "782\n",
      "1\n",
      "1.4782608695652173\n",
      "53\n",
      "2\n",
      "11\n"
     ]
    }
   ],
   "source": [
    "import math\n",
    "def calculater(num1,num2,unit):\n",
    "    if unit == \"+\":\n",
    "        return num1+num2\n",
    "    elif unit == \"-\":\n",
    "        return num1-num2\n",
    "    elif unit == \"%\":\n",
    "        return num1%num2\n",
    "    elif unit == \"*\":\n",
    "        return num1 *num2\n",
    "    elif unit == \"^\":\n",
    "        return num1^num2\n",
    "    elif unit == \"&\":\n",
    "        return num1&num2\n",
    "    elif unit == \"//\":\n",
    "        return num1//num2\n",
    "    elif unit == \"/\":\n",
    "        return num1/num2\n",
    "    else:\n",
    "        return 'invalid input'\n",
    "print(calculater(34,23,'+'))\n",
    "print(calculater(34,23,'-'))\n",
    "print(calculater(34,23,'*'))\n",
    "print(calculater(34,23,'//'))\n",
    "print(calculater(34,23,'/'))\n",
    "print(calculater(34,23,'^'))\n",
    "print(calculater(34,23,'&'))\n",
    "print(calculater(34,23,'%'))"
   ]
  },
  {
   "cell_type": "code",
   "execution_count": 8,
   "id": "a6085625",
   "metadata": {},
   "outputs": [
    {
     "name": "stdout",
     "output_type": "stream",
     "text": [
      "invalid input!\n"
     ]
    }
   ],
   "source": [
    "def big_calculater():\n",
    "    while True:\n",
    "        expr = input(\"enter expression (or 'exit' to quit):\")\n",
    "        if expr.lower() == \"exit\":\n",
    "            break\n",
    "\n",
    "        try:\n",
    "            result =eval(expr)\n",
    "            print(\"result=\",result)\n",
    "            \n",
    "        except:\n",
    "            print(\"invalid input!\")\n",
    "\n",
    "big_calculater()\n"
   ]
  },
  {
   "cell_type": "code",
   "execution_count": 1,
   "id": "cb3e6511",
   "metadata": {},
   "outputs": [],
   "source": [
    "import tkinter as tk\n",
    "\n",
    "def click(event):\n",
    "    text = event.widget.cget(\"text\")\n",
    "    if text == \"=\":\n",
    "        try:\n",
    "            result = eval(str(entry.get()))\n",
    "            entry.set(result)\n",
    "        except:\n",
    "            entry.set(\"Error\")\n",
    "    elif text == \"C\":\n",
    "        entry.set(\"\")\n",
    "    else:\n",
    "        entry.set(entry.get() + text)\n",
    "\n",
    "root = tk.Tk()\n",
    "root.title(\"Big Calculator\")\n",
    "\n",
    "entry = tk.StringVar()\n",
    "screen = tk.Entry(root, textvar=entry, font=\"Arial 20\")\n",
    "screen.grid(row=0, column=0, columnspan=4)\n",
    "\n",
    "buttons = [\n",
    "    \"7\", \"8\", \"9\", \"/\",\n",
    "    \"4\", \"5\", \"6\", \"*\",\n",
    "    \"1\", \"2\", \"3\", \"-\",\n",
    "    \"0\", \".\", \"=\", \"+\",\n",
    "    \"C\"\n",
    "]\n",
    "\n",
    "row, col = 1, 0\n",
    "for b in buttons:\n",
    "    btn = tk.Button(root, text=b, font=\"Arial 18\", padx=20, pady=20)\n",
    "    btn.grid(row=row, column=col, sticky=\"nsew\")\n",
    "    btn.bind(\"<Button-1>\", click)\n",
    "    col += 1\n",
    "    if col > 3:\n",
    "        col = 0\n",
    "        row += 1\n",
    "\n",
    "root.mainloop()\n"
   ]
  },
  {
   "cell_type": "code",
   "execution_count": null,
   "id": "d110f2ab",
   "metadata": {},
   "outputs": [],
   "source": []
  },
  {
   "cell_type": "code",
   "execution_count": null,
   "id": "4ebc65ad",
   "metadata": {},
   "outputs": [],
   "source": []
  }
 ],
 "metadata": {
  "kernelspec": {
   "display_name": "base",
   "language": "python",
   "name": "python3"
  },
  "language_info": {
   "codemirror_mode": {
    "name": "ipython",
    "version": 3
   },
   "file_extension": ".py",
   "mimetype": "text/x-python",
   "name": "python",
   "nbconvert_exporter": "python",
   "pygments_lexer": "ipython3",
   "version": "3.12.7"
  }
 },
 "nbformat": 4,
 "nbformat_minor": 5
}

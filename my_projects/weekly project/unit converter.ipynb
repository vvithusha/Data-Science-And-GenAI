{
 "cells": [
  {
   "cell_type": "markdown",
   "id": "5730c669",
   "metadata": {},
   "source": [
    "### unit converter"
   ]
  },
  {
   "cell_type": "code",
   "execution_count": null,
   "id": "f3aaec56",
   "metadata": {},
   "outputs": [
    {
     "name": "stdout",
     "output_type": "stream",
     "text": [
      "<function unit_converter at 0x000002CE32FA62A0>\n"
     ]
    }
   ],
   "source": [
    "def unit_converter(unit,units):\n",
    "    unit = input(\"Enter what you want:(km,m,cm,in,ft,yd,mi,kg,g):\")\n",
    "    if unit == \"km\":\n",
    "         units = int(input(\"enter your unit(m):\"))\n",
    "         conver = units*1000\n",
    "         print(f\"{unit}m : {conver}km\")\n",
    "    elif unit == \"m\":\n",
    "         units = int(input(\"enter your unit(km)\"))\n",
    "         conver = units/1000\n",
    "         print(f\"{units}km :{conver}km\")\n",
    "\n",
    "print(unit_converter())"
   ]
  },
  {
   "cell_type": "code",
   "execution_count": null,
   "id": "46bb9bbf",
   "metadata": {},
   "outputs": [],
   "source": []
  },
  {
   "cell_type": "code",
   "execution_count": null,
   "id": "a5fb6a82",
   "metadata": {},
   "outputs": [],
   "source": []
  }
 ],
 "metadata": {
  "kernelspec": {
   "display_name": "base",
   "language": "python",
   "name": "python3"
  },
  "language_info": {
   "codemirror_mode": {
    "name": "ipython",
    "version": 3
   },
   "file_extension": ".py",
   "mimetype": "text/x-python",
   "name": "python",
   "nbconvert_exporter": "python",
   "pygments_lexer": "ipython3",
   "version": "3.12.7"
  }
 },
 "nbformat": 4,
 "nbformat_minor": 5
}
